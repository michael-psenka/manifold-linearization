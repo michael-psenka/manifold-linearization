{
 "cells": [
  {
   "cell_type": "markdown",
   "metadata": {},
   "source": [
    "# Linearizing Flow: Baseline Tests\n",
    "\n",
    "The purpose of this notebook is to explore and visualize different ways of establishing a linearizing flow, based from the MCR^2 framework"
   ]
  },
  {
   "cell_type": "code",
   "execution_count": null,
   "metadata": {},
   "outputs": [],
   "source": []
  },
  {
   "cell_type": "code",
   "execution_count": 2,
   "metadata": {
    "tags": []
   },
   "outputs": [],
   "source": [
    "# %matplotlib widget\n",
    "import matplotlib.pyplot as plt\n",
    "from mpl_toolkits import mplot3d\n",
    "# import geoopt\n",
    "import torch\n",
    "# import itertools\n",
    "import torch.nn as nn\n",
    "import torch.optim as optim\n",
    "import torch.nn.functional as F\n",
    "import numpy as np\n",
    "import tqdm\n",
    "\n",
    "import scipy.io as spio\n",
    "# import open3d as o3d\n",
    "import networkx\n",
    "import imageio\n",
    "import os\n",
    "import re\n",
    "\n",
    "import torchvision.datasets as datasets\n",
    "import torchvision.transforms as transforms\n",
    "\n",
    "# import open3d as o3d"
   ]
  },
  {
   "cell_type": "code",
   "execution_count": 3,
   "metadata": {},
   "outputs": [],
   "source": [
    "# dimension of data\n",
    "d = 3\n",
    "# number of samples\n",
    "n = 100"
   ]
  },
  {
   "cell_type": "code",
   "execution_count": 16,
   "metadata": {},
   "outputs": [
    {
     "name": "stdout",
     "output_type": "stream",
     "text": [
      "0.03341902135203737\n"
     ]
    }
   ],
   "source": [
    "Z = np.random.randn(5,30)\n",
    "C = np.linalg.inv(np.eye(5) + Z@Z.T)\n",
    "z = Z[:,2]\n",
    "print((z.T@C@z) / (z.T@z))\n",
    "# print(z.T@z)"
   ]
  },
  {
   "cell_type": "code",
   "execution_count": 4,
   "metadata": {},
   "outputs": [],
   "source": [
    "# Set random seed\n",
    "torch.manual_seed(42);"
   ]
  },
  {
   "cell_type": "code",
   "execution_count": 5,
   "metadata": {},
   "outputs": [
    {
     "name": "stdout",
     "output_type": "stream",
     "text": [
      "tensor(22.0121)\n"
     ]
    }
   ],
   "source": [
    "Z_0 = torch.randn(3,10)\n",
    "Z_0 = Z_0 / np.sqrt(np.square(Z_0).sum(axis=0))\n",
    "G = Z_0.t() @ Z_0\n",
    "Z_1 = torch.randn(3,10)\n",
    "Z_1 = Z_1 / np.sqrt(np.square(Z_1).sum(axis=0))\n",
    "G_1 = Z_1.t() @ Z_1\n",
    "# print(G)\n",
    "# print(G_1 - G)\n",
    "# print((G_1 - G)[G > 0])\n",
    "print((G_1 - G)[G > 0].pow(2).sum())\n",
    "# print(G > 0)"
   ]
  },
  {
   "cell_type": "markdown",
   "metadata": {},
   "source": [
    "# Classes and Functions"
   ]
  },
  {
   "cell_type": "code",
   "execution_count": 6,
   "metadata": {},
   "outputs": [],
   "source": [
    "# MAIN MODEL CODE\n",
    "# Implemented as a PyTorch \"NN\" class, the \"weights\" here are\n",
    "# the features Z, and the \"forward pass\" is the MCR^2 expansion term\n",
    "\n",
    "# Built-in SGD component, tracks which part of the seed we are currently\n",
    "# on\n",
    "\n",
    "# One class, compression term only\n",
    "\n",
    "\n",
    "class LinearizationFlow(nn.Module):\n",
    "\n",
    "    def __init__(self, eps2, center, Z_0, K, delta, lambd):\n",
    "        super(LinearizationFlow, self).__init__();\n",
    "        # global vars init\n",
    "        # dimension of data\n",
    "        self.d = Z_0.shape[0];\n",
    "        # number of data points\n",
    "        self.n = Z_0.shape[1];\n",
    "        # epsilon^2 parameter of MCR2 framework\n",
    "        self.eps2 = eps2;\n",
    "        # estimated max curvature of manifold underlying Z_0\n",
    "        self.K = torch.tensor(K);\n",
    "        # do we center data in loss computation?\n",
    "        self.center = center;\n",
    "\n",
    "        # Initialize features Z from given init Z_0\n",
    "        self.Z = nn.Parameter(Z_0);\n",
    "        # gram matrix of init\n",
    "        self.gram_0 = Z_0.t() @ Z_0\n",
    "        self.edm_0 = torch.diag(self.gram_0).reshape((n,1))@torch.ones((1,n)) \\\n",
    "            + torch.ones((n,1))@torch.diag(self.gram_0).reshape((1,n)) \\\n",
    "            - 2*self.gram_0\n",
    "        # used for ReLU\n",
    "        self.zeros = torch.zeros(self.edm_0.shape)\n",
    "\n",
    "        # give an upper bound estimation on the initial RDM underlying Z_0\n",
    "        edm_max = torch.max(self.edm_0)\n",
    "        edm_min = torch.min(self.edm_0)\n",
    "        # proper parameter for the exponential weighting\n",
    "        alpha = torch.log(self.K) / (edm_max - edm_min)\n",
    "        self.rdm_0 = self.edm_0*torch.exp(alpha*(self.edm_0 - edm_min))\n",
    "        # observed indices for \"close enough\" points\n",
    "        # self.Sigma = self.gram_0 > delta\n",
    "        self.rdm_max = torch.max(self.rdm_0)\n",
    "        self.delta = delta\n",
    "        # amount regularization applies\n",
    "        self.lambd = lambd\n",
    "\n",
    "    def forward(self):\n",
    "\n",
    "        if self.center:\n",
    "            Zc = self.Z - torch.mean(self.Z, dim=1, keepdim=True);\n",
    "        else:\n",
    "            Zc = self.Z;\n",
    "        # estimated covariance from samples\n",
    "        C = (1/self.n)*Zc @ Zc.t();\n",
    "\n",
    "        # mcr2 = torch.log(torch.det(torch.eye(self.d) + (self.d/self.eps2)*C)) + (self.d / (self.d+self.n))*torch.log(1 + torch.mean(self.Z, dim=1, keepdim=True).pow(2).sum()/self.eps2);\n",
    "        mcr2 = torch.logdet(torch.eye(self.d) + (self.d/self.eps2)*C);\n",
    "        # GRAM REGULARIZATIONS\n",
    "        # metric_reg = 0.5*((self.Z.t()@self.Z - self.gram_0)*torch.exp(self.delta*(self.gram_0 - torch.ones(self.gram_0.shape)))).pow(2).sum()\n",
    "        # metric_reg = torch.exp(self.delta*(self.gram_0 - torch.ones(self.gram_0.shape).pow(2))).sum()\n",
    "        # metric_reg = 0.5*((self.Z.t()@self.Z - self.gram_0)).pow(2).sum()\n",
    "\n",
    "        # EDM REGULARIZATIONS\n",
    "        Z_gram = self.Z.t()@self.Z\n",
    "        Z_EDM = torch.diag(Z_gram).reshape((n,1))@torch.ones((1,n)) \\\n",
    "            + torch.ones((n,1))@torch.diag(Z_gram).reshape((1,n)) \\\n",
    "            - 2*Z_gram\n",
    "\n",
    "        # metric_reg = 0.5*((Z_EDM - self.edm_0)*torch.exp(-1*self.delta*(self.edm_0))).pow(2).sum()\n",
    "\n",
    "        metric_reg = -1*(Z_EDM*(torch.exp(2*(self.rdm_0 - self.rdm_max)))).sum()\n",
    "        # metric_reg = torch.log(torch.det(torch.eye(self.n) + self.delta*torch.max(self.rdm_0 - Z_EDM, self.zeros)))\n",
    "        \n",
    "        return mcr2 + self.lambd*metric_reg;\n",
    "        # return self.lambd*metric_reg;\n",
    "\n",
    "# # SGD component. NOTE: this does not update ALL data points at each GD update, just\n",
    "# # the ones used for the stochastic gradient.\n",
    "# class MCR2ExpansionSGD(nn.Module):\n",
    "\n",
    "#     def __init__(self, batch_size, eps2, center, Z_0):\n",
    "#         super(MCR2ExpansionSGD, self).__init__();\n",
    "#         # global vars init\n",
    "#         # dimension of data\n",
    "#         self.d = Z_0.shape[0];\n",
    "#         # number of data points\n",
    "#         self.n = Z_0.shape[1];\n",
    "#         self.batch_size = batch_size;\n",
    "#         # epsilon^2 parameter of MCR2 framework\n",
    "#         self.eps2 = eps2;\n",
    "#         # do we center data in loss computation?\n",
    "#         self.center = center;\n",
    "#         # counter for sgd iterations\n",
    "#         self.sgd_count = 0;\n",
    "#         self.sgd_perm = torch.randperm(self.n);\n",
    "\n",
    "#         # Initialize features Z from given init Z_0\n",
    "#         self.Z = nn.Parameter(Z_0);\n",
    "\n",
    "#     def forward(self):\n",
    "#         # estimated second moments from samples\n",
    "#         Z_sgd = self.Z[:,self.sgd_perm[self.sgd_count:self.sgd_count+self.batch_size]];\n",
    "        \n",
    "#         if self.center:\n",
    "#             Zc = Z_sgd - torch.mean(Z_sgd, dim=1, keepdim=True);\n",
    "#         else:\n",
    "#             Zc = Z_sgd;\n",
    "\n",
    "#         # refresh sgd count and perm if needed\n",
    "#         self.sgd_count = (self.sgd_count + self.batch_size) % self.n;\n",
    "#         # restart once end of data\n",
    "#         if self.sgd_count == 0:\n",
    "#             self.sgd_index = torch.randperm(self.n);\n",
    "\n",
    "#         # estimated covariance from samples\n",
    "#         C = (1/self.batch_size)*Zc @ Zc.t();\n",
    "        \n",
    "#         return -torch.log(torch.det(torch.eye(self.d) + (self.d/self.eps2)*C));"
   ]
  },
  {
   "cell_type": "code",
   "execution_count": 15,
   "metadata": {},
   "outputs": [],
   "source": [
    "def experiment(LinFlow, lr, epochs, epoch_len, save=True, exp_name = ''):\n",
    "    opt = optim.SGD(LinFlow.parameters(), lr=lr)\n",
    "\n",
    "    # visualization stuff\n",
    "    fig = plt.figure();\n",
    "    ax = plt.axes(projection=\"3d\")\n",
    "    f.set_xlabel('X')\n",
    "    f.set_ylabel('Y')\n",
    "    f.set_zlabel('Z')\n",
    "    Z_0 = LinFlow.Z.detach().clone().numpy()\n",
    "    # to set the scale\n",
    "    scatter = ax.scatter3D(Z_0[0,:], Z_0[1,:], Z_0[2,:], c='r', s = 6)\n",
    "\n",
    "    # Uncomment to set the scale\n",
    "    ax.autoscale(False)\n",
    "    images = []\n",
    "\n",
    "    # create new directory for visualization\n",
    "\n",
    "    #check if main directory has been made\n",
    "    if not os.path.exists('./plots/'):\n",
    "        os.mkdir('./plots/')\n",
    "        os.mkdir('./plots/gifs/')\n",
    "        os.mkdir('./plots/image_sequences/')\n",
    "\n",
    "     # make plots directory if it doesnt exist\n",
    "    file_num = -1\n",
    "    for filename in os.listdir('./plots/image_sequences'):\n",
    "        if '_' in filename:\n",
    "            file_num_new = int(re.split('_|-', filename)[-2])\n",
    "            if file_num_new > file_num:\n",
    "                file_num = file_num_new\n",
    "    os.mkdir(f'./plots/image_sequences/exp_{file_num+1}-{exp_name}')\n",
    "\n",
    "    for i in range(epochs*epoch_len):\n",
    "        LinFlow.zero_grad()\n",
    "        # forward call of LinFlow\n",
    "        loss = LinFlow()\n",
    "            \n",
    "\n",
    "        loss.backward()\n",
    "        # GD step\n",
    "        opt.step()\n",
    "        # renormalization step\n",
    "        # with torch.no_grad():\n",
    "            # normalize all features\n",
    "        \t# LinFlow.Z.data = LinFlow.Z.data / torch.sqrt(torch.square(LinFlow.Z.data).sum(axis=0));\n",
    "            # normalize full Z-matrix\n",
    "            # first mean-center\n",
    "            # LinFlow.Z.data = LinFlow.Z.data - torch.mean(LinFlow.Z.data, dim=1, keepdim=True);\n",
    "            # then normalize, note doesnt destroy centering\n",
    "            # LinFlow.Z.data = LinFlow.Z.data * np.sqrt(n) / torch.sqrt(torch.square(LinFlow.Z.data).sum());\n",
    "        \n",
    "        # take a snapshot of frame to collect into GIF\n",
    "        # Graph for initial distribution\n",
    "        Z_np = LinFlow.Z.detach().clone().numpy();\n",
    "\n",
    "        if (i % epoch_len == 0):\n",
    "            print(f'epoch {i // epoch_len}: CR {loss}')\n",
    "            # figure = plt.figure();\n",
    "            # f = figure.add_subplot(111, projection='3d');\n",
    "            if save:\n",
    "                scatter.remove()\n",
    "\n",
    "                scatter = ax.scatter3D(Z_np[0,:], Z_np[1,:], Z_np[2,:], c='r', s = 6)\n",
    "                img_path = f'./plots/image_sequences/exp_{file_num+1}-{exp_name}/lin_flow_step{i}.jpg'\n",
    "                plt.savefig(img_path)\n",
    "                images.append(imageio.imread(img_path))\n",
    "\n",
    "    print(f'Done with optimization! Final loss: {loss}')\n",
    "    print('Saving gif...')\n",
    "    # set the name for the next saved gif\n",
    "    file_num = -1\n",
    "    for filename in os.listdir('./plots/gifs'):\n",
    "        if '_' in filename:\n",
    "            file_num_new = int(re.split('_|\\.|-', filename)[-3])\n",
    "            if file_num_new > file_num:\n",
    "                file_num = file_num_new\n",
    "    imageio.mimsave(f'plots/gifs/gif_{file_num + 1}-{exp_name}.gif', images)\n",
    "    print('Done!')\n"
   ]
  },
  {
   "cell_type": "code",
   "execution_count": 39,
   "metadata": {},
   "outputs": [
    {
     "name": "stdout",
     "output_type": "stream",
     "text": [
      "tensor([[ 0.3415, -0.0716, -0.0909],\n",
      "        [-1.3297, -0.5426,  0.5471],\n",
      "        [ 0.6431, -0.7905, -0.9058]])\n",
      "tensor([[0.3415, 0.0000, 0.0000],\n",
      "        [0.0000, 0.0000, 0.5471],\n",
      "        [0.6431, 0.0000, 0.0000]])\n"
     ]
    }
   ],
   "source": [
    "hi = torch.randn(3,3)\n",
    "print(hi)\n",
    "zeros = torch.zeros(hi.shape)\n",
    "print(torch.max(hi, zeros))"
   ]
  },
  {
   "cell_type": "markdown",
   "metadata": {},
   "source": [
    "# Run Test\n",
    "Below code is where to specify what test to run"
   ]
  },
  {
   "cell_type": "code",
   "execution_count": 8,
   "metadata": {},
   "outputs": [
    {
     "data": {
      "image/png": "[encoded data removed]",
      "text/plain": [
       "<Figure size 432x288 with 1 Axes>"
      ]
     },
     "metadata": {
      "needs_background": "light"
     },
     "output_type": "display_data"
    },
    {
     "name": "stdout",
     "output_type": "stream",
     "text": [
      "17.66290725748092\n"
     ]
    }
   ],
   "source": [
    "##################### VISUALIZE INIT DATA ##################\n",
    "\n",
    "# projected sin wave\n",
    "Z_0 = np.zeros((d,n))\n",
    "for i in range(n):\n",
    "\tZ_0[0,i] = (i+1)/n;\n",
    "\tZ_0[1,i] = np.sin((i+1)/n*1.1*np.pi);\n",
    "\tZ_0[2,i] = 1;\n",
    "\n",
    "\n",
    "# required normalization\n",
    "Z_0 = Z_0 / np.sqrt(np.square(Z_0).sum(axis=0));\n",
    "\n",
    "\n",
    "\n",
    "figure = plt.figure()\n",
    "f = figure.add_subplot(111, projection='3d')\n",
    "\n",
    "f.scatter(Z_0[0,:], Z_0[1,:], Z_0[2,:], c='r', s = 6)\n",
    "\n",
    "f.set_xlabel('X')\n",
    "f.set_ylabel('Y')\n",
    "f.set_zlabel('Z')\n",
    "\n",
    "plt.show()\n",
    "\n",
    "print( np.sqrt(np.square(Z_0).sum()))\n"
   ]
  },
  {
   "cell_type": "code",
   "execution_count": 17,
   "metadata": {},
   "outputs": [
    {
     "name": "stdout",
     "output_type": "stream",
     "text": [
      "epoch 0: CR 30.054895401000977\n",
      "epoch 1: CR 30.03485870361328\n",
      "epoch 2: CR 30.014684677124023\n",
      "epoch 3: CR 29.994365692138672\n",
      "epoch 4: CR 29.97390365600586\n",
      "epoch 5: CR 29.953292846679688\n",
      "epoch 6: CR 29.93253517150879\n",
      "epoch 7: CR 29.91162872314453\n",
      "epoch 8: CR 29.89056968688965\n",
      "epoch 9: CR 29.86935806274414\n",
      "epoch 10: CR 29.847991943359375\n",
      "epoch 11: CR 29.826465606689453\n",
      "epoch 12: CR 29.804780960083008\n",
      "epoch 13: CR 29.782936096191406\n",
      "epoch 14: CR 29.760927200317383\n",
      "epoch 15: CR 29.738754272460938\n",
      "epoch 16: CR 29.716411590576172\n",
      "epoch 17: CR 29.693899154663086\n",
      "epoch 18: CR 29.671218872070312\n",
      "epoch 19: CR 29.648361206054688\n",
      "epoch 20: CR 29.62532615661621\n",
      "epoch 21: CR 29.60211944580078\n",
      "epoch 22: CR 29.578725814819336\n",
      "epoch 23: CR 29.555150985717773\n",
      "epoch 24: CR 29.531389236450195\n",
      "epoch 25: CR 29.5074405670166\n",
      "epoch 26: CR 29.483301162719727\n",
      "epoch 27: CR 29.458969116210938\n",
      "epoch 28: CR 29.434438705444336\n",
      "epoch 29: CR 29.409709930419922\n",
      "epoch 30: CR 29.384782791137695\n",
      "epoch 31: CR 29.359649658203125\n",
      "epoch 32: CR 29.334308624267578\n",
      "epoch 33: CR 29.308759689331055\n",
      "epoch 34: CR 29.282997131347656\n",
      "epoch 35: CR 29.257017135620117\n",
      "epoch 36: CR 29.23082160949707\n",
      "epoch 37: CR 29.20440101623535\n",
      "epoch 38: CR 29.177753448486328\n",
      "epoch 39: CR 29.150880813598633\n",
      "epoch 40: CR 29.123777389526367\n",
      "epoch 41: CR 29.096435546875\n",
      "epoch 42: CR 29.06885528564453\n",
      "epoch 43: CR 29.041034698486328\n",
      "epoch 44: CR 29.012968063354492\n",
      "epoch 45: CR 28.984651565551758\n",
      "epoch 46: CR 28.95608139038086\n",
      "epoch 47: CR 28.92725372314453\n",
      "epoch 48: CR 28.898164749145508\n",
      "epoch 49: CR 28.868810653686523\n",
      "epoch 50: CR 28.839187622070312\n",
      "epoch 51: CR 28.80929183959961\n",
      "epoch 52: CR 28.779115676879883\n",
      "epoch 53: CR 28.748659133911133\n",
      "epoch 54: CR 28.717918395996094\n",
      "epoch 55: CR 28.6868839263916\n",
      "epoch 56: CR 28.655555725097656\n",
      "epoch 57: CR 28.62392807006836\n",
      "epoch 58: CR 28.591991424560547\n",
      "epoch 59: CR 28.559749603271484\n",
      "epoch 60: CR 28.527189254760742\n",
      "epoch 61: CR 28.494312286376953\n",
      "epoch 62: CR 28.46110725402832\n",
      "epoch 63: CR 28.42757225036621\n",
      "epoch 64: CR 28.39370346069336\n",
      "epoch 65: CR 28.3594913482666\n",
      "epoch 66: CR 28.32493019104004\n",
      "epoch 67: CR 28.29001808166504\n",
      "epoch 68: CR 28.254745483398438\n",
      "epoch 69: CR 28.2191104888916\n",
      "epoch 70: CR 28.183103561401367\n",
      "epoch 71: CR 28.146717071533203\n",
      "epoch 72: CR 28.109949111938477\n",
      "epoch 73: CR 28.072792053222656\n",
      "epoch 74: CR 28.035234451293945\n",
      "epoch 75: CR 27.99727439880371\n",
      "epoch 76: CR 27.958904266357422\n",
      "epoch 77: CR 27.92011833190918\n",
      "epoch 78: CR 27.880905151367188\n",
      "epoch 79: CR 27.841259002685547\n",
      "epoch 80: CR 27.80117416381836\n",
      "epoch 81: CR 27.760639190673828\n",
      "epoch 82: CR 27.719650268554688\n",
      "epoch 83: CR 27.67820167541504\n",
      "epoch 84: CR 27.636276245117188\n",
      "epoch 85: CR 27.593875885009766\n",
      "epoch 86: CR 27.550981521606445\n",
      "epoch 87: CR 27.50758934020996\n",
      "epoch 88: CR 27.463693618774414\n",
      "epoch 89: CR 27.419282913208008\n",
      "epoch 90: CR 27.37434959411621\n",
      "epoch 91: CR 27.32887840270996\n",
      "epoch 92: CR 27.282865524291992\n",
      "epoch 93: CR 27.236297607421875\n",
      "epoch 94: CR 27.18916893005371\n",
      "epoch 95: CR 27.14146614074707\n",
      "epoch 96: CR 27.093177795410156\n",
      "epoch 97: CR 27.044294357299805\n",
      "epoch 98: CR 26.99480438232422\n",
      "epoch 99: CR 26.944700241088867\n",
      "epoch 100: CR 26.893962860107422\n",
      "epoch 101: CR 26.842592239379883\n",
      "epoch 102: CR 26.790565490722656\n",
      "epoch 103: CR 26.73787498474121\n",
      "epoch 104: CR 26.684511184692383\n",
      "epoch 105: CR 26.63045883178711\n",
      "epoch 106: CR 26.575698852539062\n",
      "epoch 107: CR 26.52022933959961\n",
      "epoch 108: CR 26.464033126831055\n",
      "epoch 109: CR 26.407089233398438\n",
      "epoch 110: CR 26.34939193725586\n",
      "epoch 111: CR 26.29092788696289\n",
      "epoch 112: CR 26.231679916381836\n",
      "epoch 113: CR 26.171627044677734\n",
      "epoch 114: CR 26.11075782775879\n",
      "epoch 115: CR 26.04906463623047\n",
      "epoch 116: CR 25.98652458190918\n",
      "epoch 117: CR 25.923118591308594\n",
      "epoch 118: CR 25.85883903503418\n",
      "epoch 119: CR 25.793657302856445\n",
      "epoch 120: CR 25.72756576538086\n",
      "epoch 121: CR 25.660545349121094\n",
      "epoch 122: CR 25.592573165893555\n",
      "epoch 123: CR 25.523635864257812\n",
      "epoch 124: CR 25.45370864868164\n",
      "epoch 125: CR 25.382781982421875\n",
      "epoch 126: CR 25.310827255249023\n",
      "epoch 127: CR 25.237831115722656\n",
      "epoch 128: CR 25.16376495361328\n",
      "epoch 129: CR 25.08861541748047\n",
      "epoch 130: CR 25.012357711791992\n",
      "epoch 131: CR 24.934967041015625\n",
      "epoch 132: CR 24.856426239013672\n",
      "epoch 133: CR 24.776708602905273\n",
      "epoch 134: CR 24.695791244506836\n",
      "epoch 135: CR 24.613649368286133\n",
      "epoch 136: CR 24.530261993408203\n",
      "epoch 137: CR 24.445598602294922\n",
      "epoch 138: CR 24.359638214111328\n",
      "epoch 139: CR 24.272348403930664\n",
      "epoch 140: CR 24.183704376220703\n",
      "epoch 141: CR 24.09368133544922\n",
      "epoch 142: CR 24.00224494934082\n",
      "epoch 143: CR 23.90937042236328\n",
      "epoch 144: CR 23.815025329589844\n",
      "epoch 145: CR 23.719181060791016\n",
      "epoch 146: CR 23.621803283691406\n",
      "epoch 147: CR 23.522855758666992\n",
      "epoch 148: CR 23.42230796813965\n",
      "epoch 149: CR 23.320127487182617\n",
      "Done with optimization! Final loss: 23.22150993347168\n",
      "Saving gif...\n",
      "Done!\n"
     ]
    },
    {
     "data": {
      "image/png": "[encoded data removed]",
      "text/plain": [
       "<Figure size 432x288 with 1 Axes>"
      ]
     },
     "metadata": {
      "needs_background": "light"
     },
     "output_type": "display_data"
    }
   ],
   "source": [
    "############################## RUN EXPERIMENT ##############w\n",
    "# Z_0 = np.zeros((d,n))\n",
    "# for i in range(n):\n",
    "# \tZ_0[0,i] = (i+1)/n;\n",
    "# \tZ_0[1,i] = np.sin((i+1)/n*1.3*np.pi);\n",
    "# \tZ_0[2,i] = 1;\n",
    "\n",
    "\n",
    "# # required normalization\n",
    "# Z_0 = Z_0 / np.sqrt(np.square(Z_0).sum(axis=0));\n",
    "# Z_0 = torch.from_numpy(Z_0).float();\n",
    "\n",
    "# Gaussian data\n",
    "Z_0_np = np.random.randn(d,n)\n",
    "Z_0 = torch.from_numpy(Z_0_np).float();\n",
    "\n",
    "LinFlow = LinearizationFlow(eps2=0.0001, center=True, Z_0=Z_0, K=1, delta=1, lambd=0.01)\n",
    "\n",
    "experiment(LinFlow, lr=0.005, epochs = 150, epoch_len = 20, exp_name='together')\n",
    "# make gif and organize generated images\n",
    "# !python3 stitch_jpgs.py\n"
   ]
  },
  {
   "cell_type": "code",
   "execution_count": null,
   "metadata": {},
   "outputs": [],
   "source": []
  },
  {
   "cell_type": "code",
   "execution_count": 62,
   "metadata": {},
   "outputs": [
    {
     "data": {
      "image/png": "[encoded data removed]",
      "text/plain": [
       "<Figure size 432x288 with 1 Axes>"
      ]
     },
     "metadata": {
      "needs_background": "light"
     },
     "output_type": "display_data"
    }
   ],
   "source": [
    "# Graph for initial distribution\n",
    "figure = plt.figure()\n",
    "f = figure.add_subplot(111, projection='3d')\n",
    "\n",
    "f.scatter(Z_0[0,:], Z_0[1,:], Z_0[2,:], c='r', s = 6)\n",
    "\n",
    "f.set_xlabel('X')\n",
    "f.set_ylabel('Y')\n",
    "f.set_zlabel('Z')\n",
    "\n",
    "plt.show()"
   ]
  },
  {
   "cell_type": "code",
   "execution_count": 65,
   "metadata": {},
   "outputs": [
    {
     "name": "stdout",
     "output_type": "stream",
     "text": [
      "torch.Size([3, 100])\n"
     ]
    }
   ],
   "source": [
    "print(Z_0.shape)"
   ]
  },
  {
   "cell_type": "code",
   "execution_count": 67,
   "metadata": {},
   "outputs": [
    {
     "name": "stdout",
     "output_type": "stream",
     "text": [
      "tensor([0.0000, 0.0017, 0.0069, 0.0153, 0.0267, 0.0409, 0.0575, 0.0763, 0.0968,\n",
      "        0.1187, 0.1417, 0.1655, 0.1897, 0.2142, 0.2387, 0.2629, 0.2867, 0.3100,\n",
      "        0.3325, 0.3543, 0.3752, 0.3952, 0.4142, 0.4322, 0.4491, 0.4650, 0.4798,\n",
      "        0.4935, 0.5061, 0.5176, 0.5281, 0.5375, 0.5459, 0.5532, 0.5595, 0.5648,\n",
      "        0.5691, 0.5724, 0.5748, 0.5762, 0.5767, 0.5762, 0.5749, 0.5727, 0.5696,\n",
      "        0.5658, 0.5610, 0.5556, 0.5493, 0.5424, 0.5348, 0.5266, 0.5178, 0.5085,\n",
      "        0.4987, 0.4886, 0.4782, 0.4676, 0.4569, 0.4463, 0.4358, 0.4256, 0.4159,\n",
      "        0.4068, 0.3984, 0.3908, 0.3844, 0.3791, 0.3752, 0.3728, 0.3719, 0.3727,\n",
      "        0.3752, 0.3795, 0.3856, 0.3934, 0.4030, 0.4141, 0.4268, 0.4409, 0.4563,\n",
      "        0.4728, 0.4902, 0.5084, 0.5273, 0.5466, 0.5662, 0.5860, 0.6059, 0.6256,\n",
      "        0.6451, 0.6644, 0.6832, 0.7016, 0.7195, 0.7368, 0.7535, 0.7695, 0.7849,\n",
      "        0.7995])\n"
     ]
    }
   ],
   "source": [
    "print(torch.sum(torch.pow(Z_0 - Z_0[:,0].reshape((3,1)), 2), axis=0))"
   ]
  },
  {
   "cell_type": "code",
   "execution_count": 105,
   "metadata": {
    "tags": []
   },
   "outputs": [
    {
     "data": {
      "image/png": "[encoded data removed]",
      "text/plain": [
       "<Figure size 432x288 with 1 Axes>"
      ]
     },
     "metadata": {
      "needs_background": "light"
     },
     "output_type": "display_data"
    },
    {
     "name": "stdout",
     "output_type": "stream",
     "text": [
      "[1.0000000e+01 2.2573248e-07 2.1196495e-08]\n"
     ]
    }
   ],
   "source": [
    "# Graph for final distribution\n",
    "figure = plt.figure()\n",
    "f = figure.add_subplot(111, projection='3d')\n",
    "Z_np = LinFlow.Z.detach().clone().numpy();\n",
    "\n",
    "f.scatter(Z_np[0,:], Z_np[1,:], Z_np[2,:], c='r', s = 6)\n",
    "\n",
    "f.set_xlabel('X')\n",
    "f.set_ylabel('Y')\n",
    "f.set_zlabel('Z')\n",
    "\n",
    "plt.show()\n",
    "\n",
    "u, s, v = np.linalg.svd(Z_np)\n",
    "print(s)"
   ]
  },
  {
   "cell_type": "code",
   "execution_count": 79,
   "metadata": {},
   "outputs": [],
   "source": [
    "pointclud = Z_np.T\n",
    "pcd = o3d.geometry.PointCloud()\n",
    "pcd.points = o3d.utility.Vector3dVector(pointclud)\n",
    "o3d.visualization.draw_geometries([pcd])"
   ]
  },
  {
   "cell_type": "code",
   "execution_count": 49,
   "metadata": {},
   "outputs": [
    {
     "name": "stdout",
     "output_type": "stream",
     "text": [
      "[1.0000000e+01 3.9621219e-07 4.9564083e-08]\n"
     ]
    }
   ],
   "source": [
    "u, s, v = np.linalg.svd(Z_np)\n",
    "print(s)"
   ]
  },
  {
   "cell_type": "code",
   "execution_count": 109,
   "metadata": {},
   "outputs": [
    {
     "data": {
      "text/plain": [
       "[<matplotlib.lines.Line2D at 0x1766a4bf070>]"
      ]
     },
     "execution_count": 109,
     "metadata": {},
     "output_type": "execute_result"
    },
    {
     "data": {
      "image/png": "[encoded data removed]",
      "text/plain": [
       "<Figure size 432x288 with 1 Axes>"
      ]
     },
     "metadata": {
      "needs_background": "light"
     },
     "output_type": "display_data"
    }
   ],
   "source": [
    "plt.plot(np.arange(100),Z_np[0,:])"
   ]
  },
  {
   "cell_type": "markdown",
   "metadata": {},
   "source": [
    "# EDM tests\n",
    "\n",
    "testing some properties of the EDM for benign sets"
   ]
  },
  {
   "cell_type": "code",
   "execution_count": 34,
   "metadata": {},
   "outputs": [
    {
     "data": {
      "text/plain": [
       "(array([1., 1., 0., 0., 1., 0., 2., 0., 1., 1.]),\n",
       " array([0.        , 0.00089555, 0.00179109, 0.00268664, 0.00358218,\n",
       "        0.00447773, 0.00537327, 0.00626882, 0.00716436, 0.00805991,\n",
       "        0.00895545]),\n",
       " <a list of 10 Patch objects>)"
      ]
     },
     "execution_count": 34,
     "metadata": {},
     "output_type": "execute_result"
    },
    {
     "data": {
      "image/png": "[encoded data removed]",
      "text/plain": [
       "<Figure size 432x288 with 1 Axes>"
      ]
     },
     "metadata": {
      "needs_background": "light"
     },
     "output_type": "display_data"
    }
   ],
   "source": [
    "d = 1\n",
    "n = 100\n",
    "\n",
    "Z = np.random.randn(d, n)\n",
    "\n",
    "G = Z.T@Z\n",
    "EDM = np.diag(G).reshape((n,1))@np.ones((1,n)) \\\n",
    "            + np.ones((n,1))@ np.diag(G).reshape((1,n)) \\\n",
    "            - 2*G\n",
    "\n",
    "EDM_col = EDM[0,:]\n",
    "plt.hist(EDM_col[EDM_col < 0.01])\n"
   ]
  },
  {
   "cell_type": "markdown",
   "metadata": {},
   "source": [
    "# LinFlow v2\n",
    "\n",
    "new and improved!"
   ]
  },
  {
   "cell_type": "code",
   "execution_count": 23,
   "metadata": {},
   "outputs": [
    {
     "name": "stdout",
     "output_type": "stream",
     "text": [
      "[1. 1. 1. 1.]\n"
     ]
    }
   ],
   "source": [
    "print(np.diag(np.eye(4)))"
   ]
  },
  {
   "cell_type": "code",
   "execution_count": 22,
   "metadata": {},
   "outputs": [
    {
     "name": "stdout",
     "output_type": "stream",
     "text": [
      "[ 0.63132261  1.03223307 -0.12289338  0.05622427 -0.1192407 ]\n",
      "0.9999999999999999\n"
     ]
    }
   ],
   "source": [
    "Z = np.random.randn(3,5)\n",
    "print(Z.mean(axis=0))\n",
    "\n",
    "Z = Z / np.sqrt(np.sum(np.power(Z,2), axis=0, keepdims=True))\n",
    "print(np.linalg.norm(Z[:,0]))"
   ]
  },
  {
   "cell_type": "code",
   "execution_count": 307,
   "metadata": {},
   "outputs": [],
   "source": [
    "# given observations of manifold Z in R^(d\\times n), compute the next step\n",
    "# of linearization flow\n",
    "def linflow_step(Z,eps2,gamma):\n",
    "\td = Z.shape[0]\n",
    "\tn = Z.shape[1]\n",
    "\n",
    "\t# STEP 1: compute gradient\n",
    "\talpha = d/(n*eps2)\n",
    "\tg = np.linalg.inv(np.eye(d) + alpha*Z@Z.T)@Z\n",
    "\n",
    "\t# STEP 2: project gradient to normal directions\n",
    "\t# this step currently makes HUGE assumptions\n",
    "\n",
    "\t# approximated tangent space. Here, we assume that\n",
    "\t# Z is ordered along a 1D curve\n",
    "\tV = Z - np.roll(Z, 1, axis=1)\n",
    "\t# correct at endpoints\n",
    "\tV[0,:] = Z[1,:] - Z[0,:]\n",
    "\n",
    "\t# normalize tangent vectors\n",
    "\tV = V / np.sqrt(np.sum(np.power(V,2), axis=0, keepdims=True))\n",
    "\n",
    "\t# inner products between data points and tangent vectors\n",
    "\tinnerGV = np.diag(g.T@V).reshape((1,n))\n",
    "\n",
    "\t# project gradient directions to normal bundle (normal spaces)\n",
    "\tg = g - innerGV * V\n",
    "\n",
    "\t# STEP 3: projected gradient descent\n",
    "\n",
    "\tZnew = Z - gamma*g\n",
    "\t# mean center\n",
    "\tZnew = Znew - np.mean(Znew,axis=1,keepdims=True)\n",
    "\t# global normalization\n",
    "\tZnew = Znew * n / np.sqrt(np.sum(np.power(Znew, 2)))\n",
    "\treturn Znew"
   ]
  },
  {
   "cell_type": "code",
   "execution_count": 53,
   "metadata": {},
   "outputs": [
    {
     "name": "stdout",
     "output_type": "stream",
     "text": [
      "[[ 0.44331226]\n",
      " [-0.5340037 ]\n",
      " [ 0.29770836]]\n"
     ]
    }
   ],
   "source": [
    "hi = np.random.randn(3,5)\n",
    "print()"
   ]
  },
  {
   "cell_type": "code",
   "execution_count": 151,
   "metadata": {},
   "outputs": [
    {
     "data": {
      "text/plain": [
       "<matplotlib.collections.PathCollection at 0x24eeed60fd0>"
      ]
     },
     "execution_count": 151,
     "metadata": {},
     "output_type": "execute_result"
    },
    {
     "data": {
      "image/png": "[encoded data removed]",
      "text/plain": [
       "<Figure size 432x288 with 1 Axes>"
      ]
     },
     "metadata": {
      "needs_background": "light"
     },
     "output_type": "display_data"
    }
   ],
   "source": [
    "d = 4\n",
    "sqrt_n = 25\n",
    "n = sqrt_n**2\n",
    "\n",
    "Z = np.zeros((d,n))\n",
    "for i in range(sqrt_n):\n",
    "\tfor j in range(sqrt_n):\n",
    "\t\tx = (-0.5 + (i+1)/sqrt_n)*2*np.pi\n",
    "\t\ty = (-0.5 + (j+1)/sqrt_n)*2*np.pi\n",
    "\t\tZ[0,j + sqrt_n*i] = x\n",
    "\t\tZ[1,j + sqrt_n*i] = y\n",
    "\t\tZ[2,j + sqrt_n*i] = np.sin(4*x)\n",
    "\t\tZ[3,j + sqrt_n*i] = np.sin(7*y)\n",
    "\n",
    "\n",
    "# mean center\n",
    "Z = Z - np.mean(Z,axis=1,keepdims=True)\n",
    "# global normalization\n",
    "Z = Z * n / np.sqrt(np.sum(np.power(Z, 2)))\n",
    "\n",
    "plt.scatter(Z[0,:], Z[1,:])"
   ]
  },
  {
   "cell_type": "code",
   "execution_count": 170,
   "metadata": {},
   "outputs": [
    {
     "name": "stdout",
     "output_type": "stream",
     "text": [
      "5.853156198498217e-13\n"
     ]
    },
    {
     "data": {
      "text/plain": [
       "<matplotlib.collections.PathCollection at 0x24ec3e3a730>"
      ]
     },
     "execution_count": 170,
     "metadata": {},
     "output_type": "execute_result"
    },
    {
     "data": {
      "image/png": "[encoded data removed]",
      "text/plain": [
       "<Figure size 432x288 with 1 Axes>"
      ]
     },
     "metadata": {
      "needs_background": "light"
     },
     "output_type": "display_data"
    }
   ],
   "source": [
    "\n",
    "u, s, vt = np.linalg.svd(Z)\n",
    "S = np.zeros(Z.shape)\n",
    "S[:,:len(s)] = np.diag(s)\n",
    "print(np.linalg.norm(u@S@vt - Z))\n",
    "Y =  u[:,:2].T@Z\n",
    "\n",
    "plt.scatter(Y[0,:], Y[1,:])"
   ]
  },
  {
   "cell_type": "code",
   "execution_count": 149,
   "metadata": {},
   "outputs": [
    {
     "name": "stdout",
     "output_type": "stream",
     "text": [
      "[412.88115201 411.95747    160.01107121 157.61235458]\n"
     ]
    }
   ],
   "source": [
    "u,s,vt = np.linalg.svd(Z)\n",
    "print(s)"
   ]
  },
  {
   "cell_type": "code",
   "execution_count": 295,
   "metadata": {},
   "outputs": [
    {
     "name": "stdout",
     "output_type": "stream",
     "text": [
      "nan\n"
     ]
    }
   ],
   "source": [
    "print(np.sqrt(np.sum(np.power(Z, 2))))"
   ]
  },
  {
   "cell_type": "code",
   "execution_count": 312,
   "metadata": {},
   "outputs": [
    {
     "name": "stdout",
     "output_type": "stream",
     "text": [
      "step 0\n",
      "step 1000\n",
      "step 2000\n",
      "step 3000\n",
      "step 4000\n",
      "step 5000\n",
      "step 6000\n",
      "step 7000\n",
      "step 8000\n",
      "step 9000\n",
      "step 10000\n",
      "step 11000\n"
     ]
    },
    {
     "data": {
      "text/plain": [
       "<matplotlib.collections.PathCollection at 0x24f57092f70>"
      ]
     },
     "execution_count": 312,
     "metadata": {},
     "output_type": "execute_result"
    },
    {
     "data": {
      "image/png": "[encoded data removed]",
      "text/plain": [
       "<Figure size 432x288 with 1 Axes>"
      ]
     },
     "metadata": {
      "needs_background": "light"
     },
     "output_type": "display_data"
    }
   ],
   "source": [
    "eps2 = 0.05\n",
    "gamma = 0.001\n",
    "Z = np.zeros((2,50))\n",
    "for i in range(50):\n",
    "\tx = (-0.5 + (i+1)/50)*2*np.pi\n",
    "\tZ[0,i] = x\n",
    "\tZ[1,i] = 10*np.sin(x)\n",
    "\n",
    "\n",
    "\n",
    "for i in range(12000):\n",
    "\tZ = linflow_step(Z, eps2, gamma)\n",
    "\tif i%1000 == 0:\n",
    "\t\tprint(f'step {i}')\n",
    "\n",
    "# u,s,vt = np.linalg.svd(Z)\n",
    "# print(s)\n",
    "plt.scatter(Z[0,:], Z[1,:])"
   ]
  },
  {
   "cell_type": "code",
   "execution_count": 284,
   "metadata": {},
   "outputs": [
    {
     "data": {
      "text/plain": [
       "<matplotlib.collections.PathCollection at 0x24ead3ee580>"
      ]
     },
     "execution_count": 284,
     "metadata": {},
     "output_type": "execute_result"
    },
    {
     "data": {
      "image/png": "[encoded data removed]",
      "text/plain": [
       "<Figure size 432x288 with 1 Axes>"
      ]
     },
     "metadata": {
      "needs_background": "light"
     },
     "output_type": "display_data"
    }
   ],
   "source": [
    "plt.scatter(Z[0,:], Z[1,:])"
   ]
  },
  {
   "cell_type": "code",
   "execution_count": 117,
   "metadata": {},
   "outputs": [
    {
     "name": "stdout",
     "output_type": "stream",
     "text": [
      "step 0\n",
      "step 50\n",
      "step 100\n",
      "step 150\n",
      "step 200\n",
      "step 250\n",
      "step 300\n",
      "step 350\n",
      "step 400\n",
      "step 450\n",
      "step 500\n",
      "step 550\n",
      "step 600\n",
      "step 650\n",
      "step 700\n",
      "step 750\n",
      "step 800\n",
      "step 850\n",
      "step 900\n",
      "step 950\n",
      "step 1000\n",
      "step 1050\n",
      "step 1100\n",
      "step 1150\n",
      "step 1200\n",
      "step 1250\n",
      "step 1300\n",
      "step 1350\n",
      "step 1400\n",
      "step 1450\n",
      "step 1500\n",
      "step 1550\n",
      "step 1600\n",
      "step 1650\n",
      "step 1700\n",
      "step 1750\n",
      "step 1800\n",
      "step 1850\n",
      "step 1900\n",
      "step 1950\n",
      "step 2000\n",
      "step 2050\n",
      "step 2100\n",
      "step 2150\n",
      "step 2200\n",
      "step 2250\n",
      "step 2300\n",
      "step 2350\n",
      "step 2400\n",
      "step 2450\n",
      "step 2500\n",
      "step 2550\n",
      "step 2600\n",
      "step 2650\n",
      "step 2700\n",
      "step 2750\n",
      "step 2800\n",
      "step 2850\n",
      "step 2900\n",
      "step 2950\n",
      "step 3000\n",
      "step 3050\n",
      "step 3100\n",
      "step 3150\n",
      "step 3200\n",
      "step 3250\n",
      "step 3300\n",
      "step 3350\n",
      "step 3400\n",
      "step 3450\n",
      "step 3500\n",
      "step 3550\n",
      "step 3600\n",
      "step 3650\n",
      "step 3700\n",
      "step 3750\n",
      "step 3800\n",
      "step 3850\n",
      "step 3900\n",
      "step 3950\n",
      "step 4000\n",
      "step 4050\n",
      "step 4100\n",
      "step 4150\n",
      "step 4200\n",
      "step 4250\n",
      "step 4300\n",
      "step 4350\n",
      "step 4400\n",
      "step 4450\n",
      "step 4500\n",
      "step 4550\n",
      "step 4600\n",
      "step 4650\n",
      "step 4700\n",
      "step 4750\n",
      "step 4800\n",
      "step 4850\n",
      "step 4900\n",
      "step 4950\n",
      "step 5000\n",
      "step 5050\n",
      "step 5100\n",
      "step 5150\n",
      "step 5200\n",
      "step 5250\n",
      "step 5300\n",
      "step 5350\n",
      "step 5400\n",
      "step 5450\n",
      "step 5500\n",
      "step 5550\n",
      "step 5600\n",
      "step 5650\n",
      "step 5700\n",
      "step 5750\n",
      "step 5800\n",
      "step 5850\n",
      "step 5900\n",
      "step 5950\n",
      "step 6000\n",
      "step 6050\n",
      "step 6100\n",
      "step 6150\n",
      "step 6200\n",
      "step 6250\n",
      "step 6300\n",
      "step 6350\n",
      "step 6400\n",
      "step 6450\n",
      "step 6500\n",
      "step 6550\n",
      "step 6600\n",
      "step 6650\n",
      "step 6700\n",
      "step 6750\n",
      "step 6800\n",
      "step 6850\n",
      "step 6900\n",
      "step 6950\n",
      "step 7000\n",
      "step 7050\n",
      "step 7100\n",
      "step 7150\n",
      "step 7200\n",
      "step 7250\n",
      "step 7300\n",
      "step 7350\n",
      "step 7400\n",
      "step 7450\n",
      "step 7500\n",
      "step 7550\n",
      "step 7600\n",
      "step 7650\n",
      "step 7700\n",
      "step 7750\n",
      "step 7800\n",
      "step 7850\n",
      "step 7900\n",
      "step 7950\n",
      "step 8000\n",
      "step 8050\n",
      "step 8100\n",
      "step 8150\n",
      "step 8200\n",
      "step 8250\n",
      "step 8300\n",
      "step 8350\n",
      "step 8400\n",
      "step 8450\n",
      "step 8500\n",
      "step 8550\n",
      "step 8600\n",
      "step 8650\n",
      "step 8700\n",
      "step 8750\n",
      "step 8800\n",
      "step 8850\n",
      "step 8900\n",
      "step 8950\n",
      "step 9000\n",
      "step 9050\n",
      "step 9100\n",
      "step 9150\n",
      "step 9200\n",
      "step 9250\n",
      "step 9300\n",
      "step 9350\n",
      "step 9400\n",
      "step 9450\n",
      "step 9500\n",
      "step 9550\n",
      "step 9600\n",
      "step 9650\n",
      "step 9700\n",
      "step 9750\n",
      "step 9800\n",
      "step 9850\n",
      "step 9900\n",
      "step 9950\n",
      "Saving gif...\n",
      "Done!\n"
     ]
    },
    {
     "data": {
      "image/png": "[encoded data removed]",
      "text/plain": [
       "<Figure size 432x288 with 1 Axes>"
      ]
     },
     "metadata": {
      "needs_background": "light"
     },
     "output_type": "display_data"
    }
   ],
   "source": [
    "\n",
    "Z = np.zeros((d,n))\n",
    "for i in range(n):\n",
    "\tx = (-0.5 + (i+1)/n)*2*np.pi\n",
    "\tZ[0,i] = x\n",
    "\tZ[1,i] = np.sin(x)\n",
    "\n",
    "\n",
    "# mean center\n",
    "Z = Z - np.mean(Z,axis=1,keepdims=True)\n",
    "# global normalization\n",
    "Z = Z * n / np.sqrt(np.sum(np.power(Z, 2)))\n",
    "\n",
    "fig = plt.figure()\n",
    "ax = plt.axes()\n",
    "\n",
    "\n",
    "images = []\n",
    "scatter = ax.scatter(Z[0, :], Z[1, :])\n",
    "# Uncomment to set the scale\n",
    "# ax.autoscale(False)\n",
    "\n",
    "# create new directory for visualization\n",
    "\n",
    "# check if main directory has been made\n",
    "if not os.path.exists('./plots/'):\n",
    "    os.mkdir('./plots/')\n",
    "    os.mkdir('./plots/gifs/')\n",
    "    os.mkdir('./plots/image_sequences/')\n",
    "\n",
    "# # make plots directory if it doesnt exist\n",
    "# file_num = -1\n",
    "# for filename in os.listdir('./plots/image_sequences'):\n",
    "#     if '_' in filename:\n",
    "#         file_num_new = int(re.split('_|-', filename)[-2])\n",
    "#         if file_num_new > file_num:\n",
    "#             file_num = file_num_new\n",
    "os.mkdir(f'./plots/image_sequences/exp_newlinflownoadjust')\n",
    "\n",
    "eps2 = 0.05\n",
    "gamma = 0.01\n",
    "for i in range(10000):\n",
    "    Z = linflow_step(Z, eps2, gamma)\n",
    "    scatter.remove()\n",
    "\n",
    "    scatter = ax.scatter(Z[0, :], Z[1, :])\n",
    "    if i % 50 == 0:\n",
    "        img_path = f'./plots/image_sequences/exp_newlinflownoadjust/lin_flow_step{i}.jpg'\n",
    "        plt.savefig(img_path)\n",
    "        images.append(imageio.imread(img_path))\n",
    "        print(f'step {i}')\n",
    "\n",
    "print('Saving gif...')\n",
    "# set the name for the next saved gif\n",
    "imageio.mimsave(f'plots/gifs/gif_newlinflownoadjust.gif', images)\n",
    "print('Done!')\n"
   ]
  },
  {
   "cell_type": "code",
   "execution_count": 106,
   "metadata": {},
   "outputs": [
    {
     "data": {
      "image/png": "[encoded data removed]",
      "text/plain": [
       "<Figure size 432x288 with 1 Axes>"
      ]
     },
     "metadata": {
      "needs_background": "light"
     },
     "output_type": "display_data"
    }
   ],
   "source": [
    "\n",
    "fig = plt.figure()\n",
    "ax = plt.axes()\n",
    "ax.scatter(Z[0,:],Z[1,:])\n",
    "plt.show()"
   ]
  },
  {
   "cell_type": "code",
   "execution_count": 114,
   "metadata": {},
   "outputs": [
    {
     "name": "stdout",
     "output_type": "stream",
     "text": [
      "Done!\n"
     ]
    }
   ],
   "source": [
    "imageio.mimsave(f'plots/gifs/gif_newlinflow.gif', images)\n",
    "print('Done!')"
   ]
  },
  {
   "cell_type": "code",
   "execution_count": 172,
   "metadata": {},
   "outputs": [
    {
     "name": "stdout",
     "output_type": "stream",
     "text": [
      "Downloading http://yann.lecun.com/exdb/mnist/train-images-idx3-ubyte.gz\n",
      "Downloading http://yann.lecun.com/exdb/mnist/train-images-idx3-ubyte.gz to .\\michael-tests-data\\MNIST\\raw\\train-images-idx3-ubyte.gz\n"
     ]
    },
    {
     "name": "stderr",
     "output_type": "stream",
     "text": [
      "9913344it [00:00, 25835164.26it/s]                             \n"
     ]
    },
    {
     "name": "stdout",
     "output_type": "stream",
     "text": [
      "Extracting .\\michael-tests-data\\MNIST\\raw\\train-images-idx3-ubyte.gz to .\\michael-tests-data\\MNIST\\raw\n",
      "\n",
      "Downloading http://yann.lecun.com/exdb/mnist/train-labels-idx1-ubyte.gz\n",
      "Downloading http://yann.lecun.com/exdb/mnist/train-labels-idx1-ubyte.gz to .\\michael-tests-data\\MNIST\\raw\\train-labels-idx1-ubyte.gz\n"
     ]
    },
    {
     "name": "stderr",
     "output_type": "stream",
     "text": [
      "29696it [00:00, 29487228.12it/s]         "
     ]
    },
    {
     "name": "stdout",
     "output_type": "stream",
     "text": [
      "Extracting .\\michael-tests-data\\MNIST\\raw\\train-labels-idx1-ubyte.gz to .\\michael-tests-data\\MNIST\\raw\n",
      "\n",
      "Downloading http://yann.lecun.com/exdb/mnist/t10k-images-idx3-ubyte.gz\n"
     ]
    },
    {
     "name": "stderr",
     "output_type": "stream",
     "text": [
      "\n"
     ]
    },
    {
     "name": "stdout",
     "output_type": "stream",
     "text": [
      "Downloading http://yann.lecun.com/exdb/mnist/t10k-images-idx3-ubyte.gz to .\\michael-tests-data\\MNIST\\raw\\t10k-images-idx3-ubyte.gz\n"
     ]
    },
    {
     "name": "stderr",
     "output_type": "stream",
     "text": [
      "1649664it [00:00, 14096548.82it/s]                             \n"
     ]
    },
    {
     "name": "stdout",
     "output_type": "stream",
     "text": [
      "Extracting .\\michael-tests-data\\MNIST\\raw\\t10k-images-idx3-ubyte.gz to .\\michael-tests-data\\MNIST\\raw\n",
      "\n",
      "Downloading http://yann.lecun.com/exdb/mnist/t10k-labels-idx1-ubyte.gz\n",
      "Downloading http://yann.lecun.com/exdb/mnist/t10k-labels-idx1-ubyte.gz to .\\michael-tests-data\\MNIST\\raw\\t10k-labels-idx1-ubyte.gz\n"
     ]
    },
    {
     "name": "stderr",
     "output_type": "stream",
     "text": [
      "5120it [00:00, 5125259.30it/s]          \n"
     ]
    },
    {
     "name": "stdout",
     "output_type": "stream",
     "text": [
      "Extracting .\\michael-tests-data\\MNIST\\raw\\t10k-labels-idx1-ubyte.gz to .\\michael-tests-data\\MNIST\\raw\n",
      "\n"
     ]
    }
   ],
   "source": [
    "# load MNIST\n",
    "transform = transforms.Compose(\n",
    "    [transforms.Resize(32),\n",
    "     transforms.ToTensor(),\n",
    "     transforms.Normalize(0.5, 0.5)])\n",
    "dataset = datasets.MNIST(root='.\\michael-tests-data', train=True,\n",
    "                         download=True, transform=transform)\n"
   ]
  },
  {
   "cell_type": "code",
   "execution_count": 188,
   "metadata": {},
   "outputs": [],
   "source": [
    "data_loader = torch.utils.data.DataLoader(dataset, batch_size=60000)\n",
    "data,labels = next(iter(data_loader))\n",
    "data = data.cuda()"
   ]
  },
  {
   "cell_type": "code",
   "execution_count": 189,
   "metadata": {},
   "outputs": [],
   "source": [
    "torch.set_default_tensor_type('torch.cuda.FloatTensor')"
   ]
  },
  {
   "cell_type": "code",
   "execution_count": 260,
   "metadata": {},
   "outputs": [],
   "source": [
    "Z = data[labels==2]\n",
    "Z = Z.reshape((32,32,5958))\n",
    "Z = Z.reshape((32**2,5958))\n",
    "\n",
    "d = Z.shape[0]\n",
    "n = Z.shape[1]\n",
    "\n",
    "u, s, vt = torch.svd(Z)\n",
    "# mean-center\n",
    "Z = Z - Z.mean(axis=1,keepdims=True)\n",
    "# global normalization\n",
    "Z = Z * n / torch.sqrt(Z.pow(2).sum())\n",
    "\n",
    "A = torch.eye(32**2)\n",
    "\n"
   ]
  },
  {
   "cell_type": "code",
   "execution_count": 259,
   "metadata": {},
   "outputs": [],
   "source": [
    "# given observations of manifold Z in R^(d\\times n), compute the next step\n",
    "# of linearization flow\n",
    "def linflow_step_torch(Z,A,eps2,gamma):\n",
    "\td = Z.shape[0]\n",
    "\tn = Z.shape[1]\n",
    "\n",
    "\t# STEP 1: compute gradient\n",
    "\talpha = d/(n*eps2)\n",
    "\tg = torch.linalg.inv(torch.eye(d) + alpha*Z@Z.t())@Z\n",
    "\tg_A = torch.linalg.inv(torch.eye(d) + alpha*Z@Z.t())\n",
    "\n",
    "\t# STEP 2: project gradient to normal directions\n",
    "\t# this step currently makes HUGE assumptions\n",
    "\n",
    "\t# approximated tangent space. Here, we assume that\n",
    "\t# Z is ordered along a 1D curve\n",
    "\t# V = np.roll(Z, 1, axis=1) - np.roll(Z, -1, axis=1)\n",
    "\t# # correct at endpoints\n",
    "\t# V[0,:] = Z[1,:] - Z[0,:]\n",
    "\t# V[-1,:] = Z[-1,:] - Z[-2,:]\n",
    "\n",
    "\t# # normalize tangent vectors\n",
    "\t# V = V / np.sqrt(np.sum(np.power(V,2), axis=0, keepdims=True))\n",
    "\n",
    "\t# # inner products between data points and tangent vectors\n",
    "\t# innerGV = np.diag(g.T@V).reshape((1,n))\n",
    "\n",
    "\t# # project gradient directions to normal bundle (normal spaces)\n",
    "\t# g = g - innerGV * V\n",
    "\n",
    "\t# STEP 3: projected gradient descent\n",
    "\n",
    "\n",
    "\tZnew = Z - gamma*g\n",
    "\t# mean center not needed, since linear operations\n",
    "\t# preserve mean-center\n",
    "\t# Znew = Znew - Znew.mean(axis=1,keepdims=True)\n",
    "\t# global normalization\n",
    "\tnormalize = n / torch.sqrt(Znew.pow(2).sum())\n",
    "\tZnew = Znew * normalize\n",
    "\n",
    "\tAnew = normalize*(torch.eye(d) - gamma*g_A)@A\n",
    "\n",
    "\treturn Znew, Anew"
   ]
  },
  {
   "cell_type": "code",
   "execution_count": 261,
   "metadata": {},
   "outputs": [
    {
     "name": "stdout",
     "output_type": "stream",
     "text": [
      "step 0\n",
      "step 100\n",
      "step 200\n",
      "step 300\n",
      "step 400\n",
      "step 500\n",
      "step 600\n",
      "step 700\n",
      "step 800\n",
      "step 900\n",
      "step 1000\n",
      "step 1100\n",
      "step 1200\n",
      "step 1300\n",
      "step 1400\n",
      "step 1500\n",
      "step 1600\n",
      "step 1700\n",
      "step 1800\n",
      "step 1900\n",
      "step 2000\n",
      "step 2100\n",
      "step 2200\n",
      "step 2300\n",
      "step 2400\n",
      "step 2500\n",
      "step 2600\n",
      "step 2700\n",
      "step 2800\n",
      "step 2900\n",
      "step 3000\n",
      "step 3100\n",
      "step 3200\n",
      "step 3300\n",
      "step 3400\n",
      "step 3500\n",
      "step 3600\n",
      "step 3700\n",
      "step 3800\n",
      "step 3900\n",
      "step 4000\n",
      "step 4100\n",
      "step 4200\n",
      "step 4300\n",
      "step 4400\n",
      "step 4500\n",
      "step 4600\n",
      "step 4700\n",
      "step 4800\n",
      "step 4900\n",
      "step 5000\n",
      "step 5100\n",
      "step 5200\n",
      "step 5300\n",
      "step 5400\n",
      "step 5500\n",
      "step 5600\n",
      "step 5700\n",
      "step 5800\n",
      "step 5900\n"
     ]
    },
    {
     "ename": "KeyboardInterrupt",
     "evalue": "",
     "output_type": "error",
     "traceback": [
      "\u001b[1;31m---------------------------------------------------------------------------\u001b[0m",
      "\u001b[1;31mKeyboardInterrupt\u001b[0m                         Traceback (most recent call last)",
      "\u001b[1;32m~\\AppData\\Local\\Temp/ipykernel_23432/1620866330.py\u001b[0m in \u001b[0;36m<module>\u001b[1;34m\u001b[0m\n\u001b[0;32m      9\u001b[0m \u001b[1;33m\u001b[0m\u001b[0m\n\u001b[0;32m     10\u001b[0m \u001b[1;32mfor\u001b[0m \u001b[0mi\u001b[0m \u001b[1;32min\u001b[0m \u001b[0mrange\u001b[0m\u001b[1;33m(\u001b[0m\u001b[1;36m10000\u001b[0m\u001b[1;33m)\u001b[0m\u001b[1;33m:\u001b[0m\u001b[1;33m\u001b[0m\u001b[1;33m\u001b[0m\u001b[0m\n\u001b[1;32m---> 11\u001b[1;33m         \u001b[0mZ\u001b[0m\u001b[1;33m,\u001b[0m \u001b[0mA\u001b[0m \u001b[1;33m=\u001b[0m \u001b[0mlinflow_step_torch\u001b[0m\u001b[1;33m(\u001b[0m\u001b[0mZ\u001b[0m\u001b[1;33m,\u001b[0m \u001b[0mA\u001b[0m\u001b[1;33m,\u001b[0m \u001b[0meps2\u001b[0m\u001b[1;33m,\u001b[0m \u001b[0mgamma\u001b[0m\u001b[1;33m)\u001b[0m\u001b[1;33m\u001b[0m\u001b[1;33m\u001b[0m\u001b[0m\n\u001b[0m\u001b[0;32m     12\u001b[0m         \u001b[0mZ\u001b[0m \u001b[1;33m=\u001b[0m \u001b[0mZ\u001b[0m\u001b[1;33m.\u001b[0m\u001b[0mdetach\u001b[0m\u001b[1;33m(\u001b[0m\u001b[1;33m)\u001b[0m\u001b[1;33m\u001b[0m\u001b[1;33m\u001b[0m\u001b[0m\n\u001b[0;32m     13\u001b[0m         \u001b[1;32mif\u001b[0m \u001b[0mi\u001b[0m\u001b[1;33m%\u001b[0m\u001b[1;36m100\u001b[0m \u001b[1;33m==\u001b[0m \u001b[1;36m0\u001b[0m\u001b[1;33m:\u001b[0m\u001b[1;33m\u001b[0m\u001b[1;33m\u001b[0m\u001b[0m\n",
      "\u001b[1;32m~\\AppData\\Local\\Temp/ipykernel_23432/191917474.py\u001b[0m in \u001b[0;36mlinflow_step_torch\u001b[1;34m(Z, A, eps2, gamma)\u001b[0m\n\u001b[0;32m      8\u001b[0m         \u001b[0malpha\u001b[0m \u001b[1;33m=\u001b[0m \u001b[0md\u001b[0m\u001b[1;33m/\u001b[0m\u001b[1;33m(\u001b[0m\u001b[0mn\u001b[0m\u001b[1;33m*\u001b[0m\u001b[0meps2\u001b[0m\u001b[1;33m)\u001b[0m\u001b[1;33m\u001b[0m\u001b[1;33m\u001b[0m\u001b[0m\n\u001b[0;32m      9\u001b[0m         \u001b[0mg\u001b[0m \u001b[1;33m=\u001b[0m \u001b[0mtorch\u001b[0m\u001b[1;33m.\u001b[0m\u001b[0mlinalg\u001b[0m\u001b[1;33m.\u001b[0m\u001b[0minv\u001b[0m\u001b[1;33m(\u001b[0m\u001b[0mtorch\u001b[0m\u001b[1;33m.\u001b[0m\u001b[0meye\u001b[0m\u001b[1;33m(\u001b[0m\u001b[0md\u001b[0m\u001b[1;33m)\u001b[0m \u001b[1;33m+\u001b[0m \u001b[0malpha\u001b[0m\u001b[1;33m*\u001b[0m\u001b[0mZ\u001b[0m\u001b[1;33m@\u001b[0m\u001b[0mZ\u001b[0m\u001b[1;33m.\u001b[0m\u001b[0mt\u001b[0m\u001b[1;33m(\u001b[0m\u001b[1;33m)\u001b[0m\u001b[1;33m)\u001b[0m\u001b[1;33m@\u001b[0m\u001b[0mZ\u001b[0m\u001b[1;33m\u001b[0m\u001b[1;33m\u001b[0m\u001b[0m\n\u001b[1;32m---> 10\u001b[1;33m         \u001b[0mg_A\u001b[0m \u001b[1;33m=\u001b[0m \u001b[0mtorch\u001b[0m\u001b[1;33m.\u001b[0m\u001b[0mlinalg\u001b[0m\u001b[1;33m.\u001b[0m\u001b[0minv\u001b[0m\u001b[1;33m(\u001b[0m\u001b[0mtorch\u001b[0m\u001b[1;33m.\u001b[0m\u001b[0meye\u001b[0m\u001b[1;33m(\u001b[0m\u001b[0md\u001b[0m\u001b[1;33m)\u001b[0m \u001b[1;33m+\u001b[0m \u001b[0malpha\u001b[0m\u001b[1;33m*\u001b[0m\u001b[0mZ\u001b[0m\u001b[1;33m@\u001b[0m\u001b[0mZ\u001b[0m\u001b[1;33m.\u001b[0m\u001b[0mt\u001b[0m\u001b[1;33m(\u001b[0m\u001b[1;33m)\u001b[0m\u001b[1;33m)\u001b[0m\u001b[1;33m\u001b[0m\u001b[1;33m\u001b[0m\u001b[0m\n\u001b[0m\u001b[0;32m     11\u001b[0m \u001b[1;33m\u001b[0m\u001b[0m\n\u001b[0;32m     12\u001b[0m         \u001b[1;31m# STEP 2: project gradient to normal directions\u001b[0m\u001b[1;33m\u001b[0m\u001b[1;33m\u001b[0m\u001b[0m\n",
      "\u001b[1;31mKeyboardInterrupt\u001b[0m: "
     ]
    }
   ],
   "source": [
    "# calculate minimum distance squared\n",
    "# gram = Z.t()@Z\n",
    "# gram_diag = torch.diag(torch.diag(gram))\n",
    "# EDM = torch.ones(gram.shape)@gram_diag + gram_diag@torch.ones(gram.shape) - 2*gram\n",
    "# min_dist_2 = (EDM[EDM > 0]).min()\n",
    "\n",
    "eps2 = min_dist_2*2\n",
    "gamma = 0.1\n",
    "\n",
    "for i in range(4000):\n",
    "\tZ, A = linflow_step_torch(Z, A, eps2, gamma)\n",
    "\tZ = Z.detach()\n",
    "\tif i%100 == 0:\n",
    "\t\tprint(f'step {i}')\n",
    "\n",
    "u,s,vt = torch.linalg.svd(Z)\n",
    "print(len(s[s>1e-6]))"
   ]
  },
  {
   "cell_type": "code",
   "execution_count": 262,
   "metadata": {},
   "outputs": [
    {
     "name": "stdout",
     "output_type": "stream",
     "text": [
      "tensor([1735.3969,  443.0468,  441.0703,  ...,    6.5820,    6.5253,\n",
      "           6.4038])\n"
     ]
    }
   ],
   "source": [
    "print(s)"
   ]
  },
  {
   "cell_type": "code",
   "execution_count": 265,
   "metadata": {},
   "outputs": [
    {
     "name": "stdout",
     "output_type": "stream",
     "text": [
      "tensor(33923.2891)\n"
     ]
    }
   ],
   "source": [
    "gram = Z.t()@Z\n",
    "gram_diag = torch.diag(torch.diag(gram))\n",
    "EDM = torch.ones(gram.shape)@gram_diag + gram_diag@torch.ones(gram.shape) - 2*gram\n",
    "print((EDM[EDM > 0]).max())"
   ]
  },
  {
   "cell_type": "code",
   "execution_count": 268,
   "metadata": {},
   "outputs": [
    {
     "name": "stdout",
     "output_type": "stream",
     "text": [
      "tensor([[-1.3185e-04, -1.3566e-04, -1.1778e-04,  ..., -1.0133e-04,\n",
      "         -8.6784e-05, -6.9380e-05],\n",
      "        [-2.2531e-05, -2.7120e-06,  1.7643e-05,  ...,  3.0279e-05,\n",
      "          4.9949e-05,  7.0810e-05],\n",
      "        [ 8.5115e-05,  1.0395e-04,  1.0514e-04,  ...,  1.0014e-04,\n",
      "          1.0300e-04,  1.0371e-04],\n",
      "        ...,\n",
      "        [ 1.2946e-04,  1.4210e-04,  1.3041e-04,  ...,  1.1516e-04,\n",
      "          1.0681e-04,  1.0133e-04],\n",
      "        [ 6.1750e-05,  4.9114e-05,  2.9445e-05,  ...,  1.2875e-05,\n",
      "         -8.2180e-06, -2.7597e-05],\n",
      "        [-2.8968e-05, -4.4465e-05, -5.1141e-05,  ..., -5.5909e-05,\n",
      "         -6.4015e-05, -7.0572e-05]])\n"
     ]
    }
   ],
   "source": [
    "Z_0 = data[labels==2]\n",
    "Z_0 = Z_0.reshape((32,32,5958))\n",
    "Z_0 = Z_0.reshape((32**2,5958))\n",
    "\n",
    "d = Z_0.shape[0]\n",
    "n = Z_0.shape[1]\n",
    "\n",
    "# mean-center\n",
    "Z_0 = Z_0 - Z_0.mean(axis=1,keepdims=True)\n",
    "# global normalization\n",
    "Z_0 = Z_0 * n / torch.sqrt(Z_0.pow(2).sum())\n",
    "\n",
    "print(A@Z_0 - Z)"
   ]
  },
  {
   "cell_type": "code",
   "execution_count": 281,
   "metadata": {},
   "outputs": [
    {
     "data": {
      "text/plain": [
       "<matplotlib.collections.PathCollection at 0x24e8994fdc0>"
      ]
     },
     "execution_count": 281,
     "metadata": {},
     "output_type": "execute_result"
    },
    {
     "data": {
      "image/png": "[encoded data removed]",
      "text/plain": [
       "<Figure size 432x288 with 1 Axes>"
      ]
     },
     "metadata": {
      "needs_background": "light"
     },
     "output_type": "display_data"
    }
   ],
   "source": [
    "Z = np.zeros((2,50))\n",
    "for i in range(50):\n",
    "\tx = (-0.5 + (i+1)/50)*2*np.pi\n",
    "\tZ[0,i] = x\n",
    "\tZ[1,i] = 10*np.sin(x)\n",
    "\n",
    "plt.scatter(Z[0,:], Z[1,:])"
   ]
  },
  {
   "cell_type": "code",
   "execution_count": 282,
   "metadata": {},
   "outputs": [
    {
     "name": "stdout",
     "output_type": "stream",
     "text": [
      "[[-0.20067747 -0.97965737]\n",
      " [-0.97965737  0.20067747]]\n",
      "[51.01262054  7.89541305]\n"
     ]
    }
   ],
   "source": [
    "u, s, vt = np.linalg.svd(Z)\n",
    "print(u)\n",
    "print(s)"
   ]
  },
  {
   "cell_type": "code",
   "execution_count": 278,
   "metadata": {},
   "outputs": [
    {
     "data": {
      "text/plain": [
       "<matplotlib.collections.PathCollection at 0x24e87ca16d0>"
      ]
     },
     "execution_count": 278,
     "metadata": {},
     "output_type": "execute_result"
    },
    {
     "data": {
      "image/png": "[encoded data removed]",
      "text/plain": [
       "<Figure size 432x288 with 1 Axes>"
      ]
     },
     "metadata": {
      "needs_background": "light"
     },
     "output_type": "display_data"
    }
   ],
   "source": [
    "u_col = u[:,0].reshape((2,1))\n",
    "W = u_col@u_col.T@Z\n",
    "plt.scatter(W[0,:], W[1,:])"
   ]
  },
  {
   "cell_type": "markdown",
   "metadata": {},
   "source": [
    "# Testing EDM-based PCA"
   ]
  },
  {
   "cell_type": "code",
   "execution_count": 124,
   "metadata": {},
   "outputs": [],
   "source": [
    "class EDM_PCA(nn.Module):\n",
    "\n",
    "    def __init__(self, X, u_0):\n",
    "        super(EDM_PCA, self).__init__();\n",
    "        # data\n",
    "        self.X = X\n",
    "        # projection vec\n",
    "        self.u = nn.Parameter(u_0)\n",
    "\n",
    "    def forward(self):\n",
    "\n",
    "        d = X.shape[0]\n",
    "        n = X.shape[1]\n",
    "\n",
    "        U = self.u@self.u.t()\n",
    "        # want to maximize the negative of this func\n",
    "        return -((torch.eye(d) - U)@self.X).pow(2).sum() - (1/n)*torch.ones((1,n))@self.X.t()@U@self.X@torch.ones((n,1))"
   ]
  },
  {
   "cell_type": "code",
   "execution_count": 252,
   "metadata": {},
   "outputs": [
    {
     "data": {
      "text/plain": [
       "<matplotlib.collections.PathCollection at 0x1f62a06de20>"
      ]
     },
     "execution_count": 252,
     "metadata": {},
     "output_type": "execute_result"
    },
    {
     "data": {
      "image/png": "[encoded data removed]",
      "text/plain": [
       "<Figure size 432x288 with 1 Axes>"
      ]
     },
     "metadata": {
      "needs_background": "light"
     },
     "output_type": "display_data"
    }
   ],
   "source": [
    "d = 2\n",
    "n = 30\n",
    "scale = 10\n",
    "\n",
    "Z = np.zeros((d,n))\n",
    "for i in range(n):\n",
    "\tx = (-0.5 + (i+1)/n)*2*np.pi\n",
    "\tZ[0,i] = x\n",
    "\tZ[1,i] = scale*np.sin(x)\n",
    "\n",
    "Z = Z - Z.mean(axis=1,keepdims=True)\n",
    "Z = n/np.linalg.norm(Z,'fro')*Z\n",
    "\n",
    "plt.scatter(Z[0,:], Z[1,:])\n",
    "plt.scatter(Z[0,8], Z[1,8],col)\n",
    "plt.scatter(Z[0,21], Z[1,21])\n",
    "\n",
    "\n",
    "# A = np.eye(d)\n",
    "# A[0,0] = 2\n",
    "# Z = np.random.randn(d,n)\n",
    "# Z = A@Z\n"
   ]
  },
  {
   "cell_type": "code",
   "execution_count": 135,
   "metadata": {},
   "outputs": [
    {
     "name": "stdout",
     "output_type": "stream",
     "text": [
      "g step 0: 1441.732421875\n",
      "g step 100: 195.523681640625\n",
      "g step 200: 8.893322944641113\n",
      "g step 300: 0.4031272828578949\n",
      "g step 400: 0.018336255103349686\n",
      "g step 500: 0.0009728703880682588\n",
      "g step 600: 0.0007176921353675425\n",
      "g step 700: 0.0007176921353675425\n",
      "g step 800: 0.0007176921353675425\n",
      "g step 900: 0.0007176921353675425\n",
      "g step 1000: 0.0007176921353675425\n",
      "g step 1100: 0.0007176921353675425\n",
      "g step 1200: 0.0007176921353675425\n",
      "g step 1300: 0.0007176921353675425\n",
      "g step 1400: 0.0007176921353675425\n",
      "g step 1500: 0.0007176921353675425\n",
      "g step 1600: 0.0007176921353675425\n",
      "g step 1700: 0.0007176921353675425\n",
      "g step 1800: 0.0007176921353675425\n",
      "g step 1900: 0.0007176921353675425\n",
      "g step 2000: 0.0007176921353675425\n",
      "g step 2100: 0.0007176921353675425\n",
      "g step 2200: 0.0007176921353675425\n",
      "g step 2300: 0.0007176921353675425\n",
      "g step 2400: 0.0007176921353675425\n",
      "g step 2500: 0.0007176921353675425\n",
      "g step 2600: 0.0007176921353675425\n",
      "g step 2700: 0.0007176921353675425\n",
      "g step 2800: 0.0007176921353675425\n",
      "g step 2900: 0.0007176921353675425\n",
      "g step 3000: 0.0007176921353675425\n",
      "g step 3100: 0.0007176921353675425\n",
      "g step 3200: 0.0007176921353675425\n",
      "g step 3300: 0.0007176921353675425\n",
      "g step 3400: 0.0007176921353675425\n",
      "g step 3500: 0.0007176921353675425\n",
      "g step 3600: 0.0007176921353675425\n",
      "g step 3700: 0.0007176921353675425\n",
      "g step 3800: 0.0007176921353675425\n",
      "g step 3900: 0.0007176921353675425\n",
      "g step 4000: 0.0007176921353675425\n",
      "g step 4100: 0.0007176921353675425\n",
      "g step 4200: 0.0007176921353675425\n",
      "g step 4300: 0.0007176921353675425\n",
      "g step 4400: 0.0007176921353675425\n",
      "g step 4500: 0.0007176921353675425\n",
      "g step 4600: 0.0007176921353675425\n",
      "g step 4700: 0.0007176921353675425\n",
      "g step 4800: 0.0007176921353675425\n",
      "g step 4900: 0.0007176921353675425\n",
      "g step 5000: 0.0007176921353675425\n",
      "g step 5100: 0.0007176921353675425\n",
      "g step 5200: 0.0007176921353675425\n",
      "g step 5300: 0.0007176921353675425\n",
      "g step 5400: 0.0007176921353675425\n",
      "g step 5500: 0.0007176921353675425\n",
      "g step 5600: 0.0007176921353675425\n",
      "g step 5700: 0.0007176921353675425\n",
      "g step 5800: 0.0007176921353675425\n",
      "g step 5900: 0.0007176921353675425\n",
      "g step 6000: 0.0007176921353675425\n",
      "g step 6100: 0.0007176921353675425\n",
      "g step 6200: 0.0007176921353675425\n",
      "g step 6300: 0.0007176921353675425\n",
      "g step 6400: 0.0007176921353675425\n",
      "g step 6500: 0.0007176921353675425\n",
      "g step 6600: 0.0007176921353675425\n",
      "g step 6700: 0.0007176921353675425\n",
      "g step 6800: 0.0007176921353675425\n",
      "g step 6900: 0.0007176921353675425\n",
      "g step 7000: 0.0007176921353675425\n",
      "g step 7100: 0.0007176921353675425\n",
      "g step 7200: 0.0007176921353675425\n",
      "g step 7300: 0.0007176921353675425\n",
      "g step 7400: 0.0007176921353675425\n",
      "g step 7500: 0.0007176921353675425\n",
      "g step 7600: 0.0007176921353675425\n",
      "g step 7700: 0.0007176921353675425\n",
      "g step 7800: 0.0007176921353675425\n",
      "g step 7900: 0.0007176921353675425\n",
      "g step 8000: 0.0007176921353675425\n",
      "g step 8100: 0.0007176921353675425\n",
      "g step 8200: 0.0007176921353675425\n",
      "g step 8300: 0.0007176921353675425\n",
      "g step 8400: 0.0007176921353675425\n",
      "g step 8500: 0.0007176921353675425\n",
      "g step 8600: 0.0007176921353675425\n",
      "g step 8700: 0.0007176921353675425\n",
      "g step 8800: 0.0007176921353675425\n",
      "g step 8900: 0.0007176921353675425\n",
      "g step 9000: 0.0007176921353675425\n",
      "g step 9100: 0.0007176921353675425\n",
      "g step 9200: 0.0007176921353675425\n",
      "g step 9300: 0.0007176921353675425\n",
      "g step 9400: 0.0007176921353675425\n",
      "g step 9500: 0.0007176921353675425\n",
      "g step 9600: 0.0007176921353675425\n",
      "g step 9700: 0.0007176921353675425\n",
      "g step 9800: 0.0007176921353675425\n",
      "g step 9900: 0.0007176921353675425\n",
      "done!\n"
     ]
    }
   ],
   "source": [
    "u_0 = torch.randn((d,1))\n",
    "u_0 = u_0 / torch.sqrt(u_0.pow(2).sum())\n",
    "X = torch.Tensor(Z)\n",
    "\n",
    "edm_pca = EDM_PCA(X, u_0)\n",
    "opt = optim.SGD(edm_pca.parameters(), lr=0.00001)\n",
    "\n",
    "for i in range(10000):\n",
    "\tedm_pca.zero_grad()\n",
    "\t# forward call of LinFlow\n",
    "\tloss = edm_pca()\n",
    "\n",
    "\tloss.backward()\n",
    "\t# GD step\n",
    "\topt.step()\n",
    "\t# renormalization step\n",
    "\twith torch.no_grad():\n",
    "\t\tedm_pca.u.data = edm_pca.u.data / torch.sqrt((edm_pca.u.data).pow(2).sum());\n",
    "\n",
    "\tif i%100 == 0:\n",
    "\t\tprint(f'g step {i}: {torch.linalg.norm(edm_pca.u.grad)}')\n",
    "\n",
    "print('done!')"
   ]
  },
  {
   "cell_type": "code",
   "execution_count": 136,
   "metadata": {},
   "outputs": [
    {
     "name": "stdout",
     "output_type": "stream",
     "text": [
      "tensor([[ 0.9797],\n",
      "        [-0.2002]])\n"
     ]
    }
   ],
   "source": [
    "print(edm_pca.u.data)"
   ]
  },
  {
   "cell_type": "code",
   "execution_count": 329,
   "metadata": {},
   "outputs": [],
   "source": [
    "edm0 = np.zeros((n,n))\n",
    "for i in range(n):\n",
    "\tfor j in range(n):\n",
    "\t\tedm0[i,j] = np.power(np.linalg.norm(Z[:,i] - Z[:,j]),2)\n",
    "\n",
    "\n",
    "u, s, vt = np.linalg.svd(Z)\n",
    "# print(u)\n",
    "# print(s)\n",
    "\n",
    "u_1 = u[:,1].reshape((2,1))\n",
    "\n",
    "Z_proj = Z - u_1@u_1.T@Z\n",
    "Z_proj = n/np.linalg.norm(Z_proj,'fro')*Z_proj\n",
    "\n",
    "edm = np.zeros((n,n))\n",
    "edm_sum = 0\n",
    "for i in range(n):\n",
    "\tfor j in range(n):\n",
    "\t\tif i != j:\n",
    "\t\t\tedm[i,j] = np.power(np.linalg.norm(Z_proj[:,i] - Z_proj[:,j]),2) / edm0[i,j]\n",
    "\n",
    "# u_2 = np.random.randn(2,1)\n",
    "# u_2 = u_2 / np.sqrt(np.sum(np.power(u_2,2)))\n",
    "u_2 = np.zeros((2,1))\n",
    "u_2[1] = 1\n",
    "\n",
    "Z_proj = Z - u_2@u_2.T@Z\n",
    "Z_proj = n/np.linalg.norm(Z_proj,'fro')*Z_proj\n",
    "edm2 = np.zeros((n,n))\n",
    "edm_sum2 = 0\n",
    "for i in range(n):\n",
    "\tfor j in range(n):\n",
    "\t\tif i != j:\n",
    "\t\t\tedm2[i,j] = np.power(np.linalg.norm(Z_proj[:,i] - Z_proj[:,j]),2)/ edm0[i,j]\n"
   ]
  },
  {
   "cell_type": "code",
   "execution_count": 278,
   "metadata": {},
   "outputs": [
    {
     "name": "stdout",
     "output_type": "stream",
     "text": [
      "710.6449321233534\n",
      "16061.723613590344\n"
     ]
    }
   ],
   "source": [
    "\n",
    "print(np.sum(np.power(edm,2)))\n",
    "print(np.sum(np.power(edm2,2)))"
   ]
  },
  {
   "cell_type": "code",
   "execution_count": 257,
   "metadata": {},
   "outputs": [
    {
     "data": {
      "text/plain": [
       "(8, 21)"
      ]
     },
     "execution_count": 257,
     "metadata": {},
     "output_type": "execute_result"
    }
   ],
   "source": [
    "np.unravel_index(261,(n,n))"
   ]
  },
  {
   "cell_type": "code",
   "execution_count": 256,
   "metadata": {},
   "outputs": [
    {
     "name": "stdout",
     "output_type": "stream",
     "text": [
      "29\n",
      "261\n"
     ]
    }
   ],
   "source": [
    "print(np.argmax(edm0 - edm))\n",
    "print(np.argmax(edm0 - edm2))"
   ]
  },
  {
   "cell_type": "code",
   "execution_count": 251,
   "metadata": {},
   "outputs": [
    {
     "data": {
      "text/plain": [
       "<matplotlib.collections.PathCollection at 0x1f62a009610>"
      ]
     },
     "execution_count": 251,
     "metadata": {},
     "output_type": "execute_result"
    },
    {
     "data": {
      "image/png": "[encoded data removed]",
      "text/plain": [
       "<Figure size 432x288 with 1 Axes>"
      ]
     },
     "metadata": {
      "needs_background": "light"
     },
     "output_type": "display_data"
    }
   ],
   "source": [
    "\n",
    "plt.scatter(Z_proj[0,:], Z_proj[1,:])"
   ]
  },
  {
   "cell_type": "code",
   "execution_count": 112,
   "metadata": {},
   "outputs": [],
   "source": [
    "X = torch.randn(10,100)"
   ]
  },
  {
   "cell_type": "code",
   "execution_count": 117,
   "metadata": {},
   "outputs": [
    {
     "name": "stdout",
     "output_type": "stream",
     "text": [
      "tensor([[86.1021]])\n"
     ]
    }
   ],
   "source": [
    "u = torch.randn(10,1)\n",
    "u = u / torch.sqrt(u.pow(2).sum())\n",
    "print(torch.ones((1,100))@X.t()@u@u.t()@X@torch.ones((100,1)))"
   ]
  },
  {
   "cell_type": "code",
   "execution_count": 372,
   "metadata": {},
   "outputs": [],
   "source": [
    "def energy_func(Z, u):\n",
    "    # Z_proj = Z - u@u.T@Z\n",
    "    # Z_proj = n/np.linalg.norm(Z_proj,'fro')*Z_proj\n",
    "    # return np.inner((Z_proj.T@Z_proj).flatten(), (gamma_s - gamma).flatten())\n",
    "\n",
    "    U_stacked = np.ones(Z.shape)*u\n",
    "    A = (Z.T @ U_stacked - U_stacked.T @ Z)*gamma\n",
    "    # return np.sum(np.power(np.abs(A),2))\n",
    "    return np.max(np.abs(A))\n",
    "\n",
    "for i in range(100000):\n",
    "\n",
    "    gram = Z.T@Z\n",
    "    edm = np.diag(gram).reshape((n,1))@np.ones((1,n)) \\\n",
    "                + np.ones((n,1))@np.diag(gram).reshape((1,n)) \\\n",
    "                - 2*gram\n",
    "\n",
    "    gamma = np.divide(1,np.eye(n) + edm)\n",
    "\n",
    "    # u, s, vt = np.linalg.svd(Z)\n",
    "    # u_1 = u[:,1].reshape((2,1))\n",
    "    u_1 = np.random.randn(2,1)\n",
    "    u_1 = u_1 / np.linalg.norm(u_1)\n",
    "\n",
    "    edm_sum = energy_func(Z, u_1)\n",
    "    u_2 = np.zeros((2,1))\n",
    "    u_2[1] = 1\n",
    "\n",
    "    edm_sum2 = energy_func(Z, u_2)\n",
    "    if edm_sum2 > edm_sum:\n",
    "        print(f'not min! iter {i}, proposed min value: {edm_sum2}')\n",
    "        print(f'discovered max: {edm_sum}')\n",
    "        print(f'vec: {u_1}')"
   ]
  },
  {
   "cell_type": "code",
   "execution_count": 351,
   "metadata": {},
   "outputs": [
    {
     "name": "stdout",
     "output_type": "stream",
     "text": [
      "[[1. 1.]\n",
      " [1. 1.]]\n",
      "[[0.88850222]\n",
      " [0.16673973]]\n",
      "[[0.88850222 0.88850222]\n",
      " [0.16673973 0.16673973]]\n"
     ]
    }
   ],
   "source": [
    "a = np.ones((2,2))\n",
    "b = np.random.randn(2,1)\n",
    "print(a)\n",
    "print(b)\n",
    "print(a*b)"
   ]
  },
  {
   "cell_type": "code",
   "execution_count": 356,
   "metadata": {},
   "outputs": [
    {
     "name": "stdout",
     "output_type": "stream",
     "text": [
      "[[ 0.00000000e+00  1.02412859e+00  1.96790769e+00  2.79557174e+00\n",
      "   3.47642996e+00  3.98620769e+00  4.30810732e+00  4.43354240e+00\n",
      "   4.36251293e+00  4.10360536e+00  3.67361731e+00  3.09682342e+00\n",
      "   2.40391448e+00  1.63065605e+00  8.16325342e-01  1.99463535e-03\n",
      "  -7.71263797e-01 -1.46417274e+00 -2.04096662e+00 -2.47095468e+00\n",
      "  -2.72986225e+00 -2.80089171e+00 -2.67545663e+00 -2.35355701e+00\n",
      "  -1.84377927e+00 -1.16292106e+00 -3.35257010e-01  6.08522091e-01\n",
      "   1.63265068e+00  2.69785155e+00]\n",
      " [-1.02412859e+00  0.00000000e+00  9.43779101e-01  1.77144315e+00\n",
      "   2.45230136e+00  2.96207910e+00  3.28397872e+00  3.40941381e+00\n",
      "   3.33838434e+00  3.07947677e+00  2.64948871e+00  2.07269483e+00\n",
      "   1.37978589e+00  6.06527455e-01 -2.07803252e-01 -1.02213396e+00\n",
      "  -1.79539239e+00 -2.48830133e+00 -3.06509522e+00 -3.49508327e+00\n",
      "  -3.75399084e+00 -3.82502031e+00 -3.69958523e+00 -3.37768560e+00\n",
      "  -2.86790787e+00 -2.18704965e+00 -1.35938560e+00 -4.15606503e-01\n",
      "   6.08522091e-01  1.67372296e+00]\n",
      " [-1.96790769e+00 -9.43779101e-01  0.00000000e+00  8.27664047e-01\n",
      "   1.50852226e+00  2.01830000e+00  2.34019962e+00  2.46563470e+00\n",
      "   2.39460524e+00  2.13569767e+00  1.70570961e+00  1.12891573e+00\n",
      "   4.36006787e-01 -3.37251645e-01 -1.15158235e+00 -1.96591306e+00\n",
      "  -2.73917149e+00 -3.43208043e+00 -4.00887432e+00 -4.43886237e+00\n",
      "  -4.69776994e+00 -4.76879941e+00 -4.64336433e+00 -4.32146470e+00\n",
      "  -3.81168697e+00 -3.13082875e+00 -2.30316470e+00 -1.35938560e+00\n",
      "  -3.35257010e-01  7.29943858e-01]\n",
      " [-2.79557174e+00 -1.77144315e+00 -8.27664047e-01  0.00000000e+00\n",
      "   6.80858217e-01  1.19063595e+00  1.51253558e+00  1.63797066e+00\n",
      "   1.56694119e+00  1.30803362e+00  8.78045565e-01  3.01251680e-01\n",
      "  -3.91657260e-01 -1.16491569e+00 -1.97924640e+00 -2.79357711e+00\n",
      "  -3.56683554e+00 -4.25974448e+00 -4.83653836e+00 -5.26652642e+00\n",
      "  -5.52543399e+00 -5.59646346e+00 -5.47102838e+00 -5.14912875e+00\n",
      "  -4.63935102e+00 -3.95849280e+00 -3.13082875e+00 -2.18704965e+00\n",
      "  -1.16292106e+00 -9.77201883e-02]\n",
      " [-3.47642996e+00 -2.45230136e+00 -1.50852226e+00 -6.80858217e-01\n",
      "   0.00000000e+00  5.09777732e-01  8.31677360e-01  9.57112440e-01\n",
      "   8.86082974e-01  6.27175404e-01  1.97187348e-01 -3.79606538e-01\n",
      "  -1.07251548e+00 -1.84577391e+00 -2.66010462e+00 -3.47443532e+00\n",
      "  -4.24769376e+00 -4.94060270e+00 -5.51739658e+00 -5.94738464e+00\n",
      "  -6.20629221e+00 -6.27732167e+00 -6.15188659e+00 -5.82998696e+00\n",
      "  -5.32020923e+00 -4.63935102e+00 -3.81168697e+00 -2.86790787e+00\n",
      "  -1.84377927e+00 -7.78578406e-01]\n",
      " [-3.98620769e+00 -2.96207910e+00 -2.01830000e+00 -1.19063595e+00\n",
      "  -5.09777732e-01  0.00000000e+00  3.21899628e-01  4.47334709e-01\n",
      "   3.76305242e-01  1.17397672e-01 -3.12590384e-01 -8.89384269e-01\n",
      "  -1.58229321e+00 -2.35555164e+00 -3.16988235e+00 -3.98421306e+00\n",
      "  -4.75747149e+00 -5.45038043e+00 -6.02717431e+00 -6.45716237e+00\n",
      "  -6.71606994e+00 -6.78709941e+00 -6.66166432e+00 -6.33976470e+00\n",
      "  -5.82998696e+00 -5.14912875e+00 -4.32146470e+00 -3.37768560e+00\n",
      "  -2.35355701e+00 -1.28835614e+00]\n",
      " [-4.30810732e+00 -3.28397872e+00 -2.34019962e+00 -1.51253558e+00\n",
      "  -8.31677360e-01 -3.21899628e-01  0.00000000e+00  1.25435081e-01\n",
      "   5.44056142e-02 -2.04501956e-01 -6.34490012e-01 -1.21128390e+00\n",
      "  -1.90419284e+00 -2.67745127e+00 -3.49178198e+00 -4.30611268e+00\n",
      "  -5.07937112e+00 -5.77228006e+00 -6.34907394e+00 -6.77906200e+00\n",
      "  -7.03796957e+00 -7.10899903e+00 -6.98356395e+00 -6.66166432e+00\n",
      "  -6.15188659e+00 -5.47102838e+00 -4.64336433e+00 -3.69958523e+00\n",
      "  -2.67545663e+00 -1.61025577e+00]\n",
      " [-4.43354240e+00 -3.40941381e+00 -2.46563470e+00 -1.63797066e+00\n",
      "  -9.57112440e-01 -4.47334709e-01 -1.25435081e-01  0.00000000e+00\n",
      "  -7.10294665e-02 -3.29937037e-01 -7.59925093e-01 -1.33671898e+00\n",
      "  -2.02962792e+00 -2.80288635e+00 -3.61721706e+00 -4.43154776e+00\n",
      "  -5.20480620e+00 -5.89771514e+00 -6.47450902e+00 -6.90449708e+00\n",
      "  -7.16340465e+00 -7.23443411e+00 -7.10899903e+00 -6.78709941e+00\n",
      "  -6.27732167e+00 -5.59646346e+00 -4.76879941e+00 -3.82502031e+00\n",
      "  -2.80089171e+00 -1.73569085e+00]\n",
      " [-4.36251293e+00 -3.33838434e+00 -2.39460524e+00 -1.56694119e+00\n",
      "  -8.86082974e-01 -3.76305242e-01 -5.44056142e-02  7.10294665e-02\n",
      "   0.00000000e+00 -2.58907570e-01 -6.88895626e-01 -1.26568951e+00\n",
      "  -1.95859845e+00 -2.73185688e+00 -3.54618759e+00 -4.36051830e+00\n",
      "  -5.13377673e+00 -5.82668567e+00 -6.40347955e+00 -6.83346761e+00\n",
      "  -7.09237518e+00 -7.16340465e+00 -7.03796957e+00 -6.71606994e+00\n",
      "  -6.20629221e+00 -5.52543399e+00 -4.69776994e+00 -3.75399084e+00\n",
      "  -2.72986225e+00 -1.66466138e+00]\n",
      " [-4.10360536e+00 -3.07947677e+00 -2.13569767e+00 -1.30803362e+00\n",
      "  -6.27175404e-01 -1.17397672e-01  2.04501956e-01  3.29937037e-01\n",
      "   2.58907570e-01  0.00000000e+00 -4.29988056e-01 -1.00678194e+00\n",
      "  -1.69969088e+00 -2.47294931e+00 -3.28728002e+00 -4.10161073e+00\n",
      "  -4.87486916e+00 -5.56777810e+00 -6.14457198e+00 -6.57456004e+00\n",
      "  -6.83346761e+00 -6.90449708e+00 -6.77906200e+00 -6.45716237e+00\n",
      "  -5.94738464e+00 -5.26652642e+00 -4.43886237e+00 -3.49508327e+00\n",
      "  -2.47095468e+00 -1.40575381e+00]\n",
      " [-3.67361731e+00 -2.64948871e+00 -1.70570961e+00 -8.78045565e-01\n",
      "  -1.97187348e-01  3.12590384e-01  6.34490012e-01  7.59925093e-01\n",
      "   6.88895626e-01  4.29988056e-01  0.00000000e+00 -5.76793885e-01\n",
      "  -1.26970282e+00 -2.04296126e+00 -2.85729196e+00 -3.67162267e+00\n",
      "  -4.44488110e+00 -5.13779004e+00 -5.71458393e+00 -6.14457198e+00\n",
      "  -6.40347955e+00 -6.47450902e+00 -6.34907394e+00 -6.02717431e+00\n",
      "  -5.51739658e+00 -4.83653836e+00 -4.00887432e+00 -3.06509522e+00\n",
      "  -2.04096662e+00 -9.75765753e-01]\n",
      " [-3.09682342e+00 -2.07269483e+00 -1.12891573e+00 -3.01251680e-01\n",
      "   3.79606538e-01  8.89384269e-01  1.21128390e+00  1.33671898e+00\n",
      "   1.26568951e+00  1.00678194e+00  5.76793885e-01  0.00000000e+00\n",
      "  -6.92908939e-01 -1.46616737e+00 -2.28049808e+00 -3.09482879e+00\n",
      "  -3.86808722e+00 -4.56099616e+00 -5.13779004e+00 -5.56777810e+00\n",
      "  -5.82668567e+00 -5.89771514e+00 -5.77228006e+00 -5.45038043e+00\n",
      "  -4.94060270e+00 -4.25974448e+00 -3.43208043e+00 -2.48830133e+00\n",
      "  -1.46417274e+00 -3.98971868e-01]\n",
      " [-2.40391448e+00 -1.37978589e+00 -4.36006787e-01  3.91657260e-01\n",
      "   1.07251548e+00  1.58229321e+00  1.90419284e+00  2.02962792e+00\n",
      "   1.95859845e+00  1.69969088e+00  1.26970282e+00  6.92908939e-01\n",
      "   0.00000000e+00 -7.73258433e-01 -1.58758914e+00 -2.40191985e+00\n",
      "  -3.17517828e+00 -3.86808722e+00 -4.44488110e+00 -4.87486916e+00\n",
      "  -5.13377673e+00 -5.20480620e+00 -5.07937112e+00 -4.75747149e+00\n",
      "  -4.24769376e+00 -3.56683554e+00 -2.73917149e+00 -1.79539239e+00\n",
      "  -7.71263797e-01  2.93937071e-01]\n",
      " [-1.63065605e+00 -6.06527455e-01  3.37251645e-01  1.16491569e+00\n",
      "   1.84577391e+00  2.35555164e+00  2.67745127e+00  2.80288635e+00\n",
      "   2.73185688e+00  2.47294931e+00  2.04296126e+00  1.46616737e+00\n",
      "   7.73258433e-01  0.00000000e+00 -8.14330707e-01 -1.62866141e+00\n",
      "  -2.40191985e+00 -3.09482879e+00 -3.67162267e+00 -4.10161073e+00\n",
      "  -4.36051830e+00 -4.43154776e+00 -4.30611268e+00 -3.98421306e+00\n",
      "  -3.47443532e+00 -2.79357711e+00 -1.96591306e+00 -1.02213396e+00\n",
      "   1.99463535e-03  1.06719550e+00]\n",
      " [-8.16325342e-01  2.07803252e-01  1.15158235e+00  1.97924640e+00\n",
      "   2.66010462e+00  3.16988235e+00  3.49178198e+00  3.61721706e+00\n",
      "   3.54618759e+00  3.28728002e+00  2.85729196e+00  2.28049808e+00\n",
      "   1.58758914e+00  8.14330707e-01  0.00000000e+00 -8.14330707e-01\n",
      "  -1.58758914e+00 -2.28049808e+00 -2.85729196e+00 -3.28728002e+00\n",
      "  -3.54618759e+00 -3.61721706e+00 -3.49178198e+00 -3.16988235e+00\n",
      "  -2.66010462e+00 -1.97924640e+00 -1.15158235e+00 -2.07803252e-01\n",
      "   8.16325342e-01  1.88152621e+00]\n",
      " [-1.99463535e-03  1.02213396e+00  1.96591306e+00  2.79357711e+00\n",
      "   3.47443532e+00  3.98421306e+00  4.30611268e+00  4.43154776e+00\n",
      "   4.36051830e+00  4.10161073e+00  3.67162267e+00  3.09482879e+00\n",
      "   2.40191985e+00  1.62866141e+00  8.14330707e-01  0.00000000e+00\n",
      "  -7.73258433e-01 -1.46616737e+00 -2.04296126e+00 -2.47294931e+00\n",
      "  -2.73185688e+00 -2.80288635e+00 -2.67745127e+00 -2.35555164e+00\n",
      "  -1.84577391e+00 -1.16491569e+00 -3.37251645e-01  6.06527455e-01\n",
      "   1.63065605e+00  2.69585692e+00]\n",
      " [ 7.71263797e-01  1.79539239e+00  2.73917149e+00  3.56683554e+00\n",
      "   4.24769376e+00  4.75747149e+00  5.07937112e+00  5.20480620e+00\n",
      "   5.13377673e+00  4.87486916e+00  4.44488110e+00  3.86808722e+00\n",
      "   3.17517828e+00  2.40191985e+00  1.58758914e+00  7.73258433e-01\n",
      "   0.00000000e+00 -6.92908939e-01 -1.26970282e+00 -1.69969088e+00\n",
      "  -1.95859845e+00 -2.02962792e+00 -1.90419284e+00 -1.58229321e+00\n",
      "  -1.07251548e+00 -3.91657260e-01  4.36006787e-01  1.37978589e+00\n",
      "   2.40391448e+00  3.46911535e+00]\n",
      " [ 1.46417274e+00  2.48830133e+00  3.43208043e+00  4.25974448e+00\n",
      "   4.94060270e+00  5.45038043e+00  5.77228006e+00  5.89771514e+00\n",
      "   5.82668567e+00  5.56777810e+00  5.13779004e+00  4.56099616e+00\n",
      "   3.86808722e+00  3.09482879e+00  2.28049808e+00  1.46616737e+00\n",
      "   6.92908939e-01  0.00000000e+00 -5.76793885e-01 -1.00678194e+00\n",
      "  -1.26568951e+00 -1.33671898e+00 -1.21128390e+00 -8.89384269e-01\n",
      "  -3.79606538e-01  3.01251680e-01  1.12891573e+00  2.07269483e+00\n",
      "   3.09682342e+00  4.16202429e+00]\n",
      " [ 2.04096662e+00  3.06509522e+00  4.00887432e+00  4.83653836e+00\n",
      "   5.51739658e+00  6.02717431e+00  6.34907394e+00  6.47450902e+00\n",
      "   6.40347955e+00  6.14457198e+00  5.71458393e+00  5.13779004e+00\n",
      "   4.44488110e+00  3.67162267e+00  2.85729196e+00  2.04296126e+00\n",
      "   1.26970282e+00  5.76793885e-01  0.00000000e+00 -4.29988056e-01\n",
      "  -6.88895626e-01 -7.59925093e-01 -6.34490012e-01 -3.12590384e-01\n",
      "   1.97187348e-01  8.78045565e-01  1.70570961e+00  2.64948871e+00\n",
      "   3.67361731e+00  4.73881818e+00]\n",
      " [ 2.47095468e+00  3.49508327e+00  4.43886237e+00  5.26652642e+00\n",
      "   5.94738464e+00  6.45716237e+00  6.77906200e+00  6.90449708e+00\n",
      "   6.83346761e+00  6.57456004e+00  6.14457198e+00  5.56777810e+00\n",
      "   4.87486916e+00  4.10161073e+00  3.28728002e+00  2.47294931e+00\n",
      "   1.69969088e+00  1.00678194e+00  4.29988056e-01  0.00000000e+00\n",
      "  -2.58907570e-01 -3.29937037e-01 -2.04501956e-01  1.17397672e-01\n",
      "   6.27175404e-01  1.30803362e+00  2.13569767e+00  3.07947677e+00\n",
      "   4.10360536e+00  5.16880623e+00]\n",
      " [ 2.72986225e+00  3.75399084e+00  4.69776994e+00  5.52543399e+00\n",
      "   6.20629221e+00  6.71606994e+00  7.03796957e+00  7.16340465e+00\n",
      "   7.09237518e+00  6.83346761e+00  6.40347955e+00  5.82668567e+00\n",
      "   5.13377673e+00  4.36051830e+00  3.54618759e+00  2.73185688e+00\n",
      "   1.95859845e+00  1.26568951e+00  6.88895626e-01  2.58907570e-01\n",
      "   0.00000000e+00 -7.10294665e-02  5.44056142e-02  3.76305242e-01\n",
      "   8.86082974e-01  1.56694119e+00  2.39460524e+00  3.33838434e+00\n",
      "   4.36251293e+00  5.42771380e+00]\n",
      " [ 2.80089171e+00  3.82502031e+00  4.76879941e+00  5.59646346e+00\n",
      "   6.27732167e+00  6.78709941e+00  7.10899903e+00  7.23443411e+00\n",
      "   7.16340465e+00  6.90449708e+00  6.47450902e+00  5.89771514e+00\n",
      "   5.20480620e+00  4.43154776e+00  3.61721706e+00  2.80288635e+00\n",
      "   2.02962792e+00  1.33671898e+00  7.59925093e-01  3.29937037e-01\n",
      "   7.10294665e-02  0.00000000e+00  1.25435081e-01  4.47334709e-01\n",
      "   9.57112440e-01  1.63797066e+00  2.46563470e+00  3.40941381e+00\n",
      "   4.43354240e+00  5.49874327e+00]\n",
      " [ 2.67545663e+00  3.69958523e+00  4.64336433e+00  5.47102838e+00\n",
      "   6.15188659e+00  6.66166432e+00  6.98356395e+00  7.10899903e+00\n",
      "   7.03796957e+00  6.77906200e+00  6.34907394e+00  5.77228006e+00\n",
      "   5.07937112e+00  4.30611268e+00  3.49178198e+00  2.67745127e+00\n",
      "   1.90419284e+00  1.21128390e+00  6.34490012e-01  2.04501956e-01\n",
      "  -5.44056142e-02 -1.25435081e-01  0.00000000e+00  3.21899628e-01\n",
      "   8.31677360e-01  1.51253558e+00  2.34019962e+00  3.28397872e+00\n",
      "   4.30810732e+00  5.37330819e+00]\n",
      " [ 2.35355701e+00  3.37768560e+00  4.32146470e+00  5.14912875e+00\n",
      "   5.82998696e+00  6.33976470e+00  6.66166432e+00  6.78709941e+00\n",
      "   6.71606994e+00  6.45716237e+00  6.02717431e+00  5.45038043e+00\n",
      "   4.75747149e+00  3.98421306e+00  3.16988235e+00  2.35555164e+00\n",
      "   1.58229321e+00  8.89384269e-01  3.12590384e-01 -1.17397672e-01\n",
      "  -3.76305242e-01 -4.47334709e-01 -3.21899628e-01  0.00000000e+00\n",
      "   5.09777732e-01  1.19063595e+00  2.01830000e+00  2.96207910e+00\n",
      "   3.98620769e+00  5.05140856e+00]\n",
      " [ 1.84377927e+00  2.86790787e+00  3.81168697e+00  4.63935102e+00\n",
      "   5.32020923e+00  5.82998696e+00  6.15188659e+00  6.27732167e+00\n",
      "   6.20629221e+00  5.94738464e+00  5.51739658e+00  4.94060270e+00\n",
      "   4.24769376e+00  3.47443532e+00  2.66010462e+00  1.84577391e+00\n",
      "   1.07251548e+00  3.79606538e-01 -1.97187348e-01 -6.27175404e-01\n",
      "  -8.86082974e-01 -9.57112440e-01 -8.31677360e-01 -5.09777732e-01\n",
      "   0.00000000e+00  6.80858217e-01  1.50852226e+00  2.45230136e+00\n",
      "   3.47642996e+00  4.54163083e+00]\n",
      " [ 1.16292106e+00  2.18704965e+00  3.13082875e+00  3.95849280e+00\n",
      "   4.63935102e+00  5.14912875e+00  5.47102838e+00  5.59646346e+00\n",
      "   5.52543399e+00  5.26652642e+00  4.83653836e+00  4.25974448e+00\n",
      "   3.56683554e+00  2.79357711e+00  1.97924640e+00  1.16491569e+00\n",
      "   3.91657260e-01 -3.01251680e-01 -8.78045565e-01 -1.30803362e+00\n",
      "  -1.56694119e+00 -1.63797066e+00 -1.51253558e+00 -1.19063595e+00\n",
      "  -6.80858217e-01  0.00000000e+00  8.27664047e-01  1.77144315e+00\n",
      "   2.79557174e+00  3.86077261e+00]\n",
      " [ 3.35257010e-01  1.35938560e+00  2.30316470e+00  3.13082875e+00\n",
      "   3.81168697e+00  4.32146470e+00  4.64336433e+00  4.76879941e+00\n",
      "   4.69776994e+00  4.43886237e+00  4.00887432e+00  3.43208043e+00\n",
      "   2.73917149e+00  1.96591306e+00  1.15158235e+00  3.37251645e-01\n",
      "  -4.36006787e-01 -1.12891573e+00 -1.70570961e+00 -2.13569767e+00\n",
      "  -2.39460524e+00 -2.46563470e+00 -2.34019962e+00 -2.01830000e+00\n",
      "  -1.50852226e+00 -8.27664047e-01  0.00000000e+00  9.43779101e-01\n",
      "   1.96790769e+00  3.03310856e+00]\n",
      " [-6.08522091e-01  4.15606503e-01  1.35938560e+00  2.18704965e+00\n",
      "   2.86790787e+00  3.37768560e+00  3.69958523e+00  3.82502031e+00\n",
      "   3.75399084e+00  3.49508327e+00  3.06509522e+00  2.48830133e+00\n",
      "   1.79539239e+00  1.02213396e+00  2.07803252e-01 -6.06527455e-01\n",
      "  -1.37978589e+00 -2.07269483e+00 -2.64948871e+00 -3.07947677e+00\n",
      "  -3.33838434e+00 -3.40941381e+00 -3.28397872e+00 -2.96207910e+00\n",
      "  -2.45230136e+00 -1.77144315e+00 -9.43779101e-01  0.00000000e+00\n",
      "   1.02412859e+00  2.08932946e+00]\n",
      " [-1.63265068e+00 -6.08522091e-01  3.35257010e-01  1.16292106e+00\n",
      "   1.84377927e+00  2.35355701e+00  2.67545663e+00  2.80089171e+00\n",
      "   2.72986225e+00  2.47095468e+00  2.04096662e+00  1.46417274e+00\n",
      "   7.71263797e-01 -1.99463535e-03 -8.16325342e-01 -1.63065605e+00\n",
      "  -2.40391448e+00 -3.09682342e+00 -3.67361731e+00 -4.10360536e+00\n",
      "  -4.36251293e+00 -4.43354240e+00 -4.30810732e+00 -3.98620769e+00\n",
      "  -3.47642996e+00 -2.79557174e+00 -1.96790769e+00 -1.02412859e+00\n",
      "   0.00000000e+00  1.06520087e+00]\n",
      " [-2.69785155e+00 -1.67372296e+00 -7.29943858e-01  9.77201883e-02\n",
      "   7.78578406e-01  1.28835614e+00  1.61025577e+00  1.73569085e+00\n",
      "   1.66466138e+00  1.40575381e+00  9.75765753e-01  3.98971868e-01\n",
      "  -2.93937071e-01 -1.06719550e+00 -1.88152621e+00 -2.69585692e+00\n",
      "  -3.46911535e+00 -4.16202429e+00 -4.73881818e+00 -5.16880623e+00\n",
      "  -5.42771380e+00 -5.49874327e+00 -5.37330819e+00 -5.05140856e+00\n",
      "  -4.54163083e+00 -3.86077261e+00 -3.03310856e+00 -2.08932946e+00\n",
      "  -1.06520087e+00  0.00000000e+00]]\n"
     ]
    }
   ],
   "source": [
    "U_stacked = np.ones(Z.shape)*u_1\n",
    "A = Z.T @ U_stacked - U_stacked.T @ Z\n",
    "print(A)\n",
    "# A2 = np.zeros((n,n))\n",
    "# for i in range(n):\n",
    "# \tA2[i,j]"
   ]
  },
  {
   "cell_type": "code",
   "execution_count": null,
   "metadata": {},
   "outputs": [],
   "source": []
  }
 ],
 "metadata": {
  "interpreter": {
   "hash": "3eff91a1c904f9589a2b1aff7f48dd7def9580d372020cc7689687e78e90f328"
  },
  "kernelspec": {
   "display_name": "Python 3.8.10 64-bit (windows store)",
   "name": "python3"
  },
  "language_info": {
   "codemirror_mode": {
    "name": "ipython",
    "version": 3
   },
   "file_extension": ".py",
   "mimetype": "text/x-python",
   "name": "python",
   "nbconvert_exporter": "python",
   "pygments_lexer": "ipython3",
   "version": "3.9.10"
  }
 },
 "nbformat": 4,
 "nbformat_minor": 2
}
