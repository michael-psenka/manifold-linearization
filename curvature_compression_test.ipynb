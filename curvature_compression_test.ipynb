{
 "cells": [
  {
   "cell_type": "markdown",
   "metadata": {},
   "source": [
    "# Curvature Compression: Baseline Tests\n",
    "\n",
    "In this notebook, we give a guided tour on the advantage of curvature compression for choosing a linear model for manifold data"
   ]
  },
  {
   "cell_type": "code",
   "execution_count": null,
   "metadata": {},
   "outputs": [],
   "source": []
  },
  {
   "cell_type": "code",
   "execution_count": 1,
   "metadata": {
    "tags": []
   },
   "outputs": [],
   "source": [
    "# %matplotlib widget\n",
    "import matplotlib.pyplot as plt\n",
    "from mpl_toolkits import mplot3d\n",
    "# import geoopt\n",
    "import torch\n",
    "# import itertools\n",
    "import torch.nn as nn\n",
    "import torch.optim as optim\n",
    "import torch.nn.functional as F\n",
    "import numpy as np\n",
    "import tqdm\n",
    "\n",
    "import scipy.io as spio\n",
    "# import open3d as o3d\n",
    "import networkx\n",
    "import imageio\n",
    "import os\n",
    "import re\n",
    "\n",
    "import torchvision.datasets as datasets\n",
    "import torchvision.transforms as transforms\n",
    "\n",
    "# import open3d as o3d"
   ]
  },
  {
   "cell_type": "markdown",
   "metadata": {},
   "source": [
    "# Generate manifold data"
   ]
  },
  {
   "cell_type": "code",
   "execution_count": 141,
   "metadata": {},
   "outputs": [
    {
     "data": {
      "text/plain": [
       "<matplotlib.collections.PathCollection at 0x174dbb75790>"
      ]
     },
     "execution_count": 141,
     "metadata": {},
     "output_type": "execute_result"
    },
    {
     "data": {
      "image/png": "[encoded data removed]",
      "text/plain": [
       "<Figure size 432x288 with 1 Axes>"
      ]
     },
     "metadata": {
      "needs_background": "light"
     },
     "output_type": "display_data"
    }
   ],
   "source": [
    "# dimension of data\n",
    "d = 2\n",
    "# number of samples\n",
    "n = 25\n",
    "# variance of noise\n",
    "eps2 = 0\n",
    "# determine if we should randomly rotate\n",
    "rotate=False\n",
    "\n",
    "\n",
    "# 2D manifold in 4D space\n",
    "\n",
    "# sqrt_n = 25\n",
    "# n = sqrt_n**2\n",
    "\n",
    "# Z = np.zeros((d,n))\n",
    "# for i in range(sqrt_n):\n",
    "# \tfor j in range(sqrt_n):\n",
    "# \t\tx = (-0.5 + (i+1)/sqrt_n)*2*np.pi\n",
    "# \t\ty = (-0.5 + (j+1)/sqrt_n)*2*np.pi\n",
    "# \t\tZ[0,j + sqrt_n*i] = x\n",
    "# \t\tZ[1,j + sqrt_n*i] = y\n",
    "# \t\tZ[2,j + sqrt_n*i] = np.sin(4*x)\n",
    "# \t\tZ[3,j + sqrt_n*i] = np.sin(7*y)\n",
    "\n",
    "\n",
    "# # mean center\n",
    "# Z = Z - np.mean(Z,axis=1,keepdims=True)\n",
    "# # global normalization\n",
    "# Z = Z * n / np.sqrt(np.sum(np.power(Z, 2)))\n",
    "\n",
    "# plt.scatter(Z[0,:], Z[1,:])\n",
    "scale=2\n",
    "Z = np.zeros((d,n))\n",
    "for i in range(n):\n",
    "\tx = (-0.5 + (i+1)/n)*2*np.pi\n",
    "\tZ[0,i] = x\n",
    "\tZ[1,i] = scale*np.sin(x) + scale/2*np.sin(3*x + 1.5)\n",
    "\n",
    "# add noise\n",
    "Z = Z + eps2*np.random.randn(d, n)\n",
    "\n",
    "\n",
    "# center and scale\n",
    "Z = Z - Z.mean(axis=1,keepdims=True)\n",
    "Z = Z * n / np.linalg.norm(Z, 'fro')\n",
    "\n",
    "# random rotation, preserves centering and scale\n",
    "if rotate:\n",
    "\tA = np.random.randn(d,d)\n",
    "\tu,s,vt = np.linalg.svd(A)\n",
    "\tZ = u@Z\n",
    "\n",
    "plt.scatter(Z[0,:], Z[1,:])"
   ]
  },
  {
   "cell_type": "markdown",
   "metadata": {},
   "source": [
    "# PCA on manifold data\n",
    "\n",
    "Showing the linear component PCA would choose to eliminate. Note it does not give the proper elimination"
   ]
  },
  {
   "cell_type": "code",
   "execution_count": 142,
   "metadata": {},
   "outputs": [
    {
     "name": "stdout",
     "output_type": "stream",
     "text": [
      "[-0.63103479  0.77575453]\n"
     ]
    },
    {
     "data": {
      "image/png": "[encoded data removed]",
      "text/plain": [
       "<Figure size 432x288 with 1 Axes>"
      ]
     },
     "metadata": {
      "needs_background": "light"
     },
     "output_type": "display_data"
    }
   ],
   "source": [
    "u, s, vt = np.linalg.svd(Z)\n",
    "u_min = u[:,1]\n",
    "print(u_min)\n",
    "\n",
    "# scale to look nice on graph\n",
    "u_show = u_min * np.min(np.max(np.abs(Z), axis=1))/2\n",
    "\n",
    "plt.scatter(Z[0,:], Z[1,:])\n",
    "plt.quiver(0, 0, u_show[0], u_show[1],scale_units='xy', angles='xy',scale=1)\n",
    "plt.gca().set_aspect('equal', adjustable='box')\n",
    "plt.show()"
   ]
  },
  {
   "cell_type": "markdown",
   "metadata": {},
   "source": [
    "We would idealy get a vector in the span of $(0,1)$, since all extraneous curvature is in the $y$-direction. As can be seen, the direction of least variance does not necessarily correspond to the best direction to compress curvature."
   ]
  },
  {
   "cell_type": "markdown",
   "metadata": {},
   "source": [
    "# Curvature compression on manifold data\n",
    "\n",
    "We now test our new proposed method, curvature compression. The function we theoretically want to optimize for is the following:\n",
    "\n",
    "$$v_* = \\argmin_{\\|v\\|_2 = 1} \\max_{x, y \\in Z \\mid x \\ne y} |\\langle v, \\frac{x-y}{\\|x-y\\|_2}\\rangle|$$\n",
    "$$= \\argmin_{\\|v\\|_2 = 1} \\|\\langle v, \\frac{x-y}{\\|x-y\\|_2}\\rangle\\|_\\infty. $$\n",
    "\n",
    "However, since the $L^\\infty$ norm is hard to directly optimize, we settle for a smooth surrogate norm: the $L^4$-norm."
   ]
  },
  {
   "cell_type": "code",
   "execution_count": 146,
   "metadata": {},
   "outputs": [],
   "source": [
    "# PyTorch model to optimize our custom loss\n",
    "class CurvatureElimination(nn.Module):\n",
    "\n",
    "    def __init__(self, X, u_0):\n",
    "        super(CurvatureElimination, self).__init__();\n",
    "        # data\n",
    "        self.X = X\n",
    "        # construct edm and gamma weight matrix\n",
    "        gram = X.T@X\n",
    "        edm = torch.diag(gram).reshape((n,1))@torch.ones((1,n)) \\\n",
    "                + torch.ones((n,1))@torch.diag(gram).reshape((1,n)) \\\n",
    "                - 2*gram\n",
    "\n",
    "        # diagonal weights don't matter, set to 1 as convention\n",
    "        self.gamma = torch.divide(torch.Tensor([1]),torch.eye(n) + edm)\n",
    "        # projection vec\n",
    "        self.u = nn.Parameter(u_0)\n",
    "\n",
    "    def forward(self):\n",
    "        U_stacked = torch.ones(self.X.shape)*self.u\n",
    "        A = (self.X.T @ U_stacked - U_stacked.T @ self.X)*self.gamma\n",
    "        return 0.5*A.pow(4).sum()"
   ]
  },
  {
   "cell_type": "code",
   "execution_count": 155,
   "metadata": {},
   "outputs": [
    {
     "name": "stdout",
     "output_type": "stream",
     "text": [
      "g step 0: 22.1259765625\n",
      "g step 100: 15.4981050491333\n",
      "g step 200: 11.87358283996582\n",
      "g step 300: 8.929813385009766\n",
      "g step 400: 6.253429889678955\n",
      "g step 500: 4.05678653717041\n",
      "g step 600: 2.480539083480835\n",
      "g step 700: 1.4585487842559814\n",
      "g step 800: 0.8374172449111938\n",
      "g step 900: 0.4741568863391876\n",
      "g step 1000: 0.26635727286338806\n",
      "g step 1100: 0.14896006882190704\n",
      "g step 1200: 0.08308668434619904\n",
      "g step 1300: 0.046294793486595154\n",
      "g step 1400: 0.02575899101793766\n",
      "g step 1500: 0.014335391111671925\n",
      "g step 1600: 0.007966628298163414\n",
      "g step 1700: 0.00443057669326663\n",
      "g step 1800: 0.0024690553545951843\n",
      "g step 1900: 0.0013696736423298717\n",
      "g step 2000: 0.0007629187311977148\n",
      "g step 2100: 0.00041631245403550565\n",
      "g step 2200: 0.00023809772392269224\n",
      "g step 2300: 0.000115051785542164\n",
      "g step 2400: 6.438935088226572e-05\n",
      "converged in 2436 steps!\n",
      "done!\n"
     ]
    }
   ],
   "source": [
    "# optimize via projected gradient descent\n",
    "\n",
    "u_0 = torch.randn((d,1))\n",
    "u_0 = u_0 / torch.sqrt(u_0.pow(2).sum())\n",
    "X = torch.Tensor(Z)\n",
    "\n",
    "cc = CurvatureElimination(X, u_0)\n",
    "opt = optim.SGD(cc.parameters(), lr=0.0001)\n",
    "\n",
    "for i in range(10000):\n",
    "\tcc.zero_grad()\n",
    "\t# forward call of LinFlow\n",
    "\tloss = cc()\n",
    "\n",
    "\tloss.backward()\n",
    "\n",
    "\t# compute Riemannian gradient\n",
    "\tegrad = cc.u.grad.detach()\n",
    "\tbase = cc.u.data.detach()\n",
    "\tbase = base / torch.sqrt(base.pow(2).sum())\n",
    "\trgrad = egrad - base@base.t()@egrad\n",
    "\t# GD step\n",
    "\topt.step()\n",
    "\t# renormalization step\n",
    "\twith torch.no_grad():\n",
    "\t\tcc.u.data = cc.u.data / torch.sqrt((cc.u.data).pow(2).sum());\n",
    "\n",
    "\t# determine if we have converged\n",
    "\tgradnorm = torch.linalg.norm(rgrad)\n",
    "\tif gradnorm < 5e-5:\n",
    "\t\tprint(f'converged in {i} steps!')\n",
    "\t\tbreak\n",
    "\tif i%100 == 0:\n",
    "\t\tprint(f'g step {i}: {gradnorm}')\n",
    "\n",
    "print('done!')"
   ]
  },
  {
   "cell_type": "code",
   "execution_count": 156,
   "metadata": {},
   "outputs": [
    {
     "name": "stdout",
     "output_type": "stream",
     "text": [
      "learned compression direction: [[ 0.04941441 -0.99877834]]\n"
     ]
    },
    {
     "data": {
      "image/png": "[encoded data removed]",
      "text/plain": [
       "<Figure size 432x288 with 1 Axes>"
      ]
     },
     "metadata": {
      "needs_background": "light"
     },
     "output_type": "display_data"
    }
   ],
   "source": [
    "# show learned compression direction\n",
    "u_ce = ce.u.data.detach().clone().numpy()\n",
    "\n",
    "print(f'learned compression direction: {u_ce.T}')\n",
    "# scale to look nice on graph\n",
    "u_show = u_ce * np.min(np.max(np.abs(Z), axis=1))/2\n",
    "\n",
    "plt.scatter(Z[0,:], Z[1,:])\n",
    "plt.quiver(0, 0, u_show[0], u_show[1],scale_units='xy', angles='xy',scale=1)\n",
    "plt.gca().set_aspect('equal', adjustable='box')\n",
    "plt.show()"
   ]
  },
  {
   "cell_type": "code",
   "execution_count": null,
   "metadata": {},
   "outputs": [],
   "source": []
  }
 ],
 "metadata": {
  "interpreter": {
   "hash": "3eff91a1c904f9589a2b1aff7f48dd7def9580d372020cc7689687e78e90f328"
  },
  "kernelspec": {
   "display_name": "Python 3.8.10 64-bit (windows store)",
   "name": "python3"
  },
  "language_info": {
   "codemirror_mode": {
    "name": "ipython",
    "version": 3
   },
   "file_extension": ".py",
   "mimetype": "text/x-python",
   "name": "python",
   "nbconvert_exporter": "python",
   "pygments_lexer": "ipython3",
   "version": "3.9.10"
  }
 },
 "nbformat": 4,
 "nbformat_minor": 2
}
