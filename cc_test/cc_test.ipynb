{
 "cells": [
  {
   "cell_type": "markdown",
   "metadata": {},
   "source": [
    "# Curvature Compression: Baseline Tests\n",
    "\n",
    "In this notebook, we give a guided tour on the advantage of curvature compression for choosing a linear model for manifold data"
   ]
  },
  {
   "cell_type": "code",
   "execution_count": null,
   "metadata": {},
   "outputs": [],
   "source": []
  },
  {
   "cell_type": "code",
   "execution_count": 2,
   "metadata": {
    "tags": []
   },
   "outputs": [],
   "source": [
    "# %matplotlib widget\n",
    "import matplotlib.pyplot as plt\n",
    "import numpy as np\n",
    "import torch\n",
    "import torch.nn as nn\n",
    "import torch.optim as optim"
   ]
  },
  {
   "cell_type": "markdown",
   "metadata": {},
   "source": [
    "# Generate manifold data"
   ]
  },
  {
   "cell_type": "code",
   "execution_count": 236,
   "metadata": {},
   "outputs": [
    {
     "data": {
      "text/plain": [
       "<matplotlib.collections.PathCollection at 0x28e8bff96d0>"
      ]
     },
     "execution_count": 236,
     "metadata": {},
     "output_type": "execute_result"
    },
    {
     "data": {
      "image/png": "[encoded data removed]",
      "text/plain": [
       "<Figure size 432x288 with 1 Axes>"
      ]
     },
     "metadata": {
      "needs_background": "light"
     },
     "output_type": "display_data"
    }
   ],
   "source": [
    "# dimension of data\n",
    "d = 2\n",
    "# number of samples\n",
    "n = 25\n",
    "# variance of noise\n",
    "eps2 = 0\n",
    "# determine if we should randomly rotate\n",
    "rotate=False\n",
    "\n",
    "\n",
    "# 2D manifold in 4D space\n",
    "\n",
    "# sqrt_n = 25\n",
    "# n = sqrt_n**2\n",
    "\n",
    "# Z = np.zeros((d,n))\n",
    "# for i in range(sqrt_n):\n",
    "# \tfor j in range(sqrt_n):\n",
    "# \t\tx = (-0.5 + (i+1)/sqrt_n)*2*np.pi\n",
    "# \t\ty = (-0.5 + (j+1)/sqrt_n)*2*np.pi\n",
    "# \t\tZ[0,j + sqrt_n*i] = x\n",
    "# \t\tZ[1,j + sqrt_n*i] = y\n",
    "# \t\tZ[2,j + sqrt_n*i] = np.sin(4*x)\n",
    "# \t\tZ[3,j + sqrt_n*i] = np.sin(7*y)\n",
    "\n",
    "\n",
    "# # mean center\n",
    "# Z = Z - np.mean(Z,axis=1,keepdims=True)\n",
    "# # global normalization\n",
    "# Z = Z * n / np.sqrt(np.sum(np.power(Z, 2)))\n",
    "\n",
    "# plt.scatter(Z[0,:], Z[1,:])\n",
    "scale=2\n",
    "Z = np.zeros((d,n))\n",
    "for i in range(n):\n",
    "\tx = (-0.5 + (i+1)/n)*2*np.pi\n",
    "\tZ[0,i] = x\n",
    "\t# Z[1,i] = scale*np.sin(x)\n",
    "\tZ[1,i] = scale*np.sin(x) + scale/2*np.sin(3*x + 1.5)\n",
    "\n",
    "# add noise\n",
    "Z = Z + eps2*np.random.randn(d, n)\n",
    "\n",
    "\n",
    "# center and scale\n",
    "Z = Z - Z.mean(axis=1,keepdims=True)\n",
    "Z_norm_orig = np.linalg.norm(Z, 'fro')\n",
    "Z = Z * n / Z_norm_orig\n",
    "\n",
    "# random rotation, preserves centering and scale\n",
    "if rotate:\n",
    "\tA = np.random.randn(d,d)\n",
    "\tu,s,vt = np.linalg.svd(A)\n",
    "\tZ = u@Z\n",
    "\n",
    "# Z = Z[:,8:12]\n",
    "plt.scatter(Z[0,:], Z[1,:])"
   ]
  },
  {
   "cell_type": "markdown",
   "metadata": {},
   "source": [
    "# PCA on manifold data\n",
    "\n",
    "Showing the linear component PCA would choose to eliminate. Note it does not give the proper elimination"
   ]
  },
  {
   "cell_type": "code",
   "execution_count": 31,
   "metadata": {},
   "outputs": [
    {
     "name": "stdout",
     "output_type": "stream",
     "text": [
      "[-0.92920682  0.36956013]\n"
     ]
    },
    {
     "data": {
      "image/png": "[encoded data removed]",
      "text/plain": [
       "<Figure size 432x288 with 1 Axes>"
      ]
     },
     "metadata": {
      "needs_background": "light"
     },
     "output_type": "display_data"
    }
   ],
   "source": [
    "u, s, vt = np.linalg.svd(Z)\n",
    "u_min = u[:,1]\n",
    "print(u_min)\n",
    "\n",
    "# scale to look nice on graph\n",
    "u_show = u_min * np.min(np.max(np.abs(Z), axis=1))/2\n",
    "\n",
    "plt.scatter(Z[0,:], Z[1,:])\n",
    "plt.quiver(0, 0, u_show[0], u_show[1],scale_units='xy', angles='xy',scale=1)\n",
    "plt.gca().set_aspect('equal', adjustable='box')\n",
    "plt.show()"
   ]
  },
  {
   "cell_type": "markdown",
   "metadata": {},
   "source": [
    "We would idealy get a vector in the span of $(0,1)$, since all extraneous curvature is in the $y$-direction. As can be seen, the direction of least variance does not necessarily correspond to the best direction to compress curvature."
   ]
  },
  {
   "cell_type": "markdown",
   "metadata": {},
   "source": [
    "# Curvature compression on manifold data\n",
    "\n",
    "We now test our new proposed method, curvature compression. The function we theoretically want to optimize for is the following:\n",
    "\n",
    "$$v_* = \\argmin_{\\|v\\|_2 = 1} \\max_{x, y \\in Z \\mid x \\ne y} |\\langle v, \\frac{x-y}{\\|x-y\\|_2}\\rangle|$$\n",
    "$$= \\argmin_{\\|v\\|_2 = 1} \\|\\langle v, \\frac{x-y}{\\|x-y\\|_2}\\rangle\\|_\\infty. $$\n",
    "\n",
    "However, since the $L^\\infty$ norm is hard to directly optimize, we settle for a smooth surrogate norm: the $L^4$-norm."
   ]
  },
  {
   "cell_type": "code",
   "execution_count": 160,
   "metadata": {},
   "outputs": [],
   "source": [
    "# PyTorch model to optimize our custom loss\n",
    "class CurvatureElimination(nn.Module):\n",
    "\n",
    "    def __init__(self, X, u_0):\n",
    "        super(CurvatureElimination, self).__init__();\n",
    "        # data\n",
    "        self.X = X\n",
    "        # construct edm and gamma weight matrix\n",
    "        gram = X.T@X\n",
    "        edm = torch.diag(gram).reshape((n,1))@torch.ones((1,n)) \\\n",
    "                + torch.ones((n,1))@torch.diag(gram).reshape((1,n)) \\\n",
    "                - 2*gram\n",
    "\n",
    "        # diagonal weights don't matter, set to 1 as convention\n",
    "        self.gamma = torch.divide(torch.Tensor([1]),torch.eye(n) + edm)\n",
    "        # projection vec\n",
    "        self.u = nn.Parameter(u_0)\n",
    "\n",
    "    def forward(self):\n",
    "        U_stacked = torch.ones(self.X.shape)*self.u\n",
    "        A = (self.X.T @ U_stacked - U_stacked.T @ self.X)*self.gamma\n",
    "        return 0.5*A.pow(4).sum()\n",
    "\n",
    "# PyTorch model to optimize our custom loss\n",
    "class CurvatureEliminationPieces(nn.Module):\n",
    "\n",
    "    def __init__(self, X, u_0):\n",
    "        super(CurvatureEliminationPieces, self).__init__();\n",
    "        # data\n",
    "        self.X = X\n",
    "        # construct edm and gamma weight matrix\n",
    "        gram = X.T@X\n",
    "        edm = torch.diag(gram).reshape((n,1))@torch.ones((1,n)) \\\n",
    "                + torch.ones((n,1))@torch.diag(gram).reshape((1,n)) \\\n",
    "                - 2*gram\n",
    "\n",
    "        # diagonal weights don't matter, set to 1 as convention\n",
    "        self.gamma = torch.divide(torch.Tensor([1]),torch.eye(n) + edm)\n",
    "        # projection vec\n",
    "        self.u = nn.Parameter(u_0)\n",
    "        self.u2 = nn.Parameter(u_0)\n",
    "        self.u3 = nn.Parameter(u_0)\n",
    "\n",
    "    def forward(self):\n",
    "        U_stacked = torch.ones(self.X[:,:10].shape)*self.u\n",
    "        A = (self.X[:,:10].T @ U_stacked - U_stacked.T @ self.X[:,:10])*self.gamma[:10,:10]\n",
    "        U_stacked2 = torch.ones(self.X[:,10:17].shape)*self.u2\n",
    "        A2 = (self.X[:,10:17].T @ U_stacked2 - U_stacked2.T @ self.X[:,10:17])*self.gamma[10:17,10:17]\n",
    "        U_stacked3 = torch.ones(self.X[:,17:].shape)*self.u3\n",
    "        A3 = (self.X[:,17:].T @ U_stacked3 - U_stacked3.T @ self.X[:,17:])*self.gamma[17:,17:]\n",
    "        return 0.5*(A.pow(4).sum() + A2.pow(4).sum() + A3.pow(4).sum()) - 10*((self.u.T@self.u2).pow(2) + (self.u2.T@self.u3).pow(2))"
   ]
  },
  {
   "cell_type": "code",
   "execution_count": 161,
   "metadata": {},
   "outputs": [
    {
     "name": "stdout",
     "output_type": "stream",
     "text": [
      "g step 0: 8.187972068786621\n",
      "g step 100: 6.279496301431209e-05\n",
      "g step 200: 1.0929775271506514e-06\n",
      "g step 300: 1.3953089137430652e-06\n",
      "g step 400: 7.221822670544498e-06\n",
      "g step 500: 1.0929775271506514e-06\n",
      "g step 600: 1.3953089137430652e-06\n",
      "g step 700: 7.221822670544498e-06\n",
      "g step 800: 1.0929775271506514e-06\n",
      "g step 900: 1.3953089137430652e-06\n",
      "done!\n"
     ]
    }
   ],
   "source": [
    "# optimize via projected gradient descent\n",
    "\n",
    "u_0 = torch.randn((d,1))\n",
    "u_0 = u_0 / torch.sqrt(u_0.pow(2).sum())\n",
    "X = torch.Tensor(Z)\n",
    "\n",
    "cc = CurvatureEliminationPieces(X, u_0)\n",
    "opt = optim.SGD(cc.parameters(), lr=0.01)\n",
    "\n",
    "for i in range(1000):\n",
    "\tcc.zero_grad()\n",
    "\t# forward call of LinFlow\n",
    "\tloss = cc()\n",
    "\n",
    "\tloss.backward()\n",
    "\n",
    "\t# compute Riemannian gradient\n",
    "\tegrad = cc.u.grad.detach()\n",
    "\tbase = cc.u.data.detach()\n",
    "\tbase = base / torch.sqrt(base.pow(2).sum())\n",
    "\trgrad = egrad - base@base.t()@egrad\n",
    "\t# GD step\n",
    "\topt.step()\n",
    "\t# renormalization step\n",
    "\twith torch.no_grad():\n",
    "\t\tcc.u.data = cc.u.data / torch.sqrt((cc.u.data).pow(2).sum());\n",
    "\t\tcc.u2.data = cc.u2.data / torch.sqrt((cc.u2.data).pow(2).sum());\n",
    "\t\tcc.u3.data = cc.u3.data / torch.sqrt((cc.u3.data).pow(2).sum());\n",
    "\n",
    "\t# determine if we have converged\n",
    "\tgradnorm = torch.linalg.norm(rgrad)\n",
    "\tif gradnorm < 5e-5:\n",
    "\t\t# print(f'converged in {i} steps!')\n",
    "\t\t# break\n",
    "\t\tpass\n",
    "\tif i%100 == 0:\n",
    "\t\tprint(f'g step {i}: {gradnorm}')\n",
    "\n",
    "print('done!')"
   ]
  },
  {
   "cell_type": "code",
   "execution_count": 164,
   "metadata": {},
   "outputs": [
    {
     "name": "stdout",
     "output_type": "stream",
     "text": [
      "learned compression direction: [[ 0.09264855 -0.9956989 ]]\n"
     ]
    },
    {
     "data": {
      "image/png": "[encoded data removed]",
      "text/plain": [
       "<Figure size 432x288 with 1 Axes>"
      ]
     },
     "metadata": {
      "needs_background": "light"
     },
     "output_type": "display_data"
    }
   ],
   "source": [
    "# show learned compression direction\n",
    "u_cc = cc.u.data.detach().clone().numpy()\n",
    "\n",
    "print(f'learned compression direction: {u_cc.T}')\n",
    "# scale to look nice on graph\n",
    "u_show = u_cc * np.min(np.max(np.abs(Z), axis=1))/2\n",
    "\n",
    "plt.scatter(Z[0,:], Z[1,:])\n",
    "plt.scatter(Z[0,3], Z[1,3],c='r')\n",
    "plt.scatter(Z[0,11], Z[1,11],c='r')\n",
    "plt.scatter(Z[0,18], Z[1,18],c='r')\n",
    "plt.quiver(0, 0, u_show[0], u_show[1],scale_units='xy', angles='xy',scale=1)\n",
    "plt.gca().set_aspect('equal', adjustable='box')\n",
    "plt.show()"
   ]
  },
  {
   "cell_type": "code",
   "execution_count": 80,
   "metadata": {},
   "outputs": [
    {
     "name": "stdout",
     "output_type": "stream",
     "text": [
      "max correlation from computed vec:[0.99997612]\n",
      "max correlation from (0,1):[0.9779004]\n",
      "1.2709237855047824\n",
      "2.18593293457326\n"
     ]
    }
   ],
   "source": [
    "maxval = 0\n",
    "for i in range(8):\n",
    "\tfor j in range(8):\n",
    "\t\tif i != j:\n",
    "\t\t\tif np.abs(u_cc.T@(Z[:,i]-Z[:,j]) / np.linalg.norm(Z[:,i]-Z[:,j]))  > maxval:\n",
    "\t\t\t\tmaxval = u_cc.T@(Z[:,i]-Z[:,j])/ np.linalg.norm(Z[:,i]-Z[:,j])\n",
    "\t\t\n",
    "\n",
    "print(f'max correlation from computed vec:{maxval}')\n",
    "\n",
    "u_new = np.zeros((2,1))\n",
    "u_new[1] = 1\n",
    "u_new[0] = 0\n",
    "u_new = u_new / np.linalg.norm(u_new)\n",
    "maxval = 0\n",
    "for i in range(8):\n",
    "\tfor j in range(8):\n",
    "\t\tif i != j:\n",
    "\t\t\tif np.abs(u_new.T@(Z[:,i]-Z[:,j])/ np.linalg.norm(Z[:,i]-Z[:,j])) > maxval:\n",
    "\t\t\t\tmaxval = u_new.T@(Z[:,i]-Z[:,j])/ np.linalg.norm(Z[:,i]-Z[:,j])\n",
    "\t\t\n",
    "\n",
    "print(f'max correlation from (0,1):{maxval}')\n",
    "\n",
    "U_stacked = np.ones(Z.shape)*u_cc\n",
    "A = (Z.T @ U_stacked - U_stacked.T @ Z)*cc.gamma.detach().cpu().numpy()\n",
    "print(0.5*np.sum(np.power(np.abs(A),4)))\n",
    "\n",
    "U_stacked = np.ones(Z.shape)*u_new\n",
    "A = (Z.T @ U_stacked - U_stacked.T @ Z)*cc.gamma.detach().cpu().numpy()\n",
    "print(0.5*np.sum(np.power(np.abs(A),4)))"
   ]
  },
  {
   "cell_type": "markdown",
   "metadata": {},
   "source": [
    "# Step 2\n",
    "find global positioning for each piece"
   ]
  },
  {
   "cell_type": "code",
   "execution_count": 220,
   "metadata": {},
   "outputs": [],
   "source": [
    "# softmax parameter\n",
    "gamma = 1\n",
    "\n",
    "# PyTorch model to optimize our custom loss\n",
    "class AlignmentPieces(nn.Module):\n",
    "\n",
    "    def __init__(self, X, u, u2, u3, alpha_0):\n",
    "        super(AlignmentPieces, self).__init__();\n",
    "        self.X = X\t\n",
    "\n",
    "        # get softmax coefficients\n",
    "        v1 = X[:,[3]]\n",
    "        v2 = X[:,[11]]\n",
    "        v3 = X[:,[18]]\n",
    "\n",
    "        # vectors of square distances\n",
    "        dists1 = (X-v1).pow(2).sum(axis=0)\n",
    "        dists2 = (X-v2).pow(2).sum(axis=0)\n",
    "        dists3 = (X-v3).pow(2).sum(axis=0)\n",
    "\n",
    "        dists_vec = torch.vstack((dists1,dists2,dists3))\n",
    "        self.probs = nn.Softmax(dim=0)(-gamma*dists_vec)\n",
    "\n",
    "        # projection vec\n",
    "        self.u = u\n",
    "        # self.alpha = nn.Parameter(alpha_0)\n",
    "        self.u2 = u2\n",
    "        self.alpha2 = nn.Parameter(alpha_0.clone())\n",
    "        self.u3 = u3\n",
    "        self.alpha3 = nn.Parameter(alpha_0.clone())\n",
    "\n",
    "    def forward(self):\n",
    "        # to eliminate redunancy, enforce first alpha to be 0\n",
    "        Xproj1 = self.X - self.u@self.u.T@self.X\n",
    "        Xproj2 = self.X - self.u2@self.u2.T@self.X + self.alpha2*self.u2\n",
    "        Xproj3 = self.X - self.u3@self.u3.T@self.X + self.alpha3*self.u3\n",
    "\n",
    "        E_Xproj = self.probs[[0],:]*Xproj1 + self.probs[[1],:]*Xproj2 + self.probs[[2],:]*Xproj3\n",
    "        Var_X = self.probs[[0],:]*(Xproj1 - E_Xproj).pow(2).sum(axis=0) + self.probs[[1],:]*(Xproj2 - E_Xproj).pow(2).sum(axis=0) + self.probs[[2],:]*(Xproj3 - E_Xproj).pow(2).sum(axis=0)\n",
    "        return Var_X.sum()\n",
    "        "
   ]
  },
  {
   "cell_type": "code",
   "execution_count": 219,
   "metadata": {},
   "outputs": [
    {
     "name": "stdout",
     "output_type": "stream",
     "text": [
      "data tensor([0.9911]), tensor([1.0084]). loss 0.00045587558997794986\n",
      "data tensor([0.7673]), tensor([0.7921]). loss 0.00025072830612771213\n",
      "data tensor([0.5960]), tensor([0.6208]). loss 0.00019170003361068666\n",
      "data tensor([0.4627]), tensor([0.4873]). loss 0.00015590697876177728\n",
      "data tensor([0.3588]), tensor([0.3834]). loss 0.00013420841423794627\n",
      "data tensor([0.2780]), tensor([0.3025]). loss 0.00012105009227525443\n",
      "data tensor([0.2150]), tensor([0.2395]). loss 0.0001130707751144655\n",
      "data tensor([0.1660]), tensor([0.1904]). loss 0.00010823446064023301\n",
      "data tensor([0.1278]), tensor([0.1522]). loss 0.00010530089639360085\n",
      "data tensor([0.0981]), tensor([0.1225]). loss 0.0001035230525303632\n",
      "data tensor([0.0750]), tensor([0.0993]). loss 0.00010244371515000239\n",
      "data tensor([0.0569]), tensor([0.0813]). loss 0.00010179124365095049\n",
      "data tensor([0.0429]), tensor([0.0673]). loss 0.0001013941946439445\n",
      "data tensor([0.0320]), tensor([0.0563]). loss 0.00010115318582393229\n",
      "data tensor([0.0235]), tensor([0.0478]). loss 0.00010100794315803796\n",
      "data tensor([0.0168]), tensor([0.0412]). loss 0.00010091988951899111\n",
      "data tensor([0.0117]), tensor([0.0360]). loss 0.0001008669423754327\n",
      "data tensor([0.0077]), tensor([0.0320]). loss 0.00010083372762892395\n",
      "data tensor([0.0045]), tensor([0.0289]). loss 0.00010081571963382885\n",
      "data tensor([0.0021]), tensor([0.0264]). loss 0.00010080241190735251\n",
      "data tensor([0.0002]), tensor([0.0245]). loss 0.00010079485946334898\n",
      "data tensor([-0.0013]), tensor([0.0231]). loss 0.00010079082858283073\n",
      "data tensor([-0.0024]), tensor([0.0219]). loss 0.00010078859486384317\n",
      "data tensor([-0.0033]), tensor([0.0210]). loss 0.0001007866594591178\n",
      "data tensor([-0.0040]), tensor([0.0203]). loss 0.00010078591731144115\n",
      "data tensor([-0.0046]), tensor([0.0198]). loss 0.00010078459308715537\n",
      "data tensor([-0.0050]), tensor([0.0193]). loss 0.00010078534978674725\n",
      "data tensor([-0.0053]), tensor([0.0190]). loss 0.00010078363993670791\n",
      "data tensor([-0.0056]), tensor([0.0188]). loss 0.00010078444029204547\n",
      "data tensor([-0.0058]), tensor([0.0186]). loss 0.00010078393097501248\n",
      "data tensor([-0.0059]), tensor([0.0184]). loss 0.0001007832252071239\n",
      "data tensor([-0.0061]), tensor([0.0183]). loss 0.00010078477498609573\n",
      "data tensor([-0.0061]), tensor([0.0182]). loss 0.00010078409832203761\n",
      "data tensor([-0.0062]), tensor([0.0181]). loss 0.00010078337072627619\n",
      "data tensor([-0.0063]), tensor([0.0181]). loss 0.00010078302148031071\n",
      "data tensor([-0.0063]), tensor([0.0180]). loss 0.00010078500054078177\n",
      "data tensor([-0.0064]), tensor([0.0180]). loss 0.0001007844548439607\n",
      "data tensor([-0.0064]), tensor([0.0179]). loss 0.0001007833270705305\n",
      "data tensor([-0.0064]), tensor([0.0179]). loss 0.00010078338527819142\n",
      "data tensor([-0.0064]), tensor([0.0179]). loss 0.00010078305058414117\n",
      "data tensor([-0.0064]), tensor([0.0179]). loss 0.00010078412742586806\n",
      "data tensor([-0.0064]), tensor([0.0179]). loss 0.00010078490595333278\n",
      "data tensor([-0.0065]), tensor([0.0179]). loss 0.00010078382911160588\n",
      "data tensor([-0.0065]), tensor([0.0179]). loss 0.00010078436025651172\n",
      "data tensor([-0.0065]), tensor([0.0179]). loss 0.00010078472405439243\n",
      "data tensor([-0.0065]), tensor([0.0179]). loss 0.00010078504419652745\n",
      "data tensor([-0.0065]), tensor([0.0179]). loss 0.00010078361083287746\n",
      "data tensor([-0.0065]), tensor([0.0179]). loss 0.00010078377090394497\n",
      "data tensor([-0.0065]), tensor([0.0179]). loss 0.00010078393097501248\n",
      "data tensor([-0.0065]), tensor([0.0179]). loss 0.0001007840401143767\n",
      "done!\n"
     ]
    }
   ],
   "source": [
    "align = AlignmentPieces(torch.Tensor(Z), cc.u.data, cc.u2.data, cc.u3.data, torch.Tensor([1]))\n",
    "opt = optim.SGD(align.parameters(), lr=1)\n",
    "\n",
    "for i in range(50000):\n",
    "\talign.zero_grad()\n",
    "\t# forward call of LinFlow\n",
    "\tloss = align()\n",
    "\tloss.backward()\n",
    "\n",
    "\t# GD step\n",
    "\topt.step()\n",
    "\n",
    "\t# determine if we have converged\n",
    "\tgradnorm = torch.sqrt(align.alpha2.grad.detach().pow(2) + align.alpha3.grad.detach().pow(2))\n",
    "\tif gradnorm < 5e-5:\n",
    "\t\t# print(f'converged in {i} steps!')\n",
    "\t\t# break\n",
    "\t\tpass\n",
    "\tif i%1000 == 0:\n",
    "\t\t# print(f'g step {i}: {gradnorm}')\n",
    "\t\tprint(f'data {align.alpha2.data}, {align.alpha3.data}. loss {loss}')\n",
    "\t\t# print(align.alpha2.data)\n",
    "\t\t# print(align.alpha3.data)\n",
    "\n",
    "print('done!')"
   ]
  },
  {
   "cell_type": "code",
   "execution_count": 175,
   "metadata": {},
   "outputs": [
    {
     "name": "stdout",
     "output_type": "stream",
     "text": [
      "tensor([[0.5816, 0.3522, 0.5029, 0.0826, 0.4091],\n",
      "        [0.3584, 0.3071, 0.3302, 0.4181, 0.3954],\n",
      "        [0.0600, 0.3407, 0.1669, 0.4994, 0.1955]])\n",
      "tensor([1.0000, 1.0000, 1.0000, 1.0000, 1.0000])\n"
     ]
    }
   ],
   "source": [
    "A = torch.randn(3,5)\n",
    "pred = nn.Softmax(dim=0)(A)\n",
    "print(pred)\n",
    "print(pred.sum(axis=0))"
   ]
  },
  {
   "cell_type": "code",
   "execution_count": 157,
   "metadata": {},
   "outputs": [
    {
     "name": "stdout",
     "output_type": "stream",
     "text": [
      "17\n",
      "18\n",
      "19\n",
      "20\n",
      "21\n",
      "22\n",
      "23\n",
      "24\n"
     ]
    }
   ],
   "source": [
    "v1 = Z[:,3]\n",
    "v2 = Z[:,11]\n",
    "v3 = Z[:,18]\n",
    "\n",
    "for i in range(n):\n",
    "\tdists = np.zeros(3)\n",
    "\tdists[0] = np.linalg.norm(Z[:,i] - v1)\n",
    "\tdists[1] = np.linalg.norm(Z[:,i] - v2)\n",
    "\tdists[2] = np.linalg.norm(Z[:,i] - v3)\n",
    "\tif np.argmin(dists) == 2:\n",
    "\t\t"
   ]
  },
  {
   "cell_type": "markdown",
   "metadata": {},
   "source": [
    "# plot"
   ]
  },
  {
   "cell_type": "code",
   "execution_count": 242,
   "metadata": {},
   "outputs": [
    {
     "data": {
      "image/png": "[encoded data removed]",
      "text/plain": [
       "<Figure size 432x288 with 1 Axes>"
      ]
     },
     "metadata": {
      "needs_background": "light"
     },
     "output_type": "display_data"
    },
    {
     "data": {
      "image/png": "[encoded data removed]",
      "text/plain": [
       "<Figure size 432x288 with 1 Axes>"
      ]
     },
     "metadata": {
      "needs_background": "light"
     },
     "output_type": "display_data"
    },
    {
     "data": {
      "image/png": "[encoded data removed]",
      "text/plain": [
       "<Figure size 432x288 with 1 Axes>"
      ]
     },
     "metadata": {
      "needs_background": "light"
     },
     "output_type": "display_data"
    },
    {
     "data": {
      "image/png": "[encoded data removed]",
      "text/plain": [
       "<Figure size 432x288 with 1 Axes>"
      ]
     },
     "metadata": {
      "needs_background": "light"
     },
     "output_type": "display_data"
    }
   ],
   "source": [
    "u1 = cc.u.detach().clone().cpu().numpy()\n",
    "A1_proj = np.eye(d) - u1@u1.T\n",
    "u2 = cc.u2.detach().clone().cpu().numpy()\n",
    "A2_proj = np.eye(d) - u2@u2.T\n",
    "u3 = cc.u3.detach().clone().cpu().numpy()\n",
    "A3_proj = np.eye(d) - u3@u3.T\n",
    "\n",
    "alpha2 = align.alpha2.detach().clone().cpu().numpy()\n",
    "alpha3 = align.alpha3.detach().clone().cpu().numpy()\n",
    "\n",
    "Z_new = np.zeros(Z.shape)\n",
    "for i in range(n):\n",
    "\tz_vec = Z[:,[i]]\n",
    "\t# compute local components\n",
    "\tproj1 = A1_proj@z_vec\n",
    "\tproj2 = A2_proj@z_vec + alpha2*u2\n",
    "\tproj3 = A3_proj@z_vec + alpha3*u3\n",
    "\t# softmax\n",
    "\tdist1 = np.linalg.norm(z_vec - v1)\n",
    "\tdist2 = np.linalg.norm(z_vec - v1)\n",
    "\tdist3 = np.linalg.norm(z_vec - v1)\n",
    "\n",
    "\tprobs = np.array([np.exp(-gamma*dist1), np.exp(-gamma*dist2), np.exp(-gamma*dist3)])\n",
    "\tprobs = probs/probs.sum()\n",
    "\n",
    "\tz_new = proj1*probs[0] + proj2*probs[1] + proj3*probs[2]\n",
    "\tZ_new[:,[i]] = z_new\n",
    "\n",
    "\n",
    "plt.scatter(Z[0,:], Z[1,:])\n",
    "plt.show()\n",
    "plt.scatter(Z_new[0,:], Z_new[1,:])\n",
    "plt.show()\n",
    "\n",
    "scale=2\n",
    "n_test = 500\n",
    "Z_test = np.zeros((d,n_test))\n",
    "for i in range(n_test):\n",
    "\tx = (-0.5 + (i+1)/n_test)*2*np.pi\n",
    "\tZ_test[0,i] = x\n",
    "\t# Z[1,i] = scale*np.sin(x)\n",
    "\tZ_test[1,i] = scale*np.sin(x) + scale/2*np.sin(3*x + 1.5)\n",
    "\n",
    "\n",
    "# center and scale (TO ORIGINAL TRAIN DATA)\n",
    "Z_test = Z_test - Z.mean(axis=1,keepdims=True)\n",
    "Z_test = Z_test * n / Z_norm_orig\n",
    "\n",
    "# see what mapping is like on test data\n",
    "test_point = Z_test[:,[250]] + 10*np.random.randn(2,1)\n",
    "\n",
    "plt.scatter(Z_test[0,:], Z_test[1,:])\n",
    "plt.scatter(test_point[0,:], test_point[1,:], color='red')\n",
    "plt.show()\n",
    "\n",
    "\n",
    "\n",
    "for i in range(n_test):\n",
    "\tz_vec = Z_test[:,[i]]\n",
    "\t# compute local components\n",
    "\tproj1 = A1_proj@z_vec\n",
    "\tproj2 = A2_proj@z_vec + alpha2*u2\n",
    "\tproj3 = A3_proj@z_vec + alpha3*u3\n",
    "\t# softmax\n",
    "\tdist1 = np.linalg.norm(z_vec - v1)\n",
    "\tdist2 = np.linalg.norm(z_vec - v1)\n",
    "\tdist3 = np.linalg.norm(z_vec - v1)\n",
    "\n",
    "\tprobs = np.array([np.exp(-gamma*dist1), np.exp(-gamma*dist2), np.exp(-gamma*dist3)])\n",
    "\tprobs = probs/probs.sum()\n",
    "\n",
    "\tz_new = proj1*probs[0] + proj2*probs[1] + proj3*probs[2]\n",
    "\tZ_test[:,[i]] = z_new\n",
    "\n",
    "# test point map\n",
    "z_vec = test_point\n",
    "# compute local components\n",
    "proj1 = A1_proj@z_vec\n",
    "proj2 = A2_proj@z_vec + alpha2*u2\n",
    "proj3 = A3_proj@z_vec + alpha3*u3\n",
    "# softmax\n",
    "dist1 = np.linalg.norm(z_vec - v1)\n",
    "dist2 = np.linalg.norm(z_vec - v1)\n",
    "dist3 = np.linalg.norm(z_vec - v1)\n",
    "\n",
    "probs = np.array([np.exp(-gamma*dist1), np.exp(-gamma*dist2), np.exp(-gamma*dist3)])\n",
    "probs = probs/probs.sum()\n",
    "\n",
    "z_new = proj1*probs[0] + proj2*probs[1] + proj3*probs[2]\n",
    "f_test = z_new\n",
    "\n",
    "plt.scatter(Z_test[0,:], Z_test[1,:])\n",
    "plt.scatter(f_test[0,:], f_test[1,:], color='red')\n",
    "plt.show()\n",
    "\n",
    "\n",
    "\t"
   ]
  },
  {
   "cell_type": "code",
   "execution_count": null,
   "metadata": {},
   "outputs": [],
   "source": []
  }
 ],
 "metadata": {
  "interpreter": {
   "hash": "3eff91a1c904f9589a2b1aff7f48dd7def9580d372020cc7689687e78e90f328"
  },
  "kernelspec": {
   "display_name": "Python 3.8.10 64-bit (windows store)",
   "name": "python3"
  },
  "language_info": {
   "codemirror_mode": {
    "name": "ipython",
    "version": 3
   },
   "file_extension": ".py",
   "mimetype": "text/x-python",
   "name": "python",
   "nbconvert_exporter": "python",
   "pygments_lexer": "ipython3",
   "version": "3.9.7"
  }
 },
 "nbformat": 4,
 "nbformat_minor": 2
}
