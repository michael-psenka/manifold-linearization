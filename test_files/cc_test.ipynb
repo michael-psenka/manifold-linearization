{
 "cells": [
  {
   "cell_type": "markdown",
   "metadata": {},
   "source": [
    "# Curvature Compression: Baseline Tests\n",
    "\n",
    "In this notebook, we give a guided tour on the advantage of curvature compression for choosing a linear model for manifold data"
   ]
  },
  {
   "cell_type": "code",
   "execution_count": null,
   "metadata": {},
   "outputs": [],
   "source": []
  },
  {
   "cell_type": "code",
   "execution_count": 1,
   "metadata": {
    "tags": []
   },
   "outputs": [],
   "source": [
    "# %matplotlib widget\n",
    "import matplotlib.pyplot as plt\n",
    "import numpy as np\n",
    "import torch\n",
    "import torch.nn as nn\n",
    "import torch.optim as optim\n",
    "import torch.utils.data as data\n",
    "\n",
    "import scipy\n",
    "\n",
    "from tqdm import trange\n",
    "\n",
    "from torch.autograd import Variable\n",
    "# import open3d as o3d\n",
    "\n",
    "import sys\n",
    "# setting path\n",
    "sys.path.append('../')\n",
    "from tools.manifold_generator import Manifold\n",
    "# import modules.find_patches_community_detection as find_patches"
   ]
  },
  {
   "cell_type": "code",
   "execution_count": 56,
   "metadata": {},
   "outputs": [
    {
     "data": {
      "image/png": "[encoded data removed]",
      "text/plain": [
       "<Figure size 432x288 with 1 Axes>"
      ]
     },
     "metadata": {
      "needs_background": "light"
     },
     "output_type": "display_data"
    },
    {
     "name": "stdout",
     "output_type": "stream",
     "text": [
      "torch.Size([2, 50])\n"
     ]
    }
   ],
   "source": [
    "hi = Manifold(D=2, d=1, curvature=1, n_basis=20)\n",
    "X = hi.generateSample(N=50, uniform=True)\n",
    "plt.plot(X[0,:], X[1,:],'.')\n",
    "plt.show()\n",
    "print(X.shape)"
   ]
  },
  {
   "cell_type": "code",
   "execution_count": 54,
   "metadata": {},
   "outputs": [
    {
     "name": "stdout",
     "output_type": "stream",
     "text": [
      "[{0, 1, 2, 3, 4, 5}, {6, 7, 8, 9, 10, 11}, {16, 17, 12, 13, 14, 15}, {18, 19, 20, 21, 22, 23, 24}]\n",
      "[[{0}, {1}, {2}, {3}], [{2}, {3}, {0, 1}], [{0, 1}, {2, 3}], [{0, 1, 2, 3}]]\n"
     ]
    }
   ],
   "source": [
    "ind, merge_path = find_patches.find_patches_and_merge_path(X, k=5)\n",
    "print(ind)\n",
    "print(merge_path)"
   ]
  },
  {
   "cell_type": "code",
   "execution_count": 55,
   "metadata": {},
   "outputs": [
    {
     "data": {
      "image/png": "[encoded data removed]",
      "text/plain": [
       "<Figure size 432x288 with 1 Axes>"
      ]
     },
     "metadata": {
      "needs_background": "light"
     },
     "output_type": "display_data"
    }
   ],
   "source": [
    "ind1 = np.array([x for x in ind[0]])\n",
    "plt.plot(X[0,ind1], X[1,ind1], '.', c='r')\n",
    "ind2 = np.array([x for x in ind[1]])\n",
    "plt.plot(X[0,ind2], X[1,ind2],'.', c='g')\n",
    "ind3 = np.array([x for x in ind[2]])\n",
    "plt.plot(X[0,ind3], X[1,ind3],'.', c='b')\n",
    "ind4 = np.array([x for x in ind[3]])\n",
    "plt.plot(X[0,ind4], X[1,ind4],'.', c='orange')\n",
    "# ind5 = np.array([x for x in ind[4]])\n",
    "# plt.plot(X[0,ind5], X[1,ind5],'.', c='purple')\n",
    "plt.show()"
   ]
  },
  {
   "cell_type": "code",
   "execution_count": 66,
   "metadata": {},
   "outputs": [],
   "source": [
    "hi = Manifold(D=3, d=2, curvature=1, n_basis=20)\n",
    "X = hi.generateSample(N=50000, uniform=True)\n",
    "\n",
    "pointclud = X.T.detach().numpy()\n",
    "pcd = o3d.geometry.PointCloud()\n",
    "pcd.points = o3d.utility.Vector3dVector(pointclud)\n",
    "o3d.visualization.draw_geometries([pcd])"
   ]
  },
  {
   "cell_type": "markdown",
   "metadata": {},
   "source": [
    "# Generate manifold data"
   ]
  },
  {
   "cell_type": "code",
   "execution_count": null,
   "metadata": {},
   "outputs": [],
   "source": [
    "# stochastic gradient descent on MSE error of the training data\n",
    "# X and the targets Y\n"
   ]
  },
  {
   "cell_type": "code",
   "execution_count": 51,
   "metadata": {},
   "outputs": [
    {
     "data": {
      "text/plain": [
       "<matplotlib.collections.PathCollection at 0x1ed9695d640>"
      ]
     },
     "execution_count": 51,
     "metadata": {},
     "output_type": "execute_result"
    },
    {
     "data": {
      "image/png": "[encoded data removed]",
      "text/plain": [
       "<Figure size 432x288 with 1 Axes>"
      ]
     },
     "metadata": {
      "needs_background": "light"
     },
     "output_type": "display_data"
    }
   ],
   "source": [
    "# dimension of data\n",
    "d = 2\n",
    "# number of samples\n",
    "n = 25\n",
    "# variance of noise\n",
    "eps2 = 0\n",
    "# determine if we should randomly rotate\n",
    "rotate=False\n",
    "\n",
    "\n",
    "# 2D manifold in 4D space\n",
    "\n",
    "# sqrt_n = 25\n",
    "# n = sqrt_n**2\n",
    "\n",
    "# Z = np.zeros((d,n))\n",
    "# for i in range(sqrt_n):\n",
    "# \tfor j in range(sqrt_n):\n",
    "# \t\tx = (-0.5 + (i+1)/sqrt_n)*2*np.pi\n",
    "# \t\ty = (-0.5 + (j+1)/sqrt_n)*2*np.pi\n",
    "# \t\tZ[0,j + sqrt_n*i] = x\n",
    "# \t\tZ[1,j + sqrt_n*i] = y\n",
    "# \t\tZ[2,j + sqrt_n*i] = np.sin(4*x)\n",
    "# \t\tZ[3,j + sqrt_n*i] = np.sin(7*y)\n",
    "\n",
    "\n",
    "# # mean center\n",
    "# Z = Z - np.mean(Z,axis=1,keepdims=True)\n",
    "# # global normalization\n",
    "# Z = Z * n / np.sqrt(np.sum(np.power(Z, 2)))\n",
    "\n",
    "# plt.scatter(Z[0,:], Z[1,:])\n",
    "scale=2\n",
    "Z = np.zeros((d,n))\n",
    "for i in range(n):\n",
    "\tx = (-0.5 + (i+1)/n)*2*np.pi\n",
    "\tZ[0,i] = x\n",
    "\t# Z[1,i] = scale*np.sin(x)\n",
    "\tZ[1,i] = scale*np.sin(x) + scale/2*np.sin(3*x + 1.5)\n",
    "\n",
    "Z = np.zeros((d,n))\n",
    "for i in range(n):\n",
    "\tx = (1.5 - 1.4/2 +1.4*(i+1)/n)*np.pi\n",
    "\tZ[0,i] = np.cos(x)\n",
    "\t# Z[1,i] = scale*np.sin(x)\n",
    "\tZ[1,i] = np.sin(x)\n",
    "\n",
    "# add noise\n",
    "Z = Z + eps2*np.random.randn(d, n)\n",
    "\n",
    "\n",
    "# center and scale\n",
    "Z_mean_orig = Z.mean(axis=1,keepdims=True)\n",
    "Z = Z - Z_mean_orig\n",
    "Z_norm_orig = np.linalg.norm(Z, 'fro')\n",
    "Z = Z * n / Z_norm_orig\n",
    "\n",
    "# random rotation, preserves centering and scale\n",
    "if rotate:\n",
    "\tA = np.random.randn(d,d)\n",
    "\tu,s,vt = np.linalg.svd(A)\n",
    "\tZ = u@Z\n",
    "\n",
    "# Z = Z[:,8:12]\n",
    "plt.scatter(Z[0,:], Z[1,:])"
   ]
  },
  {
   "cell_type": "markdown",
   "metadata": {},
   "source": [
    "# PCA on manifold data\n",
    "\n",
    "Showing the linear component PCA would choose to eliminate. Note it does not give the proper elimination"
   ]
  },
  {
   "cell_type": "code",
   "execution_count": 5,
   "metadata": {},
   "outputs": [
    {
     "name": "stdout",
     "output_type": "stream",
     "text": [
      "[-0.0878512   0.99613361]\n"
     ]
    },
    {
     "data": {
      "image/png": "[encoded data removed]",
      "text/plain": [
       "<Figure size 432x288 with 1 Axes>"
      ]
     },
     "metadata": {
      "needs_background": "light"
     },
     "output_type": "display_data"
    }
   ],
   "source": [
    "u, s, vt = np.linalg.svd(Z)\n",
    "u_min = u[:,1]\n",
    "print(u_min)\n",
    "\n",
    "# scale to look nice on graph\n",
    "u_show = u_min * np.min(np.max(np.abs(Z), axis=1))/2\n",
    "\n",
    "plt.scatter(Z[0,:], Z[1,:])\n",
    "plt.quiver(0, 0, u_show[0], u_show[1],scale_units='xy', angles='xy',scale=1)\n",
    "plt.gca().set_aspect('equal', adjustable='box')\n",
    "plt.show()"
   ]
  },
  {
   "cell_type": "markdown",
   "metadata": {},
   "source": [
    "We would idealy get a vector in the span of $(0,1)$, since all extraneous curvature is in the $y$-direction. As can be seen, the direction of least variance does not necessarily correspond to the best direction to compress curvature."
   ]
  },
  {
   "cell_type": "markdown",
   "metadata": {},
   "source": [
    "# Curvature compression on manifold data\n",
    "\n",
    "We now test our new proposed method, curvature compression. The function we theoretically want to optimize for is the following:\n",
    "\n",
    "$$v_* = \\argmin_{\\|v\\|_2 = 1} \\max_{x, y \\in Z \\mid x \\ne y} |\\langle v, \\frac{x-y}{\\|x-y\\|_2}\\rangle|$$\n",
    "$$= \\argmin_{\\|v\\|_2 = 1} \\|\\langle v, \\frac{x-y}{\\|x-y\\|_2}\\rangle\\|_\\infty. $$\n",
    "\n",
    "However, since the $L^\\infty$ norm is hard to directly optimize, we settle for a smooth surrogate norm: the $L^4$-norm."
   ]
  },
  {
   "cell_type": "code",
   "execution_count": 42,
   "metadata": {},
   "outputs": [],
   "source": [
    "# PyTorch model to optimize our custom loss\n",
    "class CurvatureElimination(nn.Module):\n",
    "\n",
    "    def __init__(self, X, u_0):\n",
    "        super(CurvatureElimination, self).__init__();\n",
    "        # data\n",
    "        self.X = X\n",
    "        # construct edm and gamma weight matrix\n",
    "        gram = X.T@X\n",
    "        edm = torch.diag(gram).reshape((n,1))@torch.ones((1,n)) \\\n",
    "                + torch.ones((n,1))@torch.diag(gram).reshape((1,n)) \\\n",
    "                - 2*gram\n",
    "\n",
    "        edm = torch.sqrt(edm)\n",
    "\n",
    "        # diagonal weights don't matter, set to 1 as convention\n",
    "        self.gamma = torch.divide(torch.Tensor([1]),torch.eye(n) + edm)\n",
    "        # projection vec\n",
    "        self.u = nn.Parameter(u_0)\n",
    "\n",
    "    def forward(self):\n",
    "        U_stacked = torch.ones(self.X.shape)*self.u\n",
    "        A = (self.X.T @ U_stacked - U_stacked.T @ self.X)*self.gamma\n",
    "        return 0.5*A.pow(4).sum()\n",
    "\n",
    "# PyTorch model to optimize our custom loss\n",
    "class CurvatureEliminationSGD(nn.Module):\n",
    "\n",
    "    def __init__(self, u_0):\n",
    "        super(CurvatureEliminationSGD, self).__init__();\n",
    "\n",
    "        # projection vec\n",
    "        self.u = nn.Parameter(u_0)\n",
    "\n",
    "    def forward(self, X_batch):\n",
    "        # compute injectivity loss on minibatch\n",
    "        d, n_batch = X_batch.shape\n",
    "        edm_batch = torch.cdist(X_batch.T, X_batch.T)\n",
    "        gamma_batch = torch.divide(torch.Tensor([1]),torch.eye(n_batch) + edm_batch)\n",
    "        U_stacked = torch.ones(X_batch.shape)*self.u\n",
    "        A = (X_batch.T @ U_stacked - U_stacked.T @ X_batch)*gamma_batch\n",
    "        return 0.5*A.pow(4).mean()\n",
    "\n",
    "# PyTorch model to optimize our custom loss\n",
    "class CurvatureEliminationPieces(nn.Module):\n",
    "\n",
    "    def __init__(self, X, u_0, u_02, u_03):\n",
    "        super(CurvatureEliminationPieces, self).__init__();\n",
    "        # data\n",
    "        self.X = X\n",
    "        # construct edm and gamma weight matrix\n",
    "        gram = X.T@X\n",
    "        edm = torch.diag(gram).reshape((n,1))@torch.ones((1,n)) \\\n",
    "                + torch.ones((n,1))@torch.diag(gram).reshape((1,n)) \\\n",
    "                - 2*gram\n",
    "\n",
    "        edm = torch.sqrt(edm)\n",
    "\n",
    "        # diagonal weights don't matter, set to 1 as convention\n",
    "        self.gamma = torch.divide(torch.Tensor([1]),torch.eye(n) + edm)\n",
    "        # projection vec\n",
    "        self.u = nn.Parameter(u_0)\n",
    "        self.u2 = nn.Parameter(u_02)\n",
    "        self.u3 = nn.Parameter(u_03)\n",
    "\n",
    "    def forward(self):\n",
    "        U_stacked = torch.ones(self.X[:,:13].shape)*self.u\n",
    "        A = (self.X[:,:13].T @ U_stacked - U_stacked.T @ self.X[:,:13])*self.gamma[:13,:13]\n",
    "        U_stacked2 = torch.ones(self.X[:,7:16].shape)*self.u2\n",
    "        A2 = (self.X[:,7:16].T @ U_stacked2 - U_stacked2.T @ self.X[:,7:16])*self.gamma[7:16,7:16]\n",
    "        U_stacked3 = torch.ones(self.X[:,13:].shape)*self.u3\n",
    "        A3 = (self.X[:,13:].T @ U_stacked3 - U_stacked3.T @ self.X[:,13:])*self.gamma[13:,13:]\n",
    "        return 0.5*(A.pow(4).sum() + A2.pow(4).sum() + A3.pow(4).sum()) - 2*((self.u.T@self.u2).pow(2) + (self.u2.T@self.u3).pow(2))"
   ]
  },
  {
   "cell_type": "code",
   "execution_count": 20,
   "metadata": {},
   "outputs": [
    {
     "name": "stdout",
     "output_type": "stream",
     "text": [
      "torch.Size([2, 500])\n",
      "torch.Size([2, 12])\n"
     ]
    }
   ],
   "source": [
    "loader = data.DataLoader(dataset=data.TensorDataset(X.T), batch_size=12, shuffle=True)\n",
    "# sample batch from loader\n",
    "X_batch = next(iter(loader))[0].T\n",
    "print(X.shape)\n",
    "print(X_batch.shape)"
   ]
  },
  {
   "cell_type": "markdown",
   "metadata": {},
   "source": [
    "# SGD tests"
   ]
  },
  {
   "cell_type": "code",
   "execution_count": 54,
   "metadata": {},
   "outputs": [
    {
     "name": "stdout",
     "output_type": "stream",
     "text": [
      "g step 0: 0.016552096232771873\n",
      "g step 100: 0.03008676879107952\n",
      "g step 200: 0.046776991337537766\n",
      "g step 300: 0.05334431305527687\n",
      "g step 400: 0.057042889297008514\n",
      "g step 500: 0.021112091839313507\n",
      "g step 600: 0.03477724269032478\n",
      "g step 700: 0.010997059755027294\n",
      "g step 800: 0.0019211889011785388\n",
      "g step 900: 0.005317394621670246\n",
      "g step 1000: 0.0026451428420841694\n",
      "g step 1100: 0.003939591348171234\n",
      "g step 1200: 0.006208642385900021\n",
      "g step 1300: 0.0070342449471354485\n",
      "g step 1400: 0.005849484819918871\n",
      "g step 1500: 0.02514476887881756\n",
      "g step 1600: 0.0040291426703333855\n",
      "g step 1700: 0.0015502816531807184\n",
      "g step 1800: 0.011169602163136005\n",
      "g step 1900: 0.0013696800451725721\n",
      "g step 2000: 0.010322331450879574\n",
      "g step 2100: 0.006969420239329338\n",
      "g step 2200: 0.0058410814963281155\n",
      "g step 2300: 0.00986667349934578\n",
      "g step 2400: 0.0031435585115104914\n",
      "g step 2500: 0.0014721740735694766\n",
      "g step 2600: 0.012260540388524532\n",
      "g step 2700: 0.0024457862600684166\n",
      "g step 2800: 0.016621556133031845\n",
      "g step 2900: 0.031186694279313087\n",
      "g step 3000: 0.004860877990722656\n",
      "g step 3100: 0.005355974193662405\n",
      "g step 3200: 4.011180863017216e-05\n",
      "g step 3300: 0.008600015193223953\n",
      "g step 3400: 0.004279258195310831\n",
      "g step 3500: 0.0049704196862876415\n",
      "g step 3600: 0.0020834961906075478\n",
      "g step 3700: 0.006819110829383135\n",
      "g step 3800: 0.005955281667411327\n",
      "g step 3900: 0.0014488722663372755\n",
      "g step 4000: 0.000354686111677438\n",
      "g step 4100: 0.011201176792383194\n",
      "g step 4200: 0.006909315939992666\n",
      "g step 4300: 0.005369943100959063\n",
      "g step 4400: 0.01723373495042324\n",
      "g step 4500: 0.0006798895774409175\n",
      "g step 4600: 0.00018799629469867796\n",
      "g step 4700: 0.0037951527629047632\n",
      "g step 4800: 0.011231249198317528\n",
      "g step 4900: 0.009667772799730301\n",
      "g step 5000: 0.012878665700554848\n",
      "g step 5100: 0.0032964181154966354\n",
      "g step 5200: 0.0026710976380854845\n",
      "g step 5300: 0.0062475563026964664\n",
      "g step 5400: 0.010120469145476818\n",
      "g step 5500: 0.014482704922556877\n",
      "g step 5600: 0.013418123126029968\n",
      "g step 5700: 0.0036489334888756275\n",
      "g step 5800: 0.0017006389098241925\n",
      "g step 5900: 0.002988106571137905\n",
      "g step 6000: 0.014248482882976532\n",
      "g step 6100: 0.005776170641183853\n",
      "g step 6200: 0.00802620779722929\n",
      "g step 6300: 0.006094611249864101\n",
      "g step 6400: 0.014132251963019371\n",
      "g step 6500: 0.004920613951981068\n",
      "g step 6600: 0.007446007337421179\n",
      "g step 6700: 0.0027044983580708504\n",
      "g step 6800: 0.005350661464035511\n",
      "g step 6900: 0.012141789309680462\n",
      "g step 7000: 0.015050537884235382\n",
      "g step 7100: 0.0031911840196698904\n",
      "g step 7200: 0.003120728302747011\n",
      "g step 7300: 0.012755916453897953\n",
      "g step 7400: 0.0005828914581798017\n",
      "g step 7500: 0.006318936590105295\n",
      "g step 7600: 0.012169540859758854\n",
      "g step 7700: 0.004392056260257959\n",
      "g step 7800: 0.006260863970965147\n",
      "g step 7900: 0.002185025019571185\n",
      "g step 8000: 0.016553660854697227\n",
      "g step 8100: 0.010122283361852169\n",
      "g step 8200: 0.0036537530831992626\n",
      "g step 8300: 0.0008160508004948497\n",
      "g step 8400: 0.0036931296344846487\n",
      "g step 8500: 0.0017571249045431614\n",
      "g step 8600: 0.0035293451510369778\n",
      "g step 8700: 0.016307150945067406\n",
      "g step 8800: 0.007920327596366405\n",
      "g step 8900: 0.004791076295077801\n",
      "g step 9000: 0.0010751524241641164\n",
      "g step 9100: 0.010518101043999195\n",
      "g step 9200: 0.013777853921055794\n",
      "g step 9300: 0.01148670818656683\n",
      "g step 9400: 0.003932276740670204\n",
      "g step 9500: 0.0145505266264081\n",
      "g step 9600: 0.003050839062780142\n",
      "g step 9700: 0.011573413386940956\n",
      "g step 9800: 0.008215144276618958\n",
      "g step 9900: 0.012377096340060234\n",
      "done!\n"
     ]
    }
   ],
   "source": [
    "d, n = X.shape\n",
    "batch_size =10\n",
    "u_0 = torch.randn(d,1)\n",
    "u_0 = u_0 / torch.norm(u_0, p=2, dim=0)\n",
    "\n",
    "cc = CurvatureEliminationSGD(u_0)\n",
    "loader = data.DataLoader(dataset=data.TensorDataset(X.T), batch_size=12, shuffle=True)\n",
    "\n",
    "opt = optim.SGD(cc.parameters(), lr=0.01)\n",
    "\n",
    "for i in range(10000):\n",
    "\tcc.zero_grad()\n",
    "\t# forward call of LinFlow\n",
    "\tX_batch = next(iter(loader))[0].T\n",
    "\tloss = cc(X_batch)\n",
    "\n",
    "\tloss.backward()\n",
    "\n",
    "\t# compute Riemannian gradient\n",
    "\tegrad = cc.u.grad.detach()\n",
    "\tbase = cc.u.data.detach()\n",
    "\tbase = base / torch.sqrt(base.pow(2).sum())\n",
    "\trgrad = egrad - base@base.t()@egrad\n",
    "\t# GD step\n",
    "\topt.step()\n",
    "\t# renormalization step\n",
    "\twith torch.no_grad():\n",
    "\t\tcc.u.data = cc.u.data / torch.sqrt((cc.u.data).pow(2).sum());\n",
    "\n",
    "\t# determine if we have converged\n",
    "\tgradnorm = torch.linalg.norm(rgrad)\n",
    "\tif gradnorm < 5e-5:\n",
    "\t\t# print(f'converged in {i} steps!')\n",
    "\t\t# break\n",
    "\t\tpass\n",
    "\tif i%100 == 0:\n",
    "\t\tprint(f'g step {i}: {gradnorm}')\n",
    "\n",
    "print('done!')"
   ]
  },
  {
   "cell_type": "code",
   "execution_count": 24,
   "metadata": {},
   "outputs": [
    {
     "ename": "NameError",
     "evalue": "name 'Z' is not defined",
     "output_type": "error",
     "traceback": [
      "\u001b[1;31m---------------------------------------------------------------------------\u001b[0m",
      "\u001b[1;31mNameError\u001b[0m                                 Traceback (most recent call last)",
      "\u001b[1;32m~\\AppData\\Local\\Temp/ipykernel_10920/2475760004.py\u001b[0m in \u001b[0;36m<module>\u001b[1;34m\u001b[0m\n\u001b[0;32m      7\u001b[0m \u001b[0mu_03\u001b[0m \u001b[1;33m=\u001b[0m \u001b[0mtorch\u001b[0m\u001b[1;33m.\u001b[0m\u001b[0mrandn\u001b[0m\u001b[1;33m(\u001b[0m\u001b[1;33m(\u001b[0m\u001b[0md\u001b[0m\u001b[1;33m,\u001b[0m\u001b[1;36m1\u001b[0m\u001b[1;33m)\u001b[0m\u001b[1;33m)\u001b[0m\u001b[1;33m\u001b[0m\u001b[1;33m\u001b[0m\u001b[0m\n\u001b[0;32m      8\u001b[0m \u001b[0mu_03\u001b[0m \u001b[1;33m=\u001b[0m \u001b[0mu_03\u001b[0m \u001b[1;33m/\u001b[0m \u001b[0mtorch\u001b[0m\u001b[1;33m.\u001b[0m\u001b[0msqrt\u001b[0m\u001b[1;33m(\u001b[0m\u001b[0mu_03\u001b[0m\u001b[1;33m.\u001b[0m\u001b[0mpow\u001b[0m\u001b[1;33m(\u001b[0m\u001b[1;36m2\u001b[0m\u001b[1;33m)\u001b[0m\u001b[1;33m.\u001b[0m\u001b[0msum\u001b[0m\u001b[1;33m(\u001b[0m\u001b[1;33m)\u001b[0m\u001b[1;33m)\u001b[0m\u001b[1;33m\u001b[0m\u001b[1;33m\u001b[0m\u001b[0m\n\u001b[1;32m----> 9\u001b[1;33m \u001b[0mX\u001b[0m \u001b[1;33m=\u001b[0m \u001b[0mtorch\u001b[0m\u001b[1;33m.\u001b[0m\u001b[0mTensor\u001b[0m\u001b[1;33m(\u001b[0m\u001b[0mZ\u001b[0m\u001b[1;33m)\u001b[0m\u001b[1;33m\u001b[0m\u001b[1;33m\u001b[0m\u001b[0m\n\u001b[0m\u001b[0;32m     10\u001b[0m \u001b[1;33m\u001b[0m\u001b[0m\n\u001b[0;32m     11\u001b[0m \u001b[0mcc\u001b[0m \u001b[1;33m=\u001b[0m \u001b[0mCurvatureEliminationPieces\u001b[0m\u001b[1;33m(\u001b[0m\u001b[0mX\u001b[0m\u001b[1;33m,\u001b[0m \u001b[0mu_0\u001b[0m\u001b[1;33m,\u001b[0m \u001b[0mu_02\u001b[0m\u001b[1;33m,\u001b[0m \u001b[0mu_03\u001b[0m\u001b[1;33m)\u001b[0m\u001b[1;33m\u001b[0m\u001b[1;33m\u001b[0m\u001b[0m\n",
      "\u001b[1;31mNameError\u001b[0m: name 'Z' is not defined"
     ]
    }
   ],
   "source": [
    "# optimize via projected gradient descent\n",
    "\n",
    "u_0 = torch.randn((d,1))\n",
    "u_0 = u_0 / torch.sqrt(u_0.pow(2).sum())\n",
    "u_02 = torch.randn((d,1))\n",
    "u_02 = u_02 / torch.sqrt(u_02.pow(2).sum())\n",
    "u_03 = torch.randn((d,1))\n",
    "u_03 = u_03 / torch.sqrt(u_03.pow(2).sum())\n",
    "X = torch.Tensor(Z)\n",
    "\n",
    "cc = CurvatureEliminationPieces(X, u_0, u_02, u_03)\n",
    "opt = optim.SGD(cc.parameters(), lr=0.001)\n",
    "\n",
    "for i in range(1000):\n",
    "\tcc.zero_grad()\n",
    "\t# forward call of LinFlow\n",
    "\tloss = cc()\n",
    "\n",
    "\tloss.backward()\n",
    "\n",
    "\t# compute Riemannian gradient\n",
    "\tegrad = cc.u.grad.detach()\n",
    "\tbase = cc.u.data.detach()\n",
    "\tbase = base / torch.sqrt(base.pow(2).sum())\n",
    "\trgrad = egrad - base@base.t()@egrad\n",
    "\t# GD step\n",
    "\topt.step()\n",
    "\t# renormalization step\n",
    "\twith torch.no_grad():\n",
    "\t\tcc.u.data = cc.u.data / torch.sqrt((cc.u.data).pow(2).sum());\n",
    "\t\tcc.u2.data = cc.u2.data / torch.sqrt((cc.u2.data).pow(2).sum());\n",
    "\t\tcc.u3.data = cc.u3.data / torch.sqrt((cc.u3.data).pow(2).sum());\n",
    "\n",
    "\t# determine if we have converged\n",
    "\tgradnorm = torch.linalg.norm(rgrad)\n",
    "\tif gradnorm < 5e-5:\n",
    "\t\t# print(f'converged in {i} steps!')\n",
    "\t\t# break\n",
    "\t\tpass\n",
    "\tif i%100 == 0:\n",
    "\t\tprint(f'g step {i}: {gradnorm}')\n",
    "\n",
    "print('done!')"
   ]
  },
  {
   "cell_type": "code",
   "execution_count": 53,
   "metadata": {},
   "outputs": [
    {
     "name": "stdout",
     "output_type": "stream",
     "text": [
      "g step 0: 48.64806365966797\n",
      "g step 100: 0.010759027674794197\n",
      "g step 200: 0.00017109086911659688\n",
      "g step 300: 2.117500662279781e-05\n",
      "g step 400: 2.5177723728120327e-05\n",
      "g step 500: 3.43852161677205e-06\n",
      "g step 600: 3.43852161677205e-06\n",
      "g step 700: 3.43852161677205e-06\n",
      "g step 800: 3.43852161677205e-06\n",
      "g step 900: 3.43852161677205e-06\n",
      "done!\n"
     ]
    }
   ],
   "source": [
    "# optimize via projected gradient descent\n",
    "\n",
    "u_0 = torch.randn((d,1))\n",
    "u_0 = u_0 / torch.sqrt(u_0.pow(2).sum())\n",
    "X = torch.Tensor(Z)\n",
    "\n",
    "cc = CurvatureEliminationPieces(X, u_0, u_02, u_03)\n",
    "opt = optim.SGD(cc.parameters(), lr=0.001)\n",
    "\n",
    "for i in range(1000):\n",
    "\tcc.zero_grad()\n",
    "\t# forward call of LinFlow\n",
    "\tloss = cc()\n",
    "\n",
    "\tloss.backward()\n",
    "\n",
    "\t# compute Riemannian gradient\n",
    "\tegrad = cc.u.grad.detach()\n",
    "\tbase = cc.u.data.detach()\n",
    "\tbase = base / torch.sqrt(base.pow(2).sum())\n",
    "\trgrad = egrad - base@base.t()@egrad\n",
    "\t# GD step\n",
    "\topt.step()\n",
    "\t# renormalization step\n",
    "\twith torch.no_grad():\n",
    "\t\tcc.u.data = cc.u.data / torch.sqrt((cc.u.data).pow(2).sum());\n",
    "\t\tcc.u2.data = cc.u2.data / torch.sqrt((cc.u2.data).pow(2).sum());\n",
    "\t\tcc.u3.data = cc.u3.data / torch.sqrt((cc.u3.data).pow(2).sum());\n",
    "\n",
    "\t# determine if we have converged\n",
    "\tgradnorm = torch.linalg.norm(rgrad)\n",
    "\tif gradnorm < 5e-5:\n",
    "\t\t# print(f'converged in {i} steps!')\n",
    "\t\t# break\n",
    "\t\tpass\n",
    "\tif i%100 == 0:\n",
    "\t\tprint(f'g step {i}: {gradnorm}')\n",
    "\n",
    "print('done!')"
   ]
  },
  {
   "cell_type": "code",
   "execution_count": 55,
   "metadata": {},
   "outputs": [
    {
     "name": "stdout",
     "output_type": "stream",
     "text": [
      "learned compression direction: [[ 0.04923584 -0.9987872 ]]\n"
     ]
    },
    {
     "data": {
      "image/png": "[encoded data removed]",
      "text/plain": [
       "<Figure size 432x288 with 1 Axes>"
      ]
     },
     "metadata": {
      "needs_background": "light"
     },
     "output_type": "display_data"
    }
   ],
   "source": [
    "# show learned compression direction\n",
    "u_cc = cc.u.data.detach().clone().numpy()\n",
    "\n",
    "print(f'learned compression direction: {u_cc.T}')\n",
    "# scale to look nice on graph\n",
    "# u_show = u_cc * np.min(np.max(torch.abs(X), axis=1))/2\n",
    "u_show = u_cc\n",
    "\n",
    "plt.scatter(X[0,:], X[1,:])\n",
    "# plt.scatter(Z[0,3], Z[1,3],c='r')\n",
    "# plt.scatter(Z[0,11], Z[1,11],c='r')\n",
    "# plt.scatter(Z[0,18], Z[1,18],c='r')\n",
    "plt.quiver(0, 0, u_show[0], u_show[1],scale_units='xy', angles='xy',scale=1)\n",
    "plt.gca().set_aspect('equal', adjustable='box')\n",
    "plt.show()"
   ]
  },
  {
   "cell_type": "code",
   "execution_count": 32,
   "metadata": {},
   "outputs": [
    {
     "name": "stdout",
     "output_type": "stream",
     "text": [
      "max correlation from computed vec:[0.86410201]\n",
      "max correlation from (0,1):[0.99992104]\n",
      "126.539462985678\n",
      "91.92093872057539\n"
     ]
    }
   ],
   "source": [
    "maxval = 0\n",
    "for i in range(8):\n",
    "\tfor j in range(8):\n",
    "\t\tif i != j:\n",
    "\t\t\tif np.abs(u_cc.T@(Z[:,i]-Z[:,j]) / np.linalg.norm(Z[:,i]-Z[:,j]))  > maxval:\n",
    "\t\t\t\tmaxval = u_cc.T@(Z[:,i]-Z[:,j])/ np.linalg.norm(Z[:,i]-Z[:,j])\n",
    "\t\t\n",
    "\n",
    "print(f'max correlation from computed vec:{maxval}')\n",
    "\n",
    "u_new = np.zeros((2,1))\n",
    "u_new[1] = 1\n",
    "u_new[0] = 0\n",
    "u_new = u_new / np.linalg.norm(u_new)\n",
    "maxval = 0\n",
    "for i in range(8):\n",
    "\tfor j in range(8):\n",
    "\t\tif i != j:\n",
    "\t\t\tif np.abs(u_new.T@(Z[:,i]-Z[:,j])/ np.linalg.norm(Z[:,i]-Z[:,j])) > maxval:\n",
    "\t\t\t\tmaxval = u_new.T@(Z[:,i]-Z[:,j])/ np.linalg.norm(Z[:,i]-Z[:,j])\n",
    "\t\t\n",
    "\n",
    "print(f'max correlation from (0,1):{maxval}')\n",
    "\n",
    "U_stacked = np.ones(Z.shape)*u_cc\n",
    "A = (Z.T @ U_stacked - U_stacked.T @ Z)*cc.gamma.detach().cpu().numpy()\n",
    "print(0.5*np.sum(np.power(np.abs(A),4)))\n",
    "\n",
    "U_stacked = np.ones(Z.shape)*u_new\n",
    "A = (Z.T @ U_stacked - U_stacked.T @ Z)*cc.gamma.detach().cpu().numpy()\n",
    "print(0.5*np.sum(np.power(np.abs(A),4)))"
   ]
  },
  {
   "cell_type": "markdown",
   "metadata": {},
   "source": [
    "# Step 2\n",
    "find global positioning for each piece"
   ]
  },
  {
   "cell_type": "code",
   "execution_count": 27,
   "metadata": {},
   "outputs": [],
   "source": [
    "# softmax parameter\n",
    "gamma = 0.5\n",
    "\n",
    "# PyTorch model to optimize our custom loss\n",
    "class AlignmentPieces(nn.Module):\n",
    "\n",
    "    def __init__(self, X, u, u2, u3, alpha_0):\n",
    "        super(AlignmentPieces, self).__init__();\n",
    "        self.X = X\t\n",
    "\n",
    "        # get softmax coefficients\n",
    "        v1 = X[:,[8]]\n",
    "        v2 = X[:,[12]]\n",
    "        v3 = X[:,[16]]\n",
    "\n",
    "        # vectors of square distances\n",
    "        dists1 = (X-v1).pow(2).sum(axis=0)\n",
    "        dists2 = (X-v2).pow(2).sum(axis=0)\n",
    "        dists3 = (X-v3).pow(2).sum(axis=0)\n",
    "\n",
    "        dists_vec = torch.vstack((dists1,dists2,dists3))\n",
    "        self.probs = nn.Softmax(dim=0)(-gamma*dists_vec)\n",
    "\n",
    "        # projection vec\n",
    "        self.u = u\n",
    "        # self.alpha = nn.Parameter(alpha_0)\n",
    "        self.u2 = u2\n",
    "        self.alpha2 = nn.Parameter(alpha_0.clone())\n",
    "        self.u3 = u3\n",
    "        self.alpha3 = nn.Parameter(alpha_0.clone())\n",
    "\n",
    "    def forward(self):\n",
    "        # to eliminate redunancy, enforce first alpha to be 0\n",
    "        Xproj1 = self.X - self.u@self.u.T@self.X\n",
    "        Xproj2 = self.X - self.u2@self.u2.T@self.X + self.alpha2*self.u2\n",
    "        Xproj3 = self.X - self.u3@self.u3.T@self.X + self.alpha3*self.u3\n",
    "\n",
    "        E_Xproj = self.probs[[0],:]*Xproj1 + self.probs[[1],:]*Xproj2 + self.probs[[2],:]*Xproj3\n",
    "        Var_X = self.probs[[0],:]*(Xproj1 - E_Xproj).pow(2).sum(axis=0) + self.probs[[1],:]*(Xproj2 - E_Xproj).pow(2).sum(axis=0) + self.probs[[2],:]*(Xproj3 - E_Xproj).pow(2).sum(axis=0)\n",
    "        return Var_X.sum()\n",
    "        "
   ]
  },
  {
   "cell_type": "code",
   "execution_count": 28,
   "metadata": {},
   "outputs": [
    {
     "name": "stdout",
     "output_type": "stream",
     "text": [
      "data tensor([0.7168]), tensor([0.7919]). loss 9.552173614501953\n",
      "data tensor([-1.6579]), tensor([-2.8709]). loss 1.7598674297332764\n",
      "data tensor([-1.6579]), tensor([-2.8709]). loss 1.7598674297332764\n",
      "data tensor([-1.6579]), tensor([-2.8709]). loss 1.7598674297332764\n",
      "data tensor([-1.6579]), tensor([-2.8709]). loss 1.7598674297332764\n",
      "data tensor([-1.6579]), tensor([-2.8709]). loss 1.7598674297332764\n",
      "data tensor([-1.6579]), tensor([-2.8709]). loss 1.7598674297332764\n",
      "data tensor([-1.6579]), tensor([-2.8709]). loss 1.7598674297332764\n",
      "data tensor([-1.6579]), tensor([-2.8709]). loss 1.7598674297332764\n",
      "data tensor([-1.6579]), tensor([-2.8709]). loss 1.7598674297332764\n",
      "data tensor([-1.6579]), tensor([-2.8709]). loss 1.7598674297332764\n",
      "data tensor([-1.6579]), tensor([-2.8709]). loss 1.7598674297332764\n",
      "data tensor([-1.6579]), tensor([-2.8709]). loss 1.7598674297332764\n",
      "data tensor([-1.6579]), tensor([-2.8709]). loss 1.7598674297332764\n",
      "data tensor([-1.6579]), tensor([-2.8709]). loss 1.7598674297332764\n",
      "data tensor([-1.6579]), tensor([-2.8709]). loss 1.7598674297332764\n",
      "data tensor([-1.6579]), tensor([-2.8709]). loss 1.7598674297332764\n",
      "data tensor([-1.6579]), tensor([-2.8709]). loss 1.7598674297332764\n",
      "data tensor([-1.6579]), tensor([-2.8709]). loss 1.7598674297332764\n",
      "data tensor([-1.6579]), tensor([-2.8709]). loss 1.7598674297332764\n",
      "data tensor([-1.6579]), tensor([-2.8709]). loss 1.7598674297332764\n",
      "data tensor([-1.6579]), tensor([-2.8709]). loss 1.7598674297332764\n"
     ]
    },
    {
     "ename": "KeyboardInterrupt",
     "evalue": "",
     "output_type": "error",
     "traceback": [
      "\u001b[1;31m---------------------------------------------------------------------------\u001b[0m",
      "\u001b[1;31mKeyboardInterrupt\u001b[0m                         Traceback (most recent call last)",
      "\u001b[1;32m~\\AppData\\Local\\Temp/ipykernel_36076/2811430767.py\u001b[0m in \u001b[0;36m<module>\u001b[1;34m\u001b[0m\n\u001b[0;32m      5\u001b[0m         \u001b[0malign\u001b[0m\u001b[1;33m.\u001b[0m\u001b[0mzero_grad\u001b[0m\u001b[1;33m(\u001b[0m\u001b[1;33m)\u001b[0m\u001b[1;33m\u001b[0m\u001b[1;33m\u001b[0m\u001b[0m\n\u001b[0;32m      6\u001b[0m         \u001b[1;31m# forward call of LinFlow\u001b[0m\u001b[1;33m\u001b[0m\u001b[1;33m\u001b[0m\u001b[0m\n\u001b[1;32m----> 7\u001b[1;33m         \u001b[0mloss\u001b[0m \u001b[1;33m=\u001b[0m \u001b[0malign\u001b[0m\u001b[1;33m(\u001b[0m\u001b[1;33m)\u001b[0m\u001b[1;33m\u001b[0m\u001b[1;33m\u001b[0m\u001b[0m\n\u001b[0m\u001b[0;32m      8\u001b[0m         \u001b[0mloss\u001b[0m\u001b[1;33m.\u001b[0m\u001b[0mbackward\u001b[0m\u001b[1;33m(\u001b[0m\u001b[1;33m)\u001b[0m\u001b[1;33m\u001b[0m\u001b[1;33m\u001b[0m\u001b[0m\n\u001b[0;32m      9\u001b[0m \u001b[1;33m\u001b[0m\u001b[0m\n",
      "\u001b[1;32m~\\anaconda3\\lib\\site-packages\\torch\\nn\\modules\\module.py\u001b[0m in \u001b[0;36m_call_impl\u001b[1;34m(self, *input, **kwargs)\u001b[0m\n\u001b[0;32m   1108\u001b[0m         if not (self._backward_hooks or self._forward_hooks or self._forward_pre_hooks or _global_backward_hooks\n\u001b[0;32m   1109\u001b[0m                 or _global_forward_hooks or _global_forward_pre_hooks):\n\u001b[1;32m-> 1110\u001b[1;33m             \u001b[1;32mreturn\u001b[0m \u001b[0mforward_call\u001b[0m\u001b[1;33m(\u001b[0m\u001b[1;33m*\u001b[0m\u001b[0minput\u001b[0m\u001b[1;33m,\u001b[0m \u001b[1;33m**\u001b[0m\u001b[0mkwargs\u001b[0m\u001b[1;33m)\u001b[0m\u001b[1;33m\u001b[0m\u001b[1;33m\u001b[0m\u001b[0m\n\u001b[0m\u001b[0;32m   1111\u001b[0m         \u001b[1;31m# Do not call functions when jit is used\u001b[0m\u001b[1;33m\u001b[0m\u001b[1;33m\u001b[0m\u001b[0m\n\u001b[0;32m   1112\u001b[0m         \u001b[0mfull_backward_hooks\u001b[0m\u001b[1;33m,\u001b[0m \u001b[0mnon_full_backward_hooks\u001b[0m \u001b[1;33m=\u001b[0m \u001b[1;33m[\u001b[0m\u001b[1;33m]\u001b[0m\u001b[1;33m,\u001b[0m \u001b[1;33m[\u001b[0m\u001b[1;33m]\u001b[0m\u001b[1;33m\u001b[0m\u001b[1;33m\u001b[0m\u001b[0m\n",
      "\u001b[1;32m~\\AppData\\Local\\Temp/ipykernel_36076/1359474933.py\u001b[0m in \u001b[0;36mforward\u001b[1;34m(self)\u001b[0m\n\u001b[0;32m     37\u001b[0m \u001b[1;33m\u001b[0m\u001b[0m\n\u001b[0;32m     38\u001b[0m         \u001b[0mE_Xproj\u001b[0m \u001b[1;33m=\u001b[0m \u001b[0mself\u001b[0m\u001b[1;33m.\u001b[0m\u001b[0mprobs\u001b[0m\u001b[1;33m[\u001b[0m\u001b[1;33m[\u001b[0m\u001b[1;36m0\u001b[0m\u001b[1;33m]\u001b[0m\u001b[1;33m,\u001b[0m\u001b[1;33m:\u001b[0m\u001b[1;33m]\u001b[0m\u001b[1;33m*\u001b[0m\u001b[0mXproj1\u001b[0m \u001b[1;33m+\u001b[0m \u001b[0mself\u001b[0m\u001b[1;33m.\u001b[0m\u001b[0mprobs\u001b[0m\u001b[1;33m[\u001b[0m\u001b[1;33m[\u001b[0m\u001b[1;36m1\u001b[0m\u001b[1;33m]\u001b[0m\u001b[1;33m,\u001b[0m\u001b[1;33m:\u001b[0m\u001b[1;33m]\u001b[0m\u001b[1;33m*\u001b[0m\u001b[0mXproj2\u001b[0m \u001b[1;33m+\u001b[0m \u001b[0mself\u001b[0m\u001b[1;33m.\u001b[0m\u001b[0mprobs\u001b[0m\u001b[1;33m[\u001b[0m\u001b[1;33m[\u001b[0m\u001b[1;36m2\u001b[0m\u001b[1;33m]\u001b[0m\u001b[1;33m,\u001b[0m\u001b[1;33m:\u001b[0m\u001b[1;33m]\u001b[0m\u001b[1;33m*\u001b[0m\u001b[0mXproj3\u001b[0m\u001b[1;33m\u001b[0m\u001b[1;33m\u001b[0m\u001b[0m\n\u001b[1;32m---> 39\u001b[1;33m         \u001b[0mVar_X\u001b[0m \u001b[1;33m=\u001b[0m \u001b[0mself\u001b[0m\u001b[1;33m.\u001b[0m\u001b[0mprobs\u001b[0m\u001b[1;33m[\u001b[0m\u001b[1;33m[\u001b[0m\u001b[1;36m0\u001b[0m\u001b[1;33m]\u001b[0m\u001b[1;33m,\u001b[0m\u001b[1;33m:\u001b[0m\u001b[1;33m]\u001b[0m\u001b[1;33m*\u001b[0m\u001b[1;33m(\u001b[0m\u001b[0mXproj1\u001b[0m \u001b[1;33m-\u001b[0m \u001b[0mE_Xproj\u001b[0m\u001b[1;33m)\u001b[0m\u001b[1;33m.\u001b[0m\u001b[0mpow\u001b[0m\u001b[1;33m(\u001b[0m\u001b[1;36m2\u001b[0m\u001b[1;33m)\u001b[0m\u001b[1;33m.\u001b[0m\u001b[0msum\u001b[0m\u001b[1;33m(\u001b[0m\u001b[0maxis\u001b[0m\u001b[1;33m=\u001b[0m\u001b[1;36m0\u001b[0m\u001b[1;33m)\u001b[0m \u001b[1;33m+\u001b[0m \u001b[0mself\u001b[0m\u001b[1;33m.\u001b[0m\u001b[0mprobs\u001b[0m\u001b[1;33m[\u001b[0m\u001b[1;33m[\u001b[0m\u001b[1;36m1\u001b[0m\u001b[1;33m]\u001b[0m\u001b[1;33m,\u001b[0m\u001b[1;33m:\u001b[0m\u001b[1;33m]\u001b[0m\u001b[1;33m*\u001b[0m\u001b[1;33m(\u001b[0m\u001b[0mXproj2\u001b[0m \u001b[1;33m-\u001b[0m \u001b[0mE_Xproj\u001b[0m\u001b[1;33m)\u001b[0m\u001b[1;33m.\u001b[0m\u001b[0mpow\u001b[0m\u001b[1;33m(\u001b[0m\u001b[1;36m2\u001b[0m\u001b[1;33m)\u001b[0m\u001b[1;33m.\u001b[0m\u001b[0msum\u001b[0m\u001b[1;33m(\u001b[0m\u001b[0maxis\u001b[0m\u001b[1;33m=\u001b[0m\u001b[1;36m0\u001b[0m\u001b[1;33m)\u001b[0m \u001b[1;33m+\u001b[0m \u001b[0mself\u001b[0m\u001b[1;33m.\u001b[0m\u001b[0mprobs\u001b[0m\u001b[1;33m[\u001b[0m\u001b[1;33m[\u001b[0m\u001b[1;36m2\u001b[0m\u001b[1;33m]\u001b[0m\u001b[1;33m,\u001b[0m\u001b[1;33m:\u001b[0m\u001b[1;33m]\u001b[0m\u001b[1;33m*\u001b[0m\u001b[1;33m(\u001b[0m\u001b[0mXproj3\u001b[0m \u001b[1;33m-\u001b[0m \u001b[0mE_Xproj\u001b[0m\u001b[1;33m)\u001b[0m\u001b[1;33m.\u001b[0m\u001b[0mpow\u001b[0m\u001b[1;33m(\u001b[0m\u001b[1;36m2\u001b[0m\u001b[1;33m)\u001b[0m\u001b[1;33m.\u001b[0m\u001b[0msum\u001b[0m\u001b[1;33m(\u001b[0m\u001b[0maxis\u001b[0m\u001b[1;33m=\u001b[0m\u001b[1;36m0\u001b[0m\u001b[1;33m)\u001b[0m\u001b[1;33m\u001b[0m\u001b[1;33m\u001b[0m\u001b[0m\n\u001b[0m\u001b[0;32m     40\u001b[0m         \u001b[1;32mreturn\u001b[0m \u001b[0mVar_X\u001b[0m\u001b[1;33m.\u001b[0m\u001b[0msum\u001b[0m\u001b[1;33m(\u001b[0m\u001b[1;33m)\u001b[0m\u001b[1;33m\u001b[0m\u001b[1;33m\u001b[0m\u001b[0m\n\u001b[0;32m     41\u001b[0m \u001b[1;33m\u001b[0m\u001b[0m\n",
      "\u001b[1;31mKeyboardInterrupt\u001b[0m: "
     ]
    }
   ],
   "source": [
    "align = AlignmentPieces(torch.Tensor(Z), cc.u.data, cc.u2.data, cc.u3.data, torch.Tensor([1]))\n",
    "opt = optim.SGD(align.parameters(), lr=0.1)\n",
    "\n",
    "for i in range(50000):\n",
    "\talign.zero_grad()\n",
    "\t# forward call of LinFlow\n",
    "\tloss = align()\n",
    "\tloss.backward()\n",
    "\n",
    "\t# GD step\n",
    "\topt.step()\n",
    "\n",
    "\t# determine if we have converged\n",
    "\tgradnorm = torch.sqrt(align.alpha2.grad.detach().pow(2) + align.alpha3.grad.detach().pow(2))\n",
    "\tif gradnorm < 5e-5:\n",
    "\t\t# print(f'converged in {i} steps!')\n",
    "\t\t# break\n",
    "\t\tpass\n",
    "\tif i%1000 == 0:\n",
    "\t\t# print(f'g step {i}: {gradnorm}')\n",
    "\t\tprint(f'data {align.alpha2.data}, {align.alpha3.data}. loss {loss}')\n",
    "\t\t# print(align.alpha2.data)\n",
    "\t\t# print(align.alpha3.data)\n",
    "\n",
    "print('done!')"
   ]
  },
  {
   "cell_type": "code",
   "execution_count": 29,
   "metadata": {},
   "outputs": [],
   "source": [
    "v1 = Z[:,[4]]\n",
    "v2 = Z[:,[12]]\n",
    "v3 = Z[:,[20]]\n",
    "\n",
    "for i in range(n):\n",
    "\tdists = np.zeros(3)\n",
    "\tdists[0] = np.linalg.norm(Z[:,i] - v1)\n",
    "\tdists[1] = np.linalg.norm(Z[:,i] - v2)\n",
    "\tdists[2] = np.linalg.norm(Z[:,i] - v3)\n",
    "\tif np.argmin(dists) == 0:\n",
    "\t\tprint(i)\n",
    "\t\t"
   ]
  },
  {
   "cell_type": "markdown",
   "metadata": {},
   "source": [
    "# plot"
   ]
  },
  {
   "cell_type": "code",
   "execution_count": 53,
   "metadata": {},
   "outputs": [
    {
     "name": "stdout",
     "output_type": "stream",
     "text": [
      "[0.9160609 0.0542517 0.0296874]\n",
      "[0.93651615 0.04541842 0.01806543]\n",
      "[0.95012564 0.03862679 0.01124757]\n",
      "[0.95927607 0.03351178 0.00721215]\n",
      "[0.96546808 0.02974424 0.00478769]\n",
      "[0.92543584 0.0664506  0.00811357]\n",
      "[0.84254679 0.14390616 0.01354705]\n",
      "[0.69333333 0.2855586  0.02110807]\n",
      "[0.48562011 0.48562011 0.02875979]\n",
      "[0.28202854 0.68476239 0.03320907]\n",
      "[0.14098686 0.82545477 0.03355837]\n",
      "[0.06487947 0.90355532 0.03156521]\n",
      "[0.02902    0.94196001 0.02902   ]\n",
      "[0.03156521 0.90355532 0.06487947]\n",
      "[0.03355837 0.82545477 0.14098686]\n",
      "[0.03320907 0.68476239 0.28202854]\n",
      "[0.02875979 0.48562011 0.48562011]\n",
      "[0.02110807 0.2855586  0.69333333]\n",
      "[0.01354705 0.14390616 0.84254679]\n",
      "[0.00811357 0.0664506  0.92543584]\n",
      "[0.00478769 0.02974424 0.96546808]\n",
      "[0.00721215 0.03351178 0.95927607]\n",
      "[0.01124757 0.03862679 0.95012564]\n",
      "[0.01806543 0.04541842 0.93651615]\n",
      "[0.0296874 0.0542517 0.9160609]\n"
     ]
    },
    {
     "data": {
      "image/png": "[encoded data removed]",
      "text/plain": [
       "<Figure size 432x288 with 1 Axes>"
      ]
     },
     "metadata": {
      "needs_background": "light"
     },
     "output_type": "display_data"
    },
    {
     "data": {
      "image/png": "[encoded data removed]",
      "text/plain": [
       "<Figure size 432x288 with 1 Axes>"
      ]
     },
     "metadata": {
      "needs_background": "light"
     },
     "output_type": "display_data"
    },
    {
     "data": {
      "image/png": "[encoded data removed]",
      "text/plain": [
       "<Figure size 432x288 with 1 Axes>"
      ]
     },
     "metadata": {
      "needs_background": "light"
     },
     "output_type": "display_data"
    },
    {
     "data": {
      "image/png": "[encoded data removed]",
      "text/plain": [
       "<Figure size 432x288 with 1 Axes>"
      ]
     },
     "metadata": {
      "needs_background": "light"
     },
     "output_type": "display_data"
    },
    {
     "data": {
      "image/png": "[encoded data removed]",
      "text/plain": [
       "<Figure size 432x288 with 1 Axes>"
      ]
     },
     "metadata": {
      "needs_background": "light"
     },
     "output_type": "display_data"
    }
   ],
   "source": [
    "u1 = cc.u.detach().clone().cpu().numpy()\n",
    "A1_proj = np.eye(d) - u1@u1.T\n",
    "u2 = cc.u2.detach().clone().cpu().numpy()\n",
    "A2_proj = np.eye(d) - u2@u2.T\n",
    "u3 = cc.u3.detach().clone().cpu().numpy()\n",
    "A3_proj = np.eye(d) - u3@u3.T\n",
    "\n",
    "alpha2 = align.alpha2.detach().clone().cpu().numpy()\n",
    "alpha3 = align.alpha3.detach().clone().cpu().numpy()\n",
    "\n",
    "Z_new = np.zeros(Z.shape)\n",
    "for i in range(n):\n",
    "\tz_vec = Z[:,[i]]\n",
    "\t# compute local components\n",
    "\tproj1 = A1_proj@z_vec + 2.3*u1\n",
    "\tproj2 = A2_proj@z_vec + alpha2*u2\n",
    "\tproj3 = A3_proj@z_vec + alpha3*u3\n",
    "\t# softmax\n",
    "\tdist1 = np.linalg.norm(z_vec - v1)\n",
    "\tdist2 = np.linalg.norm(z_vec - v2)\n",
    "\tdist3 = np.linalg.norm(z_vec - v3)\n",
    "\n",
    "\tprobs = np.array([np.exp(-gamma*dist1), np.exp(-gamma*dist2), np.exp(-gamma*dist3)])\n",
    "\tprobs = probs/probs.sum()\n",
    "\tprint(probs)\n",
    "\n",
    "\tz_new = proj1*probs[0] + proj2*probs[1] + proj3*probs[2]\n",
    "\tZ_new[:,[i]] = z_new\n",
    "\n",
    "\n",
    "plt.scatter(Z[0,:], Z[1,:])\n",
    "plt.title('train_orig')\n",
    "plt.show()\n",
    "plt.scatter(Z_new[0,:], Z_new[1,:])\n",
    "plt.title('train_proj')\n",
    "plt.show()\n",
    "\n",
    "u_proj = np.array([-0.1,1]).reshape((2,1))\n",
    "u_proj = u_proj / np.linalg.norm(u_proj)\n",
    "\n",
    "Z_new_new = Z_new - u_proj@u_proj.T@Z_new\n",
    "plt.scatter(Z_new_new[0,:], Z_new_new[1,:])\n",
    "plt.title('train_proj_end')\n",
    "plt.show()\n",
    "\n",
    "scale=2\n",
    "n_test = 500\n",
    "Z_test = np.zeros((d,n_test))\n",
    "for i in range(n_test):\n",
    "\tx = (1.5 - 1.4/2 +1.4*(i+1)/n_test)*np.pi\n",
    "\tZ_test[0,i] = np.cos(x)\n",
    "\t# Z[1,i] = scale*np.sin(x)\n",
    "\tZ_test[1,i] = np.sin(x)\n",
    "\n",
    "\n",
    "# center and scale (TO ORIGINAL TRAIN DATA)\n",
    "Z_test = Z_test - Z_mean_orig\n",
    "Z_test = Z_test * n / Z_norm_orig\n",
    "\n",
    "# see what mapping is like on test data\n",
    "test_point = Z_test[:,[250]] + 1*np.random.randn(2,1)\n",
    "\n",
    "plt.scatter(Z_test[0,:], Z_test[1,:])\n",
    "plt.scatter(test_point[0,:], test_point[1,:], color='red')\n",
    "plt.title('test_orig')\n",
    "plt.show()\n",
    "\n",
    "\n",
    "\n",
    "for i in range(n_test):\n",
    "\tz_vec = Z_test[:,[i]]\n",
    "\t# compute local components\n",
    "\tproj1 = A1_proj@z_vec + 2*u1\n",
    "\tproj2 = A2_proj@z_vec + alpha2*u2\n",
    "\tproj3 = A3_proj@z_vec + alpha3*u3\n",
    "\t# softmax\n",
    "\tdist1 = np.linalg.norm(z_vec - v1)\n",
    "\tdist2 = np.linalg.norm(z_vec - v2)\n",
    "\tdist3 = np.linalg.norm(z_vec - v3)\n",
    "\n",
    "\tprobs = np.array([np.exp(-gamma*dist1), np.exp(-gamma*dist2), np.exp(-gamma*dist3)])\n",
    "\tprobs = probs/probs.sum()\n",
    "\n",
    "\tz_new = proj1*probs[0] + proj2*probs[1] + proj3*probs[2]\n",
    "\tZ_test[:,[i]] = z_new\n",
    "\n",
    "\n",
    "\n",
    "# test point map\n",
    "z_vec = test_point\n",
    "# compute local components\n",
    "proj1 = A1_proj@z_vec + 2.3*u1\n",
    "proj2 = A2_proj@z_vec + alpha2*u2\n",
    "proj3 = A3_proj@z_vec + alpha3*u3\n",
    "# softmax\n",
    "dist1 = np.linalg.norm(z_vec - v1)\n",
    "dist2 = np.linalg.norm(z_vec - v2)\n",
    "dist3 = np.linalg.norm(z_vec - v3)\n",
    "\n",
    "probs = np.array([np.exp(-gamma*dist1), np.exp(-gamma*dist2), np.exp(-gamma*dist3)])\n",
    "probs = probs/probs.sum()\n",
    "\n",
    "z_new = proj1*probs[0] + proj2*probs[1] + proj3*probs[2]\n",
    "f_test = z_new\n",
    "\n",
    "plt.scatter(Z_test[0,:], Z_test[1,:])\n",
    "plt.scatter(f_test[0,:], f_test[1,:], color='red')\n",
    "plt.title('test_proj')\n",
    "plt.show()\n",
    "\n",
    "\n",
    "\t"
   ]
  },
  {
   "cell_type": "markdown",
   "metadata": {},
   "source": [
    "# Smoothed manifold flattening, randomly selecting patches"
   ]
  },
  {
   "cell_type": "code",
   "execution_count": 211,
   "metadata": {},
   "outputs": [
    {
     "data": {
      "image/png": "[encoded data removed]",
      "text/plain": [
       "<Figure size 432x288 with 1 Axes>"
      ]
     },
     "metadata": {
      "needs_background": "light"
     },
     "output_type": "display_data"
    }
   ],
   "source": [
    "# construct dataset\n",
    "n = 50\n",
    "d = 2\n",
    "X = torch.zeros((n,d))\n",
    "\n",
    "# hyperparameters\n",
    "# \"size of neighborhood\"\n",
    "gamma = 1\n",
    "d_target = 1\n",
    "\n",
    "for i in range(n):\n",
    "\tx_coord = i / n*2*torch.pi\n",
    "\t# X[i,0] = np.cos(x_coord)\n",
    "\tX[i,0] = x_coord\n",
    "\t# Z[1,i] = scale*np.sin(x)\n",
    "\tX[i,1] = np.sin(x_coord)\n",
    "\n",
    "# center and scale\n",
    "X_mean = torch.mean(X, dim=0)\n",
    "X = X - X_mean\n",
    "X_norm = torch.norm(X)/np.sqrt(n*d)\n",
    "X = X / X_norm\n",
    "\n",
    "plt.scatter(X[:,0], X[:,1])\n",
    "plt.show()\n"
   ]
  },
  {
   "cell_type": "code",
   "execution_count": 213,
   "metadata": {},
   "outputs": [
    {
     "data": {
      "image/png": "[encoded data removed]",
      "text/plain": [
       "<Figure size 432x288 with 1 Axes>"
      ]
     },
     "metadata": {
      "needs_background": "light"
     },
     "output_type": "display_data"
    }
   ],
   "source": [
    "# step and show\n",
    "gamma=0.1\n",
    "for _ in range(10):\n",
    "\t# center of neighborhood selection\n",
    "\tchoice = torch.randint(n, (1,))\n",
    "\tcenter = X[choice,:]\n",
    "\n",
    "\t# weighted kernel from current selected point\n",
    "\tkernel_eval = torch.exp(-gamma*torch.sum((X - center)**2, dim=1, keepdim=True))\n",
    "\tkernel_eval = kernel_eval / torch.sum(kernel_eval) #tensor of shape R^(n x 1)\n",
    "\n",
    "\t# weighted mean from current selected point\n",
    "\tkernel_mean = torch.sum(kernel_eval*X, dim=0, keepdim=True)\n",
    "\t# kernel_mean = center\n",
    "\n",
    "\t# record original distances from kernel mean\n",
    "\tX_dist = torch.norm(X - kernel_mean, dim=1, keepdim=True)\n",
    "\n",
    "\t# find new kernel from new center\n",
    "\tkernel_new = torch.exp(-gamma*torch.sum((X - kernel_mean)**2, dim=1, keepdim=True))\n",
    "\t# kernel_new = kernel_new / torch.sum(kernel_new)\n",
    "\tkernel_new = 0.5*kernel_new\n",
    "\n",
    "\t# kernel pca\n",
    "\tU, S, Vt = torch.linalg.svd(torch.sqrt(kernel_new)*(X - kernel_mean))\n",
    "\n",
    "\tpca_kernel = Vt.T[:,:d_target]\n",
    "\t# affine map\n",
    "\tsubspace_proj = ((X - kernel_mean)@pca_kernel)@pca_kernel.T + kernel_mean\n",
    "\n",
    "\t# compute POU using kernel\n",
    "\tX = (1-kernel_new)*X + kernel_new*subspace_proj\n",
    "\n",
    "\t# renormalize so kernel evaluation stays the same\n",
    "\tdist_new = torch.norm(X - kernel_mean, dim=1, keepdim=True)\n",
    "\tdist_new[dist_new == 0] = 1e-6\n",
    "\tX = (X - kernel_mean) / dist_new  * X_dist + kernel_mean\n",
    "\n",
    "plt.scatter(X[:,0], X[:,1])\n",
    "plt.scatter(kernel_mean[:,0], kernel_mean[:,1], color='red')\n",
    "plt.quiver(kernel_mean[:,0], kernel_mean[:,1], pca_kernel[0], pca_kernel[1],scale_units='xy', angles='xy',scale=1)\n",
    "plt.show()\n",
    "\n",
    "# print(X)"
   ]
  },
  {
   "cell_type": "markdown",
   "metadata": {},
   "source": [
    "# dummy 2d vision dataset\n",
    "\n",
    "2-parameter set of 2D images, various brightnesses and x-translations of a centered square"
   ]
  },
  {
   "cell_type": "code",
   "execution_count": 5,
   "metadata": {},
   "outputs": [],
   "source": [
    "# 2d images will be (res) x (res)\n",
    "res = 50\n",
    "# center block will be (block_size) x (block_size)\n",
    "block_size = 5\n",
    "# set of coordinates, a matrix of size (N x 2)\n",
    "# coord[:,0] is the x coordinate, coord[:,1] is the brightness\n",
    "N = 300\n",
    "# random tensor fron uniform distribution\n",
    "coord = torch.rand(N, 2)\n",
    "# transform 1st dimenion into valid x coordinates\n",
    "coord[:,0] = block_size//2 + torch.floor(coord[:,0]*(res-block_size))\n",
    "# transform 2nd to not be completely dark\n",
    "coord[:,1] = 0.1 + 0.9*coord[:,1]\n",
    "\n",
    "# construct data\n",
    "X = torch.zeros(N, res, res)\n",
    "for i in range(N):\n",
    "\tx = int(coord[i,0].item())\n",
    "\ty = res // 2\n",
    "\tbrightness = coord[i,1].item()\n",
    "\t# brightness = 1\n",
    "\tX[i,x-block_size//2:x+block_size//2, y-block_size//2:y+block_size//2] = brightness\n",
    "\n",
    "# vectorize data. converts (N x res x res) to (N x res^2)\n",
    "\n",
    "Z = X.view(N, -1)\n",
    "# get images from vectorized data\n",
    "# X = Z.view(N, res, res)\n"
   ]
  },
  {
   "cell_type": "markdown",
   "metadata": {},
   "source": [
    "ALTERNATIVE DATASET: 1-parameter group just modulating x-position, fixed brightness at 1."
   ]
  },
  {
   "cell_type": "code",
   "execution_count": 101,
   "metadata": {},
   "outputs": [],
   "source": [
    "# 2d images will be (res) x (res)\n",
    "res = 50\n",
    "# center block will be (block_size) x (block_size)\n",
    "block_size = 5\n",
    "# set of coordinates, a matrix of size (N x 2)\n",
    "# coord[:,0] is the x coordinate, coord[:,1] is the brightness\n",
    "N = 30\n",
    "# random tensor fron uniform distribution\n",
    "coord = torch.rand(N, 1)\n",
    "# transform 1st dimenion into valid x coordinates\n",
    "coord[:,0] = block_size//2 + torch.floor(coord[:,0]*(res-block_size))\n",
    "\n",
    "# construct data\n",
    "X = torch.zeros(N, res, res)\n",
    "for i in range(N):\n",
    "\tx = int(coord[i,0].item())\n",
    "\ty = res // 2\n",
    "\tbrightness = 1\n",
    "\t# brightness = 1\n",
    "\tX[i,x-block_size//2:x+block_size//2, y-block_size//2:y+block_size//2] = brightness\n",
    "\n",
    "\n",
    "# if want ordered:\n",
    "\n",
    "N = res - block_size*2\n",
    "X = torch.zeros(N, res, res)\n",
    "for i in range(N):\n",
    "\tx = i\n",
    "\ty = res // 2\n",
    "\tbrightness = 1\n",
    "\t# brightness = 1\n",
    "\tX[i,x-block_size//2:x+block_size//2, y-block_size//2:y+block_size//2] = brightness\n",
    "\n",
    "\n",
    "# vectorize data. converts (N x res x res) to (N x res^2)\n",
    "\n",
    "Z = X.view(N, -1)\n",
    "# get images from vectorized data\n",
    "# X = Z.view(N, res, res)"
   ]
  },
  {
   "cell_type": "code",
   "execution_count": 34,
   "metadata": {},
   "outputs": [
    {
     "data": {
      "image/png": "[encoded data removed]",
      "text/plain": [
       "<Figure size 432x288 with 1 Axes>"
      ]
     },
     "metadata": {
      "needs_background": "light"
     },
     "output_type": "display_data"
    },
    {
     "data": {
      "image/png": "[encoded data removed]",
      "text/plain": [
       "<Figure size 432x288 with 1 Axes>"
      ]
     },
     "metadata": {
      "needs_background": "light"
     },
     "output_type": "display_data"
    },
    {
     "name": "stdout",
     "output_type": "stream",
     "text": [
      "tensor(1.)\n",
      "tensor(1.)\n"
     ]
    }
   ],
   "source": [
    "data1 = 20\n",
    "data2 =17\n",
    "\n",
    "plt.imshow(X[data1,:,:].T, vmin=0.0, vmax=1.0)\n",
    "plt.show()\n",
    "plt.imshow(X[data2,:,:].T, vmin=0.0, vmax=1.0)\n",
    "plt.show()\n",
    "\n",
    "print(Z[data1,:].max())\n",
    "print(Z[data2,:].max())"
   ]
  },
  {
   "cell_type": "code",
   "execution_count": 5,
   "metadata": {},
   "outputs": [],
   "source": [
    "U, S, V_pca_full = torch.svd(Z)\n"
   ]
  },
  {
   "cell_type": "code",
   "execution_count": 13,
   "metadata": {},
   "outputs": [
    {
     "ename": "NameError",
     "evalue": "name 'V' is not defined",
     "output_type": "error",
     "traceback": [
      "\u001b[1;31m---------------------------------------------------------------------------\u001b[0m",
      "\u001b[1;31mNameError\u001b[0m                                 Traceback (most recent call last)",
      "\u001b[1;32m~\\AppData\\Local\\Temp/ipykernel_17096/4000668620.py\u001b[0m in \u001b[0;36m<module>\u001b[1;34m\u001b[0m\n\u001b[0;32m      9\u001b[0m \u001b[1;33m\u001b[0m\u001b[0m\n\u001b[0;32m     10\u001b[0m \u001b[0mZ1\u001b[0m \u001b[1;33m=\u001b[0m \u001b[0mX1\u001b[0m\u001b[1;33m.\u001b[0m\u001b[0mview\u001b[0m\u001b[1;33m(\u001b[0m\u001b[0mlen_test\u001b[0m\u001b[1;33m,\u001b[0m \u001b[1;33m-\u001b[0m\u001b[1;36m1\u001b[0m\u001b[1;33m)\u001b[0m\u001b[1;33m\u001b[0m\u001b[1;33m\u001b[0m\u001b[0m\n\u001b[1;32m---> 11\u001b[1;33m \u001b[0mZ1_proj1\u001b[0m \u001b[1;33m=\u001b[0m \u001b[0mZ1\u001b[0m\u001b[1;33m@\u001b[0m\u001b[0mV\u001b[0m\u001b[1;33m[\u001b[0m\u001b[1;33m:\u001b[0m\u001b[1;33m,\u001b[0m\u001b[1;36m0\u001b[0m\u001b[1;33m]\u001b[0m\u001b[1;33m\u001b[0m\u001b[1;33m\u001b[0m\u001b[0m\n\u001b[0m\u001b[0;32m     12\u001b[0m \u001b[0mZ1_proj2\u001b[0m \u001b[1;33m=\u001b[0m \u001b[0mZ1\u001b[0m\u001b[1;33m@\u001b[0m\u001b[0mV\u001b[0m\u001b[1;33m[\u001b[0m\u001b[1;33m:\u001b[0m\u001b[1;33m,\u001b[0m\u001b[1;36m1\u001b[0m\u001b[1;33m]\u001b[0m\u001b[1;33m\u001b[0m\u001b[1;33m\u001b[0m\u001b[0m\n\u001b[0;32m     13\u001b[0m \u001b[1;33m\u001b[0m\u001b[0m\n",
      "\u001b[1;31mNameError\u001b[0m: name 'V' is not defined"
     ]
    }
   ],
   "source": [
    "# test out or projection from PCA\n",
    "# OLD CODE\n",
    "len_test = res - 2*block_size\n",
    "X1 = torch.zeros(len_test,res,res)\n",
    "for i in range(len_test):\n",
    "\tx = i + block_size//2\n",
    "\ty = res // 2\n",
    "\tbrightness = 1\n",
    "\tX1[i,x-block_size//2:x+block_size//2, y-block_size//2:y+block_size//2] = brightness\n",
    "\n",
    "Z1 = X1.view(len_test, -1)\n",
    "Z1_proj1 = Z1@V[:,0]\n",
    "Z1_proj2 = Z1@V[:,1]\n",
    "\n",
    "plt.plot(np.arange(len_test), Z1_proj1.numpy())\n",
    "plt.title('Projection 1')\n",
    "plt.show()\n",
    "\n",
    "plt.plot(np.arange(len_test), Z1_proj2.numpy())\n",
    "plt.title('Projection 2')\n",
    "plt.show()"
   ]
  },
  {
   "cell_type": "code",
   "execution_count": 58,
   "metadata": {},
   "outputs": [
    {
     "name": "stdout",
     "output_type": "stream",
     "text": [
      "tensor([[1.0000, 0.0035, 0.0035, 0.0035, 0.0591, 0.0035, 0.0035, 0.0035, 0.0035,\n",
      "         0.0035, 0.0035, 0.0035, 0.0035, 0.0035, 0.0035, 0.0035, 0.0035, 0.0035,\n",
      "         0.0035, 0.0183, 0.0035, 0.0035, 0.0035, 0.0035, 0.0035, 0.0035, 0.0035,\n",
      "         0.0035, 0.0035, 0.0035],\n",
      "        [0.0035, 1.0000, 0.0035, 0.0035, 0.0035, 0.0035, 0.0035, 0.0035, 0.0035,\n",
      "         0.0035, 0.0075, 0.0035, 0.0035, 0.0035, 0.0035, 0.0035, 0.0035, 0.0035,\n",
      "         0.0035, 0.0035, 0.0035, 0.0591, 0.0035, 0.0035, 0.0035, 0.0035, 0.0035,\n",
      "         0.0035, 0.0035, 0.0035],\n",
      "        [0.0035, 0.0035, 1.0000, 0.0035, 0.0035, 0.0035, 0.0035, 0.0035, 0.0035,\n",
      "         0.0591, 0.0035, 0.0035, 0.0035, 0.0035, 0.0035, 0.0035, 0.0035, 0.0035,\n",
      "         0.0035, 0.0035, 0.0035, 0.0035, 0.0035, 0.0035, 0.0183, 0.0035, 0.0035,\n",
      "         0.0035, 0.0035, 0.0035],\n",
      "        [0.0035, 0.0035, 0.0035, 1.0000, 0.0035, 0.0035, 1.0000, 0.0035, 1.0000,\n",
      "         0.0075, 0.0035, 0.0035, 0.0035, 0.0035, 0.0075, 0.0183, 0.0035, 0.0035,\n",
      "         0.0035, 0.0035, 1.0000, 0.0035, 0.0035, 0.0035, 0.0183, 0.0035, 0.0035,\n",
      "         0.0183, 0.0035, 0.0035],\n",
      "        [0.0591, 0.0035, 0.0035, 0.0035, 1.0000, 0.0035, 0.0035, 0.0035, 0.0035,\n",
      "         0.0035, 0.0035, 0.0035, 0.0035, 0.0035, 0.0035, 0.0035, 0.0035, 0.0035,\n",
      "         0.0035, 0.0075, 0.0035, 0.0035, 0.0035, 0.0035, 0.0035, 0.0035, 0.0035,\n",
      "         0.0035, 0.0035, 0.0035],\n",
      "        [0.0035, 0.0035, 0.0035, 0.0035, 0.0035, 1.0000, 0.0035, 0.0035, 0.0035,\n",
      "         0.0035, 0.0035, 0.0035, 0.0035, 0.0035, 0.0183, 0.0075, 0.0035, 0.0183,\n",
      "         0.0035, 0.0035, 0.0035, 0.0035, 0.0035, 0.0035, 0.0035, 0.0035, 0.0035,\n",
      "         0.0075, 0.0035, 0.0591],\n",
      "        [0.0035, 0.0035, 0.0035, 1.0000, 0.0035, 0.0035, 1.0000, 0.0035, 1.0000,\n",
      "         0.0075, 0.0035, 0.0035, 0.0035, 0.0035, 0.0075, 0.0183, 0.0035, 0.0035,\n",
      "         0.0035, 0.0035, 1.0000, 0.0035, 0.0035, 0.0035, 0.0183, 0.0035, 0.0035,\n",
      "         0.0183, 0.0035, 0.0035],\n",
      "        [0.0035, 0.0035, 0.0035, 0.0035, 0.0035, 0.0035, 0.0035, 1.0000, 0.0035,\n",
      "         0.0035, 0.0075, 0.0035, 0.0035, 0.0035, 0.0035, 0.0035, 0.0183, 0.0035,\n",
      "         0.0591, 0.0035, 0.0035, 0.0035, 1.0000, 0.0035, 0.0035, 0.0035, 0.0183,\n",
      "         0.0035, 1.0000, 0.0035],\n",
      "        [0.0035, 0.0035, 0.0035, 1.0000, 0.0035, 0.0035, 1.0000, 0.0035, 1.0000,\n",
      "         0.0075, 0.0035, 0.0035, 0.0035, 0.0035, 0.0075, 0.0183, 0.0035, 0.0035,\n",
      "         0.0035, 0.0035, 1.0000, 0.0035, 0.0035, 0.0035, 0.0183, 0.0035, 0.0035,\n",
      "         0.0183, 0.0035, 0.0035],\n",
      "        [0.0035, 0.0035, 0.0591, 0.0075, 0.0035, 0.0035, 0.0075, 0.0035, 0.0075,\n",
      "         1.0000, 0.0035, 0.0035, 0.0035, 0.0035, 0.0035, 0.0035, 0.0035, 0.0035,\n",
      "         0.0035, 0.0035, 0.0075, 0.0035, 0.0035, 0.0035, 0.0591, 0.0035, 0.0035,\n",
      "         0.0035, 0.0035, 0.0035],\n",
      "        [0.0035, 0.0075, 0.0035, 0.0035, 0.0035, 0.0035, 0.0035, 0.0075, 0.0035,\n",
      "         0.0035, 1.0000, 0.0035, 0.0035, 0.0035, 0.0035, 0.0035, 0.0035, 0.0035,\n",
      "         0.0035, 0.0035, 0.0035, 0.0035, 0.0075, 0.0035, 0.0035, 0.0035, 0.0035,\n",
      "         0.0035, 0.0075, 0.0035],\n",
      "        [0.0035, 0.0035, 0.0035, 0.0035, 0.0035, 0.0035, 0.0035, 0.0035, 0.0035,\n",
      "         0.0035, 0.0035, 1.0000, 0.0591, 0.0035, 0.0035, 0.0035, 0.0035, 0.0075,\n",
      "         0.0035, 0.0035, 0.0035, 0.0035, 0.0035, 0.0035, 0.0035, 1.0000, 0.0035,\n",
      "         0.0035, 0.0035, 0.0035],\n",
      "        [0.0035, 0.0035, 0.0035, 0.0035, 0.0035, 0.0035, 0.0035, 0.0035, 0.0035,\n",
      "         0.0035, 0.0035, 0.0591, 1.0000, 0.0035, 0.0035, 0.0035, 0.0035, 0.0035,\n",
      "         0.0035, 0.0035, 0.0035, 0.0035, 0.0035, 0.0035, 0.0035, 0.0591, 0.0035,\n",
      "         0.0035, 0.0035, 0.0035],\n",
      "        [0.0035, 0.0035, 0.0035, 0.0035, 0.0035, 0.0035, 0.0035, 0.0035, 0.0035,\n",
      "         0.0035, 0.0035, 0.0035, 0.0035, 1.0000, 0.0035, 0.0035, 0.0035, 0.0035,\n",
      "         0.0035, 0.0035, 0.0035, 0.0035, 0.0035, 0.0183, 0.0035, 0.0035, 0.0035,\n",
      "         0.0035, 0.0035, 0.0035],\n",
      "        [0.0035, 0.0035, 0.0035, 0.0075, 0.0035, 0.0183, 0.0075, 0.0035, 0.0075,\n",
      "         0.0035, 0.0035, 0.0035, 0.0035, 0.0035, 1.0000, 0.0591, 0.0035, 0.0035,\n",
      "         0.0035, 0.0035, 0.0075, 0.0035, 0.0035, 0.0035, 0.0035, 0.0035, 0.0035,\n",
      "         0.0591, 0.0035, 0.0591],\n",
      "        [0.0035, 0.0035, 0.0035, 0.0183, 0.0035, 0.0075, 0.0183, 0.0035, 0.0183,\n",
      "         0.0035, 0.0035, 0.0035, 0.0035, 0.0035, 0.0591, 1.0000, 0.0035, 0.0035,\n",
      "         0.0035, 0.0035, 0.0183, 0.0035, 0.0035, 0.0035, 0.0035, 0.0035, 0.0035,\n",
      "         1.0000, 0.0035, 0.0183],\n",
      "        [0.0035, 0.0035, 0.0035, 0.0035, 0.0035, 0.0035, 0.0035, 0.0183, 0.0035,\n",
      "         0.0035, 0.0035, 0.0035, 0.0035, 0.0035, 0.0035, 0.0035, 1.0000, 0.0035,\n",
      "         0.0591, 0.0075, 0.0035, 0.0035, 0.0183, 0.0035, 0.0035, 0.0035, 1.0000,\n",
      "         0.0035, 0.0183, 0.0035],\n",
      "        [0.0035, 0.0035, 0.0035, 0.0035, 0.0035, 0.0183, 0.0035, 0.0035, 0.0035,\n",
      "         0.0035, 0.0035, 0.0075, 0.0035, 0.0035, 0.0035, 0.0035, 0.0035, 1.0000,\n",
      "         0.0035, 0.0035, 0.0035, 0.0035, 0.0035, 0.0035, 0.0035, 0.0075, 0.0035,\n",
      "         0.0035, 0.0035, 0.0075],\n",
      "        [0.0035, 0.0035, 0.0035, 0.0035, 0.0035, 0.0035, 0.0035, 0.0591, 0.0035,\n",
      "         0.0035, 0.0035, 0.0035, 0.0035, 0.0035, 0.0035, 0.0035, 0.0591, 0.0035,\n",
      "         1.0000, 0.0035, 0.0035, 0.0035, 0.0591, 0.0035, 0.0035, 0.0035, 0.0591,\n",
      "         0.0035, 0.0591, 0.0035],\n",
      "        [0.0183, 0.0035, 0.0035, 0.0035, 0.0075, 0.0035, 0.0035, 0.0035, 0.0035,\n",
      "         0.0035, 0.0035, 0.0035, 0.0035, 0.0035, 0.0035, 0.0035, 0.0075, 0.0035,\n",
      "         0.0035, 1.0000, 0.0035, 0.0035, 0.0035, 0.0035, 0.0035, 0.0035, 0.0075,\n",
      "         0.0035, 0.0035, 0.0035],\n",
      "        [0.0035, 0.0035, 0.0035, 1.0000, 0.0035, 0.0035, 1.0000, 0.0035, 1.0000,\n",
      "         0.0075, 0.0035, 0.0035, 0.0035, 0.0035, 0.0075, 0.0183, 0.0035, 0.0035,\n",
      "         0.0035, 0.0035, 1.0000, 0.0035, 0.0035, 0.0035, 0.0183, 0.0035, 0.0035,\n",
      "         0.0183, 0.0035, 0.0035],\n",
      "        [0.0035, 0.0591, 0.0035, 0.0035, 0.0035, 0.0035, 0.0035, 0.0035, 0.0035,\n",
      "         0.0035, 0.0035, 0.0035, 0.0035, 0.0035, 0.0035, 0.0035, 0.0035, 0.0035,\n",
      "         0.0035, 0.0035, 0.0035, 1.0000, 0.0035, 0.0035, 0.0035, 0.0035, 0.0035,\n",
      "         0.0035, 0.0035, 0.0035],\n",
      "        [0.0035, 0.0035, 0.0035, 0.0035, 0.0035, 0.0035, 0.0035, 1.0000, 0.0035,\n",
      "         0.0035, 0.0075, 0.0035, 0.0035, 0.0035, 0.0035, 0.0035, 0.0183, 0.0035,\n",
      "         0.0591, 0.0035, 0.0035, 0.0035, 1.0000, 0.0035, 0.0035, 0.0035, 0.0183,\n",
      "         0.0035, 1.0000, 0.0035],\n",
      "        [0.0035, 0.0035, 0.0035, 0.0035, 0.0035, 0.0035, 0.0035, 0.0035, 0.0035,\n",
      "         0.0035, 0.0035, 0.0035, 0.0035, 0.0183, 0.0035, 0.0035, 0.0035, 0.0035,\n",
      "         0.0035, 0.0035, 0.0035, 0.0035, 0.0035, 1.0000, 0.0035, 0.0035, 0.0035,\n",
      "         0.0035, 0.0035, 0.0035],\n",
      "        [0.0035, 0.0035, 0.0183, 0.0183, 0.0035, 0.0035, 0.0183, 0.0035, 0.0183,\n",
      "         0.0591, 0.0035, 0.0035, 0.0035, 0.0035, 0.0035, 0.0035, 0.0035, 0.0035,\n",
      "         0.0035, 0.0035, 0.0183, 0.0035, 0.0035, 0.0035, 1.0000, 0.0035, 0.0035,\n",
      "         0.0035, 0.0035, 0.0035],\n",
      "        [0.0035, 0.0035, 0.0035, 0.0035, 0.0035, 0.0035, 0.0035, 0.0035, 0.0035,\n",
      "         0.0035, 0.0035, 1.0000, 0.0591, 0.0035, 0.0035, 0.0035, 0.0035, 0.0075,\n",
      "         0.0035, 0.0035, 0.0035, 0.0035, 0.0035, 0.0035, 0.0035, 1.0000, 0.0035,\n",
      "         0.0035, 0.0035, 0.0035],\n",
      "        [0.0035, 0.0035, 0.0035, 0.0035, 0.0035, 0.0035, 0.0035, 0.0183, 0.0035,\n",
      "         0.0035, 0.0035, 0.0035, 0.0035, 0.0035, 0.0035, 0.0035, 1.0000, 0.0035,\n",
      "         0.0591, 0.0075, 0.0035, 0.0035, 0.0183, 0.0035, 0.0035, 0.0035, 1.0000,\n",
      "         0.0035, 0.0183, 0.0035],\n",
      "        [0.0035, 0.0035, 0.0035, 0.0183, 0.0035, 0.0075, 0.0183, 0.0035, 0.0183,\n",
      "         0.0035, 0.0035, 0.0035, 0.0035, 0.0035, 0.0591, 1.0000, 0.0035, 0.0035,\n",
      "         0.0035, 0.0035, 0.0183, 0.0035, 0.0035, 0.0035, 0.0035, 0.0035, 0.0035,\n",
      "         1.0000, 0.0035, 0.0183],\n",
      "        [0.0035, 0.0035, 0.0035, 0.0035, 0.0035, 0.0035, 0.0035, 1.0000, 0.0035,\n",
      "         0.0035, 0.0075, 0.0035, 0.0035, 0.0035, 0.0035, 0.0035, 0.0183, 0.0035,\n",
      "         0.0591, 0.0035, 0.0035, 0.0035, 1.0000, 0.0035, 0.0035, 0.0035, 0.0183,\n",
      "         0.0035, 1.0000, 0.0035],\n",
      "        [0.0035, 0.0035, 0.0035, 0.0035, 0.0035, 0.0591, 0.0035, 0.0035, 0.0035,\n",
      "         0.0035, 0.0035, 0.0035, 0.0035, 0.0035, 0.0591, 0.0183, 0.0035, 0.0075,\n",
      "         0.0035, 0.0035, 0.0035, 0.0035, 0.0035, 0.0035, 0.0035, 0.0035, 0.0035,\n",
      "         0.0183, 0.0035, 1.0000]])\n"
     ]
    }
   ],
   "source": [
    "edm = torch.cdist(Z, Z)\n",
    "print(torch.exp(-1*edm))"
   ]
  },
  {
   "cell_type": "code",
   "execution_count": 138,
   "metadata": {},
   "outputs": [],
   "source": [
    "# NEW METHOD: trying to make computation more efficient\n",
    "# PyTorch model to optimize our custom loss\n",
    "class InjectivityPCA(nn.Module):\n",
    "\n",
    "    def __init__(self, X, u_0):\n",
    "        super(InjectivityPCA, self).__init__();\n",
    "        # data\n",
    "        n, d = X.shape\n",
    "        self.X = X\n",
    "        # collect difference vectors. return is of shape (n x n x d)\n",
    "        diff_full = X.unsqueeze(1) - X\n",
    "        # return non-redundant difference vectors (keep only i - j instead of i - j and j - i)\n",
    "        # return of shape is (n(n-1)/2 x d)\n",
    "        diff_select = torch.ones(diff_full.shape[:2]).triu(diagonal=1)\n",
    "        diff_select = diff_select.bool()\n",
    "        self.diff_select = diff_select\n",
    "        diff = diff_full[diff_select,:]\n",
    "\n",
    "        # # finally, normalize difference vectors (rows)\n",
    "        # self.diff = diff / torch.norm(diff, dim=1, keepdim=True)\n",
    "        # store norms of full diff vec matrix\n",
    "        diff_norm = torch.norm(diff, dim=1, keepdim=True)\n",
    "        # make sure no divide by 0 error\n",
    "        diff_norm[diff_norm == 0] = 1\n",
    "        self.diff_norm_scale = 1 / diff_norm\n",
    "        \n",
    "        # projection vec\n",
    "        self.U = nn.Parameter(u_0)\n",
    "\n",
    "    def forward(self):\n",
    "        # Apply projection vectors to difference vectors\n",
    "        A = self.X @ self.U\n",
    "        # Compute diff from projected vectors\n",
    "        # diff_proj = (A.unsqueeze(1) - A)\n",
    "        diff_proj = (A[1:,:] - A[:-1,:])[2:, :]\n",
    "        # remove redundant diffs, normalize\n",
    "        # diff_proj = diff_proj[self.diff_select,:] * self.diff_norm_scale*10\n",
    "        # diff_proj = diff_proj[self.diff_select,:]\n",
    "        \n",
    "        # average out sample complexity, but not dimension\n",
    "        return diff_proj.mean()"
   ]
  },
  {
   "cell_type": "code",
   "execution_count": 114,
   "metadata": {},
   "outputs": [],
   "source": [
    "import time"
   ]
  },
  {
   "cell_type": "code",
   "execution_count": 142,
   "metadata": {},
   "outputs": [
    {
     "name": "stdout",
     "output_type": "stream",
     "text": [
      "step 0: -0.0018\n",
      "step 5: -0.0042\n",
      "step 500: -0.1394\n",
      "step 1000: -0.1522\n",
      "step 1500: -0.1529\n",
      "step 2000: -0.1529\n",
      "step 2500: -0.1529\n",
      "step 3000: -0.1529\n",
      "step 3500: -0.1529\n",
      "step 4000: -0.1529\n",
      "step 4500: -0.1529\n",
      "step 5000: -0.1529\n",
      "step 5500: -0.1529\n",
      "step 6000: -0.1529\n",
      "step 6500: -0.1529\n",
      "step 7000: -0.1529\n",
      "step 7500: -0.1529\n",
      "step 8000: -0.1529\n",
      "step 8500: -0.1529\n",
      "done!\n",
      "time: 7.712584699969739s\n"
     ]
    }
   ],
   "source": [
    "# METHOD 1: optimize upwards (build up 2-dim subspace to project onto)\n",
    "n, d = Z.shape\n",
    "lr = 0.02\n",
    "d_final = 1\n",
    "# U_0 = torch.randn(d,d-2)\n",
    "# Q, R = torch.linalg.qr(U_0)\n",
    "# U_0 = Q\n",
    "# u_0 = u_0 / torch.norm(u_0, p=2, dim=0, keepdim=True)\n",
    "\n",
    "\n",
    "U_0 = torch.randn(d, d_final)\n",
    "Q, R = torch.linalg.qr(U_0)\n",
    "U_0 = Q\n",
    "\n",
    "# U_0 = U_0 / torch.norm(U_0, p=2)\n",
    "\n",
    "pca_new = InjectivityPCA(Z, U_0.detach().clone())\n",
    "\n",
    "\n",
    "\n",
    "opt = optim.SGD(pca_new.parameters(), lr=lr)\n",
    "\n",
    "loss_prev = -1\n",
    "\n",
    "start = time.perf_counter()\n",
    "\n",
    "\n",
    "for i in range(9000):\n",
    "    pca_new.zero_grad()\n",
    "    # forward call of LinFlow\n",
    "    loss = pca_new()\n",
    "\n",
    "    loss.backward()\n",
    "\n",
    "    # compute Riemannian gradient\n",
    "    # egrad = pca_new.u.grad.detach()\n",
    "    # base = pca_new.u.data.detach()\n",
    "    # base = base / torch.sqrt(base.pow(2).sum())\n",
    "    # rgrad = egrad - base@base.t()@egrad\n",
    "    # GD step\n",
    "    opt.step()\n",
    "    # renormalization step\n",
    "    with torch.no_grad():\n",
    "        # multi-dim case\n",
    "        Q, R = torch.linalg.qr(pca_new.U)\n",
    "        pca_new.U.data = Q\n",
    "\n",
    "        # one-at-a-time case\n",
    "        # # project to current subspace\n",
    "        # if N.numel() > 1:\n",
    "        #     pca_new.U.data = pca_new.U.data - N@(N.T@pca_new.U.data)\n",
    "        # # normalize\n",
    "        # pca_new.U.data = pca_new.U.data / torch.norm(pca_new.U.data, p=2)\n",
    "\n",
    "    # determine if we have converged\n",
    "    # gradnorm = torch.linalg.norm(rgrad)\n",
    "    # if loss_prev != -1 and torch.abs((loss - loss_prev)).item() < 1e-6:\n",
    "    # \tprint(f'converged in {i} steps! final loss: {loss.item()}')\n",
    "    # \tbreak\n",
    "    if i % 500 == 0 or i==5:\n",
    "        print(f'step {i}: {loss.item():.4f}')\n",
    "        # print(f'g step {i}: {gradnorm}')\n",
    "    loss_prev = loss.detach()\n",
    "\n",
    "\n",
    "print('done!')\n",
    "print(f'time: {time.perf_counter() - start}s')\n",
    "P_final = pca_new.U.data.clone()"
   ]
  },
  {
   "cell_type": "code",
   "execution_count": 327,
   "metadata": {},
   "outputs": [
    {
     "name": "stdout",
     "output_type": "stream",
     "text": [
      "dim: 50 step 0: 2.3093\n",
      "dim: 50 step 5: 0.1568\n",
      "dim: 50 step 500: 0.0013\n",
      "dim: 50 step 1000: 0.0006\n",
      "dim: 50 step 1500: 0.0004\n",
      "dim: 50 step 2000: 0.0003\n",
      "dim: 50 step 2500: 0.0003\n",
      "dim: 49 step 0: 2.4871\n",
      "dim: 49 step 5: 0.2189\n",
      "dim: 49 step 500: 0.0047\n",
      "dim: 49 step 1000: 0.0016\n",
      "dim: 49 step 1500: 0.0008\n",
      "dim: 49 step 2000: 0.0005\n",
      "dim: 49 step 2500: 0.0004\n",
      "dim: 48 step 0: 2.1420\n",
      "dim: 48 step 5: 0.2931\n",
      "dim: 48 step 500: 0.0059\n",
      "dim: 48 step 1000: 0.0025\n",
      "dim: 48 step 1500: 0.0016\n",
      "dim: 48 step 2000: 0.0011\n",
      "dim: 48 step 2500: 0.0009\n",
      "dim: 47 step 0: 1.9043\n",
      "dim: 47 step 5: 0.2781\n",
      "dim: 47 step 500: 0.0038\n",
      "dim: 47 step 1000: 0.0015\n",
      "dim: 47 step 1500: 0.0009\n",
      "dim: 47 step 2000: 0.0006\n",
      "dim: 47 step 2500: 0.0004\n",
      "dim: 46 step 0: 2.4118\n",
      "dim: 46 step 5: 0.2372\n",
      "dim: 46 step 500: 0.0020\n",
      "dim: 46 step 1000: 0.0009\n",
      "dim: 46 step 1500: 0.0007\n",
      "dim: 46 step 2000: 0.0005\n",
      "dim: 46 step 2500: 0.0005\n",
      "dim: 45 step 0: 2.1966\n",
      "dim: 45 step 5: 0.2695\n",
      "dim: 45 step 500: 0.0059\n",
      "dim: 45 step 1000: 0.0029\n",
      "dim: 45 step 1500: 0.0019\n",
      "dim: 45 step 2000: 0.0014\n",
      "dim: 45 step 2500: 0.0011\n",
      "dim: 44 step 0: 1.3419\n",
      "dim: 44 step 5: 0.3283\n",
      "dim: 44 step 500: 0.0087\n",
      "dim: 44 step 1000: 0.0034\n",
      "dim: 44 step 1500: 0.0021\n",
      "dim: 44 step 2000: 0.0015\n",
      "dim: 44 step 2500: 0.0011\n",
      "dim: 43 step 0: 1.8925\n",
      "dim: 43 step 5: 0.3214\n",
      "dim: 43 step 500: 0.0046\n",
      "dim: 43 step 1000: 0.0018\n",
      "dim: 43 step 1500: 0.0011\n",
      "dim: 43 step 2000: 0.0007\n",
      "dim: 43 step 2500: 0.0006\n",
      "dim: 42 step 0: 5.6349\n",
      "dim: 42 step 5: 0.3830\n",
      "dim: 42 step 500: 0.0070\n",
      "dim: 42 step 1000: 0.0026\n",
      "dim: 42 step 1500: 0.0014\n",
      "dim: 42 step 2000: 0.0010\n",
      "dim: 42 step 2500: 0.0008\n",
      "dim: 41 step 0: 2.2960\n",
      "dim: 41 step 5: 0.2877\n",
      "dim: 41 step 500: 0.0116\n",
      "dim: 41 step 1000: 0.0056\n",
      "dim: 41 step 1500: 0.0037\n",
      "dim: 41 step 2000: 0.0029\n",
      "dim: 41 step 2500: 0.0024\n",
      "dim: 40 step 0: 1.3232\n",
      "dim: 40 step 5: 0.4438\n",
      "dim: 40 step 500: 0.0360\n",
      "dim: 40 step 1000: 0.0241\n",
      "dim: 40 step 1500: 0.0183\n",
      "dim: 40 step 2000: 0.0141\n",
      "dim: 40 step 2500: 0.0111\n",
      "dim: 39 step 0: 2.9368\n",
      "dim: 39 step 5: 0.4527\n",
      "dim: 39 step 500: 0.0329\n",
      "dim: 39 step 1000: 0.0237\n",
      "dim: 39 step 1500: 0.0181\n",
      "dim: 39 step 2000: 0.0142\n",
      "dim: 39 step 2500: 0.0110\n",
      "dim: 38 step 0: 5.5326\n",
      "dim: 38 step 5: 0.4127\n",
      "dim: 38 step 500: 0.0297\n",
      "dim: 38 step 1000: 0.0160\n",
      "dim: 38 step 1500: 0.0122\n",
      "dim: 38 step 2000: 0.0112\n",
      "dim: 38 step 2500: 0.0109\n",
      "dim: 37 step 0: 3.9046\n",
      "dim: 37 step 5: 0.9020\n",
      "dim: 37 step 500: 0.0214\n",
      "dim: 37 step 1000: 0.0154\n",
      "dim: 37 step 1500: 0.0137\n",
      "dim: 37 step 2000: 0.0127\n",
      "dim: 37 step 2500: 0.0119\n",
      "dim: 36 step 0: 1.4631\n",
      "dim: 36 step 5: 0.6118\n",
      "dim: 36 step 500: 0.0296\n",
      "dim: 36 step 1000: 0.0200\n",
      "dim: 36 step 1500: 0.0164\n",
      "dim: 36 step 2000: 0.0148\n",
      "dim: 36 step 2500: 0.0141\n",
      "dim: 35 step 0: 3.1537\n",
      "dim: 35 step 5: 0.6951\n",
      "dim: 35 step 500: 0.0842\n",
      "dim: 35 step 1000: 0.0592\n",
      "dim: 35 step 1500: 0.0477\n",
      "dim: 35 step 2000: 0.0365\n",
      "dim: 35 step 2500: 0.0263\n",
      "dim: 34 step 0: 1.2876\n",
      "dim: 34 step 5: 0.5722\n",
      "dim: 34 step 500: 0.0974\n",
      "dim: 34 step 1000: 0.0670\n",
      "dim: 34 step 1500: 0.0552\n",
      "dim: 34 step 2000: 0.0524\n",
      "dim: 34 step 2500: 0.0514\n",
      "dim: 33 step 0: 3.8177\n",
      "dim: 33 step 5: 0.8822\n",
      "dim: 33 step 500: 0.1144\n",
      "dim: 33 step 1000: 0.0824\n",
      "dim: 33 step 1500: 0.0749\n",
      "dim: 33 step 2000: 0.0705\n",
      "dim: 33 step 2500: 0.0675\n",
      "dim: 32 step 0: 3.9102\n",
      "dim: 32 step 5: 0.9122\n",
      "dim: 32 step 500: 0.1071\n",
      "dim: 32 step 1000: 0.0854\n",
      "dim: 32 step 1500: 0.0785\n",
      "dim: 32 step 2000: 0.0705\n",
      "dim: 32 step 2500: 0.0634\n",
      "dim: 31 step 0: 2.2652\n",
      "dim: 31 step 5: 1.2566\n",
      "dim: 31 step 500: 0.1641\n",
      "dim: 31 step 1000: 0.1285\n",
      "dim: 31 step 1500: 0.1027\n",
      "dim: 31 step 2000: 0.0953\n",
      "dim: 31 step 2500: 0.0926\n",
      "dim: 30 step 0: 2.6165\n",
      "dim: 30 step 5: 1.3914\n",
      "dim: 30 step 500: 0.1914\n",
      "dim: 30 step 1000: 0.1495\n",
      "dim: 30 step 1500: 0.1273\n",
      "dim: 30 step 2000: 0.1210\n",
      "dim: 30 step 2500: 0.1184\n",
      "dim: 29 step 0: 3.2376\n",
      "dim: 29 step 5: 1.6285\n",
      "dim: 29 step 500: 0.1402\n",
      "dim: 29 step 1000: 0.1261\n",
      "dim: 29 step 1500: 0.1244\n",
      "dim: 29 step 2000: 0.1240\n",
      "dim: 29 step 2500: 0.1236\n",
      "dim: 28 step 0: 2.0069\n",
      "dim: 28 step 5: 1.2535\n",
      "dim: 28 step 500: 0.1847\n",
      "dim: 28 step 1000: 0.1782\n",
      "dim: 28 step 1500: 0.1771\n",
      "dim: 28 step 2000: 0.1768\n",
      "dim: 28 step 2500: 0.1766\n",
      "dim: 27 step 0: 2.9499\n",
      "dim: 27 step 5: 1.6898\n",
      "dim: 27 step 500: 0.2510\n",
      "dim: 27 step 1000: 0.2204\n",
      "dim: 27 step 1500: 0.2097\n",
      "dim: 27 step 2000: 0.2037\n",
      "dim: 27 step 2500: 0.2012\n",
      "dim: 26 step 0: 1.8287\n",
      "dim: 26 step 5: 1.3228\n",
      "dim: 26 step 500: 0.2207\n",
      "dim: 26 step 1000: 0.2156\n",
      "dim: 26 step 1500: 0.2147\n",
      "dim: 26 step 2000: 0.2138\n",
      "dim: 26 step 2500: 0.2127\n",
      "dim: 25 step 0: 2.0163\n",
      "dim: 25 step 5: 1.7131\n",
      "dim: 25 step 500: 0.2968\n",
      "dim: 25 step 1000: 0.2628\n",
      "dim: 25 step 1500: 0.2589\n",
      "dim: 25 step 2000: 0.2584\n",
      "dim: 25 step 2500: 0.2578\n",
      "dim: 24 step 0: 1.4534\n",
      "dim: 24 step 5: 1.5864\n",
      "dim: 24 step 500: 0.4045\n",
      "dim: 24 step 1000: 0.3978\n",
      "dim: 24 step 1500: 0.3846\n",
      "dim: 24 step 2000: 0.3208\n",
      "dim: 24 step 2500: 0.2971\n",
      "dim: 23 step 0: 1.2940\n",
      "dim: 23 step 5: 3.7254\n",
      "dim: 23 step 500: 0.4036\n",
      "dim: 23 step 1000: 0.3275\n",
      "dim: 23 step 1500: 0.3179\n",
      "dim: 23 step 2000: 0.3110\n",
      "dim: 23 step 2500: 0.3067\n",
      "dim: 22 step 0: 3.0754\n",
      "dim: 22 step 5: 2.1884\n",
      "dim: 22 step 500: 0.3456\n",
      "dim: 22 step 1000: 0.3365\n",
      "dim: 22 step 1500: 0.3345\n",
      "dim: 22 step 2000: 0.3337\n",
      "dim: 22 step 2500: 0.3333\n",
      "dim: 21 step 0: 3.4503\n",
      "dim: 21 step 5: 4.6700\n",
      "dim: 21 step 500: 0.4495\n",
      "dim: 21 step 1000: 0.4440\n",
      "dim: 21 step 1500: 0.4433\n",
      "dim: 21 step 2000: 0.4432\n",
      "dim: 21 step 2500: 0.4431\n",
      "dim: 20 step 0: 0.7470\n",
      "dim: 20 step 5: 3.1704\n",
      "dim: 20 step 500: 0.4690\n",
      "dim: 20 step 1000: 0.4622\n",
      "dim: 20 step 1500: 0.4597\n",
      "dim: 20 step 2000: 0.4576\n",
      "dim: 20 step 2500: 0.4554\n",
      "dim: 19 step 0: 1.8312\n",
      "dim: 19 step 5: 4.0052\n",
      "dim: 19 step 500: 0.4846\n",
      "dim: 19 step 1000: 0.4618\n",
      "dim: 19 step 1500: 0.4603\n",
      "dim: 19 step 2000: 0.4602\n",
      "dim: 19 step 2500: 0.4602\n",
      "dim: 18 step 0: 3.4537\n",
      "dim: 18 step 5: 4.7456\n",
      "dim: 18 step 500: 0.5233\n",
      "dim: 18 step 1000: 0.5229\n",
      "dim: 18 step 1500: 0.5229\n",
      "dim: 18 step 2000: 0.5229\n",
      "dim: 18 step 2500: 0.5229\n",
      "dim: 17 step 0: 5.4745\n",
      "dim: 17 step 5: 5.8919\n",
      "dim: 17 step 500: 0.9158\n",
      "dim: 17 step 1000: 0.9148\n",
      "dim: 17 step 1500: 0.9148\n",
      "dim: 17 step 2000: 0.9148\n",
      "dim: 17 step 2500: 0.9148\n",
      "dim: 16 step 0: 2.7322\n",
      "dim: 16 step 5: 15.3909\n",
      "dim: 16 step 500: 1.3482\n",
      "dim: 16 step 1000: 1.3475\n",
      "dim: 16 step 1500: 1.3475\n",
      "dim: 16 step 2000: 1.3475\n",
      "dim: 16 step 2500: 1.3475\n",
      "dim: 15 step 0: 4.6379\n",
      "dim: 15 step 5: 12.2889\n",
      "dim: 15 step 500: 2.0046\n",
      "dim: 15 step 1000: 1.9953\n",
      "dim: 15 step 1500: 1.9952\n",
      "dim: 15 step 2000: 1.9952\n",
      "dim: 15 step 2500: 1.9952\n",
      "dim: 14 step 0: 5.9388\n",
      "dim: 14 step 5: 17.8293\n",
      "dim: 14 step 500: 2.8471\n",
      "dim: 14 step 1000: 2.8442\n",
      "dim: 14 step 1500: 2.8442\n",
      "dim: 14 step 2000: 2.8442\n",
      "dim: 14 step 2500: 2.8442\n",
      "dim: 13 step 0: 1.2911\n",
      "dim: 13 step 5: 15.3506\n",
      "dim: 13 step 500: 5.0395\n",
      "dim: 13 step 1000: 4.9087\n",
      "dim: 13 step 1500: 4.7974\n",
      "dim: 13 step 2000: 4.5989\n",
      "dim: 13 step 2500: 3.5005\n",
      "dim: 12 step 0: 5.6286\n",
      "dim: 12 step 5: 25.2626\n",
      "dim: 12 step 500: 5.0335\n",
      "dim: 12 step 1000: 5.0323\n",
      "dim: 12 step 1500: 5.0323\n",
      "dim: 12 step 2000: 5.0323\n",
      "dim: 12 step 2500: 5.0323\n",
      "dim: 11 step 0: 2.2454\n",
      "dim: 11 step 5: 18.0566\n",
      "dim: 11 step 500: 7.2789\n",
      "dim: 11 step 1000: 7.2789\n",
      "dim: 11 step 1500: 7.2789\n",
      "dim: 11 step 2000: 7.2789\n",
      "dim: 11 step 2500: 7.2789\n",
      "dim: 10 step 0: 1.7265\n",
      "dim: 10 step 5: 30.6025\n",
      "dim: 10 step 500: 8.4302\n",
      "dim: 10 step 1000: 8.4302\n",
      "dim: 10 step 1500: 8.4302\n",
      "dim: 10 step 2000: 8.4302\n",
      "dim: 10 step 2500: 8.4302\n",
      "dim: 9 step 0: 1.4295\n",
      "dim: 9 step 5: 25.2727\n",
      "dim: 9 step 500: 13.8228\n",
      "dim: 9 step 1000: 13.8212\n",
      "dim: 9 step 1500: 13.8212\n",
      "dim: 9 step 2000: 13.8212\n",
      "dim: 9 step 2500: 13.8212\n",
      "dim: 8 step 0: 1.1611\n",
      "dim: 8 step 5: 28.0190\n",
      "dim: 8 step 500: 16.2831\n",
      "dim: 8 step 1000: 16.2709\n",
      "dim: 8 step 1500: 16.2708\n",
      "dim: 8 step 2000: 16.2708\n",
      "dim: 8 step 2500: 16.2708\n",
      "dim: 7 step 0: 1.4146\n",
      "dim: 7 step 5: 32.1268\n",
      "dim: 7 step 500: 19.8638\n",
      "dim: 7 step 1000: 18.4060\n",
      "dim: 7 step 1500: 18.4022\n",
      "dim: 7 step 2000: 18.4022\n",
      "dim: 7 step 2500: 18.4022\n",
      "dim: 6 step 0: 1.2058\n",
      "dim: 6 step 5: 32.5354\n",
      "dim: 6 step 500: 25.5718\n",
      "dim: 6 step 1000: 25.5624\n",
      "dim: 6 step 1500: 25.5624\n",
      "dim: 6 step 2000: 25.5624\n",
      "dim: 6 step 2500: 25.5624\n",
      "dim: 5 step 0: 0.6610\n",
      "dim: 5 step 5: 39.3712\n",
      "dim: 5 step 500: 30.9758\n",
      "dim: 5 step 1000: 30.6455\n",
      "dim: 5 step 1500: 30.3336\n",
      "dim: 5 step 2000: 27.2620\n",
      "dim: 5 step 2500: 27.2344\n",
      "dim: 4 step 0: 3.0648\n",
      "dim: 4 step 5: 37.0079\n",
      "dim: 4 step 500: 34.7861\n",
      "dim: 4 step 1000: 34.7851\n",
      "dim: 4 step 1500: 34.7851\n",
      "dim: 4 step 2000: 34.7851\n",
      "dim: 4 step 2500: 34.7851\n",
      "dim: 3 step 0: 2.4171\n",
      "dim: 3 step 5: 48.0312\n",
      "dim: 3 step 500: 40.1383\n",
      "dim: 3 step 1000: 35.9967\n",
      "dim: 3 step 1500: 35.6492\n",
      "dim: 3 step 2000: 35.6439\n",
      "dim: 3 step 2500: 35.6438\n",
      "done!\n",
      "time: 491.1318748000049s\n"
     ]
    }
   ],
   "source": [
    "n, d = Z.shape\n",
    "lr = 0.02\n",
    "d_final = 2\n",
    "# U_0 = torch.randn(d,d-2)\n",
    "# Q, R = torch.linalg.qr(U_0)\n",
    "# U_0 = Q\n",
    "# u_0 = u_0 / torch.norm(u_0, p=2, dim=0, keepdim=True)\n",
    "\n",
    "\n",
    "U_0 = torch.randn(d, 1)\n",
    "# Q, R = torch.linalg.qr(pca_new.U)\n",
    "# pca_new.U.data = Q\n",
    "\n",
    "U_0 = U_0 / torch.norm(U_0, p=2)\n",
    "\n",
    "pca_new = InjectivityPCA(Z_pca, U_0.detach().clone())\n",
    "\n",
    "\n",
    "\n",
    "opt = optim.SGD(pca_new.parameters(), lr=lr)\n",
    "\n",
    "loss_prev = -1\n",
    "\n",
    "start = time.perf_counter()\n",
    "\n",
    "for k in range(d - d_final):\n",
    "\n",
    "    for i in range(3000):\n",
    "        pca_new.zero_grad()\n",
    "        # forward call of LinFlow\n",
    "        loss = pca_new()\n",
    "\n",
    "        loss.backward()\n",
    "\n",
    "        # compute Riemannian gradient\n",
    "        # egrad = pca_new.u.grad.detach()\n",
    "        # base = pca_new.u.data.detach()\n",
    "        # base = base / torch.sqrt(base.pow(2).sum())\n",
    "        # rgrad = egrad - base@base.t()@egrad\n",
    "        # GD step\n",
    "        opt.step()\n",
    "        # renormalization step\n",
    "        with torch.no_grad():\n",
    "            # multi-dim case\n",
    "            Q, R = torch.linalg.qr(pca_new.U)\n",
    "            pca_new.U.data = Q\n",
    "\n",
    "            # one-at-a-time case\n",
    "            # # project to current subspace\n",
    "            # if N.numel() > 1:\n",
    "            #     pca_new.U.data = pca_new.U.data - N@(N.T@pca_new.U.data)\n",
    "            # # normalize\n",
    "            # pca_new.U.data = pca_new.U.data / torch.norm(pca_new.U.data, p=2)\n",
    "\n",
    "        # determine if we have converged\n",
    "        # gradnorm = torch.linalg.norm(rgrad)\n",
    "        # if loss_prev != -1 and torch.abs((loss - loss_prev)).item() < 1e-6:\n",
    "        # \tprint(f'converged in {i} steps! final loss: {loss.item()}')\n",
    "        # \tbreak\n",
    "        if i % 500 == 0 or i==5:\n",
    "            print(f'step {i}: {loss.item():.4f}')\n",
    "            # print(f'g step {i}: {gradnorm}')\n",
    "        loss_prev = loss.detach()\n",
    "\n",
    "\n",
    "print('done!')\n",
    "print(f'time: {time.perf_counter() - start}s')\n",
    "P_final = pca_new.U.data\n",
    "\n",
    "# construct projection\n",
    "T = torch.eye(d) - N@N.T\n",
    "U, S, V = torch.svd(T)\n",
    "U_final = U[:,:d_final]\n",
    "# vv this is the map we hope flattens Z (Z@P_final)\n",
    "P_final = V_pca@U_final\n"
   ]
  },
  {
   "cell_type": "code",
   "execution_count": 210,
   "metadata": {},
   "outputs": [
    {
     "data": {
      "image/png": "[encoded data removed]",
      "text/plain": [
       "<Figure size 432x288 with 1 Axes>"
      ]
     },
     "metadata": {
      "needs_background": "light"
     },
     "output_type": "display_data"
    }
   ],
   "source": [
    "# OLD CODE\n",
    "# u_proj = u_learned.detach().clone()\n",
    "u_proj = torch.zeros(res,res)\n",
    "for i in range(res):\n",
    "\tu_proj[i,:] = (i- res / 2) / (res / 2)\n",
    "u_proj = u_proj.view(1, -1).T\n",
    "\n",
    "# test out or projection from PCA\n",
    "len_test = res - 2*block_size\n",
    "X1 = torch.zeros(len_test,res,res)\n",
    "for i in range(len_test):\n",
    "\tx = i + block_size//2\n",
    "\ty = res // 2\n",
    "\tbrightness = 1\n",
    "\tX1[i,x-block_size//2:x+block_size//2, y-block_size//2:y+block_size//2] = brightness\n",
    "\n",
    "Z1 = X1.view(len_test, -1)\n",
    "Z1_proj1 = Z1@u_proj\n",
    "\n",
    "plt.plot(np.arange(len_test), Z1_proj1.numpy())\n",
    "plt.title('Projection 1')\n",
    "plt.show()\n",
    "\n",
    "# plt.plot(np.arange(len_test), Z1_proj2.numpy())\n",
    "# plt.title('Projection 2')\n",
    "# plt.show()"
   ]
  },
  {
   "cell_type": "markdown",
   "metadata": {},
   "source": [
    "View projections, 2D data"
   ]
  },
  {
   "cell_type": "code",
   "execution_count": 22,
   "metadata": {},
   "outputs": [
    {
     "name": "stdout",
     "output_type": "stream",
     "text": [
      "torch.Size([300, 2])\n"
     ]
    },
    {
     "data": {
      "image/png": "[encoded data removed]",
      "text/plain": [
       "<Figure size 432x288 with 1 Axes>"
      ]
     },
     "metadata": {
      "needs_background": "light"
     },
     "output_type": "display_data"
    }
   ],
   "source": [
    "u_proj1 = torch.zeros(res,res)\n",
    "for i in range(res):\n",
    "\tu_proj1[i,:] = (i- res / 2) / (res / 2)\n",
    "u_proj1[:,:res//2 - block_size//2] = 0\n",
    "u_proj1[:,res//2 + block_size//2:] = 0\n",
    "u_proj1 = u_proj1.view(1, -1).T\n",
    "u_proj2 = torch.ones(res**2, 1)\n",
    "# normalize\n",
    "u_proj1 = u_proj1 / torch.norm(u_proj1, p=2)\n",
    "u_proj2 = u_proj2 / torch.norm(u_proj2, p=2)\n",
    "\n",
    "# U = torch.hstack((V_pca_full[:,[0]], V_pca_full[:,[1]]))\n",
    "U = torch.hstack((u_proj1, u_proj2))\n",
    "# U = P_final\n",
    "# U= u_proj1\n",
    "# U = torch.randn(U.shape)\n",
    "Z_proj = Z@U\n",
    "print(Z_proj.shape)\n",
    "plt.scatter(Z_proj[:,0].numpy(), Z_proj[:,1].numpy())\n",
    "\n",
    "# show geodesic\n",
    "len_test = res - 2*block_size\n",
    "X1 = torch.zeros(len_test,res,res)\n",
    "for i in range(len_test):\n",
    "\tx = i + block_size//2\n",
    "\ty = res // 2\n",
    "\tbrightness = 0.5\n",
    "\tX1[i,x-block_size//2:x+block_size//2, y-block_size//2:y+block_size//2] = brightness\n",
    "\n",
    "Z1 = X1.view(len_test, -1)\n",
    "Z1_proj1 = Z1@U\n",
    "plt.plot(Z1_proj1[:,0].numpy(), Z1_proj1[:,1].numpy(), c='r')\n",
    "# plt.plot(np.arange(len_test), Z1_proj1[:].numpy(), c='r')\n",
    "plt.show()"
   ]
  },
  {
   "cell_type": "markdown",
   "metadata": {},
   "source": [
    "View projections, 1D data"
   ]
  },
  {
   "cell_type": "code",
   "execution_count": 43,
   "metadata": {},
   "outputs": [
    {
     "name": "stdout",
     "output_type": "stream",
     "text": [
      "torch.Size([300, 2500])\n",
      "torch.Size([300, 1])\n"
     ]
    }
   ],
   "source": [
    "print(Z.shape)\n",
    "print((Z@u_proj1)[:].shape)"
   ]
  },
  {
   "cell_type": "code",
   "execution_count": 45,
   "metadata": {},
   "outputs": [
    {
     "name": "stdout",
     "output_type": "stream",
     "text": [
      "tensor([[-1.8413],\n",
      "        [-1.8413],\n",
      "        [-1.8413],\n",
      "        [-1.8413],\n",
      "        [-1.8413],\n",
      "        [-1.8413],\n",
      "        [-1.8413],\n",
      "        [-1.8413],\n",
      "        [-1.8413],\n",
      "        [-1.8413],\n",
      "        [-1.8413],\n",
      "        [-1.7629],\n",
      "        [-1.7629],\n",
      "        [-1.7629],\n",
      "        [-1.7629],\n",
      "        [-1.7629],\n",
      "        [-1.6846],\n",
      "        [-1.6846],\n",
      "        [-1.6846],\n",
      "        [-1.6846],\n",
      "        [-1.6846],\n",
      "        [-1.6062],\n",
      "        [-1.6062],\n",
      "        [-1.6062],\n",
      "        [-1.6062],\n",
      "        [-1.6062],\n",
      "        [-1.5279],\n",
      "        [-1.5279],\n",
      "        [-1.4495],\n",
      "        [-1.4495],\n",
      "        [-1.4495],\n",
      "        [-1.4495],\n",
      "        [-1.4495],\n",
      "        [-1.4495],\n",
      "        [-1.4495],\n",
      "        [-1.3712],\n",
      "        [-1.3712],\n",
      "        [-1.3712],\n",
      "        [-1.3712],\n",
      "        [-1.2928],\n",
      "        [-1.2928],\n",
      "        [-1.2145],\n",
      "        [-1.2145],\n",
      "        [-1.2145],\n",
      "        [-1.2145],\n",
      "        [-1.2145],\n",
      "        [-1.2145],\n",
      "        [-1.2145],\n",
      "        [-1.1361],\n",
      "        [-1.1361],\n",
      "        [-1.1361],\n",
      "        [-1.1361],\n",
      "        [-1.1361],\n",
      "        [-1.1361],\n",
      "        [-1.0578],\n",
      "        [-1.0578],\n",
      "        [-1.0578],\n",
      "        [-1.0578],\n",
      "        [-1.0578],\n",
      "        [-1.0578],\n",
      "        [-1.0578],\n",
      "        [-1.0578],\n",
      "        [-0.9794],\n",
      "        [-0.9794],\n",
      "        [-0.9794],\n",
      "        [-0.9794],\n",
      "        [-0.9794],\n",
      "        [-0.9794],\n",
      "        [-0.9794],\n",
      "        [-0.9011],\n",
      "        [-0.9011],\n",
      "        [-0.8227],\n",
      "        [-0.8227],\n",
      "        [-0.8227],\n",
      "        [-0.8227],\n",
      "        [-0.8227],\n",
      "        [-0.8227],\n",
      "        [-0.8227],\n",
      "        [-0.8227],\n",
      "        [-0.7443],\n",
      "        [-0.7443],\n",
      "        [-0.7443],\n",
      "        [-0.7443],\n",
      "        [-0.7443],\n",
      "        [-0.7443],\n",
      "        [-0.7443],\n",
      "        [-0.7443],\n",
      "        [-0.7443],\n",
      "        [-0.7443],\n",
      "        [-0.7443],\n",
      "        [-0.7443],\n",
      "        [-0.7443],\n",
      "        [-0.6660],\n",
      "        [-0.6660],\n",
      "        [-0.6660],\n",
      "        [-0.6660],\n",
      "        [-0.6660],\n",
      "        [-0.6660],\n",
      "        [-0.6660],\n",
      "        [-0.6660],\n",
      "        [-0.6660],\n",
      "        [-0.6660],\n",
      "        [-0.6660],\n",
      "        [-0.6660],\n",
      "        [-0.6660],\n",
      "        [-0.5876],\n",
      "        [-0.5876],\n",
      "        [-0.5876],\n",
      "        [-0.5876],\n",
      "        [-0.5876],\n",
      "        [-0.5876],\n",
      "        [-0.5876],\n",
      "        [-0.5876],\n",
      "        [-0.5876],\n",
      "        [-0.5093],\n",
      "        [-0.5093],\n",
      "        [-0.5093],\n",
      "        [-0.5093],\n",
      "        [-0.5093],\n",
      "        [-0.5093],\n",
      "        [-0.5093],\n",
      "        [-0.5093],\n",
      "        [-0.5093],\n",
      "        [-0.5093],\n",
      "        [-0.5093],\n",
      "        [-0.5093],\n",
      "        [-0.4309],\n",
      "        [-0.4309],\n",
      "        [-0.4309],\n",
      "        [-0.4309],\n",
      "        [-0.4309],\n",
      "        [-0.4309],\n",
      "        [-0.4309],\n",
      "        [-0.4309],\n",
      "        [-0.4309],\n",
      "        [-0.4309],\n",
      "        [-0.3526],\n",
      "        [-0.3526],\n",
      "        [-0.2742],\n",
      "        [-0.2742],\n",
      "        [-0.2742],\n",
      "        [-0.2742],\n",
      "        [-0.1959],\n",
      "        [-0.1959],\n",
      "        [-0.1959],\n",
      "        [-0.1959],\n",
      "        [-0.1959],\n",
      "        [-0.1959],\n",
      "        [-0.1959],\n",
      "        [-0.1959],\n",
      "        [-0.1959],\n",
      "        [-0.1959],\n",
      "        [-0.1175],\n",
      "        [-0.1175],\n",
      "        [-0.1175],\n",
      "        [-0.0392],\n",
      "        [-0.0392],\n",
      "        [-0.0392],\n",
      "        [-0.0392],\n",
      "        [-0.0392],\n",
      "        [-0.0392],\n",
      "        [-0.0392],\n",
      "        [-0.0392],\n",
      "        [-0.0392],\n",
      "        [-0.0392],\n",
      "        [-0.0392],\n",
      "        [-0.0392],\n",
      "        [ 0.0392],\n",
      "        [ 0.0392],\n",
      "        [ 0.0392],\n",
      "        [ 0.0392],\n",
      "        [ 0.0392],\n",
      "        [ 0.0392],\n",
      "        [ 0.0392],\n",
      "        [ 0.1175],\n",
      "        [ 0.1175],\n",
      "        [ 0.1175],\n",
      "        [ 0.1175],\n",
      "        [ 0.1175],\n",
      "        [ 0.1175],\n",
      "        [ 0.1175],\n",
      "        [ 0.1175],\n",
      "        [ 0.1959],\n",
      "        [ 0.1959],\n",
      "        [ 0.2742],\n",
      "        [ 0.2742],\n",
      "        [ 0.2742],\n",
      "        [ 0.2742],\n",
      "        [ 0.2742],\n",
      "        [ 0.3526],\n",
      "        [ 0.3526],\n",
      "        [ 0.3526],\n",
      "        [ 0.3526],\n",
      "        [ 0.3526],\n",
      "        [ 0.3526],\n",
      "        [ 0.3526],\n",
      "        [ 0.3526],\n",
      "        [ 0.4309],\n",
      "        [ 0.4309],\n",
      "        [ 0.4309],\n",
      "        [ 0.4309],\n",
      "        [ 0.4309],\n",
      "        [ 0.5093],\n",
      "        [ 0.5093],\n",
      "        [ 0.5093],\n",
      "        [ 0.5093],\n",
      "        [ 0.5093],\n",
      "        [ 0.5093],\n",
      "        [ 0.5093],\n",
      "        [ 0.5093],\n",
      "        [ 0.5876],\n",
      "        [ 0.5876],\n",
      "        [ 0.5876],\n",
      "        [ 0.5876],\n",
      "        [ 0.5876],\n",
      "        [ 0.5876],\n",
      "        [ 0.6660],\n",
      "        [ 0.6660],\n",
      "        [ 0.6660],\n",
      "        [ 0.6660],\n",
      "        [ 0.6660],\n",
      "        [ 0.6660],\n",
      "        [ 0.7443],\n",
      "        [ 0.7443],\n",
      "        [ 0.7443],\n",
      "        [ 0.7443],\n",
      "        [ 0.7443],\n",
      "        [ 0.7443],\n",
      "        [ 0.7443],\n",
      "        [ 0.7443],\n",
      "        [ 0.7443],\n",
      "        [ 0.7443],\n",
      "        [ 0.8227],\n",
      "        [ 0.8227],\n",
      "        [ 0.8227],\n",
      "        [ 0.9011],\n",
      "        [ 0.9011],\n",
      "        [ 0.9011],\n",
      "        [ 0.9011],\n",
      "        [ 0.9011],\n",
      "        [ 0.9011],\n",
      "        [ 0.9011],\n",
      "        [ 0.9794],\n",
      "        [ 0.9794],\n",
      "        [ 0.9794],\n",
      "        [ 0.9794],\n",
      "        [ 0.9794],\n",
      "        [ 0.9794],\n",
      "        [ 0.9794],\n",
      "        [ 0.9794],\n",
      "        [ 0.9794],\n",
      "        [ 0.9794],\n",
      "        [ 1.0578],\n",
      "        [ 1.0578],\n",
      "        [ 1.0578],\n",
      "        [ 1.0578],\n",
      "        [ 1.0578],\n",
      "        [ 1.0578],\n",
      "        [ 1.0578],\n",
      "        [ 1.1361],\n",
      "        [ 1.1361],\n",
      "        [ 1.1361],\n",
      "        [ 1.1361],\n",
      "        [ 1.1361],\n",
      "        [ 1.2145],\n",
      "        [ 1.2145],\n",
      "        [ 1.2145],\n",
      "        [ 1.2145],\n",
      "        [ 1.2145],\n",
      "        [ 1.2928],\n",
      "        [ 1.2928],\n",
      "        [ 1.2928],\n",
      "        [ 1.2928],\n",
      "        [ 1.2928],\n",
      "        [ 1.3712],\n",
      "        [ 1.3712],\n",
      "        [ 1.3712],\n",
      "        [ 1.3712],\n",
      "        [ 1.3712],\n",
      "        [ 1.3712],\n",
      "        [ 1.4495],\n",
      "        [ 1.4495],\n",
      "        [ 1.4495],\n",
      "        [ 1.4495],\n",
      "        [ 1.5279],\n",
      "        [ 1.5279],\n",
      "        [ 1.5279],\n",
      "        [ 1.5279],\n",
      "        [ 1.5279],\n",
      "        [ 1.5279],\n",
      "        [ 1.5279],\n",
      "        [ 1.5279],\n",
      "        [ 1.6062],\n",
      "        [ 1.6062],\n",
      "        [ 1.6062],\n",
      "        [ 1.6062],\n",
      "        [ 1.6062],\n",
      "        [ 1.6062],\n",
      "        [ 1.6062],\n",
      "        [ 1.6062]])\n"
     ]
    }
   ],
   "source": [
    "vals, indices = (Z@u_proj1).reshape(N).sort()\n",
    "Z_sort = (Z@u_proj1)[indices]\n",
    "# print(args)\n",
    "print(Z_sort)"
   ]
  },
  {
   "cell_type": "code",
   "execution_count": null,
   "metadata": {},
   "outputs": [],
   "source": []
  },
  {
   "cell_type": "code",
   "execution_count": 143,
   "metadata": {},
   "outputs": [
    {
     "data": {
      "image/png": "[encoded data removed]",
      "text/plain": [
       "<Figure size 432x288 with 1 Axes>"
      ]
     },
     "metadata": {
      "needs_background": "light"
     },
     "output_type": "display_data"
    }
   ],
   "source": [
    "N = Z.shape[0]\n",
    "u_proj1 = torch.zeros(res,res)\n",
    "for i in range(res):\n",
    "\tu_proj1[i,:] = (i- res / 2) / (res / 2)\n",
    "u_proj1[:,:res//2 - block_size//2] = 0\n",
    "u_proj1[:,res//2 + block_size//2:] = 0\n",
    "u_proj1 = u_proj1.view(1, -1).T\n",
    "# normalize\n",
    "u_proj1 = u_proj1 / torch.norm(u_proj1, p=2)\n",
    "\n",
    "# U = V_pca_full[:,[0]]\n",
    "# U = u_proj1\n",
    "U = P_final\n",
    "# U= u_proj1\n",
    "# U = torch.randn(U.shape)\n",
    "\n",
    "# test out or projection from PCA\n",
    "len_test = res - 2*block_size\n",
    "X1 = torch.zeros(len_test,res,res)\n",
    "for i in range(len_test):\n",
    "\tx = i + block_size//2\n",
    "\ty = res // 2\n",
    "\tbrightness = 1\n",
    "\tX1[i,x-block_size//2:x+block_size//2, y-block_size//2:y+block_size//2] = brightness\n",
    "\n",
    "Z1 = X1.view(len_test, -1)\n",
    "Z1_proj1 = Z1@U\n",
    "\n",
    "plt.plot(np.arange(len_test), Z1_proj1.numpy())\n",
    "plt.title('Projection 1')\n",
    "plt.show()"
   ]
  },
  {
   "cell_type": "markdown",
   "metadata": {},
   "source": [
    "plotting filters"
   ]
  },
  {
   "cell_type": "code",
   "execution_count": 144,
   "metadata": {},
   "outputs": [
    {
     "name": "stdout",
     "output_type": "stream",
     "text": [
      "min: -0.1767767369747162 max: 0.1767767369747162\n"
     ]
    },
    {
     "data": {
      "image/png": "[encoded data removed]",
      "text/plain": [
       "<Figure size 432x288 with 1 Axes>"
      ]
     },
     "metadata": {
      "needs_background": "light"
     },
     "output_type": "display_data"
    }
   ],
   "source": [
    "filt = P_final.view(res, res)\n",
    "\n",
    "plt.imshow(filt.T)\n",
    "print(f'min: {filt.min()} max: {filt.max()}')"
   ]
  },
  {
   "cell_type": "code",
   "execution_count": 1,
   "metadata": {},
   "outputs": [
    {
     "ename": "NameError",
     "evalue": "name 'torch' is not defined",
     "output_type": "error",
     "traceback": [
      "\u001b[1;31m---------------------------------------------------------------------------\u001b[0m",
      "\u001b[1;31mNameError\u001b[0m                                 Traceback (most recent call last)",
      "\u001b[1;32m~\\AppData\\Local\\Temp/ipykernel_2308/230189077.py\u001b[0m in \u001b[0;36m<module>\u001b[1;34m\u001b[0m\n\u001b[1;32m----> 1\u001b[1;33m \u001b[0mU\u001b[0m\u001b[1;33m,\u001b[0m \u001b[0mS\u001b[0m\u001b[1;33m,\u001b[0m \u001b[0mV\u001b[0m \u001b[1;33m=\u001b[0m \u001b[0mtorch\u001b[0m\u001b[1;33m.\u001b[0m\u001b[0msvd\u001b[0m\u001b[1;33m(\u001b[0m\u001b[0mZ\u001b[0m\u001b[1;33m)\u001b[0m\u001b[1;33m\u001b[0m\u001b[1;33m\u001b[0m\u001b[0m\n\u001b[0m\u001b[0;32m      2\u001b[0m \u001b[0mU\u001b[0m \u001b[1;33m=\u001b[0m \u001b[0mtorch\u001b[0m\u001b[1;33m.\u001b[0m\u001b[0mhstack\u001b[0m\u001b[1;33m(\u001b[0m\u001b[1;33m(\u001b[0m\u001b[0mV\u001b[0m\u001b[1;33m[\u001b[0m\u001b[1;33m:\u001b[0m\u001b[1;33m,\u001b[0m\u001b[1;33m[\u001b[0m\u001b[1;36m0\u001b[0m\u001b[1;33m]\u001b[0m\u001b[1;33m]\u001b[0m\u001b[1;33m,\u001b[0m \u001b[0mV\u001b[0m\u001b[1;33m[\u001b[0m\u001b[1;33m:\u001b[0m\u001b[1;33m,\u001b[0m\u001b[1;33m[\u001b[0m\u001b[1;36m1\u001b[0m\u001b[1;33m]\u001b[0m\u001b[1;33m]\u001b[0m\u001b[1;33m)\u001b[0m\u001b[1;33m)\u001b[0m\u001b[1;33m\u001b[0m\u001b[1;33m\u001b[0m\u001b[0m\n\u001b[0;32m      3\u001b[0m \u001b[0mfilters\u001b[0m \u001b[1;33m=\u001b[0m \u001b[0mU\u001b[0m\u001b[1;33m.\u001b[0m\u001b[0mT\u001b[0m\u001b[1;33m.\u001b[0m\u001b[0mview\u001b[0m\u001b[1;33m(\u001b[0m\u001b[0md_final\u001b[0m\u001b[1;33m,\u001b[0m \u001b[0mres\u001b[0m\u001b[1;33m,\u001b[0m \u001b[0mres\u001b[0m\u001b[1;33m)\u001b[0m\u001b[1;33m\u001b[0m\u001b[1;33m\u001b[0m\u001b[0m\n\u001b[0;32m      4\u001b[0m \u001b[1;33m\u001b[0m\u001b[0m\n\u001b[0;32m      5\u001b[0m \u001b[0mplt\u001b[0m\u001b[1;33m.\u001b[0m\u001b[0mimshow\u001b[0m\u001b[1;33m(\u001b[0m\u001b[0mfilters\u001b[0m\u001b[1;33m[\u001b[0m\u001b[1;36m0\u001b[0m\u001b[1;33m,\u001b[0m\u001b[1;33m:\u001b[0m\u001b[1;33m,\u001b[0m\u001b[1;33m:\u001b[0m\u001b[1;33m]\u001b[0m\u001b[1;33m.\u001b[0m\u001b[0mT\u001b[0m\u001b[1;33m)\u001b[0m\u001b[1;33m\u001b[0m\u001b[1;33m\u001b[0m\u001b[0m\n",
      "\u001b[1;31mNameError\u001b[0m: name 'torch' is not defined"
     ]
    }
   ],
   "source": [
    "U, S, V = torch.svd(Z)\n",
    "U = torch.hstack((V[:,[0]], V[:,[1]]))\n",
    "filters = U.T.view(d_final, res, res)\n",
    "\n",
    "plt.imshow(filters[0,:,:].T)\n",
    "print(f'min: {filters[0,:,:].min()} max: {filters[0,:,:].max()}')\n",
    "plt.show()\n",
    "plt.imshow(filters[1,:,:].T, vmin=0.0, vmax=1.0)\n",
    "print(f'min: {filters[1,:,:].min()} max: {filters[1,:,:].max()}')\n",
    "plt.show()\n"
   ]
  },
  {
   "cell_type": "markdown",
   "metadata": {},
   "source": [
    "# test regen (TO TEST)"
   ]
  },
  {
   "cell_type": "code",
   "execution_count": 55,
   "metadata": {},
   "outputs": [],
   "source": [
    "# init data construction\n",
    "N = 100\n",
    "X = torch.zeros(N, 2)\n",
    "# half circle\n",
    "for i in range(N):\n",
    "    # x_coord = np.pi*i/N + np.pi\n",
    "    x_coord = 2*np.pi*i/N\n",
    "    # X[i, 0] = np.cos(np.pi*i/N + np.pi)\n",
    "    X[i, 0] = x_coord\n",
    "    X[i, 1] = np.sin(x_coord)\n",
    "\n",
    "X = X + torch.Tensor([0, 1])\n",
    "rot = torch.randn(2,2)\n",
    "Q, R = torch.linalg.qr(rot)\n",
    "rot = Q\n",
    "# X = X@rot\n",
    "\n",
    "# random manifold\n",
    "manifold = Manifold(3, 2)\n",
    "X = manifold.generateSample(N)\n",
    "\n",
    "X_0 = X.clone()\n",
    "\n",
    "# fidelity term for how close to max radius to get\n",
    "# fid = 10\n",
    "# number of flattening steps per cell eval\n",
    "n_iter = 50\n",
    "# how many max steps for inner optimization of U, V\n",
    "n_iter_inner = 10000\n",
    "# threshold for reconstruction loss being good enough\n",
    "thres_recon = 1e-4\n",
    "log2 = float(np.log(2))\n",
    "alpha_max = 0.5"
   ]
  },
  {
   "cell_type": "code",
   "execution_count": 62,
   "metadata": {},
   "outputs": [
    {
     "data": {
      "image/png": "[encoded data removed]",
      "text/plain": [
       "<Figure size 432x288 with 1 Axes>"
      ]
     },
     "metadata": {
      "needs_background": "light"
     },
     "output_type": "display_data"
    }
   ],
   "source": [
    "fig = plt.figure()\n",
    "ax = fig.add_subplot(111, projection='3d')\n",
    "# ax.scatter(X[:, 0], X[:,1], X[:,2], c='b')\n",
    "ax.scatter(Z[:, 0], Z[:,1], Z[:,2], c='r')\n",
    "# ax.scatter(Xhat[:, 0], Xhat[:,1], Xhat[:,2], c='c')\n",
    "plt.show()"
   ]
  },
  {
   "cell_type": "code",
   "execution_count": 57,
   "metadata": {},
   "outputs": [],
   "source": [
    "def opt_UV(Z, z_c, U_0, n_iter_inner, r=-1, kernel=-1):\n",
    "\t# optimize U, V\n",
    "\tU = torch.nn.Parameter(U_0.clone())\n",
    "\tU.requires_grad = True\n",
    "\n",
    "\topt_U = optim.SGD([U], lr=1)\n",
    "\n",
    "\t# must specify either r or kernel\n",
    "\tif type(r) != torch.Tensor and type(kernel) != torch.Tensor:\n",
    "\t\traise ValueError('Must specify either r or kernel')\n",
    "\n",
    "\t# init kernel\n",
    "\tif type(kernel) != torch.Tensor:\n",
    "\t\tgamma = float(np.log(2))/(r**2)\n",
    "\t\tkernel_pre = torch.exp(-gamma*(Z - z_c).pow(2).sum(dim=1, keepdim=True))\n",
    "\t\tz_mu = (Z*kernel_pre).sum(dim=0, keepdim=True) / kernel_pre.sum()\n",
    "\t\tkernel = torch.exp(-gamma*(Z - z_mu).pow(2).sum(dim=1, keepdim=True))\n",
    "\t\n",
    "\t# optimize U\n",
    "\tfor i in range(n_iter_inner):\n",
    "\t\tU_old = U.data.clone()\n",
    "\t\topt_U.zero_grad()\n",
    "\t\t# opt_V.zero_grad()\n",
    "\t\t# opt_alpha.zero_grad()\n",
    "\t\tcoord = (Z - z_c) @ U\n",
    "\t\tZ_perp = (Z - z_c) - coord @ U.T\n",
    "\t\tcoord2 = coord.pow(2)\n",
    "\t\tA = coord2 * kernel\n",
    "\t\tb = Z_perp * kernel\n",
    "\n",
    "\t\t# least squares solution for V, note automatically orthogonal to U\n",
    "\t\twith torch.no_grad():\n",
    "\t\t\tV = ((A.T@A).inverse() @ (A.T@b)).T\n",
    "\n",
    "\t\tloss = 0.5*(kernel*(Z_perp - coord2@V.T)).pow(2).mean()\n",
    "\t\t# loss = (U).pow(2).mean()\n",
    "\t\tloss.backward()\n",
    "\n",
    "\t\topt_U.step()\n",
    "\t\t# update to gradient\n",
    "\n",
    "\t\twith torch.no_grad():\n",
    "\t\t\t\n",
    "\t\t\t# project onto Steifel manifold\n",
    "\t\t\tif U.data.shape[1] == 1:\n",
    "\t\t\t\tU.data = U.data / torch.norm(U.data, p=2)\n",
    "\t\t\telse:\n",
    "\t\t\t\tU_svd, S_svd, Vh_svd = torch.linalg.svd(U.data, full_matrices=False)\n",
    "\t\t\t\tU.data = U_svd@Vh_svd\n",
    "\n",
    "\t\t\tstep_size = (U.data - U_old).pow(2).mean().sqrt()\n",
    "\t\t\tU_old = U.data.clone()\n",
    "\n",
    "\t\t\tif step_size < 1e-5:\n",
    "\t\t\t\tbreak\n",
    "\t\t\t\n",
    "\tloss_final = 0.5*(kernel*(Z_perp - coord2@V.T)).pow(2).mean()\n",
    "\treturn U.detach().data, V.detach().data, loss_final.detach()\n",
    "\n",
    "def find_d(Z, z_c, r_dimcheck, n_iter_inner):\n",
    "\t# We find the minimial d by iteratively fitting a model\n",
    "\t# for some size d, then increase d and repeat if the max\n",
    "\t# reconstruction error is too large\n",
    "\n",
    "\tmax_error_ratio = 0.4\n",
    "\n",
    "\tN, D = Z.shape\n",
    "\t# init\n",
    "\tU_0 = torch.randn(D, 1)\n",
    "\tU_0 = U_0 / torch.norm(U_0, p=2)\n",
    "\n",
    "\t# init tracking variable\n",
    "\tmax_error = max_error_ratio*r_dimcheck\n",
    "\n",
    "\t# note kernel will stay the same for all d\n",
    "\tgamma = float(np.log(2))/(r_dimcheck**2)\n",
    "\tkernel_pre = torch.exp(-gamma*(Z - z_c).pow(2).sum(dim=1, keepdim=True))\n",
    "\tz_mu = (Z*kernel_pre).sum(dim=0, keepdim=True) / kernel_pre.sum()\n",
    "\tkernel = torch.exp(-gamma*(Z - z_mu).pow(2).sum(dim=1, keepdim=True))\n",
    "\n",
    "\twhile max_error >= max_error_ratio*r_dimcheck:\n",
    "\t\tU, V, loss = opt_UV(Z, z_c, U_0, n_iter_inner, kernel=kernel)\n",
    "\n",
    "\t\t# compute max error, if too large, increase d\n",
    "\t\tcoord = (Z - z_c) @ U\n",
    "\t\tZ_perp = (Z - z_c) - coord @ U.T\n",
    "\t\tcoord2 = coord.pow(2)\n",
    "\t\tmax_error = (kernel*(Z_perp - coord2@V.T)).norm(dim=1).max()\n",
    "\t\t# print(f'current max error: {max_error}')\n",
    "\t\t# print(f'max error thredhold: {max_error_ratio*r_dimcheck}')\n",
    "\t\tif max_error >= max_error_ratio*r_dimcheck:\n",
    "\t\t\t# add new vec , orthogonalize via gram schmidt\n",
    "\t\t\tU_new = torch.randn(D, 1)\n",
    "\t\t\tU_new = U_new - U @ (U.T@U_new)\n",
    "\t\t\tU_new = U_new / torch.norm(U_new, p=2)\n",
    "\t\t\tU_0 = torch.cat((U, U_new), dim=1).clone()\n",
    "\n",
    "\n",
    "\treturn U.detach().data, loss.detach().data"
   ]
  },
  {
   "cell_type": "code",
   "execution_count": 58,
   "metadata": {},
   "outputs": [
    {
     "name": "stderr",
     "output_type": "stream",
     "text": [
      "100%|██████████| 50/50 [02:05<00:00,  2.51s/iters, loss=1.77e-8, d=2, alpha=0.5, r_ratio=1]      \n"
     ]
    },
    {
     "data": {
      "image/png": "[encoded data removed]",
      "text/plain": [
       "<Figure size 432x288 with 1 Axes>"
      ]
     },
     "metadata": {
      "needs_background": "light"
     },
     "output_type": "display_data"
    }
   ],
   "source": [
    "f = CCNetwork()\n",
    "g = CCNetwork()\n",
    "X = X_0.clone()\n",
    "\n",
    "EDM_X = torch.cdist(X, X,p=2)\n",
    "# radius for checking dimension. Should be as small as possible,\n",
    "# but big enough that at every point there's at least one sample\n",
    "# along every intrinsic dimension\n",
    "r_dimcheck = 0.25*EDM_X.max()\n",
    "# minimum allowed radius for each flattening\n",
    "# want this to be relatively larger to converge to flat\n",
    "# representation faster\n",
    "r_min = 0.25*EDM_X.max()\n",
    "# maximum allowed radius for each flattening\n",
    "r_max = 1.1*EDM_X.max()\n",
    "# minimum step size for determining optimal radius\n",
    "r_step_min = EDM_X[EDM_X > 0].min()\n",
    "\n",
    "with trange(n_iter, unit=\"iters\") as pbar:\n",
    "\tfor j in pbar:\n",
    "\t\t# STEP 0: stochastically choose center of the neighborhood to\n",
    "\t\t# flatten and reconstruct\n",
    "\t\tchoice = torch.randint(N, (1,))\n",
    "\t\tx_c = X[choice,:]\n",
    "\n",
    "\t\t# STEP 1: find minimal dimension d we can flatten neighborhood\n",
    "\t\t# to and still be able to reconstruct\n",
    "\n",
    "\t\t# note d is implicitly returned, as U, V are of shape (D, d)\n",
    "\t\tU, loss_rdimcheck = find_d(X, x_c, r_dimcheck, n_iter_inner)\n",
    "\t\t# STEP 2: use secant method to find maximal radius that achieves\n",
    "\t\t# desired reconstruction loss\n",
    "\n",
    "\t\t# get needed second observation\n",
    "\t\tU, V, loss_rmidpoint = opt_UV(X, x_c, U, n_iter_inner, r=(r_min + r_max)/2)\n",
    "\n",
    "\t\t# begin secant method (note we use log loss for numerical reasons)\n",
    "\t\tlog_thres_recon = torch.log(torch.Tensor([thres_recon]))\n",
    "\t\tr_m2 = r_dimcheck\n",
    "\t\tf_m2 = torch.log(loss_rdimcheck) - log_thres_recon\n",
    "\t\tr_m1 = (r_min + r_max)/2\n",
    "\t\tf_m1 = torch.log(loss_rmidpoint) - log_thres_recon\n",
    "\n",
    "\t\twhile torch.abs(r_m1 - r_m2) > r_step_min:\n",
    "\n",
    "\t\t\t# threshold denominator for numerical stability\n",
    "\t\t\tf_diff = f_m1 - f_m2\n",
    "\t\t\tif torch.abs(f_diff) < 1e-6:\n",
    "\t\t\t\tif f_diff >= 0:\n",
    "\t\t\t\t\tf_diff = 1e-6\n",
    "\t\t\t\telse:\n",
    "\t\t\t\t\tf_diff = -1e-6\n",
    "\n",
    "\t\t\tr = r_m1 - (r_m1 - r_m2)/f_diff*f_m1\n",
    "\n",
    "\t\t\t# if we reach either boundary, threshold and exit\n",
    "\t\t\tif r < r_min:\n",
    "\t\t\t\tr = r_min\n",
    "\t\t\telif r > r_max:\n",
    "\t\t\t\tr = r_max\n",
    "\n",
    "\t\t\tU, V, loss_r = opt_UV(X, x_c, U, n_iter_inner, r=r)\n",
    "\t\t\tf_r = torch.log(loss_r) - log_thres_recon\n",
    "\n",
    "\t\t\tr_m2 = r_m1.clone()\n",
    "\t\t\tf_m2 = f_m1.clone()\n",
    "\t\t\tr_m1 = r.clone()\n",
    "\t\t\tf_m1 = f_r.clone()\n",
    "\n",
    "\t\t\t\n",
    "\n",
    "\t\t# STEP 3: line search for biggest alpha that gets us to desired fidelity\n",
    "\t\talpha = float(min(alpha_max, np.sqrt(thres_recon / loss_r.item())))\n",
    "\t\t# STEP 4: add layer to network\n",
    "\t\tX = X.detach()\n",
    "\t\tU = U.detach().clone()\n",
    "\t\tV = V.detach().clone()\n",
    "\n",
    "\t\tgamma = float(np.log(2))/(r.item()**2)\n",
    "\t\tkernel_pre = torch.exp(-gamma*(X - x_c).pow(2).sum(dim=1, keepdim=True))\n",
    "\t\tx_mu = (X*kernel_pre).sum(dim=0, keepdim=True) / kernel_pre.sum()\n",
    "\n",
    "\t\tf_layer = FLayer(U, x_mu, gamma, alpha)\n",
    "\t\tg_layer = GLayer(U, V, x_mu, x_c, gamma, alpha)\n",
    "\n",
    "\t\tf.add_operation(f_layer)\n",
    "\t\tg.add_operation(g_layer)\n",
    "\t\t# update data\n",
    "\t\tX = f_layer(X).clone()\n",
    "\t\tpbar.set_postfix({\"loss\": loss_r.item(), \"d\": U.shape[1], \"alpha\": alpha, \"r_ratio\": (r/r_max).item()})\n",
    "\t\t\n",
    "Z = f(X_0)\n",
    "Xhat = g(Z)\n",
    "# ########################################################\n",
    "\n",
    "# # reevaluate kernel from x_mu\n",
    "# kernel = torch.exp(-gamma*(X - x_mu).pow(2).sum(dim=1, keepdim=True))\n",
    "\n",
    "# # print(X - X*kernel)\n",
    "# Z = ((X - x_mu)@U@U.T + x_mu)*kernel + X*(1 - kernel)\n",
    "# coord = (Z - x_c)@U\n",
    "# change = x_c - x_mu\n",
    "# change = change - (change@U)@U.T\n",
    "# # Xhat = Z + change - (change@U)@U.T + (coord.pow(2))@V.T\n",
    "# Xhat = Z + kernel*(change + (coord.pow(2))@V.T)\n",
    "plt.scatter(X_0[:, 0], X_0[:,1], c='b')\n",
    "plt.scatter(Z[:, 0], Z[:,1], c='r')\n",
    "plt.scatter(Xhat[:, 0], Xhat[:,1], c='c')\n",
    "plt.scatter(x_mu[0,0], x_mu[0,1], c='g')\n",
    "# plt.quiver(x_c[0], x_c[1], U[0], U[1], scale_units='xy', angles='xy',scale=1)\n",
    "# V = V / V.norm()\n",
    "# plt.quiver(x_c[0], x_c[1], V[0], V[1], scale_units='xy', angles='xy',scale=1, color='g')\n",
    "plt.legend(['X', 'Z', 'Xhat', 'x_mu'])\n",
    "plt.show()\n"
   ]
  },
  {
   "cell_type": "code",
   "execution_count": 41,
   "metadata": {},
   "outputs": [
    {
     "ename": "AttributeError",
     "evalue": "'NoneType' object has no attribute 'data'",
     "output_type": "error",
     "traceback": [
      "\u001b[1;31m---------------------------------------------------------------------------\u001b[0m",
      "\u001b[1;31mAttributeError\u001b[0m                            Traceback (most recent call last)",
      "\u001b[1;32m~\\AppData\\Local\\Temp/ipykernel_21824/1229796265.py\u001b[0m in \u001b[0;36m<module>\u001b[1;34m\u001b[0m\n\u001b[1;32m----> 1\u001b[1;33m \u001b[0mprint\u001b[0m\u001b[1;33m(\u001b[0m\u001b[0mU\u001b[0m\u001b[1;33m.\u001b[0m\u001b[0mgrad\u001b[0m\u001b[1;33m.\u001b[0m\u001b[0mdata\u001b[0m\u001b[1;33m)\u001b[0m\u001b[1;33m\u001b[0m\u001b[1;33m\u001b[0m\u001b[0m\n\u001b[0m",
      "\u001b[1;31mAttributeError\u001b[0m: 'NoneType' object has no attribute 'data'"
     ]
    }
   ],
   "source": [
    "print(U.grad.data)"
   ]
  },
  {
   "cell_type": "code",
   "execution_count": 4,
   "metadata": {},
   "outputs": [],
   "source": [
    "class CCNetwork(nn.Module):\n",
    "\tdef __init__(self):\n",
    "\t\tsuper(CCNetwork, self).__init__()\n",
    "\t\tself.network = torch.nn.Sequential()\n",
    "\t\t\n",
    "\tdef forward(self, X):\n",
    "\t\treturn self.network(X)\n",
    "\n",
    "\tdef add_operation(self, nn_module, name = '_'):\n",
    "\t\t# if no name, just indicate which layer it is\n",
    "\t\tif name == '_':\n",
    "\t\t\tname = f'layer {len(self.network)}'\n",
    "\t\tself.network.add_module(name, nn_module)\n",
    "\n",
    "class FLayer(nn.Module):\n",
    "\tdef __init__(self, U, x_mu, gamma, alpha=1):\n",
    "\t\tsuper(FLayer, self).__init__()\n",
    "\t\tself.U = U\n",
    "\t\tself.D, self.k = U.shape\n",
    "\t\tself.x_mu = x_mu\n",
    "\t\tself.gamma = gamma\n",
    "\t\tself.alpha = alpha\n",
    "\n",
    "\t\t\n",
    "\tdef forward(self, X):\n",
    "\t\t# X: tensor of shape N x D, a batch of N points in D dimensions\n",
    "\t\t# that we want to flatten by 1 step\n",
    "\n",
    "\t\t# returns: tensor of shape N x D\n",
    "\n",
    "\t\tkernel = self.alpha*torch.exp(-self.gamma*(X - self.x_mu).pow(2).sum(dim=1, keepdim=True))\n",
    "\t\tself.kernel = kernel\n",
    "\t\tproj = (X - self.x_mu)@self.U@self.U.T + self.x_mu\n",
    "\t\tZ = proj*kernel + X*(1 - kernel)\n",
    "\n",
    "\t\treturn Z\n",
    "\n",
    "\n",
    "class GLayer(nn.Module):\n",
    "\tdef __init__(self, U, V, x_mu, x_c, gamma, alpha=1):\n",
    "\t\tsuper(GLayer, self).__init__()\n",
    "\t\tself.U = U\n",
    "\t\tself.V = V\n",
    "\t\tself.D, self.k = U.shape #U, V have same shape\n",
    "\t\tself.x_mu = x_mu\n",
    "\t\tself.x_c = x_c\n",
    "\t\tself.gamma = gamma\n",
    "\t\tself.alpha = alpha\n",
    "\n",
    "\t\t# computations we don't need to repeat every evaluation\n",
    "\t\tself.x_muU = x_mu @ U\n",
    "\t\tself.x_cU = x_c @ U\n",
    "\t\tself.change = x_c - x_mu - (self.x_cU - self.x_muU)@U.T\n",
    "\n",
    "\t\t\n",
    "\tdef forward(self, Z):\n",
    "\t\t# Z: tensor of shape N x D, a batch of N points in D dimensions\n",
    "\t\t# that we want to flatten by 1 step\n",
    "\n",
    "\t\t# returns: tensor of shape N x D\n",
    "\n",
    "\t\tZU = Z@self.U\n",
    "\t\tZ_norm2 = (Z-self.x_mu).pow(2).sum(dim=1, keepdim=True)\n",
    "\t\tZU_norm2 = (ZU - self.x_muU).pow(2).sum(dim=1, keepdim=True)\n",
    "\t\tkernel = kernel_inv(Z_norm2, ZU_norm2, self.gamma, self.alpha)\n",
    "\t\tself.kernel = kernel\n",
    "\n",
    "\t\tcoord = ZU - self.x_cU\n",
    "\t\tXhat = Z + kernel*(self.change + (coord.pow(2))@(self.V).T)\n",
    "\n",
    "\t\treturn Xhat\n",
    "# implementation of secant method. converge once step size of all\n",
    "# below machine precision\n",
    "# TODO: look into if this inversion is well-conditioned\n",
    "def kernel_inv(Z_norm2, ZU_norm2, gamma, alpha):\n",
    "\t\n",
    "\n",
    "\t# parameter setup\n",
    "\tZUperp_norm2 = Z_norm2 - ZU_norm2\n",
    "\texp_gammaz = torch.exp(-gamma*ZU_norm2)\n",
    "\n",
    "\t# initial guess\n",
    "\tguess_ratio = 1 - 1e-3\n",
    "\t# x_{n-2}\n",
    "\tx_m2 = ZUperp_norm2 * guess_ratio\n",
    "\t# x_{n-1}\n",
    "\tx_m1 = ZUperp_norm2\n",
    "\n",
    "\tx = x_m1\n",
    "\t# track size of each step\n",
    "\tstep_size = 1\n",
    "\n",
    "\t# find inverse by root-finding using secant method\n",
    "\t\n",
    "\twhile step_size > 1e-6:\n",
    "\t\tf_m1 = (1-alpha*exp_gammaz*torch.exp(-gamma*x_m1)).pow(2)*x_m1 - ZUperp_norm2\n",
    "\t\tf_m2 = (1-alpha*exp_gammaz*torch.exp(-gamma*x_m2)).pow(2)*x_m2 - ZUperp_norm2\n",
    "\n",
    "\t\tf_diff = f_m1 - f_m2\n",
    "\t\tf_diff[torch.logical_and(f_diff.abs() < 1e-6, f_diff >= 0)] = 1e-6\n",
    "\t\tf_diff[torch.logical_and(f_diff.abs() < 1e-6, f_diff < 0)] = -1e-6\n",
    "\n",
    "\t\tx = x_m1 - f_m1*(x_m1 - x_m2)/f_diff\n",
    "\n",
    "\t\tstep_size = torch.abs(x - x_m1).max()\n",
    "\t\tx_m2 = x_m1\n",
    "\t\tx_m1 = x\n",
    "\n",
    "\t# return inverse\n",
    "\treturn alpha*torch.exp(-gamma*(ZU_norm2 + x))\n"
   ]
  },
  {
   "cell_type": "code",
   "execution_count": 323,
   "metadata": {},
   "outputs": [
    {
     "name": "stdout",
     "output_type": "stream",
     "text": [
      "tensor([[ 0.0000e+00,  5.9605e-08, -2.9802e-08],\n",
      "        [ 1.1921e-07, -2.9802e-08,  0.0000e+00]])\n"
     ]
    }
   ],
   "source": [
    "A = torch.randn(3,2)\n",
    "hi = (A.T@A).inverse() @ A.T\n",
    "hi2 = torch.linalg.pinv(A)\n",
    "print(hi - hi2)"
   ]
  },
  {
   "cell_type": "code",
   "execution_count": 334,
   "metadata": {},
   "outputs": [
    {
     "name": "stdout",
     "output_type": "stream",
     "text": [
      "tensor([[ 2.8393, -0.3808],\n",
      "        [ 0.2958,  0.0835],\n",
      "        [ 0.8531, -0.2838]])\n",
      "tensor([[ 0.9911, -0.1329],\n",
      "        [ 0.9624,  0.2718],\n",
      "        [ 0.9489, -0.3157]])\n"
     ]
    }
   ],
   "source": [
    "A = torch.randn(3,2)\n",
    "print(A)\n",
    "print(A / A.norm(dim=1, keepdim=True))"
   ]
  },
  {
   "cell_type": "code",
   "execution_count": 335,
   "metadata": {},
   "outputs": [],
   "source": [
    "# OLD ###########################################\n",
    "f = CCNetwork()\n",
    "g = CCNetwork()\n",
    "X = X_0.clone()\n",
    "# min loss w.r.t gamma is monotonic, so we can just do a binary search\n",
    "# to find the lowest gamma\n",
    "with trange(n_iter, unit=\"iters\") as pbar:\n",
    "\tfor _ in pbar:\n",
    "\n",
    "\t\t# start our \"neighborhood size\" at max possible\n",
    "\t\tr_max = torch.cdist(X, X).max()\n",
    "\t\tr_init = r_max.clone() / 2\n",
    "\t\tr_curr = r_init.clone()\n",
    "\n",
    "\t\t# 1 step of flattening/regeneration\n",
    "\t\tchoice = torch.randint(N, (1,))\n",
    "\t\t# choice=25\n",
    "\t\tx_c = X[choice,:]\n",
    "\n",
    "\t\tU_0 = torch.randn(2, 1)\n",
    "\t\tU_0 = U_0 / torch.norm(U_0, p=2)\n",
    "\t\tU = torch.nn.Parameter(U_0.clone())\n",
    "\t\tU.requires_grad = True\n",
    "\n",
    "\n",
    "\t\topt_U = optim.SGD([U], lr=1)\n",
    "\t# outer loop, searching for max radius with desired fidelity\n",
    "\t\tfor i in range(fid):\n",
    "\t\t\t# set up kernel\n",
    "\t\t\tgamma = log2/r_curr**2\n",
    "\t\t\tkernel_pre = torch.exp(-gamma*(X - x_c).pow(2).sum(dim=1, keepdim=True))\n",
    "\t\t\tx_mu = (X*kernel_pre).sum(dim=0, keepdim=True) / kernel_pre.sum()\n",
    "\t\t\tkernel = alpha*torch.exp(-gamma*(X - x_mu).pow(2).sum(dim=1, keepdim=True))\n",
    "\n",
    "\t\t\tU_old = U.data.clone()\n",
    "\t\t\t# inner loop, find best U, V to reconstruct\n",
    "\t\t\tfor _ in range(n_iter_inner):\n",
    "\t\t\t\topt_U.zero_grad()\n",
    "\t\t\t\t# opt_V.zero_grad()\n",
    "\t\t\t\t# opt_alpha.zero_grad()\n",
    "\t\t\t\tcoord = (X - x_c) @ U\n",
    "\t\t\t\tcoord2 = coord.pow(2)\n",
    "\t\t\t\tX_perp = (X - x_c) - coord @ U.T\n",
    "\t\t\t\tA = coord2 * kernel\n",
    "\t\t\t\tb = X_perp * kernel\n",
    "\n",
    "\t\t\t\t# least squares solution for V, note automatically orthogonal to U\n",
    "\t\t\t\t# with torch.no_grad():\n",
    "\t\t\t\tV = ((A.T@A).inverse() @ (A.T@b)).T\n",
    "\n",
    "\t\t\t\tloss = 0.5*(kernel*(X_perp - coord2@V.T)).pow(2).mean()\n",
    "\t\t\t\t# loss = (U).pow(2).mean()\n",
    "\t\t\t\tloss.backward()\n",
    "\n",
    "\t\t\t\topt_U.step()\n",
    "\t\t\t\twith torch.no_grad():\n",
    "\t\t\t\t\tU.data = U.data / torch.norm(U.data, p=2)\n",
    "\t\t\t\t\tstep_size = (U.data - U_old).pow(2).mean().sqrt()\n",
    "\t\t\t\t\tU_old = U.data.clone()\n",
    "\n",
    "\t\t\t\t\tif step_size < 1e-5:\n",
    "\t\t\t\t\t\tbreak\n",
    "\t\t\t\n",
    "\t\t\t# achieved desired recon loss, so increase neighborhood\n",
    "\t\t\t# size\n",
    "\t\t\tif loss.item() <= thres_recon:\n",
    "\t\t\t\td_curr += d_init * (0.5)**(i+1)\n",
    "\t\t\t# didn't achieve desired recon loss, so decrease neighborhood\n",
    "\t\t\telse:\n",
    "\t\t\t\td_curr -= d_init * (0.5)**(i+1)\n",
    "\n",
    "\t\t\t# if radius already bigger than biggest possible, no need to continue searching\n",
    "\t\t\tif d_curr > d_max:\n",
    "\t\t\t\tbreak\n",
    "\n",
    "\t\t# line search for biggest alpha that gets us to desired fidelity\n",
    "\n",
    "\n",
    "\t\tX = X.detach()\n",
    "\t\tU = U.detach()\n",
    "\t\tV = V.detach()\n",
    "\n",
    "\t\tf_layer = FLayer(U, x_mu, gamma, alpha)\n",
    "\t\tg_layer = GLayer(U, V, x_mu, x_c, gamma, alpha)\n",
    "\n",
    "\t\tf.add_operation(f_layer)\n",
    "\t\tg.add_operation(g_layer)\n",
    "\t\t# update data\n",
    "\t\tX = f_layer(X).clone()\n",
    "\t\tpbar.set_postfix({\"loss\": loss.item(), \"d_ratio\": (d_curr/d_max).item()})\n",
    "\t\t\n",
    "Z = f(X_0)\n",
    "Xhat = g(Z)"
   ]
  },
  {
   "cell_type": "code",
   "execution_count": 3,
   "metadata": {},
   "outputs": [],
   "source": [
    "from torchvision.datasets import MNIST\n",
    "from torchvision import transforms\n",
    "\n",
    "transform = transforms.Compose([\n",
    "    # you can add other transformations in this list\n",
    "    transforms.ToTensor()\n",
    "])"
   ]
  },
  {
   "cell_type": "code",
   "execution_count": 46,
   "metadata": {},
   "outputs": [
    {
     "name": "stdout",
     "output_type": "stream",
     "text": [
      "torch.Size([5958, 1, 28, 28])\n"
     ]
    }
   ],
   "source": [
    "dataset = MNIST(root='./torch-dataset', train=True,\n",
    "\t\t\t\t\t\t\t\tdownload=True, transform=transform)\n",
    "\n",
    "# load dataset into pytorch\n",
    "data_loader = torch.utils.data.DataLoader(dataset, batch_size=600000)\n",
    "data,labels = next(iter(data_loader))\n",
    "# data = data.cuda()\n",
    "\n",
    "# select single class of dataset\n",
    "X = data[labels==2]\n",
    "\n",
    "print(X.shape)"
   ]
  },
  {
   "cell_type": "code",
   "execution_count": 79,
   "metadata": {},
   "outputs": [
    {
     "name": "stdout",
     "output_type": "stream",
     "text": [
      "torch.Size([5958, 1, 28, 28])\n",
      "torch.Size([5958, 1568])\n",
      "torch.Size([5958, 100])\n",
      "torch.Size([5958, 1568])\n",
      "torch.Size([5958, 1, 28, 28])\n"
     ]
    }
   ],
   "source": [
    "# compute the 2d fourier transform of the data\n",
    "X_f = torch.fft.fft2(X)\n",
    "print(X_f.imag.shape)\n",
    "\n",
    "X_f_real_flat = X_f.real.reshape(X_f.shape[0], -1)\n",
    "X_f_imag_flat = X_f.imag.reshape(X_f.shape[0], -1)\n",
    "Z = torch.cat([X_f_real_flat, X_f_imag_flat], dim=1)\n",
    "print(Z.shape)\n",
    "\n",
    "Z_mean = Z.mean(dim=0, keepdim=True)\n",
    "\n",
    "U, S, Vt = torch.linalg.svd(Z - Z_mean, full_matrices=False)\n",
    "V = Vt.T\n",
    "# num_nonzero = S[S > 1000].numel()\n",
    "num_nonzero = 100\n",
    "\n",
    "Z_c = (Z - Z_mean)@V[:,:num_nonzero]\n",
    "\n",
    "print(Z_c.shape)\n",
    "\n",
    "# reconstruction\n",
    "X_hat = Z_c@V[:,:num_nonzero].T + Z_mean\n",
    "print(X_hat.shape)\n",
    "X_hat_real = X_hat[:,:X_f.shape[2]*X_f.shape[3]].reshape(X_f.shape)\n",
    "X_hat_imag = X_hat[:,X_f.shape[2]*X_f.shape[3]:].reshape(X_f.shape)\n",
    "X_hat_f = X_hat_real + 1j*X_hat_imag\n",
    "X_hat = torch.fft.ifft2(X_hat_f).real\n",
    "print(X_hat.shape)\n"
   ]
  },
  {
   "cell_type": "code",
   "execution_count": 93,
   "metadata": {},
   "outputs": [],
   "source": [
    "Z2 = X.reshape(X.shape[0], -1)\n",
    "U, S, Vt = torch.linalg.svd(Z2 - Z2.mean(dim=0, keepdim=True), full_matrices=False)\n",
    "V = Vt.T\n",
    "Z2_c = (Z2 - Z2.mean(dim=0, keepdim=True))@V[:,:100]\n",
    "# Z2_c = torch.randn_like(Z2_c)\n",
    "X_hat2 = Z2_c@V[:,:100].T + Z2.mean(dim=0, keepdim=True)\n",
    "X_hat2 = X_hat2.reshape(X.shape)"
   ]
  },
  {
   "cell_type": "code",
   "execution_count": 94,
   "metadata": {},
   "outputs": [
    {
     "data": {
      "image/png": "[encoded data removed]",
      "text/plain": [
       "<Figure size 432x288 with 1 Axes>"
      ]
     },
     "metadata": {
      "needs_background": "light"
     },
     "output_type": "display_data"
    },
    {
     "data": {
      "image/png": "[encoded data removed]",
      "text/plain": [
       "<Figure size 432x288 with 1 Axes>"
      ]
     },
     "metadata": {
      "needs_background": "light"
     },
     "output_type": "display_data"
    }
   ],
   "source": [
    "# choose random number between 0 and X.shape[0]\n",
    "rand_num = np.random.randint(0, X.shape[0])\n",
    "to_show = X[rand_num,0,:,:].detach().cpu()\n",
    "to_show2 = X_hat2[rand_num,0,:,:].detach().cpu()\n",
    "plt.imshow(to_show, vmin=0, vmax=1)\n",
    "plt.show()\n",
    "plt.imshow(to_show2, vmin=0, vmax=1)\n",
    "plt.show()"
   ]
  },
  {
   "cell_type": "code",
   "execution_count": 1,
   "metadata": {},
   "outputs": [],
   "source": [
    "import sys\n",
    "sys.path.append('../')\n",
    "# %matplotlib widget\n",
    "import matplotlib.pyplot as plt\n",
    "import numpy as np\n",
    "import torch\n",
    "\n",
    "from torchvision.datasets import MNIST\n",
    "from torchvision.datasets import CIFAR10\n",
    "from torchvision import transforms\n",
    "\n",
    "import cc\n",
    "from models.vae import train_vanilla_vae, train_beta_vae, train_factor_vae\n",
    "from tools.manifold_generator import Manifold\n",
    "# from tools.randman import RandMan\n",
    "\n",
    "# magic argparser library thank you github.com/brentyi\n",
    "import dataclasses\n",
    "import dcargs\n",
    "\n",
    "from datetime import datetime\n",
    "import json\n",
    "import os"
   ]
  },
  {
   "cell_type": "code",
   "execution_count": 4,
   "metadata": {},
   "outputs": [
    {
     "name": "stderr",
     "output_type": "stream",
     "text": [
      "100%|██████████| 220/220 [27:14<00:00,  7.43s/iters, local_recon=8.86e-9, d=12, r_ratio=0.231, alpha=0.5]  \n"
     ]
    }
   ],
   "source": [
    "torch.set_default_tensor_type(torch.cuda.FloatTensor)\n",
    "# Load the proper dataset\n",
    "\n",
    "# DATA PREP\n",
    "transform = transforms.Compose([\n",
    "\t# you can add other transformations in this list\n",
    "\ttransforms.ToTensor()\n",
    "])\n",
    "\n",
    "dataset = MNIST(root='./torch-dataset', train=True,\n",
    "\t\t\t\t\t\tdownload=True,  transform=transform)\n",
    "\n",
    "# load dataset into pytorch\n",
    "data_loader = torch.utils.data.DataLoader(dataset, batch_size=600000)\n",
    "data,labels = next(iter(data_loader))\n",
    "data = data.cuda()\n",
    "\n",
    "# select single class of dataset\n",
    "X_data = data[labels==5]\n",
    "X_f = torch.fft.fft2(X_data)\n",
    "\n",
    "X_f_real_flat = X_f.real.reshape(X_f.shape[0], -1)\n",
    "X_f_imag_flat = X_f.imag.reshape(X_f.shape[0], -1)\n",
    "X = torch.cat([X_f_real_flat, X_f_imag_flat], dim=1)\n",
    "\n",
    "X_mean = X.mean(dim=0, keepdim=True)\n",
    "\n",
    "U, S, Vt = torch.linalg.svd(X - X_mean, full_matrices=False)\n",
    "V_X = Vt.T\n",
    "# num_nonzero = S[S > 1000].numel()\n",
    "num_nonzero = 100\n",
    "\n",
    "X_c = (X - X_mean)@V_X[:,:num_nonzero]\n",
    "X = X_c\n",
    "\n",
    "# center and scale data. not explicitly needed for cc, but helps numerically\n",
    "X_norm = X.pow(2).mean().sqrt() #expeded norm of gaussian is sqrt(D)\n",
    "X = X / X_norm\n",
    "\n",
    "\n",
    "f, g = cc.cc(X)"
   ]
  },
  {
   "cell_type": "code",
   "execution_count": 6,
   "metadata": {},
   "outputs": [
    {
     "name": "stdout",
     "output_type": "stream",
     "text": [
      "tensor([2.4200e+02, 1.9907e+02, 1.5332e+02, 1.2356e+02, 1.1491e+02, 1.0804e+02,\n",
      "        1.0156e+02, 8.7724e+01, 8.0735e+01, 7.0771e+01, 6.3294e+01, 6.0093e+01,\n",
      "        5.0508e-01, 8.4672e-02, 4.2704e-02, 3.3636e-02, 2.9424e-02, 2.2047e-02,\n",
      "        1.6282e-02, 1.4920e-02, 1.3545e-02, 1.2963e-02, 1.2615e-02, 1.1255e-02,\n",
      "        9.8534e-03, 9.0181e-03, 8.3577e-03, 7.8689e-03, 7.4564e-03, 6.9806e-03,\n",
      "        6.5537e-03, 6.1785e-03, 5.8497e-03, 5.0071e-03, 4.6990e-03, 4.4637e-03,\n",
      "        4.3907e-03, 4.1887e-03, 4.0264e-03, 3.7240e-03, 3.6440e-03, 3.3940e-03,\n",
      "        3.3023e-03, 2.9649e-03, 2.9066e-03, 2.6790e-03, 2.6076e-03, 2.4984e-03,\n",
      "        2.2641e-03, 2.1514e-03, 2.0733e-03, 1.9043e-03, 1.8468e-03, 1.7895e-03,\n",
      "        1.5705e-03, 1.4461e-03, 1.3985e-03, 1.2592e-03, 1.2164e-03, 1.1461e-03,\n",
      "        1.1116e-03, 1.0528e-03, 9.5406e-04, 8.8916e-04, 8.7528e-04, 8.5211e-04,\n",
      "        7.5942e-04, 7.0246e-04, 6.7404e-04, 6.3728e-04, 6.0429e-04, 5.7010e-04,\n",
      "        5.2996e-04, 4.7992e-04, 4.5895e-04, 4.3674e-04, 4.3187e-04, 3.7095e-04,\n",
      "        3.6573e-04, 3.3059e-04, 3.2649e-04, 2.9898e-04, 2.8017e-04, 2.5775e-04,\n",
      "        2.5075e-04, 2.3658e-04, 2.1386e-04, 1.9946e-04, 1.8910e-04, 1.7337e-04,\n",
      "        1.7095e-04, 1.4938e-04, 1.4757e-04, 1.3168e-04, 1.2514e-04, 1.0398e-04,\n",
      "        9.7983e-05, 9.5311e-05, 9.0827e-05, 7.1483e-05])\n"
     ]
    }
   ],
   "source": [
    "Z = f(X)\n",
    "X_hat = g(Z)\n",
    "U, S, Vt = torch.linalg.svd(Z - torch.mean(Z, dim=0, keepdims=True), full_matrices=False)\n",
    "print(S)"
   ]
  },
  {
   "cell_type": "code",
   "execution_count": 7,
   "metadata": {},
   "outputs": [],
   "source": [
    "Z_mean = Z.mean(dim=0, keepdim=True)\n",
    "Z = (Z - Z_mean)@Vt.T[:,:11]@Vt[:11,:] + Z_mean\n",
    "X_hat = g(Z)"
   ]
  },
  {
   "cell_type": "code",
   "execution_count": 8,
   "metadata": {},
   "outputs": [
    {
     "name": "stdout",
     "output_type": "stream",
     "text": [
      "torch.Size([5421, 1, 28, 28])\n"
     ]
    }
   ],
   "source": [
    "X_hat = X_hat * X_norm\n",
    "X_hat = X_hat@V_X[:,:num_nonzero].T + X_mean\n",
    "\n",
    "X_hat_real = X_hat[:,:X_f.shape[2]*X_f.shape[3]].reshape(X_f.shape)\n",
    "X_hat_imag = X_hat[:,X_f.shape[2]*X_f.shape[3]:].reshape(X_f.shape)\n",
    "X_hat_f = X_hat_real + 1j*X_hat_imag\n",
    "X_hat = torch.fft.ifft2(X_hat_f).real\n",
    "print(X_hat.shape)"
   ]
  },
  {
   "cell_type": "code",
   "execution_count": 9,
   "metadata": {},
   "outputs": [],
   "source": [
    "X_recon = (X * X_norm) @ V_X[:,:num_nonzero].T + X_mean\n",
    "X_recon_real = X_recon[:,:X_f.shape[2]*X_f.shape[3]].reshape(X_f.shape)\n",
    "X_recon_imag = X_recon[:,X_f.shape[2]*X_f.shape[3]:].reshape(X_f.shape)\n",
    "X_recon_f = X_recon_real + 1j*X_recon_imag\n",
    "X_recon = torch.fft.ifft2(X_recon_f).real"
   ]
  },
  {
   "cell_type": "code",
   "execution_count": 21,
   "metadata": {},
   "outputs": [
    {
     "data": {
      "image/png": "[encoded data removed]",
      "text/plain": [
       "<Figure size 432x288 with 10 Axes>"
      ]
     },
     "metadata": {
      "needs_background": "light"
     },
     "output_type": "display_data"
    },
    {
     "data": {
      "image/png": "[encoded data removed]",
      "text/plain": [
       "<Figure size 432x288 with 10 Axes>"
      ]
     },
     "metadata": {
      "needs_background": "light"
     },
     "output_type": "display_data"
    }
   ],
   "source": [
    "rand_num = np.random.randint(0, X.shape[0])\n",
    "\n",
    "rand_ints = []\n",
    "for i in range(10):\n",
    "\trand_ints.append(np.random.randint(0, X.shape[0]))\n",
    "\n",
    "# show original images side by side\n",
    "for i in range(10):\n",
    "\tto_show = X_recon[rand_ints[i],0,:,:].detach().cpu()\n",
    "\tplt.subplot(1,10,i+1)\n",
    "\tplt.imshow(to_show, vmin=0, vmax=1)\n",
    "\tplt.axis('off')\n",
    "\n",
    "plt.show()\n",
    "# show original images side by side\n",
    "for i in range(10):\n",
    "\tto_show = X_hat[rand_ints[i],0,:,:].detach().cpu()\n",
    "\tplt.subplot(1,10,i+1)\n",
    "\tplt.imshow(to_show, vmin=0, vmax=1)\n",
    "\tplt.axis('off')\n",
    "\n",
    "plt.show()\n",
    "# print(rand_num)\n",
    "# # print(X_hat.shape)\n",
    "# to_show = X_recon[rand_num,0,:,:].detach().cpu()\n",
    "# to_show2 = X_hat[rand_num,0,:,:].detach().cpu()\n",
    "# plt.imshow(to_show, vmin=0, vmax=1)\n",
    "# plt.show()\n",
    "# plt.imshow(to_show2, vmin=0, vmax=1)\n",
    "# plt.show()"
   ]
  },
  {
   "cell_type": "code",
   "execution_count": 27,
   "metadata": {},
   "outputs": [
    {
     "name": "stdout",
     "output_type": "stream",
     "text": [
      "1985\n"
     ]
    },
    {
     "data": {
      "image/png": "[encoded data removed]",
      "text/plain": [
       "<Figure size 432x288 with 1 Axes>"
      ]
     },
     "metadata": {
      "needs_background": "light"
     },
     "output_type": "display_data"
    },
    {
     "data": {
      "image/png": "[encoded data removed]",
      "text/plain": [
       "<Figure size 432x288 with 1 Axes>"
      ]
     },
     "metadata": {
      "needs_background": "light"
     },
     "output_type": "display_data"
    }
   ],
   "source": [
    "rand_num = np.random.randint(0, X.shape[0])\n",
    "rand_num = 1985\n",
    "print(rand_num)\n",
    "# print(X_hat.shape)\n",
    "to_show = X_recon[rand_num,0,:,:].cpu()\n",
    "to_show2 = X_hat[rand_num,0,:,:].cpu()\n",
    "plt.imshow(to_show, vmin=0, vmax=1)\n",
    "plt.show()\n",
    "plt.imshow(to_show2, vmin=0, vmax=1)\n",
    "plt.show()"
   ]
  },
  {
   "cell_type": "code",
   "execution_count": 153,
   "metadata": {},
   "outputs": [
    {
     "name": "stdout",
     "output_type": "stream",
     "text": [
      "torch.Size([5958, 1, 28, 28])\n"
     ]
    }
   ],
   "source": [
    "print(X_recon.shape)"
   ]
  },
  {
   "cell_type": "code",
   "execution_count": 103,
   "metadata": {},
   "outputs": [
    {
     "data": {
      "image/png": "[encoded data removed]",
      "text/plain": [
       "<Figure size 432x288 with 1 Axes>"
      ]
     },
     "metadata": {
      "needs_background": "light"
     },
     "output_type": "display_data"
    },
    {
     "data": {
      "image/png": "[encoded data removed]",
      "text/plain": [
       "<Figure size 432x288 with 1 Axes>"
      ]
     },
     "metadata": {
      "needs_background": "light"
     },
     "output_type": "display_data"
    },
    {
     "data": {
      "image/png": "[encoded data removed]",
      "text/plain": [
       "<Figure size 432x288 with 1 Axes>"
      ]
     },
     "metadata": {
      "needs_background": "light"
     },
     "output_type": "display_data"
    },
    {
     "data": {
      "image/png": "[encoded data removed]",
      "text/plain": [
       "<Figure size 432x288 with 1 Axes>"
      ]
     },
     "metadata": {
      "needs_background": "light"
     },
     "output_type": "display_data"
    },
    {
     "data": {
      "image/png": "[encoded data removed]",
      "text/plain": [
       "<Figure size 432x288 with 1 Axes>"
      ]
     },
     "metadata": {
      "needs_background": "light"
     },
     "output_type": "display_data"
    },
    {
     "data": {
      "image/png": "[encoded data removed]",
      "text/plain": [
       "<Figure size 432x288 with 1 Axes>"
      ]
     },
     "metadata": {
      "needs_background": "light"
     },
     "output_type": "display_data"
    },
    {
     "data": {
      "image/png": "[encoded data removed]",
      "text/plain": [
       "<Figure size 432x288 with 1 Axes>"
      ]
     },
     "metadata": {
      "needs_background": "light"
     },
     "output_type": "display_data"
    },
    {
     "data": {
      "image/png": "[encoded data removed]",
      "text/plain": [
       "<Figure size 432x288 with 1 Axes>"
      ]
     },
     "metadata": {
      "needs_background": "light"
     },
     "output_type": "display_data"
    },
    {
     "data": {
      "image/png": "[encoded data removed]",
      "text/plain": [
       "<Figure size 432x288 with 1 Axes>"
      ]
     },
     "metadata": {
      "needs_background": "light"
     },
     "output_type": "display_data"
    },
    {
     "data": {
      "image/png": "[encoded data removed]",
      "text/plain": [
       "<Figure size 432x288 with 1 Axes>"
      ]
     },
     "metadata": {
      "needs_background": "light"
     },
     "output_type": "display_data"
    }
   ],
   "source": [
    "comp_num = 1\n",
    "for i in range(10):\n",
    "\n",
    "\t# Z_center = Z.mean(dim=0, keepdim=True)\n",
    "\tZ_center = Z[[10],:]\n",
    "\toffset_dir = Vt[comp_num,:].reshape(1,-1)\n",
    "\toffset = 0.1*S[comp_num]*i / 10\n",
    "\n",
    "\tZ_offset = Z_center + offset*offset_dir\n",
    "\t# reconstruct\n",
    "\tX_hat2 = g(Z_offset)\n",
    "\n",
    "\tX_hat2 = X_hat2 * X_norm\n",
    "\tX_hat2 = X_hat2@V_X[:,:num_nonzero].T + X_mean\n",
    "\n",
    "\t# reshape to shape of X_data, but with only 1 datapoint\n",
    "\n",
    "\n",
    "\tX_hat_real = X_hat2[:,:X_f.shape[2]*X_f.shape[3]].reshape(1, X_f.shape[1], X_f.shape[2], X_f.shape[3])\n",
    "\tX_hat_imag = X_hat2[:,X_f.shape[2]*X_f.shape[3]:].reshape(1, X_f.shape[1], X_f.shape[2], X_f.shape[3])\n",
    "\tX_hat_f = X_hat_real + 1j*X_hat_imag\n",
    "\tX_hat2 = torch.fft.ifft2(X_hat_f).real\n",
    "\n",
    "\n",
    "\tto_show3 = X_hat2[0,0,:,:].detach().cpu()\n",
    "\tplt.imshow(to_show3, vmin=0, vmax=1)\n",
    "\tplt.show()"
   ]
  },
  {
   "cell_type": "code",
   "execution_count": 61,
   "metadata": {},
   "outputs": [
    {
     "data": {
      "image/png": "[encoded data removed]",
      "text/plain": [
       "<Figure size 432x288 with 10 Axes>"
      ]
     },
     "metadata": {
      "needs_background": "light"
     },
     "output_type": "display_data"
    }
   ],
   "source": [
    "# interpolation\n",
    "idx1 = np.random.randint(0, X.shape[0])\n",
    "idx2 = np.random.randint(0, X.shape[0])\n",
    "idx1 = 5524\n",
    "idx2 = 1985\n",
    "Z_1 = Z[[idx1],:]\n",
    "Z_2 = Z[[idx2],:]\n",
    "\n",
    "fid = 10\n",
    "for i in range(fid):\n",
    "\n",
    "\tZ_interp = Z_1 + i/(fid - 1)*(Z_2-Z_1)\n",
    "\t# reconstruct\n",
    "\tX_hat2 = g(Z_interp)\n",
    "\n",
    "\tX_hat2 = X_hat2 * X_norm\n",
    "\tX_hat2 = X_hat2@V_X[:,:num_nonzero].T + X_mean\n",
    "\n",
    "\t# reshape to shape of X_data, but with only 1 datapoint\n",
    "\n",
    "\n",
    "\tX_hat_real = X_hat2[:,:X_f.shape[2]*X_f.shape[3]].reshape(1, X_f.shape[1], X_f.shape[2], X_f.shape[3])\n",
    "\tX_hat_imag = X_hat2[:,X_f.shape[2]*X_f.shape[3]:].reshape(1, X_f.shape[1], X_f.shape[2], X_f.shape[3])\n",
    "\tX_hat_f = X_hat_real + 1j*X_hat_imag\n",
    "\tX_hat2 = torch.fft.ifft2(X_hat_f).real\n",
    "\n",
    "\n",
    "\tto_show3 = X_hat2[0,0,:,:].detach().cpu()\n",
    "\tplt.subplot(1, fid, i+1)\n",
    "\tplt.imshow(to_show3, vmin=0, vmax=1)\n",
    "\tplt.axis('off')\n",
    "\t\n",
    "plt.show()"
   ]
  },
  {
   "cell_type": "code",
   "execution_count": 49,
   "metadata": {},
   "outputs": [
    {
     "data": {
      "image/png": "[encoded data removed]",
      "text/plain": [
       "<Figure size 432x288 with 10 Axes>"
      ]
     },
     "metadata": {
      "needs_background": "light"
     },
     "output_type": "display_data"
    }
   ],
   "source": [
    "X_hat_1 = g(Z_1)\n",
    "X_hat_2 = g(Z_2)\n",
    "\n",
    "X_hat_1 = X_hat_1 * X_norm\n",
    "X_hat_1 = X_hat_1@V_X[:,:num_nonzero].T + X_mean\n",
    "\n",
    "# reshape to shape of X_data, but with only 1 datapoint\n",
    "\n",
    "X_hat_real = X_hat_1[:,:X_f.shape[2]*X_f.shape[3]].reshape(1, X_f.shape[1], X_f.shape[2], X_f.shape[3])\n",
    "X_hat_imag = X_hat_1[:,X_f.shape[2]*X_f.shape[3]:].reshape(1, X_f.shape[1], X_f.shape[2], X_f.shape[3])\n",
    "X_hat_f = X_hat_real + 1j*X_hat_imag\n",
    "X_hat_1 = torch.fft.ifft2(X_hat_f).real\n",
    "\n",
    "X_hat_2 = X_hat_2 * X_norm\n",
    "X_hat_2 = X_hat_2@V_X[:,:num_nonzero].T + X_mean\n",
    "\n",
    "# reshape to shape of X_data, but with only 1 datapoint\n",
    "\n",
    "X_hat_real = X_hat_2[:,:X_f.shape[2]*X_f.shape[3]].reshape(1, X_f.shape[1], X_f.shape[2], X_f.shape[3])\n",
    "X_hat_imag = X_hat_2[:,X_f.shape[2]*X_f.shape[3]:].reshape(1, X_f.shape[1], X_f.shape[2], X_f.shape[3])\n",
    "X_hat_f = X_hat_real + 1j*X_hat_imag\n",
    "X_hat_2 = torch.fft.ifft2(X_hat_f).real\n",
    "\n",
    "fid = 10\n",
    "for i in range(fid):\n",
    "\n",
    "\tX_interp = X_hat_1 + i/(fid - 1)*(X_hat_2-X_hat_1)\n",
    "\t# reconstruct\n",
    "\n",
    "\n",
    "\tto_show3 = X_interp[0,0,:,:].detach().cpu()\n",
    "\tplt.subplot(1, fid, i+1)\n",
    "\tplt.imshow(to_show3, vmin=0, vmax=1)\n",
    "\tplt.axis('off')\n",
    "\n",
    "plt.show()"
   ]
  },
  {
   "cell_type": "code",
   "execution_count": 27,
   "metadata": {},
   "outputs": [
    {
     "data": {
      "image/png": "[encoded data removed]",
      "text/plain": [
       "<Figure size 432x288 with 10 Axes>"
      ]
     },
     "metadata": {
      "needs_background": "light"
     },
     "output_type": "display_data"
    },
    {
     "data": {
      "image/png": "[encoded data removed]",
      "text/plain": [
       "<Figure size 432x288 with 10 Axes>"
      ]
     },
     "metadata": {
      "needs_background": "light"
     },
     "output_type": "display_data"
    }
   ],
   "source": [
    "num_samples = 20\n",
    "# Z_center = Z.mean(dim=0, keepdim=True)\n",
    "rand_sample = torch.randn(num_samples, 11).cuda()\n",
    "Z_sample = 0.15*rand_sample @ torch.diag(S[:11]).sqrt() @ Vt[:11,:] + torch.mean(Z, dim=0, keepdims=True)\n",
    "\n",
    "# reconstruct\n",
    "X_hat2 = g(Z_sample)\n",
    "\n",
    "X_hat2 = X_hat2 * X_norm\n",
    "X_hat2 = X_hat2@V_X[:,:num_nonzero].T + X_mean\n",
    "\n",
    "# reshape to shape of X_data, but with only 1 datapoint\n",
    "\n",
    "\n",
    "X_hat_real = X_hat2[:,:X_f.shape[2]*X_f.shape[3]].reshape(num_samples, X_f.shape[1], X_f.shape[2], X_f.shape[3])\n",
    "X_hat_imag = X_hat2[:,X_f.shape[2]*X_f.shape[3]:].reshape(num_samples, X_f.shape[1], X_f.shape[2], X_f.shape[3])\n",
    "X_hat_f = X_hat_real + 1j*X_hat_imag\n",
    "X_hat2 = torch.fft.ifft2(X_hat_f).real\n",
    "\n",
    "\n",
    "for i in range(10):\n",
    "\tto_show3 = X_hat2[i,0,:,:].detach().cpu()\n",
    "\tplt.subplot(1, num_samples, i+1)\n",
    "\tplt.imshow(to_show3, vmin=0, vmax=1)\n",
    "\tplt.axis('off')\n",
    "\n",
    "plt.show()\n",
    "\n",
    "for i in range(10,num_samples):\n",
    "\tto_show3 = X_hat2[i,0,:,:].detach().cpu()\n",
    "\tplt.subplot(1, num_samples, i+1)\n",
    "\tplt.imshow(to_show3, vmin=0, vmax=1)\n",
    "\tplt.axis('off')\n",
    "\n",
    "plt.show()"
   ]
  },
  {
   "cell_type": "code",
   "execution_count": null,
   "metadata": {},
   "outputs": [],
   "source": []
  }
 ],
 "metadata": {
  "interpreter": {
   "hash": "36ab7f9348c7d0662a1965af503f4376fbff05df74ea3a3ead8d3abcf8650cb8"
  },
  "kernelspec": {
   "display_name": "Python 3.9.7 ('base')",
   "language": "python",
   "name": "python3"
  },
  "language_info": {
   "codemirror_mode": {
    "name": "ipython",
    "version": 3
   },
   "file_extension": ".py",
   "mimetype": "text/x-python",
   "name": "python",
   "nbconvert_exporter": "python",
   "pygments_lexer": "ipython3",
   "version": "3.9.7"
  }
 },
 "nbformat": 4,
 "nbformat_minor": 2
}
