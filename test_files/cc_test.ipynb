{
 "cells": [
  {
   "cell_type": "markdown",
   "metadata": {},
   "source": [
    "# Curvature Compression: Baseline Tests\n",
    "\n",
    "In this notebook, we give a guided tour on the advantage of curvature compression for choosing a linear model for manifold data"
   ]
  },
  {
   "cell_type": "code",
   "execution_count": null,
   "metadata": {},
   "outputs": [],
   "source": []
  },
  {
   "cell_type": "code",
   "execution_count": 3,
   "metadata": {
    "tags": []
   },
   "outputs": [],
   "source": [
    "# %matplotlib widget\n",
    "import matplotlib.pyplot as plt\n",
    "import numpy as np\n",
    "import torch\n",
    "import torch.nn as nn\n",
    "import torch.optim as optim\n",
    "\n",
    "# import open3d as o3d\n",
    "\n",
    "import sys\n",
    "# setting path\n",
    "sys.path.append('../')\n",
    "from tools.manifold_generator import Manifold\n",
    "import modules.find_patches_community_detection as find_patches"
   ]
  },
  {
   "cell_type": "code",
   "execution_count": 47,
   "metadata": {},
   "outputs": [
    {
     "data": {
      "image/png": "[encoded data removed]",
      "text/plain": [
       "<Figure size 432x288 with 1 Axes>"
      ]
     },
     "metadata": {
      "needs_background": "light"
     },
     "output_type": "display_data"
    },
    {
     "name": "stdout",
     "output_type": "stream",
     "text": [
      "torch.Size([2, 500])\n"
     ]
    }
   ],
   "source": [
    "hi = Manifold(D=2, d=1, curvature=1, n_basis=20)\n",
    "X = hi.generateSample(N=500, uniform=True)\n",
    "plt.plot(X[0,:], X[1,:],'.')\n",
    "plt.show()\n",
    "print(X.shape)"
   ]
  },
  {
   "cell_type": "code",
   "execution_count": 54,
   "metadata": {},
   "outputs": [
    {
     "name": "stdout",
     "output_type": "stream",
     "text": [
      "[{0, 1, 2, 3, 4, 5}, {6, 7, 8, 9, 10, 11}, {16, 17, 12, 13, 14, 15}, {18, 19, 20, 21, 22, 23, 24}]\n",
      "[[{0}, {1}, {2}, {3}], [{2}, {3}, {0, 1}], [{0, 1}, {2, 3}], [{0, 1, 2, 3}]]\n"
     ]
    }
   ],
   "source": [
    "ind, merge_path = find_patches.find_patches_and_merge_path(X, k=5)\n",
    "print(ind)\n",
    "print(merge_path)"
   ]
  },
  {
   "cell_type": "code",
   "execution_count": 55,
   "metadata": {},
   "outputs": [
    {
     "data": {
      "image/png": "[encoded data removed]",
      "text/plain": [
       "<Figure size 432x288 with 1 Axes>"
      ]
     },
     "metadata": {
      "needs_background": "light"
     },
     "output_type": "display_data"
    }
   ],
   "source": [
    "ind1 = np.array([x for x in ind[0]])\n",
    "plt.plot(X[0,ind1], X[1,ind1], '.', c='r')\n",
    "ind2 = np.array([x for x in ind[1]])\n",
    "plt.plot(X[0,ind2], X[1,ind2],'.', c='g')\n",
    "ind3 = np.array([x for x in ind[2]])\n",
    "plt.plot(X[0,ind3], X[1,ind3],'.', c='b')\n",
    "ind4 = np.array([x for x in ind[3]])\n",
    "plt.plot(X[0,ind4], X[1,ind4],'.', c='orange')\n",
    "# ind5 = np.array([x for x in ind[4]])\n",
    "# plt.plot(X[0,ind5], X[1,ind5],'.', c='purple')\n",
    "plt.show()"
   ]
  },
  {
   "cell_type": "code",
   "execution_count": 66,
   "metadata": {},
   "outputs": [],
   "source": [
    "hi = Manifold(D=3, d=2, curvature=1, n_basis=20)\n",
    "X = hi.generateSample(N=50000, uniform=True)\n",
    "\n",
    "pointclud = X.T.detach().numpy()\n",
    "pcd = o3d.geometry.PointCloud()\n",
    "pcd.points = o3d.utility.Vector3dVector(pointclud)\n",
    "o3d.visualization.draw_geometries([pcd])"
   ]
  },
  {
   "cell_type": "markdown",
   "metadata": {},
   "source": [
    "# Generate manifold data"
   ]
  },
  {
   "cell_type": "code",
   "execution_count": 51,
   "metadata": {},
   "outputs": [
    {
     "data": {
      "text/plain": [
       "<matplotlib.collections.PathCollection at 0x1ed9695d640>"
      ]
     },
     "execution_count": 51,
     "metadata": {},
     "output_type": "execute_result"
    },
    {
     "data": {
      "image/png": "[encoded data removed]",
      "text/plain": [
       "<Figure size 432x288 with 1 Axes>"
      ]
     },
     "metadata": {
      "needs_background": "light"
     },
     "output_type": "display_data"
    }
   ],
   "source": [
    "# dimension of data\n",
    "d = 2\n",
    "# number of samples\n",
    "n = 25\n",
    "# variance of noise\n",
    "eps2 = 0\n",
    "# determine if we should randomly rotate\n",
    "rotate=False\n",
    "\n",
    "\n",
    "# 2D manifold in 4D space\n",
    "\n",
    "# sqrt_n = 25\n",
    "# n = sqrt_n**2\n",
    "\n",
    "# Z = np.zeros((d,n))\n",
    "# for i in range(sqrt_n):\n",
    "# \tfor j in range(sqrt_n):\n",
    "# \t\tx = (-0.5 + (i+1)/sqrt_n)*2*np.pi\n",
    "# \t\ty = (-0.5 + (j+1)/sqrt_n)*2*np.pi\n",
    "# \t\tZ[0,j + sqrt_n*i] = x\n",
    "# \t\tZ[1,j + sqrt_n*i] = y\n",
    "# \t\tZ[2,j + sqrt_n*i] = np.sin(4*x)\n",
    "# \t\tZ[3,j + sqrt_n*i] = np.sin(7*y)\n",
    "\n",
    "\n",
    "# # mean center\n",
    "# Z = Z - np.mean(Z,axis=1,keepdims=True)\n",
    "# # global normalization\n",
    "# Z = Z * n / np.sqrt(np.sum(np.power(Z, 2)))\n",
    "\n",
    "# plt.scatter(Z[0,:], Z[1,:])\n",
    "scale=2\n",
    "Z = np.zeros((d,n))\n",
    "for i in range(n):\n",
    "\tx = (-0.5 + (i+1)/n)*2*np.pi\n",
    "\tZ[0,i] = x\n",
    "\t# Z[1,i] = scale*np.sin(x)\n",
    "\tZ[1,i] = scale*np.sin(x) + scale/2*np.sin(3*x + 1.5)\n",
    "\n",
    "Z = np.zeros((d,n))\n",
    "for i in range(n):\n",
    "\tx = (1.5 - 1.4/2 +1.4*(i+1)/n)*np.pi\n",
    "\tZ[0,i] = np.cos(x)\n",
    "\t# Z[1,i] = scale*np.sin(x)\n",
    "\tZ[1,i] = np.sin(x)\n",
    "\n",
    "# add noise\n",
    "Z = Z + eps2*np.random.randn(d, n)\n",
    "\n",
    "\n",
    "# center and scale\n",
    "Z_mean_orig = Z.mean(axis=1,keepdims=True)\n",
    "Z = Z - Z_mean_orig\n",
    "Z_norm_orig = np.linalg.norm(Z, 'fro')\n",
    "Z = Z * n / Z_norm_orig\n",
    "\n",
    "# random rotation, preserves centering and scale\n",
    "if rotate:\n",
    "\tA = np.random.randn(d,d)\n",
    "\tu,s,vt = np.linalg.svd(A)\n",
    "\tZ = u@Z\n",
    "\n",
    "# Z = Z[:,8:12]\n",
    "plt.scatter(Z[0,:], Z[1,:])"
   ]
  },
  {
   "cell_type": "markdown",
   "metadata": {},
   "source": [
    "# PCA on manifold data\n",
    "\n",
    "Showing the linear component PCA would choose to eliminate. Note it does not give the proper elimination"
   ]
  },
  {
   "cell_type": "code",
   "execution_count": 5,
   "metadata": {},
   "outputs": [
    {
     "name": "stdout",
     "output_type": "stream",
     "text": [
      "[-0.0878512   0.99613361]\n"
     ]
    },
    {
     "data": {
      "image/png": "[encoded data removed]",
      "text/plain": [
       "<Figure size 432x288 with 1 Axes>"
      ]
     },
     "metadata": {
      "needs_background": "light"
     },
     "output_type": "display_data"
    }
   ],
   "source": [
    "u, s, vt = np.linalg.svd(Z)\n",
    "u_min = u[:,1]\n",
    "print(u_min)\n",
    "\n",
    "# scale to look nice on graph\n",
    "u_show = u_min * np.min(np.max(np.abs(Z), axis=1))/2\n",
    "\n",
    "plt.scatter(Z[0,:], Z[1,:])\n",
    "plt.quiver(0, 0, u_show[0], u_show[1],scale_units='xy', angles='xy',scale=1)\n",
    "plt.gca().set_aspect('equal', adjustable='box')\n",
    "plt.show()"
   ]
  },
  {
   "cell_type": "markdown",
   "metadata": {},
   "source": [
    "We would idealy get a vector in the span of $(0,1)$, since all extraneous curvature is in the $y$-direction. As can be seen, the direction of least variance does not necessarily correspond to the best direction to compress curvature."
   ]
  },
  {
   "cell_type": "markdown",
   "metadata": {},
   "source": [
    "# Curvature compression on manifold data\n",
    "\n",
    "We now test our new proposed method, curvature compression. The function we theoretically want to optimize for is the following:\n",
    "\n",
    "$$v_* = \\argmin_{\\|v\\|_2 = 1} \\max_{x, y \\in Z \\mid x \\ne y} |\\langle v, \\frac{x-y}{\\|x-y\\|_2}\\rangle|$$\n",
    "$$= \\argmin_{\\|v\\|_2 = 1} \\|\\langle v, \\frac{x-y}{\\|x-y\\|_2}\\rangle\\|_\\infty. $$\n",
    "\n",
    "However, since the $L^\\infty$ norm is hard to directly optimize, we settle for a smooth surrogate norm: the $L^4$-norm."
   ]
  },
  {
   "cell_type": "code",
   "execution_count": 20,
   "metadata": {},
   "outputs": [],
   "source": [
    "# PyTorch model to optimize our custom loss\n",
    "class CurvatureElimination(nn.Module):\n",
    "\n",
    "    def __init__(self, X, u_0):\n",
    "        super(CurvatureElimination, self).__init__();\n",
    "        # data\n",
    "        self.X = X\n",
    "        # construct edm and gamma weight matrix\n",
    "        gram = X.T@X\n",
    "        edm = torch.diag(gram).reshape((n,1))@torch.ones((1,n)) \\\n",
    "                + torch.ones((n,1))@torch.diag(gram).reshape((1,n)) \\\n",
    "                - 2*gram\n",
    "\n",
    "        edm = torch.sqrt(edm)\n",
    "\n",
    "        # diagonal weights don't matter, set to 1 as convention\n",
    "        self.gamma = torch.divide(torch.Tensor([1]),torch.eye(n) + edm)\n",
    "        # projection vec\n",
    "        self.u = nn.Parameter(u_0)\n",
    "\n",
    "    def forward(self):\n",
    "        U_stacked = torch.ones(self.X.shape)*self.u\n",
    "        A = (self.X.T @ U_stacked - U_stacked.T @ self.X)*self.gamma\n",
    "        return 0.5*A.pow(4).sum()\n",
    "\n",
    "# PyTorch model to optimize our custom loss\n",
    "class CurvatureEliminationPieces(nn.Module):\n",
    "\n",
    "    def __init__(self, X, u_0, u_02, u_03):\n",
    "        super(CurvatureEliminationPieces, self).__init__();\n",
    "        # data\n",
    "        self.X = X\n",
    "        # construct edm and gamma weight matrix\n",
    "        gram = X.T@X\n",
    "        edm = torch.diag(gram).reshape((n,1))@torch.ones((1,n)) \\\n",
    "                + torch.ones((n,1))@torch.diag(gram).reshape((1,n)) \\\n",
    "                - 2*gram\n",
    "\n",
    "        edm = torch.sqrt(edm)\n",
    "\n",
    "        # diagonal weights don't matter, set to 1 as convention\n",
    "        self.gamma = torch.divide(torch.Tensor([1]),torch.eye(n) + edm)\n",
    "        # projection vec\n",
    "        self.u = nn.Parameter(u_0)\n",
    "        self.u2 = nn.Parameter(u_02)\n",
    "        self.u3 = nn.Parameter(u_03)\n",
    "\n",
    "    def forward(self):\n",
    "        U_stacked = torch.ones(self.X[:,:13].shape)*self.u\n",
    "        A = (self.X[:,:13].T @ U_stacked - U_stacked.T @ self.X[:,:13])*self.gamma[:13,:13]\n",
    "        U_stacked2 = torch.ones(self.X[:,7:16].shape)*self.u2\n",
    "        A2 = (self.X[:,7:16].T @ U_stacked2 - U_stacked2.T @ self.X[:,7:16])*self.gamma[7:16,7:16]\n",
    "        U_stacked3 = torch.ones(self.X[:,13:].shape)*self.u3\n",
    "        A3 = (self.X[:,13:].T @ U_stacked3 - U_stacked3.T @ self.X[:,13:])*self.gamma[13:,13:]\n",
    "        return 0.5*(A.pow(4).sum() + A2.pow(4).sum() + A3.pow(4).sum()) - 2*((self.u.T@self.u2).pow(2) + (self.u2.T@self.u3).pow(2))"
   ]
  },
  {
   "cell_type": "code",
   "execution_count": 37,
   "metadata": {},
   "outputs": [
    {
     "name": "stdout",
     "output_type": "stream",
     "text": [
      "tensor([[ 0.2044, -0.5338, -0.0674,  0.2136,  0.8242],\n",
      "        [-0.9620, -0.4236,  0.6256,  0.7599, -0.5162],\n",
      "        [ 0.1811,  0.7318, -0.7772,  0.6139,  0.2330]])\n",
      "tensor(1.0000)\n"
     ]
    }
   ],
   "source": [
    "U = torch.randn(3,5)\n",
    "U = U / torch.norm(U, p=2, dim=0)\n",
    "print(U)\n",
    "print(U[:,1].pow(2).sum())"
   ]
  },
  {
   "cell_type": "code",
   "execution_count": 53,
   "metadata": {},
   "outputs": [
    {
     "name": "stdout",
     "output_type": "stream",
     "text": [
      "g step 0: 48.64806365966797\n",
      "g step 100: 0.010759027674794197\n",
      "g step 200: 0.00017109086911659688\n",
      "g step 300: 2.117500662279781e-05\n",
      "g step 400: 2.5177723728120327e-05\n",
      "g step 500: 3.43852161677205e-06\n",
      "g step 600: 3.43852161677205e-06\n",
      "g step 700: 3.43852161677205e-06\n",
      "g step 800: 3.43852161677205e-06\n",
      "g step 900: 3.43852161677205e-06\n",
      "done!\n"
     ]
    }
   ],
   "source": [
    "# optimize via projected gradient descent\n",
    "\n",
    "u_0 = torch.randn((d,1))\n",
    "u_0 = u_0 / torch.sqrt(u_0.pow(2).sum())\n",
    "u_02 = torch.randn((d,1))\n",
    "u_02 = u_02 / torch.sqrt(u_02.pow(2).sum())\n",
    "u_03 = torch.randn((d,1))\n",
    "u_03 = u_03 / torch.sqrt(u_03.pow(2).sum())\n",
    "X = torch.Tensor(Z)\n",
    "\n",
    "cc = CurvatureEliminationPieces(X, u_0, u_02, u_03)\n",
    "opt = optim.SGD(cc.parameters(), lr=0.001)\n",
    "\n",
    "for i in range(1000):\n",
    "\tcc.zero_grad()\n",
    "\t# forward call of LinFlow\n",
    "\tloss = cc()\n",
    "\n",
    "\tloss.backward()\n",
    "\n",
    "\t# compute Riemannian gradient\n",
    "\tegrad = cc.u.grad.detach()\n",
    "\tbase = cc.u.data.detach()\n",
    "\tbase = base / torch.sqrt(base.pow(2).sum())\n",
    "\trgrad = egrad - base@base.t()@egrad\n",
    "\t# GD step\n",
    "\topt.step()\n",
    "\t# renormalization step\n",
    "\twith torch.no_grad():\n",
    "\t\tcc.u.data = cc.u.data / torch.sqrt((cc.u.data).pow(2).sum());\n",
    "\t\tcc.u2.data = cc.u2.data / torch.sqrt((cc.u2.data).pow(2).sum());\n",
    "\t\tcc.u3.data = cc.u3.data / torch.sqrt((cc.u3.data).pow(2).sum());\n",
    "\n",
    "\t# determine if we have converged\n",
    "\tgradnorm = torch.linalg.norm(rgrad)\n",
    "\tif gradnorm < 5e-5:\n",
    "\t\t# print(f'converged in {i} steps!')\n",
    "\t\t# break\n",
    "\t\tpass\n",
    "\tif i%100 == 0:\n",
    "\t\tprint(f'g step {i}: {gradnorm}')\n",
    "\n",
    "print('done!')"
   ]
  },
  {
   "cell_type": "code",
   "execution_count": 35,
   "metadata": {},
   "outputs": [
    {
     "name": "stdout",
     "output_type": "stream",
     "text": [
      "learned compression direction: [[-0.809399   -0.58725905]]\n"
     ]
    },
    {
     "data": {
      "image/png": "[encoded data removed]",
      "text/plain": [
       "<Figure size 432x288 with 1 Axes>"
      ]
     },
     "metadata": {
      "needs_background": "light"
     },
     "output_type": "display_data"
    }
   ],
   "source": [
    "# show learned compression direction\n",
    "u_cc = cc.u.data.detach().clone().numpy()\n",
    "\n",
    "print(f'learned compression direction: {u_cc.T}')\n",
    "# scale to look nice on graph\n",
    "u_show = u_cc * np.min(np.max(np.abs(Z), axis=1))/2\n",
    "\n",
    "plt.scatter(Z[0,:], Z[1,:])\n",
    "# plt.scatter(Z[0,3], Z[1,3],c='r')\n",
    "# plt.scatter(Z[0,11], Z[1,11],c='r')\n",
    "# plt.scatter(Z[0,18], Z[1,18],c='r')\n",
    "plt.quiver(0, 0, u_show[0], u_show[1],scale_units='xy', angles='xy',scale=1)\n",
    "plt.gca().set_aspect('equal', adjustable='box')\n",
    "plt.show()"
   ]
  },
  {
   "cell_type": "code",
   "execution_count": 32,
   "metadata": {},
   "outputs": [
    {
     "name": "stdout",
     "output_type": "stream",
     "text": [
      "max correlation from computed vec:[0.86410201]\n",
      "max correlation from (0,1):[0.99992104]\n",
      "126.539462985678\n",
      "91.92093872057539\n"
     ]
    }
   ],
   "source": [
    "maxval = 0\n",
    "for i in range(8):\n",
    "\tfor j in range(8):\n",
    "\t\tif i != j:\n",
    "\t\t\tif np.abs(u_cc.T@(Z[:,i]-Z[:,j]) / np.linalg.norm(Z[:,i]-Z[:,j]))  > maxval:\n",
    "\t\t\t\tmaxval = u_cc.T@(Z[:,i]-Z[:,j])/ np.linalg.norm(Z[:,i]-Z[:,j])\n",
    "\t\t\n",
    "\n",
    "print(f'max correlation from computed vec:{maxval}')\n",
    "\n",
    "u_new = np.zeros((2,1))\n",
    "u_new[1] = 1\n",
    "u_new[0] = 0\n",
    "u_new = u_new / np.linalg.norm(u_new)\n",
    "maxval = 0\n",
    "for i in range(8):\n",
    "\tfor j in range(8):\n",
    "\t\tif i != j:\n",
    "\t\t\tif np.abs(u_new.T@(Z[:,i]-Z[:,j])/ np.linalg.norm(Z[:,i]-Z[:,j])) > maxval:\n",
    "\t\t\t\tmaxval = u_new.T@(Z[:,i]-Z[:,j])/ np.linalg.norm(Z[:,i]-Z[:,j])\n",
    "\t\t\n",
    "\n",
    "print(f'max correlation from (0,1):{maxval}')\n",
    "\n",
    "U_stacked = np.ones(Z.shape)*u_cc\n",
    "A = (Z.T @ U_stacked - U_stacked.T @ Z)*cc.gamma.detach().cpu().numpy()\n",
    "print(0.5*np.sum(np.power(np.abs(A),4)))\n",
    "\n",
    "U_stacked = np.ones(Z.shape)*u_new\n",
    "A = (Z.T @ U_stacked - U_stacked.T @ Z)*cc.gamma.detach().cpu().numpy()\n",
    "print(0.5*np.sum(np.power(np.abs(A),4)))"
   ]
  },
  {
   "cell_type": "markdown",
   "metadata": {},
   "source": [
    "# Step 2\n",
    "find global positioning for each piece"
   ]
  },
  {
   "cell_type": "code",
   "execution_count": 27,
   "metadata": {},
   "outputs": [],
   "source": [
    "# softmax parameter\n",
    "gamma = 0.5\n",
    "\n",
    "# PyTorch model to optimize our custom loss\n",
    "class AlignmentPieces(nn.Module):\n",
    "\n",
    "    def __init__(self, X, u, u2, u3, alpha_0):\n",
    "        super(AlignmentPieces, self).__init__();\n",
    "        self.X = X\t\n",
    "\n",
    "        # get softmax coefficients\n",
    "        v1 = X[:,[8]]\n",
    "        v2 = X[:,[12]]\n",
    "        v3 = X[:,[16]]\n",
    "\n",
    "        # vectors of square distances\n",
    "        dists1 = (X-v1).pow(2).sum(axis=0)\n",
    "        dists2 = (X-v2).pow(2).sum(axis=0)\n",
    "        dists3 = (X-v3).pow(2).sum(axis=0)\n",
    "\n",
    "        dists_vec = torch.vstack((dists1,dists2,dists3))\n",
    "        self.probs = nn.Softmax(dim=0)(-gamma*dists_vec)\n",
    "\n",
    "        # projection vec\n",
    "        self.u = u\n",
    "        # self.alpha = nn.Parameter(alpha_0)\n",
    "        self.u2 = u2\n",
    "        self.alpha2 = nn.Parameter(alpha_0.clone())\n",
    "        self.u3 = u3\n",
    "        self.alpha3 = nn.Parameter(alpha_0.clone())\n",
    "\n",
    "    def forward(self):\n",
    "        # to eliminate redunancy, enforce first alpha to be 0\n",
    "        Xproj1 = self.X - self.u@self.u.T@self.X\n",
    "        Xproj2 = self.X - self.u2@self.u2.T@self.X + self.alpha2*self.u2\n",
    "        Xproj3 = self.X - self.u3@self.u3.T@self.X + self.alpha3*self.u3\n",
    "\n",
    "        E_Xproj = self.probs[[0],:]*Xproj1 + self.probs[[1],:]*Xproj2 + self.probs[[2],:]*Xproj3\n",
    "        Var_X = self.probs[[0],:]*(Xproj1 - E_Xproj).pow(2).sum(axis=0) + self.probs[[1],:]*(Xproj2 - E_Xproj).pow(2).sum(axis=0) + self.probs[[2],:]*(Xproj3 - E_Xproj).pow(2).sum(axis=0)\n",
    "        return Var_X.sum()\n",
    "        "
   ]
  },
  {
   "cell_type": "code",
   "execution_count": 28,
   "metadata": {},
   "outputs": [
    {
     "name": "stdout",
     "output_type": "stream",
     "text": [
      "data tensor([0.7168]), tensor([0.7919]). loss 9.552173614501953\n",
      "data tensor([-1.6579]), tensor([-2.8709]). loss 1.7598674297332764\n",
      "data tensor([-1.6579]), tensor([-2.8709]). loss 1.7598674297332764\n",
      "data tensor([-1.6579]), tensor([-2.8709]). loss 1.7598674297332764\n",
      "data tensor([-1.6579]), tensor([-2.8709]). loss 1.7598674297332764\n",
      "data tensor([-1.6579]), tensor([-2.8709]). loss 1.7598674297332764\n",
      "data tensor([-1.6579]), tensor([-2.8709]). loss 1.7598674297332764\n",
      "data tensor([-1.6579]), tensor([-2.8709]). loss 1.7598674297332764\n",
      "data tensor([-1.6579]), tensor([-2.8709]). loss 1.7598674297332764\n",
      "data tensor([-1.6579]), tensor([-2.8709]). loss 1.7598674297332764\n",
      "data tensor([-1.6579]), tensor([-2.8709]). loss 1.7598674297332764\n",
      "data tensor([-1.6579]), tensor([-2.8709]). loss 1.7598674297332764\n",
      "data tensor([-1.6579]), tensor([-2.8709]). loss 1.7598674297332764\n",
      "data tensor([-1.6579]), tensor([-2.8709]). loss 1.7598674297332764\n",
      "data tensor([-1.6579]), tensor([-2.8709]). loss 1.7598674297332764\n",
      "data tensor([-1.6579]), tensor([-2.8709]). loss 1.7598674297332764\n",
      "data tensor([-1.6579]), tensor([-2.8709]). loss 1.7598674297332764\n",
      "data tensor([-1.6579]), tensor([-2.8709]). loss 1.7598674297332764\n",
      "data tensor([-1.6579]), tensor([-2.8709]). loss 1.7598674297332764\n",
      "data tensor([-1.6579]), tensor([-2.8709]). loss 1.7598674297332764\n",
      "data tensor([-1.6579]), tensor([-2.8709]). loss 1.7598674297332764\n",
      "data tensor([-1.6579]), tensor([-2.8709]). loss 1.7598674297332764\n"
     ]
    },
    {
     "ename": "KeyboardInterrupt",
     "evalue": "",
     "output_type": "error",
     "traceback": [
      "\u001b[1;31m---------------------------------------------------------------------------\u001b[0m",
      "\u001b[1;31mKeyboardInterrupt\u001b[0m                         Traceback (most recent call last)",
      "\u001b[1;32m~\\AppData\\Local\\Temp/ipykernel_36076/2811430767.py\u001b[0m in \u001b[0;36m<module>\u001b[1;34m\u001b[0m\n\u001b[0;32m      5\u001b[0m         \u001b[0malign\u001b[0m\u001b[1;33m.\u001b[0m\u001b[0mzero_grad\u001b[0m\u001b[1;33m(\u001b[0m\u001b[1;33m)\u001b[0m\u001b[1;33m\u001b[0m\u001b[1;33m\u001b[0m\u001b[0m\n\u001b[0;32m      6\u001b[0m         \u001b[1;31m# forward call of LinFlow\u001b[0m\u001b[1;33m\u001b[0m\u001b[1;33m\u001b[0m\u001b[0m\n\u001b[1;32m----> 7\u001b[1;33m         \u001b[0mloss\u001b[0m \u001b[1;33m=\u001b[0m \u001b[0malign\u001b[0m\u001b[1;33m(\u001b[0m\u001b[1;33m)\u001b[0m\u001b[1;33m\u001b[0m\u001b[1;33m\u001b[0m\u001b[0m\n\u001b[0m\u001b[0;32m      8\u001b[0m         \u001b[0mloss\u001b[0m\u001b[1;33m.\u001b[0m\u001b[0mbackward\u001b[0m\u001b[1;33m(\u001b[0m\u001b[1;33m)\u001b[0m\u001b[1;33m\u001b[0m\u001b[1;33m\u001b[0m\u001b[0m\n\u001b[0;32m      9\u001b[0m \u001b[1;33m\u001b[0m\u001b[0m\n",
      "\u001b[1;32m~\\anaconda3\\lib\\site-packages\\torch\\nn\\modules\\module.py\u001b[0m in \u001b[0;36m_call_impl\u001b[1;34m(self, *input, **kwargs)\u001b[0m\n\u001b[0;32m   1108\u001b[0m         if not (self._backward_hooks or self._forward_hooks or self._forward_pre_hooks or _global_backward_hooks\n\u001b[0;32m   1109\u001b[0m                 or _global_forward_hooks or _global_forward_pre_hooks):\n\u001b[1;32m-> 1110\u001b[1;33m             \u001b[1;32mreturn\u001b[0m \u001b[0mforward_call\u001b[0m\u001b[1;33m(\u001b[0m\u001b[1;33m*\u001b[0m\u001b[0minput\u001b[0m\u001b[1;33m,\u001b[0m \u001b[1;33m**\u001b[0m\u001b[0mkwargs\u001b[0m\u001b[1;33m)\u001b[0m\u001b[1;33m\u001b[0m\u001b[1;33m\u001b[0m\u001b[0m\n\u001b[0m\u001b[0;32m   1111\u001b[0m         \u001b[1;31m# Do not call functions when jit is used\u001b[0m\u001b[1;33m\u001b[0m\u001b[1;33m\u001b[0m\u001b[0m\n\u001b[0;32m   1112\u001b[0m         \u001b[0mfull_backward_hooks\u001b[0m\u001b[1;33m,\u001b[0m \u001b[0mnon_full_backward_hooks\u001b[0m \u001b[1;33m=\u001b[0m \u001b[1;33m[\u001b[0m\u001b[1;33m]\u001b[0m\u001b[1;33m,\u001b[0m \u001b[1;33m[\u001b[0m\u001b[1;33m]\u001b[0m\u001b[1;33m\u001b[0m\u001b[1;33m\u001b[0m\u001b[0m\n",
      "\u001b[1;32m~\\AppData\\Local\\Temp/ipykernel_36076/1359474933.py\u001b[0m in \u001b[0;36mforward\u001b[1;34m(self)\u001b[0m\n\u001b[0;32m     37\u001b[0m \u001b[1;33m\u001b[0m\u001b[0m\n\u001b[0;32m     38\u001b[0m         \u001b[0mE_Xproj\u001b[0m \u001b[1;33m=\u001b[0m \u001b[0mself\u001b[0m\u001b[1;33m.\u001b[0m\u001b[0mprobs\u001b[0m\u001b[1;33m[\u001b[0m\u001b[1;33m[\u001b[0m\u001b[1;36m0\u001b[0m\u001b[1;33m]\u001b[0m\u001b[1;33m,\u001b[0m\u001b[1;33m:\u001b[0m\u001b[1;33m]\u001b[0m\u001b[1;33m*\u001b[0m\u001b[0mXproj1\u001b[0m \u001b[1;33m+\u001b[0m \u001b[0mself\u001b[0m\u001b[1;33m.\u001b[0m\u001b[0mprobs\u001b[0m\u001b[1;33m[\u001b[0m\u001b[1;33m[\u001b[0m\u001b[1;36m1\u001b[0m\u001b[1;33m]\u001b[0m\u001b[1;33m,\u001b[0m\u001b[1;33m:\u001b[0m\u001b[1;33m]\u001b[0m\u001b[1;33m*\u001b[0m\u001b[0mXproj2\u001b[0m \u001b[1;33m+\u001b[0m \u001b[0mself\u001b[0m\u001b[1;33m.\u001b[0m\u001b[0mprobs\u001b[0m\u001b[1;33m[\u001b[0m\u001b[1;33m[\u001b[0m\u001b[1;36m2\u001b[0m\u001b[1;33m]\u001b[0m\u001b[1;33m,\u001b[0m\u001b[1;33m:\u001b[0m\u001b[1;33m]\u001b[0m\u001b[1;33m*\u001b[0m\u001b[0mXproj3\u001b[0m\u001b[1;33m\u001b[0m\u001b[1;33m\u001b[0m\u001b[0m\n\u001b[1;32m---> 39\u001b[1;33m         \u001b[0mVar_X\u001b[0m \u001b[1;33m=\u001b[0m \u001b[0mself\u001b[0m\u001b[1;33m.\u001b[0m\u001b[0mprobs\u001b[0m\u001b[1;33m[\u001b[0m\u001b[1;33m[\u001b[0m\u001b[1;36m0\u001b[0m\u001b[1;33m]\u001b[0m\u001b[1;33m,\u001b[0m\u001b[1;33m:\u001b[0m\u001b[1;33m]\u001b[0m\u001b[1;33m*\u001b[0m\u001b[1;33m(\u001b[0m\u001b[0mXproj1\u001b[0m \u001b[1;33m-\u001b[0m \u001b[0mE_Xproj\u001b[0m\u001b[1;33m)\u001b[0m\u001b[1;33m.\u001b[0m\u001b[0mpow\u001b[0m\u001b[1;33m(\u001b[0m\u001b[1;36m2\u001b[0m\u001b[1;33m)\u001b[0m\u001b[1;33m.\u001b[0m\u001b[0msum\u001b[0m\u001b[1;33m(\u001b[0m\u001b[0maxis\u001b[0m\u001b[1;33m=\u001b[0m\u001b[1;36m0\u001b[0m\u001b[1;33m)\u001b[0m \u001b[1;33m+\u001b[0m \u001b[0mself\u001b[0m\u001b[1;33m.\u001b[0m\u001b[0mprobs\u001b[0m\u001b[1;33m[\u001b[0m\u001b[1;33m[\u001b[0m\u001b[1;36m1\u001b[0m\u001b[1;33m]\u001b[0m\u001b[1;33m,\u001b[0m\u001b[1;33m:\u001b[0m\u001b[1;33m]\u001b[0m\u001b[1;33m*\u001b[0m\u001b[1;33m(\u001b[0m\u001b[0mXproj2\u001b[0m \u001b[1;33m-\u001b[0m \u001b[0mE_Xproj\u001b[0m\u001b[1;33m)\u001b[0m\u001b[1;33m.\u001b[0m\u001b[0mpow\u001b[0m\u001b[1;33m(\u001b[0m\u001b[1;36m2\u001b[0m\u001b[1;33m)\u001b[0m\u001b[1;33m.\u001b[0m\u001b[0msum\u001b[0m\u001b[1;33m(\u001b[0m\u001b[0maxis\u001b[0m\u001b[1;33m=\u001b[0m\u001b[1;36m0\u001b[0m\u001b[1;33m)\u001b[0m \u001b[1;33m+\u001b[0m \u001b[0mself\u001b[0m\u001b[1;33m.\u001b[0m\u001b[0mprobs\u001b[0m\u001b[1;33m[\u001b[0m\u001b[1;33m[\u001b[0m\u001b[1;36m2\u001b[0m\u001b[1;33m]\u001b[0m\u001b[1;33m,\u001b[0m\u001b[1;33m:\u001b[0m\u001b[1;33m]\u001b[0m\u001b[1;33m*\u001b[0m\u001b[1;33m(\u001b[0m\u001b[0mXproj3\u001b[0m \u001b[1;33m-\u001b[0m \u001b[0mE_Xproj\u001b[0m\u001b[1;33m)\u001b[0m\u001b[1;33m.\u001b[0m\u001b[0mpow\u001b[0m\u001b[1;33m(\u001b[0m\u001b[1;36m2\u001b[0m\u001b[1;33m)\u001b[0m\u001b[1;33m.\u001b[0m\u001b[0msum\u001b[0m\u001b[1;33m(\u001b[0m\u001b[0maxis\u001b[0m\u001b[1;33m=\u001b[0m\u001b[1;36m0\u001b[0m\u001b[1;33m)\u001b[0m\u001b[1;33m\u001b[0m\u001b[1;33m\u001b[0m\u001b[0m\n\u001b[0m\u001b[0;32m     40\u001b[0m         \u001b[1;32mreturn\u001b[0m \u001b[0mVar_X\u001b[0m\u001b[1;33m.\u001b[0m\u001b[0msum\u001b[0m\u001b[1;33m(\u001b[0m\u001b[1;33m)\u001b[0m\u001b[1;33m\u001b[0m\u001b[1;33m\u001b[0m\u001b[0m\n\u001b[0;32m     41\u001b[0m \u001b[1;33m\u001b[0m\u001b[0m\n",
      "\u001b[1;31mKeyboardInterrupt\u001b[0m: "
     ]
    }
   ],
   "source": [
    "align = AlignmentPieces(torch.Tensor(Z), cc.u.data, cc.u2.data, cc.u3.data, torch.Tensor([1]))\n",
    "opt = optim.SGD(align.parameters(), lr=0.1)\n",
    "\n",
    "for i in range(50000):\n",
    "\talign.zero_grad()\n",
    "\t# forward call of LinFlow\n",
    "\tloss = align()\n",
    "\tloss.backward()\n",
    "\n",
    "\t# GD step\n",
    "\topt.step()\n",
    "\n",
    "\t# determine if we have converged\n",
    "\tgradnorm = torch.sqrt(align.alpha2.grad.detach().pow(2) + align.alpha3.grad.detach().pow(2))\n",
    "\tif gradnorm < 5e-5:\n",
    "\t\t# print(f'converged in {i} steps!')\n",
    "\t\t# break\n",
    "\t\tpass\n",
    "\tif i%1000 == 0:\n",
    "\t\t# print(f'g step {i}: {gradnorm}')\n",
    "\t\tprint(f'data {align.alpha2.data}, {align.alpha3.data}. loss {loss}')\n",
    "\t\t# print(align.alpha2.data)\n",
    "\t\t# print(align.alpha3.data)\n",
    "\n",
    "print('done!')"
   ]
  },
  {
   "cell_type": "code",
   "execution_count": 29,
   "metadata": {},
   "outputs": [],
   "source": [
    "v1 = Z[:,[4]]\n",
    "v2 = Z[:,[12]]\n",
    "v3 = Z[:,[20]]\n",
    "\n",
    "for i in range(n):\n",
    "\tdists = np.zeros(3)\n",
    "\tdists[0] = np.linalg.norm(Z[:,i] - v1)\n",
    "\tdists[1] = np.linalg.norm(Z[:,i] - v2)\n",
    "\tdists[2] = np.linalg.norm(Z[:,i] - v3)\n",
    "\tif np.argmin(dists) == 0:\n",
    "\t\tprint(i)\n",
    "\t\t"
   ]
  },
  {
   "cell_type": "markdown",
   "metadata": {},
   "source": [
    "# plot"
   ]
  },
  {
   "cell_type": "code",
   "execution_count": 53,
   "metadata": {},
   "outputs": [
    {
     "name": "stdout",
     "output_type": "stream",
     "text": [
      "[0.9160609 0.0542517 0.0296874]\n",
      "[0.93651615 0.04541842 0.01806543]\n",
      "[0.95012564 0.03862679 0.01124757]\n",
      "[0.95927607 0.03351178 0.00721215]\n",
      "[0.96546808 0.02974424 0.00478769]\n",
      "[0.92543584 0.0664506  0.00811357]\n",
      "[0.84254679 0.14390616 0.01354705]\n",
      "[0.69333333 0.2855586  0.02110807]\n",
      "[0.48562011 0.48562011 0.02875979]\n",
      "[0.28202854 0.68476239 0.03320907]\n",
      "[0.14098686 0.82545477 0.03355837]\n",
      "[0.06487947 0.90355532 0.03156521]\n",
      "[0.02902    0.94196001 0.02902   ]\n",
      "[0.03156521 0.90355532 0.06487947]\n",
      "[0.03355837 0.82545477 0.14098686]\n",
      "[0.03320907 0.68476239 0.28202854]\n",
      "[0.02875979 0.48562011 0.48562011]\n",
      "[0.02110807 0.2855586  0.69333333]\n",
      "[0.01354705 0.14390616 0.84254679]\n",
      "[0.00811357 0.0664506  0.92543584]\n",
      "[0.00478769 0.02974424 0.96546808]\n",
      "[0.00721215 0.03351178 0.95927607]\n",
      "[0.01124757 0.03862679 0.95012564]\n",
      "[0.01806543 0.04541842 0.93651615]\n",
      "[0.0296874 0.0542517 0.9160609]\n"
     ]
    },
    {
     "data": {
      "image/png": "[encoded data removed]",
      "text/plain": [
       "<Figure size 432x288 with 1 Axes>"
      ]
     },
     "metadata": {
      "needs_background": "light"
     },
     "output_type": "display_data"
    },
    {
     "data": {
      "image/png": "[encoded data removed]",
      "text/plain": [
       "<Figure size 432x288 with 1 Axes>"
      ]
     },
     "metadata": {
      "needs_background": "light"
     },
     "output_type": "display_data"
    },
    {
     "data": {
      "image/png": "[encoded data removed]",
      "text/plain": [
       "<Figure size 432x288 with 1 Axes>"
      ]
     },
     "metadata": {
      "needs_background": "light"
     },
     "output_type": "display_data"
    },
    {
     "data": {
      "image/png": "[encoded data removed]",
      "text/plain": [
       "<Figure size 432x288 with 1 Axes>"
      ]
     },
     "metadata": {
      "needs_background": "light"
     },
     "output_type": "display_data"
    },
    {
     "data": {
      "image/png": "[encoded data removed]",
      "text/plain": [
       "<Figure size 432x288 with 1 Axes>"
      ]
     },
     "metadata": {
      "needs_background": "light"
     },
     "output_type": "display_data"
    }
   ],
   "source": [
    "u1 = cc.u.detach().clone().cpu().numpy()\n",
    "A1_proj = np.eye(d) - u1@u1.T\n",
    "u2 = cc.u2.detach().clone().cpu().numpy()\n",
    "A2_proj = np.eye(d) - u2@u2.T\n",
    "u3 = cc.u3.detach().clone().cpu().numpy()\n",
    "A3_proj = np.eye(d) - u3@u3.T\n",
    "\n",
    "alpha2 = align.alpha2.detach().clone().cpu().numpy()\n",
    "alpha3 = align.alpha3.detach().clone().cpu().numpy()\n",
    "\n",
    "Z_new = np.zeros(Z.shape)\n",
    "for i in range(n):\n",
    "\tz_vec = Z[:,[i]]\n",
    "\t# compute local components\n",
    "\tproj1 = A1_proj@z_vec + 2.3*u1\n",
    "\tproj2 = A2_proj@z_vec + alpha2*u2\n",
    "\tproj3 = A3_proj@z_vec + alpha3*u3\n",
    "\t# softmax\n",
    "\tdist1 = np.linalg.norm(z_vec - v1)\n",
    "\tdist2 = np.linalg.norm(z_vec - v2)\n",
    "\tdist3 = np.linalg.norm(z_vec - v3)\n",
    "\n",
    "\tprobs = np.array([np.exp(-gamma*dist1), np.exp(-gamma*dist2), np.exp(-gamma*dist3)])\n",
    "\tprobs = probs/probs.sum()\n",
    "\tprint(probs)\n",
    "\n",
    "\tz_new = proj1*probs[0] + proj2*probs[1] + proj3*probs[2]\n",
    "\tZ_new[:,[i]] = z_new\n",
    "\n",
    "\n",
    "plt.scatter(Z[0,:], Z[1,:])\n",
    "plt.title('train_orig')\n",
    "plt.show()\n",
    "plt.scatter(Z_new[0,:], Z_new[1,:])\n",
    "plt.title('train_proj')\n",
    "plt.show()\n",
    "\n",
    "u_proj = np.array([-0.1,1]).reshape((2,1))\n",
    "u_proj = u_proj / np.linalg.norm(u_proj)\n",
    "\n",
    "Z_new_new = Z_new - u_proj@u_proj.T@Z_new\n",
    "plt.scatter(Z_new_new[0,:], Z_new_new[1,:])\n",
    "plt.title('train_proj_end')\n",
    "plt.show()\n",
    "\n",
    "scale=2\n",
    "n_test = 500\n",
    "Z_test = np.zeros((d,n_test))\n",
    "for i in range(n_test):\n",
    "\tx = (1.5 - 1.4/2 +1.4*(i+1)/n_test)*np.pi\n",
    "\tZ_test[0,i] = np.cos(x)\n",
    "\t# Z[1,i] = scale*np.sin(x)\n",
    "\tZ_test[1,i] = np.sin(x)\n",
    "\n",
    "\n",
    "# center and scale (TO ORIGINAL TRAIN DATA)\n",
    "Z_test = Z_test - Z_mean_orig\n",
    "Z_test = Z_test * n / Z_norm_orig\n",
    "\n",
    "# see what mapping is like on test data\n",
    "test_point = Z_test[:,[250]] + 1*np.random.randn(2,1)\n",
    "\n",
    "plt.scatter(Z_test[0,:], Z_test[1,:])\n",
    "plt.scatter(test_point[0,:], test_point[1,:], color='red')\n",
    "plt.title('test_orig')\n",
    "plt.show()\n",
    "\n",
    "\n",
    "\n",
    "for i in range(n_test):\n",
    "\tz_vec = Z_test[:,[i]]\n",
    "\t# compute local components\n",
    "\tproj1 = A1_proj@z_vec + 2*u1\n",
    "\tproj2 = A2_proj@z_vec + alpha2*u2\n",
    "\tproj3 = A3_proj@z_vec + alpha3*u3\n",
    "\t# softmax\n",
    "\tdist1 = np.linalg.norm(z_vec - v1)\n",
    "\tdist2 = np.linalg.norm(z_vec - v2)\n",
    "\tdist3 = np.linalg.norm(z_vec - v3)\n",
    "\n",
    "\tprobs = np.array([np.exp(-gamma*dist1), np.exp(-gamma*dist2), np.exp(-gamma*dist3)])\n",
    "\tprobs = probs/probs.sum()\n",
    "\n",
    "\tz_new = proj1*probs[0] + proj2*probs[1] + proj3*probs[2]\n",
    "\tZ_test[:,[i]] = z_new\n",
    "\n",
    "\n",
    "\n",
    "# test point map\n",
    "z_vec = test_point\n",
    "# compute local components\n",
    "proj1 = A1_proj@z_vec + 2.3*u1\n",
    "proj2 = A2_proj@z_vec + alpha2*u2\n",
    "proj3 = A3_proj@z_vec + alpha3*u3\n",
    "# softmax\n",
    "dist1 = np.linalg.norm(z_vec - v1)\n",
    "dist2 = np.linalg.norm(z_vec - v2)\n",
    "dist3 = np.linalg.norm(z_vec - v3)\n",
    "\n",
    "probs = np.array([np.exp(-gamma*dist1), np.exp(-gamma*dist2), np.exp(-gamma*dist3)])\n",
    "probs = probs/probs.sum()\n",
    "\n",
    "z_new = proj1*probs[0] + proj2*probs[1] + proj3*probs[2]\n",
    "f_test = z_new\n",
    "\n",
    "plt.scatter(Z_test[0,:], Z_test[1,:])\n",
    "plt.scatter(f_test[0,:], f_test[1,:], color='red')\n",
    "plt.title('test_proj')\n",
    "plt.show()\n",
    "\n",
    "\n",
    "\t"
   ]
  },
  {
   "cell_type": "code",
   "execution_count": null,
   "metadata": {},
   "outputs": [],
   "source": []
  }
 ],
 "metadata": {
  "interpreter": {
   "hash": "36ab7f9348c7d0662a1965af503f4376fbff05df74ea3a3ead8d3abcf8650cb8"
  },
  "kernelspec": {
   "display_name": "Python 3.9.7 ('base')",
   "language": "python",
   "name": "python3"
  },
  "language_info": {
   "codemirror_mode": {
    "name": "ipython",
    "version": 3
   },
   "file_extension": ".py",
   "mimetype": "text/x-python",
   "name": "python",
   "nbconvert_exporter": "python",
   "pygments_lexer": "ipython3",
   "version": "3.9.7"
  }
 },
 "nbformat": 4,
 "nbformat_minor": 2
}
