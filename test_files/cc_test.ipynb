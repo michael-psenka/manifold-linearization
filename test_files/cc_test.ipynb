{
 "cells": [
  {
   "cell_type": "markdown",
   "metadata": {},
   "source": [
    "# Curvature Compression: Baseline Tests\n",
    "\n",
    "In this notebook, we give a guided tour on the advantage of curvature compression for choosing a linear model for manifold data"
   ]
  },
  {
   "cell_type": "code",
   "execution_count": null,
   "metadata": {},
   "outputs": [],
   "source": []
  },
  {
   "cell_type": "code",
   "execution_count": 3,
   "metadata": {
    "tags": []
   },
   "outputs": [],
   "source": [
    "# %matplotlib widget\n",
    "import matplotlib.pyplot as plt\n",
    "import numpy as np\n",
    "import torch\n",
    "import torch.nn as nn\n",
    "import torch.optim as optim\n",
    "import torch.utils.data as data\n",
    "\n",
    "# import open3d as o3d\n",
    "\n",
    "import sys\n",
    "# setting path\n",
    "sys.path.append('../')\n",
    "from tools.manifold_generator import Manifold\n",
    "import modules.find_patches_community_detection as find_patches"
   ]
  },
  {
   "cell_type": "code",
   "execution_count": 56,
   "metadata": {},
   "outputs": [
    {
     "data": {
      "image/png": "[encoded data removed]",
      "text/plain": [
       "<Figure size 432x288 with 1 Axes>"
      ]
     },
     "metadata": {
      "needs_background": "light"
     },
     "output_type": "display_data"
    },
    {
     "name": "stdout",
     "output_type": "stream",
     "text": [
      "torch.Size([2, 50])\n"
     ]
    }
   ],
   "source": [
    "hi = Manifold(D=2, d=1, curvature=1, n_basis=20)\n",
    "X = hi.generateSample(N=50, uniform=True)\n",
    "plt.plot(X[0,:], X[1,:],'.')\n",
    "plt.show()\n",
    "print(X.shape)"
   ]
  },
  {
   "cell_type": "code",
   "execution_count": 54,
   "metadata": {},
   "outputs": [
    {
     "name": "stdout",
     "output_type": "stream",
     "text": [
      "[{0, 1, 2, 3, 4, 5}, {6, 7, 8, 9, 10, 11}, {16, 17, 12, 13, 14, 15}, {18, 19, 20, 21, 22, 23, 24}]\n",
      "[[{0}, {1}, {2}, {3}], [{2}, {3}, {0, 1}], [{0, 1}, {2, 3}], [{0, 1, 2, 3}]]\n"
     ]
    }
   ],
   "source": [
    "ind, merge_path = find_patches.find_patches_and_merge_path(X, k=5)\n",
    "print(ind)\n",
    "print(merge_path)"
   ]
  },
  {
   "cell_type": "code",
   "execution_count": 55,
   "metadata": {},
   "outputs": [
    {
     "data": {
      "image/png": "[encoded data removed]",
      "text/plain": [
       "<Figure size 432x288 with 1 Axes>"
      ]
     },
     "metadata": {
      "needs_background": "light"
     },
     "output_type": "display_data"
    }
   ],
   "source": [
    "ind1 = np.array([x for x in ind[0]])\n",
    "plt.plot(X[0,ind1], X[1,ind1], '.', c='r')\n",
    "ind2 = np.array([x for x in ind[1]])\n",
    "plt.plot(X[0,ind2], X[1,ind2],'.', c='g')\n",
    "ind3 = np.array([x for x in ind[2]])\n",
    "plt.plot(X[0,ind3], X[1,ind3],'.', c='b')\n",
    "ind4 = np.array([x for x in ind[3]])\n",
    "plt.plot(X[0,ind4], X[1,ind4],'.', c='orange')\n",
    "# ind5 = np.array([x for x in ind[4]])\n",
    "# plt.plot(X[0,ind5], X[1,ind5],'.', c='purple')\n",
    "plt.show()"
   ]
  },
  {
   "cell_type": "code",
   "execution_count": 66,
   "metadata": {},
   "outputs": [],
   "source": [
    "hi = Manifold(D=3, d=2, curvature=1, n_basis=20)\n",
    "X = hi.generateSample(N=50000, uniform=True)\n",
    "\n",
    "pointclud = X.T.detach().numpy()\n",
    "pcd = o3d.geometry.PointCloud()\n",
    "pcd.points = o3d.utility.Vector3dVector(pointclud)\n",
    "o3d.visualization.draw_geometries([pcd])"
   ]
  },
  {
   "cell_type": "markdown",
   "metadata": {},
   "source": [
    "# Generate manifold data"
   ]
  },
  {
   "cell_type": "code",
   "execution_count": null,
   "metadata": {},
   "outputs": [],
   "source": [
    "# stochastic gradient descent on MSE error of the training data\n",
    "# X and the targets Y\n"
   ]
  },
  {
   "cell_type": "code",
   "execution_count": 51,
   "metadata": {},
   "outputs": [
    {
     "data": {
      "text/plain": [
       "<matplotlib.collections.PathCollection at 0x1ed9695d640>"
      ]
     },
     "execution_count": 51,
     "metadata": {},
     "output_type": "execute_result"
    },
    {
     "data": {
      "image/png": "[encoded data removed]",
      "text/plain": [
       "<Figure size 432x288 with 1 Axes>"
      ]
     },
     "metadata": {
      "needs_background": "light"
     },
     "output_type": "display_data"
    }
   ],
   "source": [
    "# dimension of data\n",
    "d = 2\n",
    "# number of samples\n",
    "n = 25\n",
    "# variance of noise\n",
    "eps2 = 0\n",
    "# determine if we should randomly rotate\n",
    "rotate=False\n",
    "\n",
    "\n",
    "# 2D manifold in 4D space\n",
    "\n",
    "# sqrt_n = 25\n",
    "# n = sqrt_n**2\n",
    "\n",
    "# Z = np.zeros((d,n))\n",
    "# for i in range(sqrt_n):\n",
    "# \tfor j in range(sqrt_n):\n",
    "# \t\tx = (-0.5 + (i+1)/sqrt_n)*2*np.pi\n",
    "# \t\ty = (-0.5 + (j+1)/sqrt_n)*2*np.pi\n",
    "# \t\tZ[0,j + sqrt_n*i] = x\n",
    "# \t\tZ[1,j + sqrt_n*i] = y\n",
    "# \t\tZ[2,j + sqrt_n*i] = np.sin(4*x)\n",
    "# \t\tZ[3,j + sqrt_n*i] = np.sin(7*y)\n",
    "\n",
    "\n",
    "# # mean center\n",
    "# Z = Z - np.mean(Z,axis=1,keepdims=True)\n",
    "# # global normalization\n",
    "# Z = Z * n / np.sqrt(np.sum(np.power(Z, 2)))\n",
    "\n",
    "# plt.scatter(Z[0,:], Z[1,:])\n",
    "scale=2\n",
    "Z = np.zeros((d,n))\n",
    "for i in range(n):\n",
    "\tx = (-0.5 + (i+1)/n)*2*np.pi\n",
    "\tZ[0,i] = x\n",
    "\t# Z[1,i] = scale*np.sin(x)\n",
    "\tZ[1,i] = scale*np.sin(x) + scale/2*np.sin(3*x + 1.5)\n",
    "\n",
    "Z = np.zeros((d,n))\n",
    "for i in range(n):\n",
    "\tx = (1.5 - 1.4/2 +1.4*(i+1)/n)*np.pi\n",
    "\tZ[0,i] = np.cos(x)\n",
    "\t# Z[1,i] = scale*np.sin(x)\n",
    "\tZ[1,i] = np.sin(x)\n",
    "\n",
    "# add noise\n",
    "Z = Z + eps2*np.random.randn(d, n)\n",
    "\n",
    "\n",
    "# center and scale\n",
    "Z_mean_orig = Z.mean(axis=1,keepdims=True)\n",
    "Z = Z - Z_mean_orig\n",
    "Z_norm_orig = np.linalg.norm(Z, 'fro')\n",
    "Z = Z * n / Z_norm_orig\n",
    "\n",
    "# random rotation, preserves centering and scale\n",
    "if rotate:\n",
    "\tA = np.random.randn(d,d)\n",
    "\tu,s,vt = np.linalg.svd(A)\n",
    "\tZ = u@Z\n",
    "\n",
    "# Z = Z[:,8:12]\n",
    "plt.scatter(Z[0,:], Z[1,:])"
   ]
  },
  {
   "cell_type": "markdown",
   "metadata": {},
   "source": [
    "# PCA on manifold data\n",
    "\n",
    "Showing the linear component PCA would choose to eliminate. Note it does not give the proper elimination"
   ]
  },
  {
   "cell_type": "code",
   "execution_count": 5,
   "metadata": {},
   "outputs": [
    {
     "name": "stdout",
     "output_type": "stream",
     "text": [
      "[-0.0878512   0.99613361]\n"
     ]
    },
    {
     "data": {
      "image/png": "[encoded data removed]",
      "text/plain": [
       "<Figure size 432x288 with 1 Axes>"
      ]
     },
     "metadata": {
      "needs_background": "light"
     },
     "output_type": "display_data"
    }
   ],
   "source": [
    "u, s, vt = np.linalg.svd(Z)\n",
    "u_min = u[:,1]\n",
    "print(u_min)\n",
    "\n",
    "# scale to look nice on graph\n",
    "u_show = u_min * np.min(np.max(np.abs(Z), axis=1))/2\n",
    "\n",
    "plt.scatter(Z[0,:], Z[1,:])\n",
    "plt.quiver(0, 0, u_show[0], u_show[1],scale_units='xy', angles='xy',scale=1)\n",
    "plt.gca().set_aspect('equal', adjustable='box')\n",
    "plt.show()"
   ]
  },
  {
   "cell_type": "markdown",
   "metadata": {},
   "source": [
    "We would idealy get a vector in the span of $(0,1)$, since all extraneous curvature is in the $y$-direction. As can be seen, the direction of least variance does not necessarily correspond to the best direction to compress curvature."
   ]
  },
  {
   "cell_type": "markdown",
   "metadata": {},
   "source": [
    "# Curvature compression on manifold data\n",
    "\n",
    "We now test our new proposed method, curvature compression. The function we theoretically want to optimize for is the following:\n",
    "\n",
    "$$v_* = \\argmin_{\\|v\\|_2 = 1} \\max_{x, y \\in Z \\mid x \\ne y} |\\langle v, \\frac{x-y}{\\|x-y\\|_2}\\rangle|$$\n",
    "$$= \\argmin_{\\|v\\|_2 = 1} \\|\\langle v, \\frac{x-y}{\\|x-y\\|_2}\\rangle\\|_\\infty. $$\n",
    "\n",
    "However, since the $L^\\infty$ norm is hard to directly optimize, we settle for a smooth surrogate norm: the $L^4$-norm."
   ]
  },
  {
   "cell_type": "code",
   "execution_count": 42,
   "metadata": {},
   "outputs": [],
   "source": [
    "# PyTorch model to optimize our custom loss\n",
    "class CurvatureElimination(nn.Module):\n",
    "\n",
    "    def __init__(self, X, u_0):\n",
    "        super(CurvatureElimination, self).__init__();\n",
    "        # data\n",
    "        self.X = X\n",
    "        # construct edm and gamma weight matrix\n",
    "        gram = X.T@X\n",
    "        edm = torch.diag(gram).reshape((n,1))@torch.ones((1,n)) \\\n",
    "                + torch.ones((n,1))@torch.diag(gram).reshape((1,n)) \\\n",
    "                - 2*gram\n",
    "\n",
    "        edm = torch.sqrt(edm)\n",
    "\n",
    "        # diagonal weights don't matter, set to 1 as convention\n",
    "        self.gamma = torch.divide(torch.Tensor([1]),torch.eye(n) + edm)\n",
    "        # projection vec\n",
    "        self.u = nn.Parameter(u_0)\n",
    "\n",
    "    def forward(self):\n",
    "        U_stacked = torch.ones(self.X.shape)*self.u\n",
    "        A = (self.X.T @ U_stacked - U_stacked.T @ self.X)*self.gamma\n",
    "        return 0.5*A.pow(4).sum()\n",
    "\n",
    "# PyTorch model to optimize our custom loss\n",
    "class CurvatureEliminationSGD(nn.Module):\n",
    "\n",
    "    def __init__(self, u_0):\n",
    "        super(CurvatureEliminationSGD, self).__init__();\n",
    "\n",
    "        # projection vec\n",
    "        self.u = nn.Parameter(u_0)\n",
    "\n",
    "    def forward(self, X_batch):\n",
    "        # compute injectivity loss on minibatch\n",
    "        d, n_batch = X_batch.shape\n",
    "        edm_batch = torch.cdist(X_batch.T, X_batch.T)\n",
    "        gamma_batch = torch.divide(torch.Tensor([1]),torch.eye(n_batch) + edm_batch)\n",
    "        U_stacked = torch.ones(X_batch.shape)*self.u\n",
    "        A = (X_batch.T @ U_stacked - U_stacked.T @ X_batch)*gamma_batch\n",
    "        return 0.5*A.pow(4).mean()\n",
    "\n",
    "# PyTorch model to optimize our custom loss\n",
    "class CurvatureEliminationPieces(nn.Module):\n",
    "\n",
    "    def __init__(self, X, u_0, u_02, u_03):\n",
    "        super(CurvatureEliminationPieces, self).__init__();\n",
    "        # data\n",
    "        self.X = X\n",
    "        # construct edm and gamma weight matrix\n",
    "        gram = X.T@X\n",
    "        edm = torch.diag(gram).reshape((n,1))@torch.ones((1,n)) \\\n",
    "                + torch.ones((n,1))@torch.diag(gram).reshape((1,n)) \\\n",
    "                - 2*gram\n",
    "\n",
    "        edm = torch.sqrt(edm)\n",
    "\n",
    "        # diagonal weights don't matter, set to 1 as convention\n",
    "        self.gamma = torch.divide(torch.Tensor([1]),torch.eye(n) + edm)\n",
    "        # projection vec\n",
    "        self.u = nn.Parameter(u_0)\n",
    "        self.u2 = nn.Parameter(u_02)\n",
    "        self.u3 = nn.Parameter(u_03)\n",
    "\n",
    "    def forward(self):\n",
    "        U_stacked = torch.ones(self.X[:,:13].shape)*self.u\n",
    "        A = (self.X[:,:13].T @ U_stacked - U_stacked.T @ self.X[:,:13])*self.gamma[:13,:13]\n",
    "        U_stacked2 = torch.ones(self.X[:,7:16].shape)*self.u2\n",
    "        A2 = (self.X[:,7:16].T @ U_stacked2 - U_stacked2.T @ self.X[:,7:16])*self.gamma[7:16,7:16]\n",
    "        U_stacked3 = torch.ones(self.X[:,13:].shape)*self.u3\n",
    "        A3 = (self.X[:,13:].T @ U_stacked3 - U_stacked3.T @ self.X[:,13:])*self.gamma[13:,13:]\n",
    "        return 0.5*(A.pow(4).sum() + A2.pow(4).sum() + A3.pow(4).sum()) - 2*((self.u.T@self.u2).pow(2) + (self.u2.T@self.u3).pow(2))"
   ]
  },
  {
   "cell_type": "code",
   "execution_count": 20,
   "metadata": {},
   "outputs": [
    {
     "name": "stdout",
     "output_type": "stream",
     "text": [
      "torch.Size([2, 500])\n",
      "torch.Size([2, 12])\n"
     ]
    }
   ],
   "source": [
    "loader = data.DataLoader(dataset=data.TensorDataset(X.T), batch_size=12, shuffle=True)\n",
    "# sample batch from loader\n",
    "X_batch = next(iter(loader))[0].T\n",
    "print(X.shape)\n",
    "print(X_batch.shape)"
   ]
  },
  {
   "cell_type": "markdown",
   "metadata": {},
   "source": [
    "# SGD tests"
   ]
  },
  {
   "cell_type": "code",
   "execution_count": 54,
   "metadata": {},
   "outputs": [
    {
     "name": "stdout",
     "output_type": "stream",
     "text": [
      "g step 0: 0.016552096232771873\n",
      "g step 100: 0.03008676879107952\n",
      "g step 200: 0.046776991337537766\n",
      "g step 300: 0.05334431305527687\n",
      "g step 400: 0.057042889297008514\n",
      "g step 500: 0.021112091839313507\n",
      "g step 600: 0.03477724269032478\n",
      "g step 700: 0.010997059755027294\n",
      "g step 800: 0.0019211889011785388\n",
      "g step 900: 0.005317394621670246\n",
      "g step 1000: 0.0026451428420841694\n",
      "g step 1100: 0.003939591348171234\n",
      "g step 1200: 0.006208642385900021\n",
      "g step 1300: 0.0070342449471354485\n",
      "g step 1400: 0.005849484819918871\n",
      "g step 1500: 0.02514476887881756\n",
      "g step 1600: 0.0040291426703333855\n",
      "g step 1700: 0.0015502816531807184\n",
      "g step 1800: 0.011169602163136005\n",
      "g step 1900: 0.0013696800451725721\n",
      "g step 2000: 0.010322331450879574\n",
      "g step 2100: 0.006969420239329338\n",
      "g step 2200: 0.0058410814963281155\n",
      "g step 2300: 0.00986667349934578\n",
      "g step 2400: 0.0031435585115104914\n",
      "g step 2500: 0.0014721740735694766\n",
      "g step 2600: 0.012260540388524532\n",
      "g step 2700: 0.0024457862600684166\n",
      "g step 2800: 0.016621556133031845\n",
      "g step 2900: 0.031186694279313087\n",
      "g step 3000: 0.004860877990722656\n",
      "g step 3100: 0.005355974193662405\n",
      "g step 3200: 4.011180863017216e-05\n",
      "g step 3300: 0.008600015193223953\n",
      "g step 3400: 0.004279258195310831\n",
      "g step 3500: 0.0049704196862876415\n",
      "g step 3600: 0.0020834961906075478\n",
      "g step 3700: 0.006819110829383135\n",
      "g step 3800: 0.005955281667411327\n",
      "g step 3900: 0.0014488722663372755\n",
      "g step 4000: 0.000354686111677438\n",
      "g step 4100: 0.011201176792383194\n",
      "g step 4200: 0.006909315939992666\n",
      "g step 4300: 0.005369943100959063\n",
      "g step 4400: 0.01723373495042324\n",
      "g step 4500: 0.0006798895774409175\n",
      "g step 4600: 0.00018799629469867796\n",
      "g step 4700: 0.0037951527629047632\n",
      "g step 4800: 0.011231249198317528\n",
      "g step 4900: 0.009667772799730301\n",
      "g step 5000: 0.012878665700554848\n",
      "g step 5100: 0.0032964181154966354\n",
      "g step 5200: 0.0026710976380854845\n",
      "g step 5300: 0.0062475563026964664\n",
      "g step 5400: 0.010120469145476818\n",
      "g step 5500: 0.014482704922556877\n",
      "g step 5600: 0.013418123126029968\n",
      "g step 5700: 0.0036489334888756275\n",
      "g step 5800: 0.0017006389098241925\n",
      "g step 5900: 0.002988106571137905\n",
      "g step 6000: 0.014248482882976532\n",
      "g step 6100: 0.005776170641183853\n",
      "g step 6200: 0.00802620779722929\n",
      "g step 6300: 0.006094611249864101\n",
      "g step 6400: 0.014132251963019371\n",
      "g step 6500: 0.004920613951981068\n",
      "g step 6600: 0.007446007337421179\n",
      "g step 6700: 0.0027044983580708504\n",
      "g step 6800: 0.005350661464035511\n",
      "g step 6900: 0.012141789309680462\n",
      "g step 7000: 0.015050537884235382\n",
      "g step 7100: 0.0031911840196698904\n",
      "g step 7200: 0.003120728302747011\n",
      "g step 7300: 0.012755916453897953\n",
      "g step 7400: 0.0005828914581798017\n",
      "g step 7500: 0.006318936590105295\n",
      "g step 7600: 0.012169540859758854\n",
      "g step 7700: 0.004392056260257959\n",
      "g step 7800: 0.006260863970965147\n",
      "g step 7900: 0.002185025019571185\n",
      "g step 8000: 0.016553660854697227\n",
      "g step 8100: 0.010122283361852169\n",
      "g step 8200: 0.0036537530831992626\n",
      "g step 8300: 0.0008160508004948497\n",
      "g step 8400: 0.0036931296344846487\n",
      "g step 8500: 0.0017571249045431614\n",
      "g step 8600: 0.0035293451510369778\n",
      "g step 8700: 0.016307150945067406\n",
      "g step 8800: 0.007920327596366405\n",
      "g step 8900: 0.004791076295077801\n",
      "g step 9000: 0.0010751524241641164\n",
      "g step 9100: 0.010518101043999195\n",
      "g step 9200: 0.013777853921055794\n",
      "g step 9300: 0.01148670818656683\n",
      "g step 9400: 0.003932276740670204\n",
      "g step 9500: 0.0145505266264081\n",
      "g step 9600: 0.003050839062780142\n",
      "g step 9700: 0.011573413386940956\n",
      "g step 9800: 0.008215144276618958\n",
      "g step 9900: 0.012377096340060234\n",
      "done!\n"
     ]
    }
   ],
   "source": [
    "d, n = X.shape\n",
    "batch_size =10\n",
    "u_0 = torch.randn(d,1)\n",
    "u_0 = u_0 / torch.norm(u_0, p=2, dim=0)\n",
    "\n",
    "cc = CurvatureEliminationSGD(u_0)\n",
    "loader = data.DataLoader(dataset=data.TensorDataset(X.T), batch_size=12, shuffle=True)\n",
    "\n",
    "opt = optim.SGD(cc.parameters(), lr=0.01)\n",
    "\n",
    "for i in range(10000):\n",
    "\tcc.zero_grad()\n",
    "\t# forward call of LinFlow\n",
    "\tX_batch = next(iter(loader))[0].T\n",
    "\tloss = cc(X_batch)\n",
    "\n",
    "\tloss.backward()\n",
    "\n",
    "\t# compute Riemannian gradient\n",
    "\tegrad = cc.u.grad.detach()\n",
    "\tbase = cc.u.data.detach()\n",
    "\tbase = base / torch.sqrt(base.pow(2).sum())\n",
    "\trgrad = egrad - base@base.t()@egrad\n",
    "\t# GD step\n",
    "\topt.step()\n",
    "\t# renormalization step\n",
    "\twith torch.no_grad():\n",
    "\t\tcc.u.data = cc.u.data / torch.sqrt((cc.u.data).pow(2).sum());\n",
    "\n",
    "\t# determine if we have converged\n",
    "\tgradnorm = torch.linalg.norm(rgrad)\n",
    "\tif gradnorm < 5e-5:\n",
    "\t\t# print(f'converged in {i} steps!')\n",
    "\t\t# break\n",
    "\t\tpass\n",
    "\tif i%100 == 0:\n",
    "\t\tprint(f'g step {i}: {gradnorm}')\n",
    "\n",
    "print('done!')"
   ]
  },
  {
   "cell_type": "code",
   "execution_count": 24,
   "metadata": {},
   "outputs": [
    {
     "ename": "NameError",
     "evalue": "name 'Z' is not defined",
     "output_type": "error",
     "traceback": [
      "\u001b[1;31m---------------------------------------------------------------------------\u001b[0m",
      "\u001b[1;31mNameError\u001b[0m                                 Traceback (most recent call last)",
      "\u001b[1;32m~\\AppData\\Local\\Temp/ipykernel_10920/2475760004.py\u001b[0m in \u001b[0;36m<module>\u001b[1;34m\u001b[0m\n\u001b[0;32m      7\u001b[0m \u001b[0mu_03\u001b[0m \u001b[1;33m=\u001b[0m \u001b[0mtorch\u001b[0m\u001b[1;33m.\u001b[0m\u001b[0mrandn\u001b[0m\u001b[1;33m(\u001b[0m\u001b[1;33m(\u001b[0m\u001b[0md\u001b[0m\u001b[1;33m,\u001b[0m\u001b[1;36m1\u001b[0m\u001b[1;33m)\u001b[0m\u001b[1;33m)\u001b[0m\u001b[1;33m\u001b[0m\u001b[1;33m\u001b[0m\u001b[0m\n\u001b[0;32m      8\u001b[0m \u001b[0mu_03\u001b[0m \u001b[1;33m=\u001b[0m \u001b[0mu_03\u001b[0m \u001b[1;33m/\u001b[0m \u001b[0mtorch\u001b[0m\u001b[1;33m.\u001b[0m\u001b[0msqrt\u001b[0m\u001b[1;33m(\u001b[0m\u001b[0mu_03\u001b[0m\u001b[1;33m.\u001b[0m\u001b[0mpow\u001b[0m\u001b[1;33m(\u001b[0m\u001b[1;36m2\u001b[0m\u001b[1;33m)\u001b[0m\u001b[1;33m.\u001b[0m\u001b[0msum\u001b[0m\u001b[1;33m(\u001b[0m\u001b[1;33m)\u001b[0m\u001b[1;33m)\u001b[0m\u001b[1;33m\u001b[0m\u001b[1;33m\u001b[0m\u001b[0m\n\u001b[1;32m----> 9\u001b[1;33m \u001b[0mX\u001b[0m \u001b[1;33m=\u001b[0m \u001b[0mtorch\u001b[0m\u001b[1;33m.\u001b[0m\u001b[0mTensor\u001b[0m\u001b[1;33m(\u001b[0m\u001b[0mZ\u001b[0m\u001b[1;33m)\u001b[0m\u001b[1;33m\u001b[0m\u001b[1;33m\u001b[0m\u001b[0m\n\u001b[0m\u001b[0;32m     10\u001b[0m \u001b[1;33m\u001b[0m\u001b[0m\n\u001b[0;32m     11\u001b[0m \u001b[0mcc\u001b[0m \u001b[1;33m=\u001b[0m \u001b[0mCurvatureEliminationPieces\u001b[0m\u001b[1;33m(\u001b[0m\u001b[0mX\u001b[0m\u001b[1;33m,\u001b[0m \u001b[0mu_0\u001b[0m\u001b[1;33m,\u001b[0m \u001b[0mu_02\u001b[0m\u001b[1;33m,\u001b[0m \u001b[0mu_03\u001b[0m\u001b[1;33m)\u001b[0m\u001b[1;33m\u001b[0m\u001b[1;33m\u001b[0m\u001b[0m\n",
      "\u001b[1;31mNameError\u001b[0m: name 'Z' is not defined"
     ]
    }
   ],
   "source": [
    "# optimize via projected gradient descent\n",
    "\n",
    "u_0 = torch.randn((d,1))\n",
    "u_0 = u_0 / torch.sqrt(u_0.pow(2).sum())\n",
    "u_02 = torch.randn((d,1))\n",
    "u_02 = u_02 / torch.sqrt(u_02.pow(2).sum())\n",
    "u_03 = torch.randn((d,1))\n",
    "u_03 = u_03 / torch.sqrt(u_03.pow(2).sum())\n",
    "X = torch.Tensor(Z)\n",
    "\n",
    "cc = CurvatureEliminationPieces(X, u_0, u_02, u_03)\n",
    "opt = optim.SGD(cc.parameters(), lr=0.001)\n",
    "\n",
    "for i in range(1000):\n",
    "\tcc.zero_grad()\n",
    "\t# forward call of LinFlow\n",
    "\tloss = cc()\n",
    "\n",
    "\tloss.backward()\n",
    "\n",
    "\t# compute Riemannian gradient\n",
    "\tegrad = cc.u.grad.detach()\n",
    "\tbase = cc.u.data.detach()\n",
    "\tbase = base / torch.sqrt(base.pow(2).sum())\n",
    "\trgrad = egrad - base@base.t()@egrad\n",
    "\t# GD step\n",
    "\topt.step()\n",
    "\t# renormalization step\n",
    "\twith torch.no_grad():\n",
    "\t\tcc.u.data = cc.u.data / torch.sqrt((cc.u.data).pow(2).sum());\n",
    "\t\tcc.u2.data = cc.u2.data / torch.sqrt((cc.u2.data).pow(2).sum());\n",
    "\t\tcc.u3.data = cc.u3.data / torch.sqrt((cc.u3.data).pow(2).sum());\n",
    "\n",
    "\t# determine if we have converged\n",
    "\tgradnorm = torch.linalg.norm(rgrad)\n",
    "\tif gradnorm < 5e-5:\n",
    "\t\t# print(f'converged in {i} steps!')\n",
    "\t\t# break\n",
    "\t\tpass\n",
    "\tif i%100 == 0:\n",
    "\t\tprint(f'g step {i}: {gradnorm}')\n",
    "\n",
    "print('done!')"
   ]
  },
  {
   "cell_type": "code",
   "execution_count": 53,
   "metadata": {},
   "outputs": [
    {
     "name": "stdout",
     "output_type": "stream",
     "text": [
      "g step 0: 48.64806365966797\n",
      "g step 100: 0.010759027674794197\n",
      "g step 200: 0.00017109086911659688\n",
      "g step 300: 2.117500662279781e-05\n",
      "g step 400: 2.5177723728120327e-05\n",
      "g step 500: 3.43852161677205e-06\n",
      "g step 600: 3.43852161677205e-06\n",
      "g step 700: 3.43852161677205e-06\n",
      "g step 800: 3.43852161677205e-06\n",
      "g step 900: 3.43852161677205e-06\n",
      "done!\n"
     ]
    }
   ],
   "source": [
    "# optimize via projected gradient descent\n",
    "\n",
    "u_0 = torch.randn((d,1))\n",
    "u_0 = u_0 / torch.sqrt(u_0.pow(2).sum())\n",
    "X = torch.Tensor(Z)\n",
    "\n",
    "cc = CurvatureEliminationPieces(X, u_0, u_02, u_03)\n",
    "opt = optim.SGD(cc.parameters(), lr=0.001)\n",
    "\n",
    "for i in range(1000):\n",
    "\tcc.zero_grad()\n",
    "\t# forward call of LinFlow\n",
    "\tloss = cc()\n",
    "\n",
    "\tloss.backward()\n",
    "\n",
    "\t# compute Riemannian gradient\n",
    "\tegrad = cc.u.grad.detach()\n",
    "\tbase = cc.u.data.detach()\n",
    "\tbase = base / torch.sqrt(base.pow(2).sum())\n",
    "\trgrad = egrad - base@base.t()@egrad\n",
    "\t# GD step\n",
    "\topt.step()\n",
    "\t# renormalization step\n",
    "\twith torch.no_grad():\n",
    "\t\tcc.u.data = cc.u.data / torch.sqrt((cc.u.data).pow(2).sum());\n",
    "\t\tcc.u2.data = cc.u2.data / torch.sqrt((cc.u2.data).pow(2).sum());\n",
    "\t\tcc.u3.data = cc.u3.data / torch.sqrt((cc.u3.data).pow(2).sum());\n",
    "\n",
    "\t# determine if we have converged\n",
    "\tgradnorm = torch.linalg.norm(rgrad)\n",
    "\tif gradnorm < 5e-5:\n",
    "\t\t# print(f'converged in {i} steps!')\n",
    "\t\t# break\n",
    "\t\tpass\n",
    "\tif i%100 == 0:\n",
    "\t\tprint(f'g step {i}: {gradnorm}')\n",
    "\n",
    "print('done!')"
   ]
  },
  {
   "cell_type": "code",
   "execution_count": 55,
   "metadata": {},
   "outputs": [
    {
     "name": "stdout",
     "output_type": "stream",
     "text": [
      "learned compression direction: [[ 0.04923584 -0.9987872 ]]\n"
     ]
    },
    {
     "data": {
      "image/png": "[encoded data removed]",
      "text/plain": [
       "<Figure size 432x288 with 1 Axes>"
      ]
     },
     "metadata": {
      "needs_background": "light"
     },
     "output_type": "display_data"
    }
   ],
   "source": [
    "# show learned compression direction\n",
    "u_cc = cc.u.data.detach().clone().numpy()\n",
    "\n",
    "print(f'learned compression direction: {u_cc.T}')\n",
    "# scale to look nice on graph\n",
    "# u_show = u_cc * np.min(np.max(torch.abs(X), axis=1))/2\n",
    "u_show = u_cc\n",
    "\n",
    "plt.scatter(X[0,:], X[1,:])\n",
    "# plt.scatter(Z[0,3], Z[1,3],c='r')\n",
    "# plt.scatter(Z[0,11], Z[1,11],c='r')\n",
    "# plt.scatter(Z[0,18], Z[1,18],c='r')\n",
    "plt.quiver(0, 0, u_show[0], u_show[1],scale_units='xy', angles='xy',scale=1)\n",
    "plt.gca().set_aspect('equal', adjustable='box')\n",
    "plt.show()"
   ]
  },
  {
   "cell_type": "code",
   "execution_count": 32,
   "metadata": {},
   "outputs": [
    {
     "name": "stdout",
     "output_type": "stream",
     "text": [
      "max correlation from computed vec:[0.86410201]\n",
      "max correlation from (0,1):[0.99992104]\n",
      "126.539462985678\n",
      "91.92093872057539\n"
     ]
    }
   ],
   "source": [
    "maxval = 0\n",
    "for i in range(8):\n",
    "\tfor j in range(8):\n",
    "\t\tif i != j:\n",
    "\t\t\tif np.abs(u_cc.T@(Z[:,i]-Z[:,j]) / np.linalg.norm(Z[:,i]-Z[:,j]))  > maxval:\n",
    "\t\t\t\tmaxval = u_cc.T@(Z[:,i]-Z[:,j])/ np.linalg.norm(Z[:,i]-Z[:,j])\n",
    "\t\t\n",
    "\n",
    "print(f'max correlation from computed vec:{maxval}')\n",
    "\n",
    "u_new = np.zeros((2,1))\n",
    "u_new[1] = 1\n",
    "u_new[0] = 0\n",
    "u_new = u_new / np.linalg.norm(u_new)\n",
    "maxval = 0\n",
    "for i in range(8):\n",
    "\tfor j in range(8):\n",
    "\t\tif i != j:\n",
    "\t\t\tif np.abs(u_new.T@(Z[:,i]-Z[:,j])/ np.linalg.norm(Z[:,i]-Z[:,j])) > maxval:\n",
    "\t\t\t\tmaxval = u_new.T@(Z[:,i]-Z[:,j])/ np.linalg.norm(Z[:,i]-Z[:,j])\n",
    "\t\t\n",
    "\n",
    "print(f'max correlation from (0,1):{maxval}')\n",
    "\n",
    "U_stacked = np.ones(Z.shape)*u_cc\n",
    "A = (Z.T @ U_stacked - U_stacked.T @ Z)*cc.gamma.detach().cpu().numpy()\n",
    "print(0.5*np.sum(np.power(np.abs(A),4)))\n",
    "\n",
    "U_stacked = np.ones(Z.shape)*u_new\n",
    "A = (Z.T @ U_stacked - U_stacked.T @ Z)*cc.gamma.detach().cpu().numpy()\n",
    "print(0.5*np.sum(np.power(np.abs(A),4)))"
   ]
  },
  {
   "cell_type": "markdown",
   "metadata": {},
   "source": [
    "# Step 2\n",
    "find global positioning for each piece"
   ]
  },
  {
   "cell_type": "code",
   "execution_count": 27,
   "metadata": {},
   "outputs": [],
   "source": [
    "# softmax parameter\n",
    "gamma = 0.5\n",
    "\n",
    "# PyTorch model to optimize our custom loss\n",
    "class AlignmentPieces(nn.Module):\n",
    "\n",
    "    def __init__(self, X, u, u2, u3, alpha_0):\n",
    "        super(AlignmentPieces, self).__init__();\n",
    "        self.X = X\t\n",
    "\n",
    "        # get softmax coefficients\n",
    "        v1 = X[:,[8]]\n",
    "        v2 = X[:,[12]]\n",
    "        v3 = X[:,[16]]\n",
    "\n",
    "        # vectors of square distances\n",
    "        dists1 = (X-v1).pow(2).sum(axis=0)\n",
    "        dists2 = (X-v2).pow(2).sum(axis=0)\n",
    "        dists3 = (X-v3).pow(2).sum(axis=0)\n",
    "\n",
    "        dists_vec = torch.vstack((dists1,dists2,dists3))\n",
    "        self.probs = nn.Softmax(dim=0)(-gamma*dists_vec)\n",
    "\n",
    "        # projection vec\n",
    "        self.u = u\n",
    "        # self.alpha = nn.Parameter(alpha_0)\n",
    "        self.u2 = u2\n",
    "        self.alpha2 = nn.Parameter(alpha_0.clone())\n",
    "        self.u3 = u3\n",
    "        self.alpha3 = nn.Parameter(alpha_0.clone())\n",
    "\n",
    "    def forward(self):\n",
    "        # to eliminate redunancy, enforce first alpha to be 0\n",
    "        Xproj1 = self.X - self.u@self.u.T@self.X\n",
    "        Xproj2 = self.X - self.u2@self.u2.T@self.X + self.alpha2*self.u2\n",
    "        Xproj3 = self.X - self.u3@self.u3.T@self.X + self.alpha3*self.u3\n",
    "\n",
    "        E_Xproj = self.probs[[0],:]*Xproj1 + self.probs[[1],:]*Xproj2 + self.probs[[2],:]*Xproj3\n",
    "        Var_X = self.probs[[0],:]*(Xproj1 - E_Xproj).pow(2).sum(axis=0) + self.probs[[1],:]*(Xproj2 - E_Xproj).pow(2).sum(axis=0) + self.probs[[2],:]*(Xproj3 - E_Xproj).pow(2).sum(axis=0)\n",
    "        return Var_X.sum()\n",
    "        "
   ]
  },
  {
   "cell_type": "code",
   "execution_count": 28,
   "metadata": {},
   "outputs": [
    {
     "name": "stdout",
     "output_type": "stream",
     "text": [
      "data tensor([0.7168]), tensor([0.7919]). loss 9.552173614501953\n",
      "data tensor([-1.6579]), tensor([-2.8709]). loss 1.7598674297332764\n",
      "data tensor([-1.6579]), tensor([-2.8709]). loss 1.7598674297332764\n",
      "data tensor([-1.6579]), tensor([-2.8709]). loss 1.7598674297332764\n",
      "data tensor([-1.6579]), tensor([-2.8709]). loss 1.7598674297332764\n",
      "data tensor([-1.6579]), tensor([-2.8709]). loss 1.7598674297332764\n",
      "data tensor([-1.6579]), tensor([-2.8709]). loss 1.7598674297332764\n",
      "data tensor([-1.6579]), tensor([-2.8709]). loss 1.7598674297332764\n",
      "data tensor([-1.6579]), tensor([-2.8709]). loss 1.7598674297332764\n",
      "data tensor([-1.6579]), tensor([-2.8709]). loss 1.7598674297332764\n",
      "data tensor([-1.6579]), tensor([-2.8709]). loss 1.7598674297332764\n",
      "data tensor([-1.6579]), tensor([-2.8709]). loss 1.7598674297332764\n",
      "data tensor([-1.6579]), tensor([-2.8709]). loss 1.7598674297332764\n",
      "data tensor([-1.6579]), tensor([-2.8709]). loss 1.7598674297332764\n",
      "data tensor([-1.6579]), tensor([-2.8709]). loss 1.7598674297332764\n",
      "data tensor([-1.6579]), tensor([-2.8709]). loss 1.7598674297332764\n",
      "data tensor([-1.6579]), tensor([-2.8709]). loss 1.7598674297332764\n",
      "data tensor([-1.6579]), tensor([-2.8709]). loss 1.7598674297332764\n",
      "data tensor([-1.6579]), tensor([-2.8709]). loss 1.7598674297332764\n",
      "data tensor([-1.6579]), tensor([-2.8709]). loss 1.7598674297332764\n",
      "data tensor([-1.6579]), tensor([-2.8709]). loss 1.7598674297332764\n",
      "data tensor([-1.6579]), tensor([-2.8709]). loss 1.7598674297332764\n"
     ]
    },
    {
     "ename": "KeyboardInterrupt",
     "evalue": "",
     "output_type": "error",
     "traceback": [
      "\u001b[1;31m---------------------------------------------------------------------------\u001b[0m",
      "\u001b[1;31mKeyboardInterrupt\u001b[0m                         Traceback (most recent call last)",
      "\u001b[1;32m~\\AppData\\Local\\Temp/ipykernel_36076/2811430767.py\u001b[0m in \u001b[0;36m<module>\u001b[1;34m\u001b[0m\n\u001b[0;32m      5\u001b[0m         \u001b[0malign\u001b[0m\u001b[1;33m.\u001b[0m\u001b[0mzero_grad\u001b[0m\u001b[1;33m(\u001b[0m\u001b[1;33m)\u001b[0m\u001b[1;33m\u001b[0m\u001b[1;33m\u001b[0m\u001b[0m\n\u001b[0;32m      6\u001b[0m         \u001b[1;31m# forward call of LinFlow\u001b[0m\u001b[1;33m\u001b[0m\u001b[1;33m\u001b[0m\u001b[0m\n\u001b[1;32m----> 7\u001b[1;33m         \u001b[0mloss\u001b[0m \u001b[1;33m=\u001b[0m \u001b[0malign\u001b[0m\u001b[1;33m(\u001b[0m\u001b[1;33m)\u001b[0m\u001b[1;33m\u001b[0m\u001b[1;33m\u001b[0m\u001b[0m\n\u001b[0m\u001b[0;32m      8\u001b[0m         \u001b[0mloss\u001b[0m\u001b[1;33m.\u001b[0m\u001b[0mbackward\u001b[0m\u001b[1;33m(\u001b[0m\u001b[1;33m)\u001b[0m\u001b[1;33m\u001b[0m\u001b[1;33m\u001b[0m\u001b[0m\n\u001b[0;32m      9\u001b[0m \u001b[1;33m\u001b[0m\u001b[0m\n",
      "\u001b[1;32m~\\anaconda3\\lib\\site-packages\\torch\\nn\\modules\\module.py\u001b[0m in \u001b[0;36m_call_impl\u001b[1;34m(self, *input, **kwargs)\u001b[0m\n\u001b[0;32m   1108\u001b[0m         if not (self._backward_hooks or self._forward_hooks or self._forward_pre_hooks or _global_backward_hooks\n\u001b[0;32m   1109\u001b[0m                 or _global_forward_hooks or _global_forward_pre_hooks):\n\u001b[1;32m-> 1110\u001b[1;33m             \u001b[1;32mreturn\u001b[0m \u001b[0mforward_call\u001b[0m\u001b[1;33m(\u001b[0m\u001b[1;33m*\u001b[0m\u001b[0minput\u001b[0m\u001b[1;33m,\u001b[0m \u001b[1;33m**\u001b[0m\u001b[0mkwargs\u001b[0m\u001b[1;33m)\u001b[0m\u001b[1;33m\u001b[0m\u001b[1;33m\u001b[0m\u001b[0m\n\u001b[0m\u001b[0;32m   1111\u001b[0m         \u001b[1;31m# Do not call functions when jit is used\u001b[0m\u001b[1;33m\u001b[0m\u001b[1;33m\u001b[0m\u001b[0m\n\u001b[0;32m   1112\u001b[0m         \u001b[0mfull_backward_hooks\u001b[0m\u001b[1;33m,\u001b[0m \u001b[0mnon_full_backward_hooks\u001b[0m \u001b[1;33m=\u001b[0m \u001b[1;33m[\u001b[0m\u001b[1;33m]\u001b[0m\u001b[1;33m,\u001b[0m \u001b[1;33m[\u001b[0m\u001b[1;33m]\u001b[0m\u001b[1;33m\u001b[0m\u001b[1;33m\u001b[0m\u001b[0m\n",
      "\u001b[1;32m~\\AppData\\Local\\Temp/ipykernel_36076/1359474933.py\u001b[0m in \u001b[0;36mforward\u001b[1;34m(self)\u001b[0m\n\u001b[0;32m     37\u001b[0m \u001b[1;33m\u001b[0m\u001b[0m\n\u001b[0;32m     38\u001b[0m         \u001b[0mE_Xproj\u001b[0m \u001b[1;33m=\u001b[0m \u001b[0mself\u001b[0m\u001b[1;33m.\u001b[0m\u001b[0mprobs\u001b[0m\u001b[1;33m[\u001b[0m\u001b[1;33m[\u001b[0m\u001b[1;36m0\u001b[0m\u001b[1;33m]\u001b[0m\u001b[1;33m,\u001b[0m\u001b[1;33m:\u001b[0m\u001b[1;33m]\u001b[0m\u001b[1;33m*\u001b[0m\u001b[0mXproj1\u001b[0m \u001b[1;33m+\u001b[0m \u001b[0mself\u001b[0m\u001b[1;33m.\u001b[0m\u001b[0mprobs\u001b[0m\u001b[1;33m[\u001b[0m\u001b[1;33m[\u001b[0m\u001b[1;36m1\u001b[0m\u001b[1;33m]\u001b[0m\u001b[1;33m,\u001b[0m\u001b[1;33m:\u001b[0m\u001b[1;33m]\u001b[0m\u001b[1;33m*\u001b[0m\u001b[0mXproj2\u001b[0m \u001b[1;33m+\u001b[0m \u001b[0mself\u001b[0m\u001b[1;33m.\u001b[0m\u001b[0mprobs\u001b[0m\u001b[1;33m[\u001b[0m\u001b[1;33m[\u001b[0m\u001b[1;36m2\u001b[0m\u001b[1;33m]\u001b[0m\u001b[1;33m,\u001b[0m\u001b[1;33m:\u001b[0m\u001b[1;33m]\u001b[0m\u001b[1;33m*\u001b[0m\u001b[0mXproj3\u001b[0m\u001b[1;33m\u001b[0m\u001b[1;33m\u001b[0m\u001b[0m\n\u001b[1;32m---> 39\u001b[1;33m         \u001b[0mVar_X\u001b[0m \u001b[1;33m=\u001b[0m \u001b[0mself\u001b[0m\u001b[1;33m.\u001b[0m\u001b[0mprobs\u001b[0m\u001b[1;33m[\u001b[0m\u001b[1;33m[\u001b[0m\u001b[1;36m0\u001b[0m\u001b[1;33m]\u001b[0m\u001b[1;33m,\u001b[0m\u001b[1;33m:\u001b[0m\u001b[1;33m]\u001b[0m\u001b[1;33m*\u001b[0m\u001b[1;33m(\u001b[0m\u001b[0mXproj1\u001b[0m \u001b[1;33m-\u001b[0m \u001b[0mE_Xproj\u001b[0m\u001b[1;33m)\u001b[0m\u001b[1;33m.\u001b[0m\u001b[0mpow\u001b[0m\u001b[1;33m(\u001b[0m\u001b[1;36m2\u001b[0m\u001b[1;33m)\u001b[0m\u001b[1;33m.\u001b[0m\u001b[0msum\u001b[0m\u001b[1;33m(\u001b[0m\u001b[0maxis\u001b[0m\u001b[1;33m=\u001b[0m\u001b[1;36m0\u001b[0m\u001b[1;33m)\u001b[0m \u001b[1;33m+\u001b[0m \u001b[0mself\u001b[0m\u001b[1;33m.\u001b[0m\u001b[0mprobs\u001b[0m\u001b[1;33m[\u001b[0m\u001b[1;33m[\u001b[0m\u001b[1;36m1\u001b[0m\u001b[1;33m]\u001b[0m\u001b[1;33m,\u001b[0m\u001b[1;33m:\u001b[0m\u001b[1;33m]\u001b[0m\u001b[1;33m*\u001b[0m\u001b[1;33m(\u001b[0m\u001b[0mXproj2\u001b[0m \u001b[1;33m-\u001b[0m \u001b[0mE_Xproj\u001b[0m\u001b[1;33m)\u001b[0m\u001b[1;33m.\u001b[0m\u001b[0mpow\u001b[0m\u001b[1;33m(\u001b[0m\u001b[1;36m2\u001b[0m\u001b[1;33m)\u001b[0m\u001b[1;33m.\u001b[0m\u001b[0msum\u001b[0m\u001b[1;33m(\u001b[0m\u001b[0maxis\u001b[0m\u001b[1;33m=\u001b[0m\u001b[1;36m0\u001b[0m\u001b[1;33m)\u001b[0m \u001b[1;33m+\u001b[0m \u001b[0mself\u001b[0m\u001b[1;33m.\u001b[0m\u001b[0mprobs\u001b[0m\u001b[1;33m[\u001b[0m\u001b[1;33m[\u001b[0m\u001b[1;36m2\u001b[0m\u001b[1;33m]\u001b[0m\u001b[1;33m,\u001b[0m\u001b[1;33m:\u001b[0m\u001b[1;33m]\u001b[0m\u001b[1;33m*\u001b[0m\u001b[1;33m(\u001b[0m\u001b[0mXproj3\u001b[0m \u001b[1;33m-\u001b[0m \u001b[0mE_Xproj\u001b[0m\u001b[1;33m)\u001b[0m\u001b[1;33m.\u001b[0m\u001b[0mpow\u001b[0m\u001b[1;33m(\u001b[0m\u001b[1;36m2\u001b[0m\u001b[1;33m)\u001b[0m\u001b[1;33m.\u001b[0m\u001b[0msum\u001b[0m\u001b[1;33m(\u001b[0m\u001b[0maxis\u001b[0m\u001b[1;33m=\u001b[0m\u001b[1;36m0\u001b[0m\u001b[1;33m)\u001b[0m\u001b[1;33m\u001b[0m\u001b[1;33m\u001b[0m\u001b[0m\n\u001b[0m\u001b[0;32m     40\u001b[0m         \u001b[1;32mreturn\u001b[0m \u001b[0mVar_X\u001b[0m\u001b[1;33m.\u001b[0m\u001b[0msum\u001b[0m\u001b[1;33m(\u001b[0m\u001b[1;33m)\u001b[0m\u001b[1;33m\u001b[0m\u001b[1;33m\u001b[0m\u001b[0m\n\u001b[0;32m     41\u001b[0m \u001b[1;33m\u001b[0m\u001b[0m\n",
      "\u001b[1;31mKeyboardInterrupt\u001b[0m: "
     ]
    }
   ],
   "source": [
    "align = AlignmentPieces(torch.Tensor(Z), cc.u.data, cc.u2.data, cc.u3.data, torch.Tensor([1]))\n",
    "opt = optim.SGD(align.parameters(), lr=0.1)\n",
    "\n",
    "for i in range(50000):\n",
    "\talign.zero_grad()\n",
    "\t# forward call of LinFlow\n",
    "\tloss = align()\n",
    "\tloss.backward()\n",
    "\n",
    "\t# GD step\n",
    "\topt.step()\n",
    "\n",
    "\t# determine if we have converged\n",
    "\tgradnorm = torch.sqrt(align.alpha2.grad.detach().pow(2) + align.alpha3.grad.detach().pow(2))\n",
    "\tif gradnorm < 5e-5:\n",
    "\t\t# print(f'converged in {i} steps!')\n",
    "\t\t# break\n",
    "\t\tpass\n",
    "\tif i%1000 == 0:\n",
    "\t\t# print(f'g step {i}: {gradnorm}')\n",
    "\t\tprint(f'data {align.alpha2.data}, {align.alpha3.data}. loss {loss}')\n",
    "\t\t# print(align.alpha2.data)\n",
    "\t\t# print(align.alpha3.data)\n",
    "\n",
    "print('done!')"
   ]
  },
  {
   "cell_type": "code",
   "execution_count": 29,
   "metadata": {},
   "outputs": [],
   "source": [
    "v1 = Z[:,[4]]\n",
    "v2 = Z[:,[12]]\n",
    "v3 = Z[:,[20]]\n",
    "\n",
    "for i in range(n):\n",
    "\tdists = np.zeros(3)\n",
    "\tdists[0] = np.linalg.norm(Z[:,i] - v1)\n",
    "\tdists[1] = np.linalg.norm(Z[:,i] - v2)\n",
    "\tdists[2] = np.linalg.norm(Z[:,i] - v3)\n",
    "\tif np.argmin(dists) == 0:\n",
    "\t\tprint(i)\n",
    "\t\t"
   ]
  },
  {
   "cell_type": "markdown",
   "metadata": {},
   "source": [
    "# plot"
   ]
  },
  {
   "cell_type": "code",
   "execution_count": 53,
   "metadata": {},
   "outputs": [
    {
     "name": "stdout",
     "output_type": "stream",
     "text": [
      "[0.9160609 0.0542517 0.0296874]\n",
      "[0.93651615 0.04541842 0.01806543]\n",
      "[0.95012564 0.03862679 0.01124757]\n",
      "[0.95927607 0.03351178 0.00721215]\n",
      "[0.96546808 0.02974424 0.00478769]\n",
      "[0.92543584 0.0664506  0.00811357]\n",
      "[0.84254679 0.14390616 0.01354705]\n",
      "[0.69333333 0.2855586  0.02110807]\n",
      "[0.48562011 0.48562011 0.02875979]\n",
      "[0.28202854 0.68476239 0.03320907]\n",
      "[0.14098686 0.82545477 0.03355837]\n",
      "[0.06487947 0.90355532 0.03156521]\n",
      "[0.02902    0.94196001 0.02902   ]\n",
      "[0.03156521 0.90355532 0.06487947]\n",
      "[0.03355837 0.82545477 0.14098686]\n",
      "[0.03320907 0.68476239 0.28202854]\n",
      "[0.02875979 0.48562011 0.48562011]\n",
      "[0.02110807 0.2855586  0.69333333]\n",
      "[0.01354705 0.14390616 0.84254679]\n",
      "[0.00811357 0.0664506  0.92543584]\n",
      "[0.00478769 0.02974424 0.96546808]\n",
      "[0.00721215 0.03351178 0.95927607]\n",
      "[0.01124757 0.03862679 0.95012564]\n",
      "[0.01806543 0.04541842 0.93651615]\n",
      "[0.0296874 0.0542517 0.9160609]\n"
     ]
    },
    {
     "data": {
      "image/png": "[encoded data removed]",
      "text/plain": [
       "<Figure size 432x288 with 1 Axes>"
      ]
     },
     "metadata": {
      "needs_background": "light"
     },
     "output_type": "display_data"
    },
    {
     "data": {
      "image/png": "[encoded data removed]",
      "text/plain": [
       "<Figure size 432x288 with 1 Axes>"
      ]
     },
     "metadata": {
      "needs_background": "light"
     },
     "output_type": "display_data"
    },
    {
     "data": {
      "image/png": "[encoded data removed]",
      "text/plain": [
       "<Figure size 432x288 with 1 Axes>"
      ]
     },
     "metadata": {
      "needs_background": "light"
     },
     "output_type": "display_data"
    },
    {
     "data": {
      "image/png": "[encoded data removed]",
      "text/plain": [
       "<Figure size 432x288 with 1 Axes>"
      ]
     },
     "metadata": {
      "needs_background": "light"
     },
     "output_type": "display_data"
    },
    {
     "data": {
      "image/png": "[encoded data removed]",
      "text/plain": [
       "<Figure size 432x288 with 1 Axes>"
      ]
     },
     "metadata": {
      "needs_background": "light"
     },
     "output_type": "display_data"
    }
   ],
   "source": [
    "u1 = cc.u.detach().clone().cpu().numpy()\n",
    "A1_proj = np.eye(d) - u1@u1.T\n",
    "u2 = cc.u2.detach().clone().cpu().numpy()\n",
    "A2_proj = np.eye(d) - u2@u2.T\n",
    "u3 = cc.u3.detach().clone().cpu().numpy()\n",
    "A3_proj = np.eye(d) - u3@u3.T\n",
    "\n",
    "alpha2 = align.alpha2.detach().clone().cpu().numpy()\n",
    "alpha3 = align.alpha3.detach().clone().cpu().numpy()\n",
    "\n",
    "Z_new = np.zeros(Z.shape)\n",
    "for i in range(n):\n",
    "\tz_vec = Z[:,[i]]\n",
    "\t# compute local components\n",
    "\tproj1 = A1_proj@z_vec + 2.3*u1\n",
    "\tproj2 = A2_proj@z_vec + alpha2*u2\n",
    "\tproj3 = A3_proj@z_vec + alpha3*u3\n",
    "\t# softmax\n",
    "\tdist1 = np.linalg.norm(z_vec - v1)\n",
    "\tdist2 = np.linalg.norm(z_vec - v2)\n",
    "\tdist3 = np.linalg.norm(z_vec - v3)\n",
    "\n",
    "\tprobs = np.array([np.exp(-gamma*dist1), np.exp(-gamma*dist2), np.exp(-gamma*dist3)])\n",
    "\tprobs = probs/probs.sum()\n",
    "\tprint(probs)\n",
    "\n",
    "\tz_new = proj1*probs[0] + proj2*probs[1] + proj3*probs[2]\n",
    "\tZ_new[:,[i]] = z_new\n",
    "\n",
    "\n",
    "plt.scatter(Z[0,:], Z[1,:])\n",
    "plt.title('train_orig')\n",
    "plt.show()\n",
    "plt.scatter(Z_new[0,:], Z_new[1,:])\n",
    "plt.title('train_proj')\n",
    "plt.show()\n",
    "\n",
    "u_proj = np.array([-0.1,1]).reshape((2,1))\n",
    "u_proj = u_proj / np.linalg.norm(u_proj)\n",
    "\n",
    "Z_new_new = Z_new - u_proj@u_proj.T@Z_new\n",
    "plt.scatter(Z_new_new[0,:], Z_new_new[1,:])\n",
    "plt.title('train_proj_end')\n",
    "plt.show()\n",
    "\n",
    "scale=2\n",
    "n_test = 500\n",
    "Z_test = np.zeros((d,n_test))\n",
    "for i in range(n_test):\n",
    "\tx = (1.5 - 1.4/2 +1.4*(i+1)/n_test)*np.pi\n",
    "\tZ_test[0,i] = np.cos(x)\n",
    "\t# Z[1,i] = scale*np.sin(x)\n",
    "\tZ_test[1,i] = np.sin(x)\n",
    "\n",
    "\n",
    "# center and scale (TO ORIGINAL TRAIN DATA)\n",
    "Z_test = Z_test - Z_mean_orig\n",
    "Z_test = Z_test * n / Z_norm_orig\n",
    "\n",
    "# see what mapping is like on test data\n",
    "test_point = Z_test[:,[250]] + 1*np.random.randn(2,1)\n",
    "\n",
    "plt.scatter(Z_test[0,:], Z_test[1,:])\n",
    "plt.scatter(test_point[0,:], test_point[1,:], color='red')\n",
    "plt.title('test_orig')\n",
    "plt.show()\n",
    "\n",
    "\n",
    "\n",
    "for i in range(n_test):\n",
    "\tz_vec = Z_test[:,[i]]\n",
    "\t# compute local components\n",
    "\tproj1 = A1_proj@z_vec + 2*u1\n",
    "\tproj2 = A2_proj@z_vec + alpha2*u2\n",
    "\tproj3 = A3_proj@z_vec + alpha3*u3\n",
    "\t# softmax\n",
    "\tdist1 = np.linalg.norm(z_vec - v1)\n",
    "\tdist2 = np.linalg.norm(z_vec - v2)\n",
    "\tdist3 = np.linalg.norm(z_vec - v3)\n",
    "\n",
    "\tprobs = np.array([np.exp(-gamma*dist1), np.exp(-gamma*dist2), np.exp(-gamma*dist3)])\n",
    "\tprobs = probs/probs.sum()\n",
    "\n",
    "\tz_new = proj1*probs[0] + proj2*probs[1] + proj3*probs[2]\n",
    "\tZ_test[:,[i]] = z_new\n",
    "\n",
    "\n",
    "\n",
    "# test point map\n",
    "z_vec = test_point\n",
    "# compute local components\n",
    "proj1 = A1_proj@z_vec + 2.3*u1\n",
    "proj2 = A2_proj@z_vec + alpha2*u2\n",
    "proj3 = A3_proj@z_vec + alpha3*u3\n",
    "# softmax\n",
    "dist1 = np.linalg.norm(z_vec - v1)\n",
    "dist2 = np.linalg.norm(z_vec - v2)\n",
    "dist3 = np.linalg.norm(z_vec - v3)\n",
    "\n",
    "probs = np.array([np.exp(-gamma*dist1), np.exp(-gamma*dist2), np.exp(-gamma*dist3)])\n",
    "probs = probs/probs.sum()\n",
    "\n",
    "z_new = proj1*probs[0] + proj2*probs[1] + proj3*probs[2]\n",
    "f_test = z_new\n",
    "\n",
    "plt.scatter(Z_test[0,:], Z_test[1,:])\n",
    "plt.scatter(f_test[0,:], f_test[1,:], color='red')\n",
    "plt.title('test_proj')\n",
    "plt.show()\n",
    "\n",
    "\n",
    "\t"
   ]
  },
  {
   "cell_type": "markdown",
   "metadata": {},
   "source": [
    "# dummy 2d vision dataset\n",
    "\n",
    "2-parameter set of 2D images, various brightnesses and x-translations of a centered square"
   ]
  },
  {
   "cell_type": "code",
   "execution_count": 207,
   "metadata": {},
   "outputs": [],
   "source": [
    "# 2d images will be (res) x (res)\n",
    "res = 50\n",
    "# center block will be (block_size) x (block_size)\n",
    "block_size = 5\n",
    "# set of coordinates, a matrix of size (N x 2)\n",
    "# coord[:,0] is the x coordinate, coord[:,1] is the brightness\n",
    "N = 300\n",
    "# random tensor fron uniform distribution\n",
    "coord = torch.rand(N, 2)\n",
    "# transform 1st dimenion into valid x coordinates\n",
    "coord[:,0] = block_size//2 + torch.floor(coord[:,0]*(res-block_size))\n",
    "# transform 2nd to not be completely dark\n",
    "coord[:,1] = 0.1 + 0.9*coord[:,1]\n",
    "\n",
    "# construct data\n",
    "X = torch.zeros(N, res, res)\n",
    "for i in range(N):\n",
    "\tx = int(coord[i,0].item())\n",
    "\ty = res // 2\n",
    "\tbrightness = coord[i,1].item()\n",
    "\tX[i,x-block_size//2:x+block_size//2, y-block_size//2:y+block_size//2] = brightness\n",
    "\n",
    "# vectorize data\n",
    "Z = X.view(N, -1)\n",
    "# get images from vectorized data\n",
    "# Xhat = Z.view(N, res, res)\n"
   ]
  },
  {
   "cell_type": "code",
   "execution_count": 199,
   "metadata": {},
   "outputs": [
    {
     "data": {
      "image/png": "[encoded data removed]",
      "text/plain": [
       "<Figure size 432x288 with 1 Axes>"
      ]
     },
     "metadata": {
      "needs_background": "light"
     },
     "output_type": "display_data"
    },
    {
     "data": {
      "image/png": "[encoded data removed]",
      "text/plain": [
       "<Figure size 432x288 with 1 Axes>"
      ]
     },
     "metadata": {
      "needs_background": "light"
     },
     "output_type": "display_data"
    },
    {
     "name": "stdout",
     "output_type": "stream",
     "text": [
      "tensor(0.1765)\n",
      "tensor(0.1765)\n"
     ]
    }
   ],
   "source": [
    "data1 = 8\n",
    "data2 = 8\n",
    "\n",
    "plt.imshow(X[data1,:,:].T, vmin=0.0, vmax=1.0)\n",
    "plt.show()\n",
    "plt.imshow(X[data2,:,:].T, vmin=0.0, vmax=1.0)\n",
    "plt.show()\n",
    "\n",
    "print(Z[data1,:].max())\n",
    "print(Z[data2,:].max())"
   ]
  },
  {
   "cell_type": "code",
   "execution_count": 208,
   "metadata": {},
   "outputs": [
    {
     "name": "stdout",
     "output_type": "stream",
     "text": [
      "torch.Size([2500, 300])\n"
     ]
    }
   ],
   "source": [
    "U, S, V = torch.svd(Z)\n",
    "print(V.shape)\n"
   ]
  },
  {
   "cell_type": "code",
   "execution_count": 209,
   "metadata": {},
   "outputs": [
    {
     "data": {
      "image/png": "[encoded data removed]",
      "text/plain": [
       "<Figure size 432x288 with 1 Axes>"
      ]
     },
     "metadata": {
      "needs_background": "light"
     },
     "output_type": "display_data"
    },
    {
     "data": {
      "image/png": "[encoded data removed]",
      "text/plain": [
       "<Figure size 432x288 with 1 Axes>"
      ]
     },
     "metadata": {
      "needs_background": "light"
     },
     "output_type": "display_data"
    }
   ],
   "source": [
    "# test out or projection from PCA\n",
    "len_test = res - 2*block_size\n",
    "X1 = torch.zeros(len_test,res,res)\n",
    "for i in range(len_test):\n",
    "\tx = i + block_size//2\n",
    "\ty = res // 2\n",
    "\tbrightness = 1\n",
    "\tX1[i,x-block_size//2:x+block_size//2, y-block_size//2:y+block_size//2] = brightness\n",
    "\n",
    "Z1 = X1.view(len_test, -1)\n",
    "Z1_proj1 = Z1@V[:,0]\n",
    "Z1_proj2 = Z1@V[:,1]\n",
    "\n",
    "plt.plot(np.arange(len_test), Z1_proj1.numpy())\n",
    "plt.title('Projection 1')\n",
    "plt.show()\n",
    "\n",
    "plt.plot(np.arange(len_test), Z1_proj2.numpy())\n",
    "plt.title('Projection 2')\n",
    "plt.show()"
   ]
  },
  {
   "cell_type": "code",
   "execution_count": null,
   "metadata": {},
   "outputs": [],
   "source": []
  },
  {
   "cell_type": "code",
   "execution_count": 293,
   "metadata": {},
   "outputs": [],
   "source": [
    "# NEW METHOD: trying to make computation more efficient\n",
    "# PyTorch model to optimize our custom loss\n",
    "class InjectivityPCA(nn.Module):\n",
    "\n",
    "    def __init__(self, X, u_0):\n",
    "        super(InjectivityPCA, self).__init__();\n",
    "        # data\n",
    "        n, d = X.shape\n",
    "        self.X = X\n",
    "        # collect difference vectors. return is of shape (n x n x d)\n",
    "        diff_full = X.unsqueeze(1) - X\n",
    "        # return non-redundant difference vectors (keep only i - j instead of i - j and j - i)\n",
    "        # return of shape is (n(n-1)/2 x d)\n",
    "        diff_select = torch.ones(diff_full.shape[:2]).triu(diagonal=1)\n",
    "        diff_select = diff_select.bool()\n",
    "        self.diff_select = diff_select\n",
    "        diff = diff_full[diff_select,:]\n",
    "\n",
    "        # # finally, normalize difference vectors (rows)\n",
    "        # self.diff = diff / torch.norm(diff, dim=1, keepdim=True)\n",
    "        # store norms of full diff vec matrix\n",
    "        diff_norm = torch.norm(diff, dim=1, keepdim=True)\n",
    "        # make sure no divide by 0 error\n",
    "        diff_norm[diff_norm == 0] = 1\n",
    "        self.diff_norm_scale = 1 / diff_norm\n",
    "        \n",
    "        # projection vec\n",
    "        self.U = nn.Parameter(u_0)\n",
    "\n",
    "    def forward(self):\n",
    "        # Apply projection vectors to difference vectors\n",
    "        A = self.X @ self.U\n",
    "        # Compute diff from projected vectors\n",
    "        diff_proj = (A.unsqueeze(1) - A)\n",
    "        # remove redundant diffs, normalize\n",
    "        diff_proj = diff_proj[self.diff_select,:] * self.diff_norm_scale*10\n",
    "        \n",
    "        # average out sample complexity, but not dimension\n",
    "        return 0.25*diff_proj.pow(4).mean(axis=0).sum()"
   ]
  },
  {
   "cell_type": "code",
   "execution_count": 258,
   "metadata": {},
   "outputs": [],
   "source": [
    "import time"
   ]
  },
  {
   "cell_type": "code",
   "execution_count": 327,
   "metadata": {},
   "outputs": [
    {
     "name": "stdout",
     "output_type": "stream",
     "text": [
      "dim: 50 step 0: 2.3093\n",
      "dim: 50 step 5: 0.1568\n",
      "dim: 50 step 500: 0.0013\n",
      "dim: 50 step 1000: 0.0006\n",
      "dim: 50 step 1500: 0.0004\n",
      "dim: 50 step 2000: 0.0003\n",
      "dim: 50 step 2500: 0.0003\n",
      "dim: 49 step 0: 2.4871\n",
      "dim: 49 step 5: 0.2189\n",
      "dim: 49 step 500: 0.0047\n",
      "dim: 49 step 1000: 0.0016\n",
      "dim: 49 step 1500: 0.0008\n",
      "dim: 49 step 2000: 0.0005\n",
      "dim: 49 step 2500: 0.0004\n",
      "dim: 48 step 0: 2.1420\n",
      "dim: 48 step 5: 0.2931\n",
      "dim: 48 step 500: 0.0059\n",
      "dim: 48 step 1000: 0.0025\n",
      "dim: 48 step 1500: 0.0016\n",
      "dim: 48 step 2000: 0.0011\n",
      "dim: 48 step 2500: 0.0009\n",
      "dim: 47 step 0: 1.9043\n",
      "dim: 47 step 5: 0.2781\n",
      "dim: 47 step 500: 0.0038\n",
      "dim: 47 step 1000: 0.0015\n",
      "dim: 47 step 1500: 0.0009\n",
      "dim: 47 step 2000: 0.0006\n",
      "dim: 47 step 2500: 0.0004\n",
      "dim: 46 step 0: 2.4118\n",
      "dim: 46 step 5: 0.2372\n",
      "dim: 46 step 500: 0.0020\n",
      "dim: 46 step 1000: 0.0009\n",
      "dim: 46 step 1500: 0.0007\n",
      "dim: 46 step 2000: 0.0005\n",
      "dim: 46 step 2500: 0.0005\n",
      "dim: 45 step 0: 2.1966\n",
      "dim: 45 step 5: 0.2695\n",
      "dim: 45 step 500: 0.0059\n",
      "dim: 45 step 1000: 0.0029\n",
      "dim: 45 step 1500: 0.0019\n",
      "dim: 45 step 2000: 0.0014\n",
      "dim: 45 step 2500: 0.0011\n",
      "dim: 44 step 0: 1.3419\n",
      "dim: 44 step 5: 0.3283\n",
      "dim: 44 step 500: 0.0087\n",
      "dim: 44 step 1000: 0.0034\n",
      "dim: 44 step 1500: 0.0021\n",
      "dim: 44 step 2000: 0.0015\n",
      "dim: 44 step 2500: 0.0011\n",
      "dim: 43 step 0: 1.8925\n",
      "dim: 43 step 5: 0.3214\n",
      "dim: 43 step 500: 0.0046\n",
      "dim: 43 step 1000: 0.0018\n",
      "dim: 43 step 1500: 0.0011\n",
      "dim: 43 step 2000: 0.0007\n",
      "dim: 43 step 2500: 0.0006\n",
      "dim: 42 step 0: 5.6349\n",
      "dim: 42 step 5: 0.3830\n",
      "dim: 42 step 500: 0.0070\n",
      "dim: 42 step 1000: 0.0026\n",
      "dim: 42 step 1500: 0.0014\n",
      "dim: 42 step 2000: 0.0010\n",
      "dim: 42 step 2500: 0.0008\n",
      "dim: 41 step 0: 2.2960\n",
      "dim: 41 step 5: 0.2877\n",
      "dim: 41 step 500: 0.0116\n",
      "dim: 41 step 1000: 0.0056\n",
      "dim: 41 step 1500: 0.0037\n",
      "dim: 41 step 2000: 0.0029\n",
      "dim: 41 step 2500: 0.0024\n",
      "dim: 40 step 0: 1.3232\n",
      "dim: 40 step 5: 0.4438\n",
      "dim: 40 step 500: 0.0360\n",
      "dim: 40 step 1000: 0.0241\n",
      "dim: 40 step 1500: 0.0183\n",
      "dim: 40 step 2000: 0.0141\n",
      "dim: 40 step 2500: 0.0111\n",
      "dim: 39 step 0: 2.9368\n",
      "dim: 39 step 5: 0.4527\n",
      "dim: 39 step 500: 0.0329\n",
      "dim: 39 step 1000: 0.0237\n",
      "dim: 39 step 1500: 0.0181\n",
      "dim: 39 step 2000: 0.0142\n",
      "dim: 39 step 2500: 0.0110\n",
      "dim: 38 step 0: 5.5326\n",
      "dim: 38 step 5: 0.4127\n",
      "dim: 38 step 500: 0.0297\n",
      "dim: 38 step 1000: 0.0160\n",
      "dim: 38 step 1500: 0.0122\n",
      "dim: 38 step 2000: 0.0112\n",
      "dim: 38 step 2500: 0.0109\n",
      "dim: 37 step 0: 3.9046\n",
      "dim: 37 step 5: 0.9020\n",
      "dim: 37 step 500: 0.0214\n",
      "dim: 37 step 1000: 0.0154\n",
      "dim: 37 step 1500: 0.0137\n",
      "dim: 37 step 2000: 0.0127\n",
      "dim: 37 step 2500: 0.0119\n",
      "dim: 36 step 0: 1.4631\n",
      "dim: 36 step 5: 0.6118\n",
      "dim: 36 step 500: 0.0296\n",
      "dim: 36 step 1000: 0.0200\n",
      "dim: 36 step 1500: 0.0164\n",
      "dim: 36 step 2000: 0.0148\n",
      "dim: 36 step 2500: 0.0141\n",
      "dim: 35 step 0: 3.1537\n",
      "dim: 35 step 5: 0.6951\n",
      "dim: 35 step 500: 0.0842\n",
      "dim: 35 step 1000: 0.0592\n",
      "dim: 35 step 1500: 0.0477\n",
      "dim: 35 step 2000: 0.0365\n",
      "dim: 35 step 2500: 0.0263\n",
      "dim: 34 step 0: 1.2876\n",
      "dim: 34 step 5: 0.5722\n",
      "dim: 34 step 500: 0.0974\n",
      "dim: 34 step 1000: 0.0670\n",
      "dim: 34 step 1500: 0.0552\n",
      "dim: 34 step 2000: 0.0524\n",
      "dim: 34 step 2500: 0.0514\n",
      "dim: 33 step 0: 3.8177\n",
      "dim: 33 step 5: 0.8822\n",
      "dim: 33 step 500: 0.1144\n",
      "dim: 33 step 1000: 0.0824\n",
      "dim: 33 step 1500: 0.0749\n",
      "dim: 33 step 2000: 0.0705\n",
      "dim: 33 step 2500: 0.0675\n",
      "dim: 32 step 0: 3.9102\n",
      "dim: 32 step 5: 0.9122\n",
      "dim: 32 step 500: 0.1071\n",
      "dim: 32 step 1000: 0.0854\n",
      "dim: 32 step 1500: 0.0785\n",
      "dim: 32 step 2000: 0.0705\n",
      "dim: 32 step 2500: 0.0634\n",
      "dim: 31 step 0: 2.2652\n",
      "dim: 31 step 5: 1.2566\n",
      "dim: 31 step 500: 0.1641\n",
      "dim: 31 step 1000: 0.1285\n",
      "dim: 31 step 1500: 0.1027\n",
      "dim: 31 step 2000: 0.0953\n",
      "dim: 31 step 2500: 0.0926\n",
      "dim: 30 step 0: 2.6165\n",
      "dim: 30 step 5: 1.3914\n",
      "dim: 30 step 500: 0.1914\n",
      "dim: 30 step 1000: 0.1495\n",
      "dim: 30 step 1500: 0.1273\n",
      "dim: 30 step 2000: 0.1210\n",
      "dim: 30 step 2500: 0.1184\n",
      "dim: 29 step 0: 3.2376\n",
      "dim: 29 step 5: 1.6285\n",
      "dim: 29 step 500: 0.1402\n",
      "dim: 29 step 1000: 0.1261\n",
      "dim: 29 step 1500: 0.1244\n",
      "dim: 29 step 2000: 0.1240\n",
      "dim: 29 step 2500: 0.1236\n",
      "dim: 28 step 0: 2.0069\n",
      "dim: 28 step 5: 1.2535\n",
      "dim: 28 step 500: 0.1847\n",
      "dim: 28 step 1000: 0.1782\n",
      "dim: 28 step 1500: 0.1771\n",
      "dim: 28 step 2000: 0.1768\n",
      "dim: 28 step 2500: 0.1766\n",
      "dim: 27 step 0: 2.9499\n",
      "dim: 27 step 5: 1.6898\n",
      "dim: 27 step 500: 0.2510\n",
      "dim: 27 step 1000: 0.2204\n",
      "dim: 27 step 1500: 0.2097\n",
      "dim: 27 step 2000: 0.2037\n",
      "dim: 27 step 2500: 0.2012\n",
      "dim: 26 step 0: 1.8287\n",
      "dim: 26 step 5: 1.3228\n",
      "dim: 26 step 500: 0.2207\n",
      "dim: 26 step 1000: 0.2156\n",
      "dim: 26 step 1500: 0.2147\n",
      "dim: 26 step 2000: 0.2138\n",
      "dim: 26 step 2500: 0.2127\n",
      "dim: 25 step 0: 2.0163\n",
      "dim: 25 step 5: 1.7131\n",
      "dim: 25 step 500: 0.2968\n",
      "dim: 25 step 1000: 0.2628\n",
      "dim: 25 step 1500: 0.2589\n",
      "dim: 25 step 2000: 0.2584\n",
      "dim: 25 step 2500: 0.2578\n",
      "dim: 24 step 0: 1.4534\n",
      "dim: 24 step 5: 1.5864\n",
      "dim: 24 step 500: 0.4045\n",
      "dim: 24 step 1000: 0.3978\n",
      "dim: 24 step 1500: 0.3846\n",
      "dim: 24 step 2000: 0.3208\n",
      "dim: 24 step 2500: 0.2971\n",
      "dim: 23 step 0: 1.2940\n",
      "dim: 23 step 5: 3.7254\n",
      "dim: 23 step 500: 0.4036\n",
      "dim: 23 step 1000: 0.3275\n",
      "dim: 23 step 1500: 0.3179\n",
      "dim: 23 step 2000: 0.3110\n",
      "dim: 23 step 2500: 0.3067\n",
      "dim: 22 step 0: 3.0754\n",
      "dim: 22 step 5: 2.1884\n",
      "dim: 22 step 500: 0.3456\n",
      "dim: 22 step 1000: 0.3365\n",
      "dim: 22 step 1500: 0.3345\n",
      "dim: 22 step 2000: 0.3337\n",
      "dim: 22 step 2500: 0.3333\n",
      "dim: 21 step 0: 3.4503\n",
      "dim: 21 step 5: 4.6700\n",
      "dim: 21 step 500: 0.4495\n",
      "dim: 21 step 1000: 0.4440\n",
      "dim: 21 step 1500: 0.4433\n",
      "dim: 21 step 2000: 0.4432\n",
      "dim: 21 step 2500: 0.4431\n",
      "dim: 20 step 0: 0.7470\n",
      "dim: 20 step 5: 3.1704\n",
      "dim: 20 step 500: 0.4690\n",
      "dim: 20 step 1000: 0.4622\n",
      "dim: 20 step 1500: 0.4597\n",
      "dim: 20 step 2000: 0.4576\n",
      "dim: 20 step 2500: 0.4554\n",
      "dim: 19 step 0: 1.8312\n",
      "dim: 19 step 5: 4.0052\n",
      "dim: 19 step 500: 0.4846\n",
      "dim: 19 step 1000: 0.4618\n",
      "dim: 19 step 1500: 0.4603\n",
      "dim: 19 step 2000: 0.4602\n",
      "dim: 19 step 2500: 0.4602\n",
      "dim: 18 step 0: 3.4537\n",
      "dim: 18 step 5: 4.7456\n",
      "dim: 18 step 500: 0.5233\n",
      "dim: 18 step 1000: 0.5229\n",
      "dim: 18 step 1500: 0.5229\n",
      "dim: 18 step 2000: 0.5229\n",
      "dim: 18 step 2500: 0.5229\n",
      "dim: 17 step 0: 5.4745\n",
      "dim: 17 step 5: 5.8919\n",
      "dim: 17 step 500: 0.9158\n",
      "dim: 17 step 1000: 0.9148\n",
      "dim: 17 step 1500: 0.9148\n",
      "dim: 17 step 2000: 0.9148\n",
      "dim: 17 step 2500: 0.9148\n",
      "dim: 16 step 0: 2.7322\n",
      "dim: 16 step 5: 15.3909\n",
      "dim: 16 step 500: 1.3482\n",
      "dim: 16 step 1000: 1.3475\n",
      "dim: 16 step 1500: 1.3475\n",
      "dim: 16 step 2000: 1.3475\n",
      "dim: 16 step 2500: 1.3475\n",
      "dim: 15 step 0: 4.6379\n",
      "dim: 15 step 5: 12.2889\n",
      "dim: 15 step 500: 2.0046\n",
      "dim: 15 step 1000: 1.9953\n",
      "dim: 15 step 1500: 1.9952\n",
      "dim: 15 step 2000: 1.9952\n",
      "dim: 15 step 2500: 1.9952\n",
      "dim: 14 step 0: 5.9388\n",
      "dim: 14 step 5: 17.8293\n",
      "dim: 14 step 500: 2.8471\n",
      "dim: 14 step 1000: 2.8442\n",
      "dim: 14 step 1500: 2.8442\n",
      "dim: 14 step 2000: 2.8442\n",
      "dim: 14 step 2500: 2.8442\n",
      "dim: 13 step 0: 1.2911\n",
      "dim: 13 step 5: 15.3506\n",
      "dim: 13 step 500: 5.0395\n",
      "dim: 13 step 1000: 4.9087\n",
      "dim: 13 step 1500: 4.7974\n",
      "dim: 13 step 2000: 4.5989\n",
      "dim: 13 step 2500: 3.5005\n",
      "dim: 12 step 0: 5.6286\n",
      "dim: 12 step 5: 25.2626\n",
      "dim: 12 step 500: 5.0335\n",
      "dim: 12 step 1000: 5.0323\n",
      "dim: 12 step 1500: 5.0323\n",
      "dim: 12 step 2000: 5.0323\n",
      "dim: 12 step 2500: 5.0323\n",
      "dim: 11 step 0: 2.2454\n",
      "dim: 11 step 5: 18.0566\n",
      "dim: 11 step 500: 7.2789\n",
      "dim: 11 step 1000: 7.2789\n",
      "dim: 11 step 1500: 7.2789\n",
      "dim: 11 step 2000: 7.2789\n",
      "dim: 11 step 2500: 7.2789\n",
      "dim: 10 step 0: 1.7265\n",
      "dim: 10 step 5: 30.6025\n",
      "dim: 10 step 500: 8.4302\n",
      "dim: 10 step 1000: 8.4302\n",
      "dim: 10 step 1500: 8.4302\n",
      "dim: 10 step 2000: 8.4302\n",
      "dim: 10 step 2500: 8.4302\n",
      "dim: 9 step 0: 1.4295\n",
      "dim: 9 step 5: 25.2727\n",
      "dim: 9 step 500: 13.8228\n",
      "dim: 9 step 1000: 13.8212\n",
      "dim: 9 step 1500: 13.8212\n",
      "dim: 9 step 2000: 13.8212\n",
      "dim: 9 step 2500: 13.8212\n",
      "dim: 8 step 0: 1.1611\n",
      "dim: 8 step 5: 28.0190\n",
      "dim: 8 step 500: 16.2831\n",
      "dim: 8 step 1000: 16.2709\n",
      "dim: 8 step 1500: 16.2708\n",
      "dim: 8 step 2000: 16.2708\n",
      "dim: 8 step 2500: 16.2708\n",
      "dim: 7 step 0: 1.4146\n",
      "dim: 7 step 5: 32.1268\n",
      "dim: 7 step 500: 19.8638\n",
      "dim: 7 step 1000: 18.4060\n",
      "dim: 7 step 1500: 18.4022\n",
      "dim: 7 step 2000: 18.4022\n",
      "dim: 7 step 2500: 18.4022\n",
      "dim: 6 step 0: 1.2058\n",
      "dim: 6 step 5: 32.5354\n",
      "dim: 6 step 500: 25.5718\n",
      "dim: 6 step 1000: 25.5624\n",
      "dim: 6 step 1500: 25.5624\n",
      "dim: 6 step 2000: 25.5624\n",
      "dim: 6 step 2500: 25.5624\n",
      "dim: 5 step 0: 0.6610\n",
      "dim: 5 step 5: 39.3712\n",
      "dim: 5 step 500: 30.9758\n",
      "dim: 5 step 1000: 30.6455\n",
      "dim: 5 step 1500: 30.3336\n",
      "dim: 5 step 2000: 27.2620\n",
      "dim: 5 step 2500: 27.2344\n",
      "dim: 4 step 0: 3.0648\n",
      "dim: 4 step 5: 37.0079\n",
      "dim: 4 step 500: 34.7861\n",
      "dim: 4 step 1000: 34.7851\n",
      "dim: 4 step 1500: 34.7851\n",
      "dim: 4 step 2000: 34.7851\n",
      "dim: 4 step 2500: 34.7851\n",
      "dim: 3 step 0: 2.4171\n",
      "dim: 3 step 5: 48.0312\n",
      "dim: 3 step 500: 40.1383\n",
      "dim: 3 step 1000: 35.9967\n",
      "dim: 3 step 1500: 35.6492\n",
      "dim: 3 step 2000: 35.6439\n",
      "dim: 3 step 2500: 35.6438\n",
      "done!\n",
      "time: 491.1318748000049s\n"
     ]
    }
   ],
   "source": [
    "n, d = Z.shape\n",
    "lr = 0.02\n",
    "d_final = 2\n",
    "# U_0 = torch.randn(d,d-2)\n",
    "# Q, R = torch.linalg.qr(U_0)\n",
    "# U_0 = Q\n",
    "# u_0 = u_0 / torch.norm(u_0, p=2, dim=0, keepdim=True)\n",
    "\n",
    "# track global normal space\n",
    "N = torch.ones(1)\n",
    "\n",
    "U, S, V_pca = torch.svd(Z)\n",
    "Z_pca = Z@V_pca[:, :50]\n",
    "n, d = Z_pca.shape\n",
    "\n",
    "U_0 = torch.randn(d, 1)\n",
    "U_0 = U_0 / torch.norm(U_0, p=2)\n",
    "\n",
    "pca_new = InjectivityPCA(Z_pca, U_0.detach().clone())\n",
    "\n",
    "\n",
    "\n",
    "opt = optim.SGD(pca_new.parameters(), lr=lr)\n",
    "\n",
    "loss_prev = -1\n",
    "\n",
    "start = time.perf_counter()\n",
    "\n",
    "for k in range(d - d_final):\n",
    "    # new iter, reinitialize normal direction\n",
    "    with torch.no_grad():\n",
    "        pca_new.U.data = torch.randn(d, 1)\n",
    "        # normalize\n",
    "        pca_new.U.data = pca_new.U.data / torch.norm(pca_new.U.data, p=2)\n",
    "\n",
    "    # set new learning rate, linearly decay as dim of opt space goes down (and data more\n",
    "    # crammed, thus harder and more sensitive opt)\n",
    "    for g in opt.param_groups:\n",
    "        g['lr'] = lr * ((d-k)/d)**2\n",
    "\n",
    "    for i in range(3000):\n",
    "        pca_new.zero_grad()\n",
    "        # forward call of LinFlow\n",
    "        loss = pca_new()\n",
    "\n",
    "        loss.backward()\n",
    "\n",
    "        # compute Riemannian gradient\n",
    "        # egrad = pca_new.u.grad.detach()\n",
    "        # base = pca_new.u.data.detach()\n",
    "        # base = base / torch.sqrt(base.pow(2).sum())\n",
    "        # rgrad = egrad - base@base.t()@egrad\n",
    "        # GD step\n",
    "        opt.step()\n",
    "        # renormalization step\n",
    "        with torch.no_grad():\n",
    "            # multi-dim case\n",
    "            # Q, R = torch.linalg.qr(pca_new.U)\n",
    "            # pca_new.U.data = Q\n",
    "\n",
    "            # one-at-a-time case\n",
    "            # project to current subspace\n",
    "            if N.numel() > 1:\n",
    "                pca_new.U.data = pca_new.U.data - N@(N.T@pca_new.U.data)\n",
    "            # normalize\n",
    "            pca_new.U.data = pca_new.U.data / torch.norm(pca_new.U.data, p=2)\n",
    "\n",
    "        # determine if we have converged\n",
    "        # gradnorm = torch.linalg.norm(rgrad)\n",
    "        # if loss_prev != -1 and torch.abs((loss - loss_prev)).item() < 1e-6:\n",
    "        # \tprint(f'converged in {i} steps! final loss: {loss.item()}')\n",
    "        # \tbreak\n",
    "        if i % 500 == 0 or i==5:\n",
    "            print(f'dim: {d-k} step {i}: {loss.item():.4f}')\n",
    "            # print(f'g step {i}: {gradnorm}')\n",
    "        loss_prev = loss.detach()\n",
    "    u_learned = pca_new.U.data\n",
    "    if N.numel() == 1:\n",
    "        N = u_learned.clone()\n",
    "    else:\n",
    "        N = torch.cat((N, u_learned.clone()), dim=1)\n",
    "        # print(f'N shape: {N.shape}')\n",
    "\n",
    "print('done!')\n",
    "print(f'time: {time.perf_counter() - start}s')\n",
    "\n",
    "# construct projection\n",
    "T = torch.eye(d) - N@N.T\n",
    "U, S, V = torch.svd(T)\n",
    "U_final = U[:,:d_final]\n",
    "P_final = V_pca@U_final\n"
   ]
  },
  {
   "cell_type": "code",
   "execution_count": 340,
   "metadata": {},
   "outputs": [],
   "source": [
    "T = torch.eye(d) - N@N.T\n",
    "U, S, V = torch.svd(T)\n",
    "U_final = U[:,:2]\n",
    "U, S, V_pca = torch.svd(Z)\n",
    "P_final = V_pca[:,:50]@U_final"
   ]
  },
  {
   "cell_type": "code",
   "execution_count": 337,
   "metadata": {},
   "outputs": [
    {
     "name": "stdout",
     "output_type": "stream",
     "text": [
      "tensor([1.3273e+01, 1.3090e+01, 1.2905e+01, 1.2496e+01, 1.1989e+01, 1.1442e+01,\n",
      "        1.0945e+01, 1.0411e+01, 9.7054e+00, 8.8892e+00, 8.3456e+00, 7.6395e+00,\n",
      "        6.9910e+00, 6.3510e+00, 5.5489e+00, 4.8092e+00, 4.4292e+00, 3.7527e+00,\n",
      "        3.5651e+00, 3.4395e+00, 3.4231e+00, 3.3565e+00, 3.1954e+00, 3.0316e+00,\n",
      "        3.0176e+00, 2.9260e+00, 2.7726e+00, 2.6795e+00, 2.5192e+00, 2.3890e+00,\n",
      "        2.2165e+00, 2.1139e+00, 2.0393e+00, 1.9201e+00, 1.7253e+00, 1.5468e+00,\n",
      "        1.5301e+00, 1.4493e+00, 1.1270e+00, 1.0776e+00, 1.0428e+00, 7.6663e-01,\n",
      "        5.1820e-01, 4.9828e-01, 3.5776e-01, 3.1644e-06, 2.2724e-06, 2.1214e-06,\n",
      "        1.9495e-06, 1.8958e-06, 1.8631e-06, 1.6765e-06, 1.6079e-06, 1.5903e-06,\n",
      "        1.5619e-06, 1.4964e-06, 1.4386e-06, 1.3420e-06, 1.2623e-06, 1.2189e-06,\n",
      "        1.1778e-06, 1.1352e-06, 1.0690e-06, 9.4968e-07, 9.2339e-07, 8.3967e-07,\n",
      "        7.4367e-07, 7.1077e-07, 6.9619e-07, 6.3771e-07, 6.3140e-07, 6.1784e-07,\n",
      "        5.9498e-07, 5.9358e-07, 5.9358e-07, 5.9358e-07, 5.9358e-07, 5.9358e-07,\n",
      "        5.9358e-07, 5.9358e-07, 5.9358e-07, 5.9358e-07, 5.9358e-07, 5.9358e-07,\n",
      "        5.9358e-07, 5.9358e-07, 5.9358e-07, 5.9358e-07, 5.9358e-07, 5.9358e-07,\n",
      "        5.9358e-07, 5.9358e-07, 5.9358e-07, 5.9358e-07, 5.9358e-07, 5.9358e-07,\n",
      "        5.9358e-07, 5.9358e-07, 5.9358e-07, 5.9358e-07, 5.9358e-07, 5.9358e-07,\n",
      "        5.9358e-07, 5.9358e-07, 5.9358e-07, 5.9358e-07, 5.9358e-07, 5.9358e-07,\n",
      "        5.9358e-07, 5.9358e-07, 5.9358e-07, 5.9358e-07, 5.9358e-07, 5.9358e-07,\n",
      "        5.9358e-07, 5.9358e-07, 5.9358e-07, 5.9358e-07, 5.9358e-07, 5.9358e-07,\n",
      "        5.9358e-07, 5.9358e-07, 5.9358e-07, 5.9358e-07, 5.9358e-07, 5.9358e-07,\n",
      "        5.9358e-07, 5.9358e-07, 5.9358e-07, 5.9358e-07, 5.9358e-07, 5.9358e-07,\n",
      "        5.9358e-07, 5.9358e-07, 5.9358e-07, 5.9358e-07, 5.9358e-07, 5.9358e-07,\n",
      "        5.9358e-07, 5.9358e-07, 5.9358e-07, 5.9358e-07, 5.9358e-07, 5.9358e-07,\n",
      "        5.9358e-07, 5.9358e-07, 5.9358e-07, 5.9358e-07, 5.9358e-07, 5.9358e-07,\n",
      "        5.9358e-07, 5.9358e-07, 5.9358e-07, 5.9358e-07, 5.9358e-07, 5.9358e-07,\n",
      "        5.9358e-07, 5.9358e-07, 5.9358e-07, 5.9358e-07, 5.9358e-07, 5.9358e-07,\n",
      "        5.9358e-07, 5.9358e-07, 5.9358e-07, 5.9358e-07, 5.9358e-07, 5.9358e-07,\n",
      "        5.9358e-07, 5.9358e-07, 5.9358e-07, 5.9358e-07, 5.9358e-07, 5.9358e-07,\n",
      "        5.9358e-07, 5.9358e-07, 5.9358e-07, 5.9358e-07, 5.9358e-07, 5.9358e-07,\n",
      "        5.9358e-07, 5.9358e-07, 5.9358e-07, 5.9358e-07, 5.9358e-07, 5.9358e-07,\n",
      "        5.9358e-07, 5.9358e-07, 5.9358e-07, 5.9358e-07, 5.9358e-07, 5.9358e-07,\n",
      "        5.9358e-07, 5.9358e-07, 5.9358e-07, 5.9358e-07, 5.9358e-07, 5.9358e-07,\n",
      "        5.9358e-07, 5.9358e-07, 5.9358e-07, 5.9358e-07, 5.9358e-07, 5.9358e-07,\n",
      "        5.9358e-07, 5.9358e-07, 5.9358e-07, 5.9358e-07, 5.9358e-07, 5.9358e-07,\n",
      "        5.9358e-07, 5.9358e-07, 5.9358e-07, 5.9358e-07, 5.9358e-07, 5.9358e-07,\n",
      "        5.9358e-07, 5.9358e-07, 5.9358e-07, 5.9358e-07, 5.9358e-07, 5.9358e-07,\n",
      "        5.9358e-07, 5.9358e-07, 5.9358e-07, 5.9358e-07, 5.9358e-07, 5.9358e-07,\n",
      "        5.9358e-07, 5.9358e-07, 5.9358e-07, 5.9358e-07, 5.9358e-07, 5.9358e-07,\n",
      "        5.9358e-07, 5.9358e-07, 5.9358e-07, 5.9358e-07, 5.9358e-07, 5.9358e-07,\n",
      "        5.9358e-07, 5.9358e-07, 5.9358e-07, 5.9358e-07, 5.9358e-07, 5.9358e-07,\n",
      "        5.9358e-07, 5.9358e-07, 5.9358e-07, 5.9358e-07, 5.9358e-07, 5.9358e-07,\n",
      "        5.9358e-07, 5.9358e-07, 5.9358e-07, 5.9358e-07, 5.9358e-07, 5.9358e-07,\n",
      "        5.9358e-07, 5.9358e-07, 5.9358e-07, 5.9358e-07, 5.9358e-07, 5.9358e-07,\n",
      "        5.9358e-07, 5.9358e-07, 5.9358e-07, 5.9358e-07, 5.9358e-07, 5.9358e-07,\n",
      "        5.9358e-07, 5.9358e-07, 5.9358e-07, 5.9358e-07, 5.9358e-07, 5.9358e-07,\n",
      "        5.9358e-07, 5.9358e-07, 5.9358e-07, 5.9358e-07, 5.9358e-07, 5.9358e-07,\n",
      "        5.9358e-07, 5.9358e-07, 5.9358e-07, 5.9358e-07, 5.9358e-07, 5.9358e-07,\n",
      "        5.9358e-07, 5.9358e-07, 5.9358e-07, 5.9358e-07, 5.9358e-07, 5.9358e-07,\n",
      "        5.8436e-07, 5.7134e-07, 4.7947e-07, 4.6160e-07, 2.4327e-07, 1.4379e-07])\n"
     ]
    }
   ],
   "source": [
    "print(S)"
   ]
  },
  {
   "cell_type": "code",
   "execution_count": 330,
   "metadata": {},
   "outputs": [],
   "source": [
    "P_final = V_pca[:,:50]@U_final"
   ]
  },
  {
   "cell_type": "code",
   "execution_count": 210,
   "metadata": {},
   "outputs": [
    {
     "data": {
      "image/png": "[encoded data removed]",
      "text/plain": [
       "<Figure size 432x288 with 1 Axes>"
      ]
     },
     "metadata": {
      "needs_background": "light"
     },
     "output_type": "display_data"
    }
   ],
   "source": [
    "# u_proj = u_learned.detach().clone()\n",
    "u_proj = torch.zeros(res,res)\n",
    "for i in range(res):\n",
    "\tu_proj[i,:] = (i- res / 2) / (res / 2)\n",
    "u_proj = u_proj.view(1, -1).T\n",
    "\n",
    "# test out or projection from PCA\n",
    "len_test = res - 2*block_size\n",
    "X1 = torch.zeros(len_test,res,res)\n",
    "for i in range(len_test):\n",
    "\tx = i + block_size//2\n",
    "\ty = res // 2\n",
    "\tbrightness = 1\n",
    "\tX1[i,x-block_size//2:x+block_size//2, y-block_size//2:y+block_size//2] = brightness\n",
    "\n",
    "Z1 = X1.view(len_test, -1)\n",
    "Z1_proj1 = Z1@u_proj\n",
    "\n",
    "plt.plot(np.arange(len_test), Z1_proj1.numpy())\n",
    "plt.title('Projection 1')\n",
    "plt.show()\n",
    "\n",
    "# plt.plot(np.arange(len_test), Z1_proj2.numpy())\n",
    "# plt.title('Projection 2')\n",
    "# plt.show()"
   ]
  },
  {
   "cell_type": "code",
   "execution_count": 331,
   "metadata": {},
   "outputs": [
    {
     "name": "stdout",
     "output_type": "stream",
     "text": [
      "torch.Size([300, 2])\n"
     ]
    },
    {
     "data": {
      "image/png": "[encoded data removed]",
      "text/plain": [
       "<Figure size 432x288 with 1 Axes>"
      ]
     },
     "metadata": {
      "needs_background": "light"
     },
     "output_type": "display_data"
    }
   ],
   "source": [
    "u_proj1 = torch.zeros(res,res)\n",
    "for i in range(res):\n",
    "\tu_proj1[i,:] = (i- res / 2) / (res / 2)\n",
    "u_proj1 = u_proj.view(1, -1).T\n",
    "u_proj2 = torch.ones(res**2, 1)\n",
    "\n",
    "# U = torch.hstack((V[:,[0]], V[:,[1]]))\n",
    "# U = torch.hstack((u_proj1, u_proj2))\n",
    "U = P_final\n",
    "# U = torch.randn(U.shape)\n",
    "Z_proj = Z@U\n",
    "# Z_proj[:,1] = Z_proj[:,1] - 20\n",
    "print(Z_proj.shape)\n",
    "plt.scatter(Z_proj[:,0].numpy(), Z_proj[:,1].numpy())\n",
    "\n",
    "# show geodesic\n",
    "len_test = res - 2*block_size\n",
    "X1 = torch.zeros(len_test,res,res)\n",
    "for i in range(len_test):\n",
    "\tx = i + block_size//2\n",
    "\ty = res // 2\n",
    "\tbrightness = 0.5\n",
    "\tX1[i,x-block_size//2:x+block_size//2, y-block_size//2:y+block_size//2] = brightness\n",
    "\n",
    "Z1 = X1.view(len_test, -1)\n",
    "Z1_proj1 = Z1@U\n",
    "plt.plot(Z1_proj1[:,0].numpy(), Z1_proj1[:,1].numpy(), c='r')\n",
    "plt.show()"
   ]
  },
  {
   "cell_type": "code",
   "execution_count": 335,
   "metadata": {},
   "outputs": [
    {
     "name": "stdout",
     "output_type": "stream",
     "text": [
      "min: -1.1920928955078125e-07 max: 0.18263843655586243\n"
     ]
    },
    {
     "data": {
      "image/png": "[encoded data removed]",
      "text/plain": [
       "<Figure size 432x288 with 1 Axes>"
      ]
     },
     "metadata": {
      "needs_background": "light"
     },
     "output_type": "display_data"
    },
    {
     "name": "stdout",
     "output_type": "stream",
     "text": [
      "min: -0.21154345571994781 max: 0.00020825519459322095\n"
     ]
    },
    {
     "data": {
      "image/png": "[encoded data removed]",
      "text/plain": [
       "<Figure size 432x288 with 1 Axes>"
      ]
     },
     "metadata": {
      "needs_background": "light"
     },
     "output_type": "display_data"
    }
   ],
   "source": [
    "U, S, V = torch.svd(Z)\n",
    "U = torch.hstack((V[:,[0]], V[:,[1]]))\n",
    "filters = U.T.view(d_final, res, res)\n",
    "\n",
    "plt.imshow(filters[0,:,:].T)\n",
    "print(f'min: {filters[0,:,:].min()} max: {filters[0,:,:].max()}')\n",
    "plt.show()\n",
    "plt.imshow(filters[1,:,:].T, vmin=0.0, vmax=1.0)\n",
    "print(f'min: {filters[1,:,:].min()} max: {filters[1,:,:].max()}')\n",
    "plt.show()\n"
   ]
  },
  {
   "cell_type": "code",
   "execution_count": 242,
   "metadata": {},
   "outputs": [
    {
     "name": "stdout",
     "output_type": "stream",
     "text": [
      "torch.Size([10, 10])\n",
      "torch.Size([45, 3])\n",
      "torch.Size([45, 1])\n",
      "tensor(1.)\n"
     ]
    }
   ],
   "source": [
    "A = torch.randn(10,3)\n",
    "B = torch.randn(10,3)\n",
    "diff = A.unsqueeze(1) - B\n",
    "\n",
    "diff_select = torch.ones(diff.shape[:2]).triu(diagonal=1)\n",
    "# convert to bool\n",
    "diff_select = diff_select.bool()\n",
    "print(diff_select.shape)\n",
    "diff = diff[diff_select,:]\n",
    "print(diff.shape)\n",
    "print(torch.norm(diff, dim=1).unsqueeze(1).shape)\n",
    "diff = diff / torch.norm(diff, dim=1).unsqueeze(1)\n",
    "print(diff[0,:].norm())"
   ]
  },
  {
   "cell_type": "code",
   "execution_count": null,
   "metadata": {},
   "outputs": [],
   "source": []
  }
 ],
 "metadata": {
  "interpreter": {
   "hash": "36ab7f9348c7d0662a1965af503f4376fbff05df74ea3a3ead8d3abcf8650cb8"
  },
  "kernelspec": {
   "display_name": "Python 3.9.7 ('base')",
   "language": "python",
   "name": "python3"
  },
  "language_info": {
   "codemirror_mode": {
    "name": "ipython",
    "version": 3
   },
   "file_extension": ".py",
   "mimetype": "text/x-python",
   "name": "python",
   "nbconvert_exporter": "python",
   "pygments_lexer": "ipython3",
   "version": "3.9.7"
  }
 },
 "nbformat": 4,
 "nbformat_minor": 2
}
