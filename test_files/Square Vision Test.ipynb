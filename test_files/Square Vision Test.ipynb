{
 "cells": [
  {
   "cell_type": "code",
   "execution_count": 1,
   "id": "63b6bbbe",
   "metadata": {},
   "outputs": [
    {
     "name": "stderr",
     "output_type": "stream",
     "text": [
      "Global seed set to 1\n"
     ]
    },
    {
     "data": {
      "text/plain": [
       "1"
      ]
     },
     "execution_count": 1,
     "metadata": {},
     "output_type": "execute_result"
    }
   ],
   "source": [
    "import sys\n",
    "\n",
    "# %matplotlib widget\n",
    "import matplotlib.pyplot as plt\n",
    "import numpy as np\n",
    "import sklearn.datasets\n",
    "import torch\n",
    "import pytorch_lightning as pl\n",
    "\n",
    "from torchvision.datasets import MNIST\n",
    "from torchvision.datasets import CIFAR10\n",
    "from torchvision import transforms\n",
    "\n",
    "import sys\n",
    "sys.path.append('../')\n",
    "\n",
    "from cc import cc\n",
    "from models.vae import train_vanilla_vae, train_beta_vae, train_factor_vae\n",
    "from tools.manifold_generator import Manifold\n",
    "\n",
    "pl.seed_everything(1)"
   ]
  },
  {
   "cell_type": "code",
   "execution_count": 2,
   "id": "003a2d75",
   "metadata": {},
   "outputs": [],
   "source": [
    "# Data parameters\n",
    "H = 10\n",
    "W = 10\n",
    "D = H * W\n",
    "hb = 5\n",
    "wb = 5\n",
    "\n",
    "# Data preprocessing parameter\n",
    "reduced_dim = 100\n",
    "\n",
    "# Image plotting parameter\n",
    "num_images = 10"
   ]
  },
  {
   "cell_type": "code",
   "execution_count": 3,
   "id": "29bfa4b1",
   "metadata": {},
   "outputs": [],
   "source": [
    "# Data generation\n",
    "def generate_data():\n",
    "    X = []\n",
    "    for i in range(H - hb):\n",
    "        for j in range(W - wb):\n",
    "            sample = torch.zeros((H, W))\n",
    "            for k in range(i, i + hb):\n",
    "                for l in range(j, j + wb):\n",
    "                    sample[k][l] = 1.0\n",
    "            X.append(sample)\n",
    "    X = torch.stack(X)\n",
    "    return X"
   ]
  },
  {
   "cell_type": "code",
   "execution_count": 4,
   "id": "e1bde0a2",
   "metadata": {},
   "outputs": [],
   "source": [
    "# Convert data to Fourier basis\n",
    "def fft(X):\n",
    "    X_f = torch.fft.fft2(X)\n",
    "\n",
    "    X_f_real_flat = X_f.real.reshape(X_f.shape[0], H*W)\n",
    "    X_f_imag_flat = X_f.imag.reshape(X_f.shape[0], H*W)\n",
    "    Z = torch.cat([X_f_real_flat, X_f_imag_flat], dim=1)\n",
    "    \n",
    "    return Z\n",
    "\n",
    "# Convert data from Fourier basis\n",
    "def ifft(Z):\n",
    "    X_f_real_flat = Z[:, :H*W].reshape(Z.shape[0], H, W)\n",
    "    X_f_imag_flat = Z[:, H*W:].reshape(Z.shape[0], H, W)\n",
    "    X_f = torch.complex(X_f_real_flat, X_f_imag_flat)\n",
    "    \n",
    "    X = torch.fft.ifft2(X_f).real\n",
    "    \n",
    "    return X"
   ]
  },
  {
   "cell_type": "code",
   "execution_count": 5,
   "id": "264b3dbc",
   "metadata": {},
   "outputs": [],
   "source": [
    "# Center and project data to lower dimensional space for easier data processing\n",
    "def pca(Z, Z_mean=None, V=None):\n",
    "    if Z_mean is None:\n",
    "        Z_mean = Z.mean(dim=0, keepdim=True)\n",
    "    if V is None:\n",
    "        U, S, Vt = torch.linalg.svd(Z - Z_mean, full_matrices=False)\n",
    "        V = Vt.T[:,:reduced_dim]    \n",
    "    Z_c = (Z - Z_mean)@V\n",
    "    return Z_c, Z_mean, V\n",
    "\n",
    "# Project lower dimensional data back to higher-dimensional space\n",
    "def ipca(Z_c, Z_mean, V):\n",
    "    return Z_c @ V.T + Z_mean"
   ]
  },
  {
   "cell_type": "code",
   "execution_count": 6,
   "id": "b70d13bd",
   "metadata": {},
   "outputs": [],
   "source": [
    "X = generate_data()\n",
    "FX = fft(X)\n",
    "FX_c, FX_mean, V = pca(FX)"
   ]
  },
  {
   "cell_type": "code",
   "execution_count": 7,
   "id": "80c9fc02",
   "metadata": {},
   "outputs": [
    {
     "name": "stderr",
     "output_type": "stream",
     "text": [
      "100%|███████████████████████████████████████████████████████████████████████████████████████████████████| 1000/1000 [05:06<00:00,  3.27iters/s, local_recon=1.94e-7, d=2, r_ratio=1, alpha=0.5]\n"
     ]
    }
   ],
   "source": [
    "f, g = cc(FX_c, n_iter=1000)"
   ]
  },
  {
   "cell_type": "code",
   "execution_count": 8,
   "id": "053f9a91",
   "metadata": {},
   "outputs": [],
   "source": [
    "Z = f(FX_c)\n",
    "FXhat_c = g(Z)\n",
    "FXhat = ipca(FXhat_c, FX_mean, V)\n",
    "Xhat = ifft(FXhat)"
   ]
  },
  {
   "cell_type": "code",
   "execution_count": 9,
   "id": "b1a0e39f",
   "metadata": {},
   "outputs": [
    {
     "data": {
      "text/plain": [
       "tensor(0.3107)"
      ]
     },
     "execution_count": 9,
     "metadata": {},
     "output_type": "execute_result"
    }
   ],
   "source": [
    "((torch.linalg.norm(X - Xhat) ** 2) / (X.shape[0] * H * W)) ** 0.5"
   ]
  },
  {
   "cell_type": "code",
   "execution_count": 10,
   "id": "3073c298",
   "metadata": {},
   "outputs": [
    {
     "data": {
      "text/plain": [
       "<matplotlib.image.AxesImage at 0x166175750>"
      ]
     },
     "execution_count": 10,
     "metadata": {},
     "output_type": "execute_result"
    },
    {
     "data": {
      "image/png": "[encoded data removed]",
      "text/plain": [
       "<Figure size 640x480 with 1 Axes>"
      ]
     },
     "metadata": {},
     "output_type": "display_data"
    }
   ],
   "source": [
    "plt.imshow(X[0])"
   ]
  },
  {
   "cell_type": "code",
   "execution_count": 11,
   "id": "bfbff8df",
   "metadata": {},
   "outputs": [
    {
     "data": {
      "text/plain": [
       "<matplotlib.image.AxesImage at 0x1663649d0>"
      ]
     },
     "execution_count": 11,
     "metadata": {},
     "output_type": "execute_result"
    },
    {
     "data": {
      "image/png": "[encoded data removed]",
      "text/plain": [
       "<Figure size 640x480 with 1 Axes>"
      ]
     },
     "metadata": {},
     "output_type": "display_data"
    }
   ],
   "source": [
    "plt.imshow(Xhat[0])"
   ]
  },
  {
   "cell_type": "code",
   "execution_count": 12,
   "id": "dd3eac7a",
   "metadata": {},
   "outputs": [],
   "source": [
    "def display_images_in_grid(imgs):\n",
    "    M = imgs.shape[0]\n",
    "    N = imgs.shape[1]\n",
    "    fig, ax = plt.subplots(M, N)\n",
    "    for m in range(M):\n",
    "        for n in range(N):\n",
    "            ax[m, n].set_axis_off()\n",
    "            ax[m, n].imshow(imgs[m, n])\n",
    "    fig.set_size_inches(10, 2.25)\n",
    "    fig.tight_layout()"
   ]
  },
  {
   "cell_type": "code",
   "execution_count": 13,
   "id": "1d3eea91",
   "metadata": {},
   "outputs": [
    {
     "data": {
      "image/png": "[encoded data removed]",
      "text/plain": [
       "<Figure size 1000x225 with 20 Axes>"
      ]
     },
     "metadata": {},
     "output_type": "display_data"
    }
   ],
   "source": [
    "# Regenerations\n",
    "r = torch.randint(low=0, high=X.shape[0], size=(num_images,))\n",
    "imgs = torch.stack([X[r], Xhat[r]])\n",
    "display_images_in_grid(imgs)"
   ]
  },
  {
   "cell_type": "code",
   "execution_count": 14,
   "id": "59f05267",
   "metadata": {},
   "outputs": [
    {
     "data": {
      "image/png": "[encoded data removed]",
      "text/plain": [
       "<Figure size 1000x225 with 20 Axes>"
      ]
     },
     "metadata": {},
     "output_type": "display_data"
    }
   ],
   "source": [
    "# Interpolations\n",
    "r = torch.randint(low=0, high=X.shape[0], size=(2,))\n",
    "base_X1 = X[r[0]]\n",
    "base_X2 = X[r[1]]\n",
    "base_Z1 = Z[r[0]]\n",
    "base_Z2 = Z[r[1]]\n",
    "semantic_interpolations = []\n",
    "visual_interpolations = []\n",
    "for k in range(num_images):\n",
    "    theta = k / (num_images - 1)\n",
    "    \n",
    "    sem = theta * base_Z1 + (1 - theta) * base_Z2\n",
    "    semantic_interpolations.append(sem)\n",
    "    \n",
    "    vis = theta * base_X1 + (1 - theta) * base_X2\n",
    "    visual_interpolations.append(vis)\n",
    "    \n",
    "semantic_interpolations = torch.stack(semantic_interpolations)\n",
    "semantic_interpolations = g(semantic_interpolations)\n",
    "semantic_interpolations = ipca(semantic_interpolations, FX_mean, V)\n",
    "semantic_interpolations = ifft(semantic_interpolations)\n",
    "\n",
    "visual_interpolations = torch.stack(visual_interpolations)\n",
    "\n",
    "interpolations = torch.stack((semantic_interpolations, visual_interpolations))\n",
    "display_images_in_grid(interpolations)"
   ]
  },
  {
   "cell_type": "code",
   "execution_count": 15,
   "id": "335035d6",
   "metadata": {},
   "outputs": [
    {
     "data": {
      "text/plain": [
       "tensor(8.9758)"
      ]
     },
     "execution_count": 15,
     "metadata": {},
     "output_type": "execute_result"
    }
   ],
   "source": [
    "torch.linalg.norm(interpolations[0] - interpolations[1])"
   ]
  },
  {
   "cell_type": "code",
   "execution_count": null,
   "id": "8d1313ab",
   "metadata": {},
   "outputs": [],
   "source": []
  }
 ],
 "metadata": {
  "kernelspec": {
   "display_name": "Python 3 (ipykernel)",
   "language": "python",
   "name": "python3"
  },
  "language_info": {
   "codemirror_mode": {
    "name": "ipython",
    "version": 3
   },
   "file_extension": ".py",
   "mimetype": "text/x-python",
   "name": "python",
   "nbconvert_exporter": "python",
   "pygments_lexer": "ipython3",
   "version": "3.10.8"
  }
 },
 "nbformat": 4,
 "nbformat_minor": 5
}
