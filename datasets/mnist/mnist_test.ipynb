{
 "cells": [
  {
   "cell_type": "code",
   "execution_count": 1,
   "metadata": {},
   "outputs": [],
   "source": [
    "import matplotlib.pyplot as plt\n",
    "from mpl_toolkits import mplot3d\n",
    "import torch\n",
    "import torch.nn as nn\n",
    "import torch.optim as optim\n",
    "import torch.nn.functional as F\n",
    "import numpy as np\n",
    "\n",
    "import torchvision.datasets as datasets\n",
    "import torchvision.transforms as transforms\n",
    "\n",
    "import scipy.sparse.csgraph\n",
    "import sklearn.neighbors\n",
    "from scipy.sparse import csr_matrix\n",
    "import networkx as nx\n",
    "\n",
    "import sys\n",
    "# setting path\n",
    "sys.path.append('../../')\n",
    "import modules.find_patches_community_detection as find_patches"
   ]
  },
  {
   "cell_type": "code",
   "execution_count": 2,
   "metadata": {},
   "outputs": [],
   "source": [
    "# set defaults for pytorch\n",
    "torch.set_default_tensor_type('torch.cuda.FloatTensor')"
   ]
  },
  {
   "cell_type": "code",
   "execution_count": 3,
   "metadata": {},
   "outputs": [
    {
     "data": {
      "text/plain": [
       "True"
      ]
     },
     "execution_count": 3,
     "metadata": {},
     "output_type": "execute_result"
    }
   ],
   "source": [
    "torch.cuda.is_available()"
   ]
  },
  {
   "cell_type": "code",
   "execution_count": null,
   "metadata": {},
   "outputs": [],
   "source": []
  },
  {
   "cell_type": "code",
   "execution_count": 3,
   "metadata": {},
   "outputs": [
    {
     "data": {
      "text/plain": [
       "<torch._C.Generator at 0x20267d19b10>"
      ]
     },
     "execution_count": 3,
     "metadata": {},
     "output_type": "execute_result"
    }
   ],
   "source": [
    "torch.manual_seed(42)"
   ]
  },
  {
   "cell_type": "code",
   "execution_count": 4,
   "metadata": {},
   "outputs": [],
   "source": [
    "# download dataset\n",
    "transform = transforms.Compose(\n",
    "    [transforms.Resize(32),\n",
    "     transforms.ToTensor(),\n",
    "     transforms.Normalize(0.5, 0.5)])\n",
    "dataset = datasets.MNIST(root='./torch-dataset', train=True,\n",
    "                         download=True, transform=transform)"
   ]
  },
  {
   "cell_type": "code",
   "execution_count": 5,
   "metadata": {},
   "outputs": [],
   "source": [
    "# load dataset into pytorch\n",
    "data_loader = torch.utils.data.DataLoader(dataset, batch_size=600000)\n",
    "data,labels = next(iter(data_loader))\n",
    "data = data.cuda()"
   ]
  },
  {
   "cell_type": "code",
   "execution_count": 6,
   "metadata": {},
   "outputs": [
    {
     "name": "stdout",
     "output_type": "stream",
     "text": [
      "torch.Size([5958, 1, 32, 32])\n"
     ]
    },
    {
     "data": {
      "text/plain": [
       "<matplotlib.image.AxesImage at 0x1a3c90382b0>"
      ]
     },
     "execution_count": 6,
     "metadata": {},
     "output_type": "execute_result"
    },
    {
     "data": {
      "image/png": "[encoded data removed]",
      "text/plain": [
       "<Figure size 432x288 with 1 Axes>"
      ]
     },
     "metadata": {
      "needs_background": "light"
     },
     "output_type": "display_data"
    }
   ],
   "source": [
    "# select single class of dataset\n",
    "Z = data[labels==2]\n",
    "print(Z.shape)\n",
    "# reshape array to (d x n) data matrix\n",
    "Z = Z.reshape((5958,32**2))\n",
    "Z = Z.T\n",
    "\n",
    "d, n = Z.shape\n",
    "# demonstrate data structure was preserved in reshape\n",
    "plt.imshow(Z[:,3292].detach().cpu().numpy().reshape(32,32))"
   ]
  },
  {
   "cell_type": "code",
   "execution_count": 18,
   "metadata": {},
   "outputs": [
    {
     "name": "stdout",
     "output_type": "stream",
     "text": [
      "step 100\n",
      "step 200\n",
      "step 300\n",
      "step 400\n",
      "step 500\n",
      "step 600\n",
      "step 700\n",
      "step 800\n",
      "step 900\n",
      "step 1000\n",
      "step 1100\n",
      "step 1200\n",
      "step 1300\n",
      "step 1400\n",
      "step 1500\n",
      "step 1600\n",
      "step 1700\n",
      "step 1800\n",
      "step 1900\n",
      "step 2000\n",
      "step 2100\n",
      "step 2200\n",
      "step 2300\n",
      "step 2400\n",
      "step 2500\n",
      "step 2600\n",
      "step 2700\n",
      "step 2800\n",
      "step 2900\n"
     ]
    },
    {
     "ename": "KeyboardInterrupt",
     "evalue": "",
     "output_type": "error",
     "traceback": [
      "\u001b[1;31m---------------------------------------------------------------------------\u001b[0m",
      "\u001b[1;31mKeyboardInterrupt\u001b[0m                         Traceback (most recent call last)",
      "\u001b[1;32m~\\AppData\\Local\\Temp/ipykernel_10328/978543901.py\u001b[0m in \u001b[0;36m<module>\u001b[1;34m\u001b[0m\n\u001b[0;32m     17\u001b[0m \u001b[1;32mfor\u001b[0m \u001b[0mj\u001b[0m \u001b[1;32min\u001b[0m \u001b[0mrange\u001b[0m\u001b[1;33m(\u001b[0m\u001b[1;36m2\u001b[0m\u001b[1;33m,\u001b[0m\u001b[0mn\u001b[0m\u001b[1;33m)\u001b[0m\u001b[1;33m:\u001b[0m\u001b[1;33m\u001b[0m\u001b[1;33m\u001b[0m\u001b[0m\n\u001b[0;32m     18\u001b[0m         \u001b[0mZ_diff_slice\u001b[0m \u001b[1;33m=\u001b[0m \u001b[0mZ_diff\u001b[0m\u001b[1;33m[\u001b[0m\u001b[1;33m:\u001b[0m\u001b[1;33m,\u001b[0m\u001b[1;36m1\u001b[0m\u001b[1;33m:\u001b[0m\u001b[0mj\u001b[0m\u001b[1;33m]\u001b[0m\u001b[1;33m\u001b[0m\u001b[1;33m\u001b[0m\u001b[0m\n\u001b[1;32m---> 19\u001b[1;33m         \u001b[0mu\u001b[0m\u001b[1;33m,\u001b[0m \u001b[0ms\u001b[0m\u001b[1;33m,\u001b[0m \u001b[0mv\u001b[0m \u001b[1;33m=\u001b[0m \u001b[0mtorch\u001b[0m\u001b[1;33m.\u001b[0m\u001b[0msvd\u001b[0m\u001b[1;33m(\u001b[0m\u001b[0mZ_diff_slice\u001b[0m\u001b[1;33m)\u001b[0m\u001b[1;33m\u001b[0m\u001b[1;33m\u001b[0m\u001b[0m\n\u001b[0m\u001b[0;32m     20\u001b[0m         \u001b[0msing_val_sums\u001b[0m\u001b[1;33m.\u001b[0m\u001b[0mappend\u001b[0m\u001b[1;33m(\u001b[0m\u001b[1;33m(\u001b[0m\u001b[0ms\u001b[0m \u001b[1;33m/\u001b[0m \u001b[0ms\u001b[0m\u001b[1;33m[\u001b[0m\u001b[1;36m0\u001b[0m\u001b[1;33m]\u001b[0m\u001b[1;33m)\u001b[0m\u001b[1;33m.\u001b[0m\u001b[0msum\u001b[0m\u001b[1;33m(\u001b[0m\u001b[1;33m)\u001b[0m\u001b[1;33m)\u001b[0m\u001b[1;33m\u001b[0m\u001b[1;33m\u001b[0m\u001b[0m\n\u001b[0;32m     21\u001b[0m         \u001b[0msing_vals_full\u001b[0m\u001b[1;33m.\u001b[0m\u001b[0mappend\u001b[0m\u001b[1;33m(\u001b[0m\u001b[0ms\u001b[0m\u001b[1;33m)\u001b[0m\u001b[1;33m\u001b[0m\u001b[1;33m\u001b[0m\u001b[0m\n",
      "\u001b[1;31mKeyboardInterrupt\u001b[0m: "
     ]
    }
   ],
   "source": [
    "# index for proposed center\n",
    "center_i = 20\n",
    "# compute edm\n",
    "EDM = torch.cdist(Z.T,Z.T)\n",
    "\n",
    "EDM_i = EDM[center_i,:]\n",
    "# sort edm\n",
    "sorted_EDM_i, sorted_indices_i = torch.sort(EDM_i)\n",
    "\n",
    "# compute sorted matrix of differences\n",
    "Z_center = Z[:,[center_i]]\n",
    "Z_diff = Z - Z_center\n",
    "Z_diff = Z_diff[:,sorted_indices_i]\n",
    "\n",
    "sing_val_sums = [1]\n",
    "sing_vals_full = [1]\n",
    "for j in range(2,n):\n",
    "\tZ_diff_slice = Z_diff[:,1:j]\n",
    "\tu, s, v = torch.svd(Z_diff_slice)\n",
    "\tsing_val_sums.append((s / s[0]).sum())\n",
    "\tsing_vals_full.append(s)\n",
    "\tif j % 100 == 0:\n",
    "\t\tprint(f'step {j}')\n",
    "\n",
    "plt.plot(sing_val_sums, '.')\n",
    "plt.show()"
   ]
  },
  {
   "cell_type": "code",
   "execution_count": 17,
   "metadata": {},
   "outputs": [
    {
     "name": "stdout",
     "output_type": "stream",
     "text": [
      "tensor(0.0050, device='cuda:0')\n"
     ]
    }
   ],
   "source": [
    "u, s, v = torch.svd(Z_diff)\n",
    "s_mat = torch.diag(s)\n",
    "print((u@s_mat@v[:1000,:].T - Z_diff[:,:1000]).pow(2).sum())"
   ]
  },
  {
   "cell_type": "code",
   "execution_count": 24,
   "metadata": {},
   "outputs": [],
   "source": [
    "for i in range(1,len(sing_val_sums)):\n",
    "\tsing_val_sums[i] = sing_val_sums[i].cpu()"
   ]
  },
  {
   "cell_type": "code",
   "execution_count": 25,
   "metadata": {},
   "outputs": [
    {
     "data": {
      "image/png": "[encoded data removed]",
      "text/plain": [
       "<Figure size 432x288 with 1 Axes>"
      ]
     },
     "metadata": {
      "needs_background": "light"
     },
     "output_type": "display_data"
    }
   ],
   "source": [
    "plt.plot(sing_val_sums, '.')\n",
    "plt.show()"
   ]
  },
  {
   "cell_type": "code",
   "execution_count": 37,
   "metadata": {},
   "outputs": [
    {
     "data": {
      "image/png": "[encoded data removed]",
      "text/plain": [
       "<Figure size 432x288 with 1 Axes>"
      ]
     },
     "metadata": {
      "needs_background": "light"
     },
     "output_type": "display_data"
    }
   ],
   "source": [
    "dim_counts = [1]\n",
    "for i in range(1,len(sing_val_sums)):\n",
    "\ts_curr = sing_vals_full[i]\n",
    "\ts_0 = s_curr[0]\n",
    "\tdim_counts.append(s_curr[s_curr > s_0*0.01].shape[0])\n",
    "\n",
    "plt.plot(dim_counts, '.')\n",
    "plt.show()"
   ]
  },
  {
   "cell_type": "code",
   "execution_count": 7,
   "metadata": {},
   "outputs": [],
   "source": [
    "Z_cpu = Z.cpu()"
   ]
  },
  {
   "cell_type": "code",
   "execution_count": 88,
   "metadata": {},
   "outputs": [],
   "source": [
    "# test neighborhood computation\n",
    "ind_Z, merge_path = find_patches.find_patches_and_merge_path(Z_cpu, k=24)\n",
    "p = len(ind_Z)"
   ]
  },
  {
   "cell_type": "code",
   "execution_count": 92,
   "metadata": {},
   "outputs": [
    {
     "name": "stdout",
     "output_type": "stream",
     "text": [
      "[tensor([2048, 2050, 2051,    2, 2053,    4, 2055,    9,   12,   16, 2065,   18,\n",
      "        4114, 2068, 2069,   21, 2072,   25, 2075, 2076, 2078,   34, 2083,   40,\n",
      "        4138,   43, 4143, 2099, 4153, 2108, 4156,   66, 4162, 2116, 2120, 4168,\n",
      "          75,   77,   79, 2127, 4177, 4175,   84,   85, 4184, 4188, 2142, 4191,\n",
      "          96, 4196, 4201,  106,  107,  108, 4204, 4206, 2159,  113,  120, 2172,\n",
      "        2175,  128, 3282, 4231, 2185, 4234,  139, 2189, 2192, 4243,  148, 2197,\n",
      "        4248, 2201, 4251, 2204,  157,  160,  162,  163,  166,  170,  172,  174,\n",
      "        2223, 4271, 2226, 4278,  182,  183,  186, 4284,  188, 2238, 4288, 2241,\n",
      "        4291, 2243, 2246, 2253,  207, 2255, 4306,  213, 2265, 4319, 4321,  240,\n",
      "        2290, 4341, 2294, 4344, 2298, 4346,  252, 4351, 2304, 2310, 2321, 4374,\n",
      "         280, 4384, 4385, 2340, 4389,  294, 2347, 4397,  303,  309,  312, 2363,\n",
      "        2366, 4416,  321,  323, 2372, 4428, 2384, 2385, 2387, 2388, 2389, 4441,\n",
      "         354, 2409,  365, 4462, 2419, 4470,  375,  376,  378, 2427,  382,  383,\n",
      "         385, 4481, 2435,  387, 4486, 4487, 4490,  395,  397, 2447, 2450,  407,\n",
      "        2460, 2461, 2462, 4511,  416, 4515, 2473, 4522, 2474, 4524, 2478, 3749,\n",
      "        2484, 2485, 4533, 4538,  443,  447, 4545, 4550,  456, 2505, 4554, 2508,\n",
      "        4560, 2515, 4568, 2524, 2526,  480, 4577, 2532, 2539,  492, 4589,  491,\n",
      "        4591, 2545, 4600, 4601, 4603,  508, 2560, 4608,  512,  519, 2567, 4617,\n",
      "        4621,  526,  530, 2579, 2580,  533,  531, 2581, 2583, 2585, 4637, 4642,\n",
      "        4644,  549, 4647, 2602, 2603, 4652, 2605,  561, 4662, 2616, 4666,  573,\n",
      "        4672, 4681,  587, 2637, 4686, 2643, 2647, 4698, 2650, 4699,  605,  606,\n",
      "         607, 2654, 2657, 2655,  611,  614, 2663, 2662, 2665, 2666, 4715,  620,\n",
      "        2667,  622, 2671, 2673, 4722,  630, 2679, 4730,  635, 2686, 4738, 2690,\n",
      "        2692,  645,  647, 2697,  653, 4751, 4753,  663,  666, 2720,  674, 2725,\n",
      "        2728, 2729,  682, 2732, 2733, 2735, 2736, 4785, 2743, 4793, 2748, 2751,\n",
      "        2752, 4801, 2756,  715,  717,  718,  720, 4816,  722,  723,  724,  726,\n",
      "         727,  728,  729,  730,  732,  733,  734,  735, 4832, 2785,  737,  739,\n",
      "        2781,  743,  744,  745, 2793, 2795, 2796, 4846, 2799, 2800,  753, 2801,\n",
      "         756, 4854, 2809, 4858, 4859, 2813, 4863, 2815, 2816, 4866, 4867, 4868,\n",
      "        2818, 4870, 4871, 2820, 2827, 4884, 4885, 2838, 2839,  793, 2845, 4896,\n",
      "        4898, 2858,  811, 2860, 2861,  815, 2864,  821, 2870, 2874, 2878, 4928,\n",
      "        4931, 4937, 4938, 4939, 4942,  849, 4946, 2900, 2902, 2904, 2906, 2908,\n",
      "        4956, 4959, 2915, 4964, 4971, 2925, 4974, 4975, 4976,  879, 4978, 4979,\n",
      "        4980, 2931, 4982, 4983, 4984, 4985, 4986,  891, 2938, 2945,  901, 4997,\n",
      "        4999, 5000, 5002, 2962, 2963, 2965, 5015, 5021, 5022,  926, 2982, 2984,\n",
      "        5034, 5035, 2987, 5037, 5038, 2986, 5040, 2993, 5042, 2996, 2997, 5046,\n",
      "         951, 5047, 5049, 5050, 5051, 5048, 2999, 3007, 5055, 5057, 5056, 5060,\n",
      "        5061, 3013, 3015, 5063, 5065, 3018, 5067, 5066, 5068, 5070, 3023, 3025,\n",
      "        5074, 3027, 3030, 3033,  986, 3034, 3036, 3037, 3039, 5087, 3041, 3043,\n",
      "        5093, 5095, 3048, 3049, 1000, 1001, 5100, 5102, 3056, 5104, 3058, 5106,\n",
      "        5109, 3061, 1014, 1018, 3066, 5114, 1023, 5120, 3076, 3078, 1030, 1032,\n",
      "        5128, 5130, 3083, 1039, 3088, 5138, 3091, 1044, 1045, 3092, 3095, 3109,\n",
      "        1064, 3116, 5166, 5167, 3121, 1074, 5172, 5174, 3129, 3131, 3132, 3134,\n",
      "        3135, 1088, 3136, 3138, 3141, 3143, 5191, 5194, 1102, 3154, 1110, 3159,\n",
      "        3163, 5213, 1117, 5216, 1122, 5219, 3174, 3180, 5230, 1136, 3186, 3187,\n",
      "        1143, 5242, 3195, 3198, 3199, 5248, 3201, 1154, 3202, 1157, 3205, 5257,\n",
      "        3209, 1163, 3212, 1164, 1166, 5259, 3213, 3217, 1170, 3216, 5268, 1173,\n",
      "        3220, 3223, 3224, 3226, 3228, 3231, 3232, 3237, 1190, 3238, 3239, 5289,\n",
      "        3241, 3243, 1192, 3242, 5294, 5297, 5298, 5299, 5300, 1202, 5302, 3255,\n",
      "        3257, 5306, 5308, 1213, 1216, 5314, 1219, 1220, 1221, 1224, 1225, 3274,\n",
      "        1227, 3276, 3277, 1230, 3279, 3280, 3278, 1232, 3283, 3284, 3281, 3285,\n",
      "        3286, 5336, 3289, 3288, 1237, 1245, 3294, 1249, 1251, 3303, 1260, 5362,\n",
      "        3315, 5373, 3325, 1278, 3326, 1288, 3338, 1296, 1302, 5399, 1304, 3353,\n",
      "        3358, 1311, 5406, 5408, 1316, 3364, 5412, 5413, 5415, 5416, 5414, 1317,\n",
      "        5420, 5421, 1326, 3376, 1328, 5432, 3386, 3390, 3394, 1350, 1352, 1353,\n",
      "        5450, 1358, 1363, 1364, 1365, 5460, 1367, 1368, 3422, 5472, 5480, 5483,\n",
      "        1391, 3443, 5495, 5497, 3451, 1410, 3460, 1412, 1416, 1419, 1420, 1421,\n",
      "        3470, 1423, 1424, 1425, 5523, 1427, 1430, 5527, 1440, 5537, 5538, 5539,\n",
      "        1448, 5545, 1450, 5551, 3510, 3511, 5569, 3527, 1489, 3541, 1496, 5593,\n",
      "        3546, 3547, 3549, 3551, 3552, 5600, 3557, 1511, 3559, 5609, 1517, 5614,\n",
      "        3574, 3576, 5627, 5632, 1537, 1540, 1542, 5640, 3593, 1546, 1547, 3595,\n",
      "        5645, 1554, 1557, 5656, 3609, 5658, 3615, 3618, 3620, 3624, 5676, 1582,\n",
      "        5680, 3638, 3639, 5689, 5691, 3646, 5695, 3651, 3653, 5704, 1610, 5709,\n",
      "        3662, 5714, 3667, 1621, 1622, 3674, 1627, 1626, 1628, 5736, 5738, 1646,\n",
      "        3695, 1647, 5743, 1649, 3701, 1658, 3707, 5757, 1662, 3711, 1663, 5760,\n",
      "        3714, 5763, 1666, 5765, 5766, 1664, 3720, 1675, 1695, 1697, 5794, 5795,\n",
      "        5796, 5797, 5798, 1703, 5799, 3753, 5801, 5803, 1708, 3757, 3758, 5805,\n",
      "        5800, 3761, 5802, 5804, 1718, 1719, 1720, 1723, 5821, 1726, 1728, 1729,\n",
      "        3778, 1731, 3779, 1734, 3783, 3785, 1738, 3787, 3789, 1741, 1743, 3791,\n",
      "        3792, 3794, 1747, 3796, 1749, 1745, 1751, 1753, 1757, 3806, 5855, 1759,\n",
      "        3808, 1762, 1767, 5868, 3825, 1781, 3831, 1788, 1792, 5890, 5891, 5892,\n",
      "        5894, 5895, 5896, 5898, 5899, 1805, 3854, 5901, 1818, 5914, 5917, 5919,\n",
      "        5920, 1825, 5922, 5923, 3875, 5925, 3878, 1831, 3884, 1841, 1852, 1861,\n",
      "        3910, 3912, 3918, 3926, 1878, 1882, 1889, 3939, 1896, 1899, 3948, 1901,\n",
      "        3952, 3953, 3954, 1907, 1908, 1913, 3964, 3966, 3970, 3972, 3973, 3974,\n",
      "        1928, 3976, 3978, 3980, 3981, 3982, 3983, 1939, 3990, 1942, 3993, 3997,\n",
      "        4003, 1960, 4010, 4013, 1965, 1967, 4016, 4020, 4021, 1975, 4024, 4039,\n",
      "        1992, 4043, 4046, 4048, 4050, 2009, 2013, 4061, 2020, 4075, 4076, 2030,\n",
      "        4082, 2034, 2036, 2038, 2040, 2041, 2042, 2043, 2044, 2047]), tensor([   1,    5, 4102, 2054, 2058, 2061, 4111, 2066, 4115, 4117, 4118, 4119,\n",
      "        4120, 4126, 4129, 4133,   37, 4137,   44, 2094, 2101, 2102, 2104, 2106,\n",
      "          59,   61, 2109, 2111, 4160, 2114,   72, 4169, 4172,   78, 2138, 2140,\n",
      "        2141, 2144, 4193, 2148,  102, 2151, 2152, 2150, 2154, 2155, 2153, 2157,\n",
      "         111, 2160, 2162, 4211, 2163, 2164, 2167, 4217, 2169, 4220,  124, 4227,\n",
      "        2180, 4230, 2183,  140,  144, 2195, 2200, 2207, 4258, 4267, 2220, 4270,\n",
      "         175,  176,  177, 4276, 4279, 2232, 4280, 4282,  187, 2236,  194, 4293,\n",
      "        4295, 4299,  204,  210, 4310, 4315, 2267, 4317,  222, 2271, 2272,  226,\n",
      "        2276, 4324, 4328,  233, 2282,  236, 2286, 4336,  242, 4342, 4355, 2307,\n",
      "         265, 4363,  268, 4365, 2318,  269,  272,  273, 4370, 4371,  274,  275,\n",
      "        2327, 2329, 4378, 4377,  283, 2336, 4386, 4388, 2345, 4393, 4396, 2348,\n",
      "         302,  307, 2358, 4407,  314, 4412,  317,  319,  320, 4420, 4421, 4422,\n",
      "        4423,  326, 4425, 4426,  330, 4431, 4432,  337, 2386,  335,  338, 4433,\n",
      "        4439, 2392, 4440,  346,  347, 2395, 2400, 2401,  353, 2406, 2408, 2416,\n",
      "        2422, 4472,  380, 4477, 2429, 4480, 4483,  389, 2441, 2452,  405, 2454,\n",
      "        2455, 4504, 4505, 4506, 4513, 4514, 2466, 4517, 4518,  424,  427,  432,\n",
      "         439, 2493,  446, 2495, 2497, 4546,  452,  454, 4553,  458, 2507, 4557,\n",
      "        2511, 2512, 2513, 2514,  468, 4565, 2517,  471,  472,  473,  479, 2529,\n",
      "        2531, 2536, 2542, 4594, 2548, 4598,  502, 2550,  503, 2555, 2559, 2562,\n",
      "        4612, 2564, 2566,  520, 2570, 4623,  527,  529, 4633, 4635,  541,  545,\n",
      "        4645,  552, 4651,  557, 2612, 2615,  568, 4665, 4667, 2620, 2625, 4678,\n",
      "        4680, 4683, 4684, 4685, 4687, 2640, 2641, 4692, 2648, 2649,  602,  603,\n",
      "         617, 4728, 4729, 2682, 2683, 2688,  641, 2691, 4752, 4760, 4762, 2715,\n",
      "        4766, 4767,  672, 4773, 2726,  679,  677, 4782,  687, 4787, 4792, 4795,\n",
      "        4799,  704, 2753,  706, 2757,  709, 2760, 4808, 2763, 2764,  716,  719,\n",
      "        2767, 4818, 2772,  725, 2775, 2777, 2778, 4828, 2783, 4831, 2787, 4839,\n",
      "        4841,  747, 4843, 2797, 4844, 2802, 4853,  761, 4862,  766, 4864, 4865,\n",
      "        2822, 2824, 2825,  779, 4877, 4878,  787, 2842, 2843,  795, 4894,  800,\n",
      "        2848, 4900,  806, 2856, 2857, 4912, 4917, 4918, 2872,  831, 2880,  832,\n",
      "        2882,  839,  842,  843, 4948, 4950, 4952, 4953, 4954,  859, 4955, 4957,\n",
      "        2911, 4961, 4967, 4968,  888, 2941,  894,  895, 2944,  899, 2948, 2949,\n",
      "        2951,  903, 5001,  907, 2956, 5003,  909, 2959, 5008, 5009,  916, 5012,\n",
      "        2966, 2967, 5016, 2970, 5020, 2973, 2974, 5024, 5025, 5026, 5027, 2979,\n",
      "        2978,  934,  935, 2983, 5030,  938, 5033,  941,  942, 2991, 5041,  945,\n",
      "         947, 5043,  949, 3000,  954,  956,  957, 3006,  960,  962, 5062,  969,\n",
      "         974, 3024, 5075,  980, 3029, 3028, 5079, 5080,  987,  992,  995, 3044,\n",
      "        3046, 3047, 3052, 3057, 1010, 1012, 5113, 3068, 3071, 5122, 5132, 5135,\n",
      "        3096, 1051, 1055, 5156, 3112, 3113, 5160, 1067, 3118, 1076, 3130, 3137,\n",
      "        5189, 1095, 3145, 3147, 3150, 5201, 3153, 5202, 1106, 3158, 3162, 3169,\n",
      "        1123, 3172, 5221, 1125, 1127, 5227, 1132, 5231, 5233, 5234, 1141, 3192,\n",
      "        5240, 1152, 5251, 3206, 3207, 1159, 3210, 3211, 3215, 1167, 5267, 3222,\n",
      "        3225, 5275, 5278, 3233, 3234, 1189, 5291, 3246, 5295, 1205, 3254, 1207,\n",
      "        1208, 5305, 3256, 3262, 5318, 3271, 1223, 1229, 1233, 1234, 5330, 1236,\n",
      "        1241, 5338, 3293, 1247, 5345, 5346, 3301, 1255, 1257, 1265, 5366, 5368,\n",
      "        5370, 3322, 5375, 3327, 5376, 3330, 3331, 5382, 5383, 3336, 5388, 5389,\n",
      "        5393, 5395, 5396, 5401, 5402, 5403, 5404, 1307, 3357, 3354, 3360, 5409,\n",
      "        3363, 1318, 3367, 3373, 1327, 3377, 3378, 5427, 5428, 3381, 5430, 5437,\n",
      "        5438, 3392, 5441, 5443, 5448, 3404, 1361, 1366, 1370, 1373, 1376, 5473,\n",
      "        5475, 1383, 1385, 3436, 5484, 5487, 5488, 1393, 5490, 5491, 5492, 3445,\n",
      "        5493, 3450, 5501, 5502, 3453, 5509, 1414, 5510, 1415, 5519, 1428, 1429,\n",
      "        1431, 1434, 1439, 1441, 1442, 3489, 5540, 1444, 1446, 1445, 1447, 1449,\n",
      "        3498, 3495, 3501, 3507, 5555, 5558, 1464, 3515, 3517, 3518, 3520, 1473,\n",
      "        3521, 3522, 3524, 3529, 3531, 3532, 3533, 3534, 1494, 3543, 5590, 5592,\n",
      "        5594, 1499, 3548, 5599, 1504, 5601, 5602, 1507, 5605, 5608, 5610, 3571,\n",
      "        1524, 5621, 1532, 3587, 5642, 3598, 1550, 3605, 1561, 1567, 1569, 1574,\n",
      "        5671, 1576, 1577, 5678, 3635, 1589, 1590, 1591, 5696, 1601, 1600, 3650,\n",
      "        5700, 3656, 3660, 1615, 1616, 3665, 3664, 5715, 1620, 5721, 5723, 5727,\n",
      "        5728, 3680, 1634, 5731, 5730, 3683, 1638, 3687, 3691, 3692, 3693, 3694,\n",
      "        5741, 5744, 3698, 5747, 3700, 5749, 5748, 5752, 5756, 3710, 3713, 5764,\n",
      "        3718, 3722, 3724, 3726, 3731, 3733, 1691, 3741, 3747, 3750, 1705, 1712,\n",
      "        5812, 1717, 5813, 3764, 5846, 3802, 1758, 5857, 5858, 3811, 1766, 5864,\n",
      "        3820, 1773, 1772, 3823, 5870, 1779, 3830, 3833, 3838, 3839, 3842, 1795,\n",
      "        3844, 1797, 1796, 1800, 1801, 3849, 1803, 3855, 3861, 3862, 1816, 3869,\n",
      "        3870, 3874, 3877, 1837, 3886, 3892, 3895, 1854, 1855, 3907, 1859, 1864,\n",
      "        3941, 1897, 1900, 1902, 3950, 1905, 3956, 1910, 3959, 3961, 1917, 3968,\n",
      "        1920, 1927, 1931, 1932, 1945, 1959, 1961, 1964, 1969, 4025, 1983, 4031,\n",
      "        1985, 1984, 4036, 4038, 1990, 1991, 2000, 4049, 2003, 2005, 4059, 2015,\n",
      "        2024, 4077, 2031, 4083, 4084, 4086, 2046]), tensor([2049, 4099, 4100,    6,    7,   10,   11,   13, 2062, 2063, 2064, 4113,\n",
      "          17,   19, 2067, 2039,   23, 2071,   26, 2074, 4123, 4125,   30, 4135,\n",
      "          49, 4150,   57, 4164,   69, 4165, 4166, 4176, 2129, 2130, 2131, 4180,\n",
      "        2133,   89, 4190, 4195, 4197, 4198, 4199, 4200, 4202, 4203,  112, 2161,\n",
      "         114, 2165,  119, 2168,  121, 2170,  122,  123, 2174, 2176, 4225, 2178,\n",
      "         131, 4229, 2182, 2184, 2186, 2187, 2188,  145, 2196, 2198,  153, 2206,\n",
      "        2212,  164, 2222, 4273,  179,  180,  181, 2229,  184,  185, 2237, 4286,\n",
      "         191,  195, 2247,  200,  201, 4298,  205,  206, 2262, 2264,  217, 2268,\n",
      "        2269,  220, 2270,  228, 2278, 2279, 2280, 4329, 2281, 2288, 2289,  241,\n",
      "        2291, 2295,  247, 2306,  270, 2322, 2323, 4373,  297, 4404, 4418, 4419,\n",
      "        2374, 2381, 2382, 4436, 4437, 2390, 2391,  344, 2393, 2394, 2396, 2397,\n",
      "        4446, 2398, 4448, 4449, 4450,  350, 2404, 4453, 2399, 2402, 4456, 2407,\n",
      "         363, 2411, 2412, 4459, 2417, 4465, 4468, 4469, 2423, 4471, 4473, 2425,\n",
      "        4475,  384, 2443, 4491, 2446, 4497, 4501,  406,  408,  410,  412,  413,\n",
      "        4508, 2465,  417, 2482, 2483, 4532,  434,  438, 2486, 4536,  442,  445,\n",
      "        4544, 4549,  453,  455,  457,  459,  460,  461, 4556, 4558,  463,  476,\n",
      "        4572,  478, 4575, 2527, 2530,  485, 4596, 4597, 4604, 2557, 2565,  518,\n",
      "        4616, 2569, 2568, 4619,  524, 4625, 2591,  559, 4656, 2611,  571,  575,\n",
      "        4675, 4677,  580,  585,  588, 2639, 4688, 4689, 2642, 2644, 2645,  600,\n",
      "        4700, 2653, 4704,  609,  610, 2660,  615, 2664,  616,  618, 4716,  621,\n",
      "        2670, 4719, 4720, 4717,  623, 4732, 4733,  644, 4741, 4747, 4750,  656,\n",
      "        2707, 4756,  664, 2714,  668,  669, 2730, 2731, 4780, 4784, 4788, 2741,\n",
      "        4790, 4789, 4791, 2746, 4794, 4797,  703, 4802, 2759, 4810,  714, 2765,\n",
      "        2769, 2776, 2779, 4829, 4830,  736, 2784, 4838, 4845, 2803, 2804, 2805,\n",
      "        2808, 2810, 4860, 2812,  765, 4861, 2817,  772,  774,  775, 4872, 4873,\n",
      "         781,  791, 2840, 2850, 2853, 4910, 2862, 4916,  824, 4921, 2873, 4923,\n",
      "        2881,  833, 2888,  845, 4944, 4945, 2903,  857, 2909,  861,  863,  867,\n",
      "         874, 2922, 4973,  878, 2926,  882, 2935, 2936,  890, 4993, 2946, 2947,\n",
      "        4998,  904, 2954,  906,  908, 2968, 5017, 5019, 2975,  928,  930, 5029,\n",
      "        2985, 2989, 2992, 2995,  952, 3003, 3005, 3011, 3014, 3016, 3017,  973,\n",
      "         979,  981, 5084,  989, 5086, 3045, 5101, 3054, 5107, 3062, 5111, 3065,\n",
      "        1017, 3067, 1020, 5117, 1025, 5123, 3079, 3080, 3082, 3085, 1047, 3098,\n",
      "        3099, 3106, 1061, 3110, 1063, 3111, 5162, 5163, 5164, 3115, 5168, 1075,\n",
      "        5173, 5179, 1091, 5187, 5210, 3164, 1119, 3170, 3171, 3175, 5224, 3178,\n",
      "        3179, 5237, 3190, 3191, 1145, 3193, 3194, 3200, 1153, 3204, 1160, 1161,\n",
      "        1165, 1168, 1169, 3230, 1185, 5284, 5293, 3245, 5301, 5304, 1209, 1214,\n",
      "        3263, 5312, 3267, 3268, 1222, 5319, 3275, 5351, 5356, 1263, 1271, 5371,\n",
      "        1280, 1283, 3332, 1300, 5398, 5400, 3362, 3365, 3368, 5419, 3375, 5426,\n",
      "        1336, 3384, 5435, 3389, 1347, 3403, 1357, 3406, 3414, 5463, 5466, 3418,\n",
      "        1372, 3421, 1374, 1375, 1371, 3419, 1379, 1380, 3428, 1382, 5478, 1384,\n",
      "        3430, 1387, 1386, 1389, 3435, 1394, 1395, 1396, 3448, 5498, 1404, 3455,\n",
      "        1407, 3457, 1411, 3459, 1413, 1417, 5513, 5515, 1422, 5520, 5521, 5524,\n",
      "        5526, 3478, 1432, 1433, 5529, 1436, 1437, 3486, 3487, 5542, 5547, 1452,\n",
      "        5552, 3505, 5562, 3523, 3530, 5582, 5583, 5586, 5591, 5595, 1500, 5598,\n",
      "        3555, 5604, 5606, 3561, 3562, 1520, 5618, 5619, 5620, 1526, 1527, 3580,\n",
      "        3581, 5635, 5638, 3594, 1548, 1555, 3604, 1556, 5654, 1560, 1565, 1571,\n",
      "        5668, 1572, 1575, 5674, 1579, 3630, 1583, 5682, 5683, 5684, 5686, 3640,\n",
      "        5690, 5697, 3654, 3658, 3659, 1617, 1625, 5724, 1632, 1642, 5739, 1653,\n",
      "        1654, 1656, 5755, 3709, 1661, 1665, 3715, 1668, 3717, 1670, 3723, 5774,\n",
      "        1679, 3728, 5775, 1688, 3740, 1692, 3742, 3743, 1706, 1711, 1721, 5822,\n",
      "        5825, 5831, 5836, 1752, 1756, 1760, 3813, 5866, 1771, 3824, 1777, 1791,\n",
      "        5893, 5897, 3850, 5900, 3853, 5902, 3852, 1809, 3868, 1820, 5918, 1823,\n",
      "        1824, 1828, 5924, 3879, 5928, 1833, 1834, 5932, 5933, 3885, 1836, 1839,\n",
      "        3891, 3894, 3898, 3899, 3900, 3905, 3906, 3908, 3909, 3911, 3916, 1869,\n",
      "        3922, 3923, 3924, 3927, 1881, 3932, 1884, 3936, 3937, 1891, 3940, 3942,\n",
      "        3945, 1898, 3946, 1903, 3955, 1915, 1916, 1923, 3971, 1925, 1930, 1933,\n",
      "        1938, 1946, 1950, 1952, 1963, 4012, 1970, 1978, 1979, 1998, 4047, 4051,\n",
      "        4053, 4064, 2023, 4072, 2026, 4081, 4087]), tensor([4096, 4097, 1028, 5125, 4112, 1043, 5144, 2073, 5145, 1050, 3102, 2082,\n",
      "        3107,   42,   45, 2095, 1072, 2096,   48, 4148, 3126, 3127, 5176, 1083,\n",
      "        1086, 4158, 2110, 2113, 5182, 2115, 5188, 3139, 3142,   71, 2118, 1100,\n",
      "        3149, 5196, 2124, 5200, 2125, 2126, 5198, 2128, 4181, 5206, 2134,   88,\n",
      "        2132, 1114, 2139, 1116, 3165, 5214, 3167, 4192, 1121, 5223, 1128, 2158,\n",
      "        4207, 4210, 5236,  117, 2166, 5239,  118, 1147, 1148, 2173, 1151, 5249,\n",
      "        4226, 1155, 2179, 4228,  132, 1158,  135,  136,  143, 2193, 5266, 3219,\n",
      "        4244, 5274, 1186, 3236, 4264, 5288, 2217, 2219, 5292, 5296, 1201, 2224,\n",
      "        2228, 3260,  189, 3261,  193,  197, 5320, 1226, 1228, 5325, 5327, 1231,\n",
      "        5331, 5333, 4309, 1240, 1243, 2273, 1250, 2275, 3300, 1253, 5349, 4325,\n",
      "         232, 3304,  229, 5355, 3313, 4338, 1269, 3319, 2300, 1279, 4352, 1284,\n",
      "        2309, 1287, 3339, 2317, 5392,  276,  278,  281,  282, 4382, 4383, 2334,\n",
      "        3366, 4391, 3369, 4399, 2354, 3379, 3380, 2357, 2360, 1337, 3385, 5434,\n",
      "        1339, 5433,  318, 2367, 3396, 5446, 5449,  331, 3407,  339,  348, 5468,\n",
      "         352, 4452, 1381,  358, 4455, 2405, 5476, 4463,  367, 5489, 3442, 2420,\n",
      "        3446, 5500, 4478, 2438,  391, 4489,  399, 4496, 4499, 4500, 5525, 3480,\n",
      "        2457, 5532, 1438,  415, 2471, 5544, 1453,  430, 4527, 2480, 1457, 2487,\n",
      "         440, 2488, 2489, 2491, 4540, 2492, 2494, 2498, 2500, 2501, 2502, 5577,\n",
      "        2506, 2509, 1486,  465,  466,  467, 2520, 3545, 5596, 5597, 1506, 3560,\n",
      "        2537, 1514, 1516, 5613, 4592, 1521, 2546,  496, 1523,  506, 5628, 3582,\n",
      "        5637, 4614, 5639, 1545, 2571, 5644, 1549, 5643, 4620,  528, 1552, 5651,\n",
      "        5652, 4628, 4627,  535, 4634,  540, 3613,  542, 3614, 4636, 2593, 4643,\n",
      "        1573, 3621, 4649, 2601, 3626, 3631, 2607, 4660, 5685, 4663, 1595, 4676,\n",
      "        2630, 1608, 5707, 2635,  591,  595, 4694, 3672, 3673, 5725, 2658, 1635,\n",
      "        3688, 5737, 4714, 4713, 2669, 3696, 3697, 1652, 4724, 5751, 3704,  631,\n",
      "         633, 1660, 2685, 4745, 4748,  654,  662, 3738, 3739,  673, 3745, 4769,\n",
      "        4772, 1702, 3751,  681, 4777, 2734,  690,  693, 1724,  702, 1727, 5823,\n",
      "        5824, 2754,  711, 4813, 2766, 1750, 2774, 1755, 2780, 1761, 4834, 1764,\n",
      "        1765,  740, 3817, 4842, 1774, 4851,  755, 4855,  759, 2807, 3846, 4874,\n",
      "        3851, 2830,  782, 2832,  784, 1810, 3858,  788, 4882, 4886, 4883, 3867,\n",
      "        4895, 4897,  803, 1827,  805, 4899, 3883,  814, 3896,  825,  827,  830,\n",
      "        3902,  834,  836, 4933, 3913, 1866,  841, 3919,  847, 2898,  850, 4949,\n",
      "         855, 2907, 3933, 1885, 1887,  864, 4960, 1890, 4965, 1894,  871, 1895,\n",
      "        4966, 3949, 3951,  881, 4977, 1912, 1914, 4991, 4994, 3985, 5010,  915,\n",
      "        5014,  923, 2976, 1953, 4000,  943,  944,  946, 5045, 3002,  958, 4033,\n",
      "         963, 3019, 3020, 3022, 1999,  976, 4055, 3031, 2010,  988, 2016, 4066,\n",
      "        2019, 1004, 1015, 5116, 4093]), tensor([   0,   20, 4122,   46, 4146,   53,   60,   70, 2119,   74,   81,   82,\n",
      "          83, 2136, 2137,  103,  104, 2156,  116, 4212,  126, 4222,  130, 4232,\n",
      "        4239, 2191, 4247, 2210, 2218, 2221,  173, 4272, 2225, 4274, 2227, 2233,\n",
      "         198, 4297,  202, 4305,  215,  216, 4314,  219,  221,  223,  224,  225,\n",
      "        2274, 4330, 2283, 2284, 2287, 4337, 2296, 4345,  248, 2299, 2297, 2302,\n",
      "        2303,  257,  259, 2308, 4356,  261,  263,  264, 4379,  285, 2335,  288,\n",
      "        4390,  295, 4392, 2346,  298,  300,  301, 4398, 4394,  304, 4400, 2351,\n",
      "        2353, 4402, 2364, 2365, 2370, 2371, 2373, 2375, 2376, 2377, 2380,  333,\n",
      "         334,  336,  340, 4444, 4445, 4447, 4458, 4476, 4482,  386, 2439,  394,\n",
      "        2442, 2444, 4493,  400,  409, 2458, 4507,  414, 4512,  419,  425, 2477,\n",
      "        4525,  429, 4530, 4534, 4537,  441, 4543, 2496,  448, 2504, 4552,  462,\n",
      "        2510, 2516,  470, 2521,  474, 2523, 2525,  477, 2528, 2533, 4581, 2534,\n",
      "         489, 4602, 2554, 4606,  511, 4609, 2563, 4611, 4618,  523, 2574, 4624,\n",
      "        4626, 2578, 4630, 2587, 2598, 2600,  555, 4653, 2610,  570, 2621, 2622,\n",
      "        2623,  581,  584,  586, 4682,  592,  593, 4690,  596,  597,  599, 2656,\n",
      "        4705, 2661, 4721, 4725, 4726, 2684, 4736, 4737, 4740, 4742, 4749, 2704,\n",
      "        2709,  667, 4763,  670,  671, 4768, 4771, 4774, 4775, 4778, 4779,  685,\n",
      "        4796, 4803, 4804, 4806, 4811, 4814, 4815, 2770, 2771, 4819, 4820, 4822,\n",
      "        4823, 4824, 4827, 2782, 2786, 2788, 2792, 2794,  746,  750,  751, 4848,\n",
      "        2811,  767,  769,  773, 2821,  776, 2826,  780, 2833,  786,  792, 4892,\n",
      "         797,  796,  799, 4909, 4913, 2868, 2869, 2871, 4924, 4941, 2894, 2895,\n",
      "         856,  858, 4962, 4963,  875,  876, 2927,  884, 2934,  887, 4990, 4992,\n",
      "         897, 5004, 5007,  912,  921, 5018, 2971,  925, 5023,  929,  939, 5036,\n",
      "         948, 2998,  953,  970,  971, 5076,  982,  984,  985,  990, 3042,  998,\n",
      "         999, 5098, 3051, 3053, 1009, 3059, 3063, 5112, 3070, 1024, 1026, 3090,\n",
      "        5140, 5141, 3094, 5149, 5150, 5153, 5155, 5159, 1069, 1073, 5170, 1077,\n",
      "        1080, 1081, 3133, 5193, 3146, 5197, 1104, 5204, 3157, 5207, 5209, 5211,\n",
      "        5212, 5218, 5220, 5226, 1130, 5235, 1140, 1139, 1142, 1144, 1146, 5243,\n",
      "        1150, 1156, 1171, 1177, 1178, 3229, 1182, 1183, 5281, 5287, 5290, 3244,\n",
      "        3247, 3248, 1199, 3253, 1211, 3259, 1215, 5311, 3266, 3273, 5337, 5350,\n",
      "        3306, 3309, 1264, 1270, 5367, 1276, 5378, 5387, 3352, 3355, 5407, 3361,\n",
      "        5410, 1315, 1313, 1320, 3370, 1323, 1325, 5422, 1331, 3387, 5436, 1345,\n",
      "        5445, 5447, 3401, 1354, 5451, 1355, 5453, 1360, 3410, 3412, 5461, 1369,\n",
      "        5471, 3424, 1377, 3431, 5479, 1388, 5485, 1390, 3449, 3456, 1409, 3461,\n",
      "        3468, 3471, 1426, 5522, 3481, 3482, 5531, 1443, 3491, 3493, 5541, 3496,\n",
      "        5549, 1458, 3506, 5554, 1462, 5560, 1465, 5566, 5567, 1470, 1474, 5579,\n",
      "        1484, 1495, 1502, 1508, 1509, 1510, 1512, 1513, 5611, 3566, 1519, 1518,\n",
      "        3570, 3572, 3575, 3577, 3579, 1535, 3583, 3585, 3586, 3588, 3589, 3591,\n",
      "        3592, 3596, 3599, 5647, 1553, 3603, 1558, 3606, 3608, 3610, 3611, 3612,\n",
      "        1563, 3616, 1568, 3623, 3625, 3628, 1584, 3632, 1585, 1587, 3634, 1588,\n",
      "        3637, 3647, 3649, 1603, 1605, 1611, 3661, 3663, 3666, 3668, 5717, 5718,\n",
      "        3671, 3670, 3675, 3677, 1633, 3681, 3682, 3685, 5759, 3719, 5771, 1676,\n",
      "        5773, 1678, 1683, 3732, 1685, 1686, 3736, 1693, 1694, 5789, 5792, 5791,\n",
      "        5793, 1699, 3752, 3754, 1710, 3760, 3762, 3763, 5815, 5816, 5829, 3782,\n",
      "        1735, 3784, 5832, 5835, 5837, 5838, 5839, 5840, 5841, 5843, 5844, 5845,\n",
      "        3798, 5847, 3801, 3803, 3804, 3805, 5862, 3814, 3821, 3822, 5873, 3829,\n",
      "        5879, 3832, 3835, 3837, 3841, 1799, 1811, 5910, 3863, 3864, 3872, 3876,\n",
      "        1830, 5927, 5930, 1835, 5934, 3893, 5942, 3901, 3903, 3904, 1862, 1863,\n",
      "        1865, 3914, 3915, 3917, 1875, 1876, 1877, 1880, 3929, 1886, 1888, 1892,\n",
      "        1904, 1906, 1909, 3958, 1921, 1934, 1941, 1943, 1947, 1949, 1951, 1954,\n",
      "        1955, 4004, 1957, 1956, 4007, 4008, 4011, 4014, 4017, 4018, 4019, 1972,\n",
      "        4023, 1976, 4028, 4029, 4030, 4034, 1993, 4042, 1995, 4044, 1996, 1994,\n",
      "        2001, 2004, 2006, 2014, 4065, 4067, 2021, 4071, 2032, 4091]), tensor([   3, 4103,    8, 2056, 2059, 2060, 4107, 4116, 2070, 2081, 2088, 4144,\n",
      "        4149, 2103, 4151, 4155, 4157, 4159,   65, 2121,   87, 2135,   90, 2145,\n",
      "        2146, 2147,   97, 2149, 4205, 4209, 4213, 4214, 4223, 4224,  127, 2181,\n",
      "         149, 4256,  161, 2213, 4262,  178, 2230, 2231, 2234, 2235,  199, 2249,\n",
      "        4303, 2256,  209,  208,  211, 2259, 4307,  214, 4311, 4316, 4318, 4320,\n",
      "        2277, 4326, 4327, 4333,  238, 4335,  244, 2292, 2301, 2305, 4353,  258,\n",
      "         260, 4358, 2339, 4387, 2341,  296, 2349, 4401, 2355, 4403, 2359, 2361,\n",
      "        4409,  315,  316, 4411, 4414, 2368,  324,  328,  329, 2378, 4427,  332,\n",
      "        2383, 4442, 4443, 4454, 4457, 2410, 4460, 4461,  368, 4464,  369, 4467,\n",
      "        2418,  373, 4474, 2428, 2430, 2431, 2432, 2433, 2434,  388, 2437,  390,\n",
      "         392,  393,  396, 2445,  398, 2456,  418, 4516, 2469,  421,  420, 4521,\n",
      "        2503, 4561,  469, 2518, 4566, 4569, 4571,  475, 4573, 4574, 4576,  481,\n",
      "         482,  484,  486, 4583,  488, 2538, 4586, 4588, 4585,  494, 2543,  495,\n",
      "         497,  498, 2547,  499, 4590, 2551, 4599, 2553, 2549, 2556, 2558, 4607,\n",
      "        2561, 4610, 4613, 4615,  522, 2573, 2575, 2576, 2577,  537,  543,  558,\n",
      "        4658, 2614, 2617, 2619, 4670, 4673, 4674, 2626,  578,  579,  582, 2629,\n",
      "        2632, 2634,  589, 2638,  594,  598, 2646,  604, 2659, 4718,  624,  625,\n",
      "        2674, 4727,  638, 2687, 4744,  650, 2699, 2705, 2708, 2712, 2713, 2718,\n",
      "        4770,  675, 2722, 4781, 4783, 2737,  689, 2740,  692,  694, 2744,  699,\n",
      "        2749, 4798, 2750,  701, 2755, 2761,  721, 4825, 4837, 2790, 4840,  749,\n",
      "        4847, 2806,  760, 4857,  777,  778,  785,  794, 2846, 1789,  813, 2866,\n",
      "        2867, 4914,  828,  829, 4927, 4929,  835, 2886, 2887,  840, 2889,  844,\n",
      "         846, 4943,  848, 2897,  851, 4947,  852, 2905,  862,  865, 2914,  866,\n",
      "        2921, 4972, 2928,  880, 2930,  883, 4981,  885,  886,  889, 4987,  892,\n",
      "         893,  898, 2950,  902,  905, 2957,  911,  914, 5013, 5881,  933, 5031,\n",
      "         937, 2988, 2990, 5044,  955, 5052,  959, 3008,  972, 3026, 3032, 3035,\n",
      "        5090,  997, 5094, 5096, 3050, 3055, 5105, 5110, 1016, 1019, 1021, 1022,\n",
      "        3081, 3084, 5134, 5136, 3089, 5139, 5146, 5158, 1068, 3117, 5169, 3124,\n",
      "        3125, 5177, 1084, 1085, 1090, 1092, 3140, 1096, 1099, 5195, 1103, 3152,\n",
      "        1105, 1111, 1113, 1124, 1126, 5225, 3177, 1133, 5232, 3189, 5244, 5245,\n",
      "        3203, 5252, 5254, 5255, 5256, 1162, 5258, 5260, 5261, 3214, 5262, 5264,\n",
      "        5265, 1172, 5269, 1175, 1179, 1184, 1188, 1191, 1193, 1194, 1195, 1198,\n",
      "        1200, 3250, 3251, 1206, 1210, 1212, 5310, 1217, 5313, 1218, 3265, 3269,\n",
      "        3270, 3272, 5324, 1235, 5334, 3290, 3291, 3292, 5342, 3296, 3297, 3298,\n",
      "        3299, 5347, 5344, 3302, 3307, 1259, 3310, 3311, 3314, 3316, 5364, 5365,\n",
      "        3318, 3324, 5377, 5384, 5385, 5391, 3347, 1306, 3356, 1310, 5417, 5418,\n",
      "        1322, 3371, 3372, 3374, 5423, 5429, 1334, 1340, 3388, 1342, 5440, 5442,\n",
      "        1348, 5444, 1351, 1356, 5458, 1362, 5462, 5469, 3423, 5474, 1378, 3427,\n",
      "        5477, 3429, 5482, 1392, 3444, 1397, 1399, 5503, 3462, 5511, 5512, 3465,\n",
      "        3466, 1418, 3464, 5517, 3473, 3475, 3477, 3479, 3484, 5534, 5535, 5536,\n",
      "        5546, 3504, 5557, 1467, 5568, 1476, 3525, 5578, 5581, 3536, 3537, 5585,\n",
      "        5587, 5589, 3558, 3564, 3565, 5615, 3569, 5624, 5634, 5636, 3590, 3597,\n",
      "        5648, 3600, 3607, 1562, 1564, 1566, 3617, 1570, 1580, 5677, 3633, 1586,\n",
      "        1592, 1594, 3642, 1596, 3644, 1598, 5694, 1599, 1597, 1602, 3643, 3648,\n",
      "        1606, 1607, 5702, 3657, 1614, 5712, 5713, 1619, 3669, 1624, 5722, 3678,\n",
      "        3679, 1631, 5729, 5732, 5745, 3702, 3703, 3705, 1657, 3706, 3712, 5762,\n",
      "        5769, 5770, 1677, 3727, 5776, 5777, 3729, 1680, 1684, 3734, 3744, 3748,\n",
      "        5806, 5807, 5810, 3765, 3770, 5818, 3772, 3773, 5819, 5820, 5826, 1730,\n",
      "        5827, 1744, 5848, 3809, 5859, 1763, 3816, 1768, 5867, 5871, 1776, 1775,\n",
      "        1778, 5877, 1782, 1783, 1784, 1785, 3834, 1786, 5882, 5883, 5884, 5886,\n",
      "        5885, 5889, 5888, 3843, 3840, 5887, 1793, 3847, 3848, 1802, 1804, 1806,\n",
      "        5903, 1813, 1814, 1815, 3865, 5915, 1821, 1822, 1826, 1829, 1832, 5937,\n",
      "        1845, 1857, 1858, 1870, 1874, 3925, 1893, 1911, 3962, 3963, 1919, 3969,\n",
      "        1924, 3979, 1940, 3995, 4005, 1966, 1982, 4035, 1987, 4052, 2012, 2022,\n",
      "        4073, 4079]), tensor([3074, 4104, 2057, 1036, 3086,   15, 1042, 3093, 3100, 2077, 1054, 5152,\n",
      "        3105, 2080, 4131, 2084, 2089, 3114, 5161, 2092, 3119, 3120, 3122, 3123,\n",
      "        2098, 3128, 2105, 2107,   62, 4161,   67, 2117, 1093, 1097, 1098,   73,\n",
      "        2122, 4173, 1108, 4182, 4183, 5208, 4185, 4186, 1115, 4187, 4189, 1120,\n",
      "        3173, 3176, 3183, 3184, 4208, 3188, 4219, 3197,  125,  129, 5250,  133,\n",
      "        3208, 4236, 4238, 3218,  152,  156, 4253,  158, 5279, 2208, 4257, 3235,\n",
      "        5285,  167, 3240, 4266,  171, 1197, 3249, 1203, 4275, 3258, 5307, 2242,\n",
      "         196, 5321, 2250, 2251, 5332, 1239, 3287, 2263, 2266, 4323,  231, 3308,\n",
      "        2285, 1262, 4332, 4339,  245, 2293, 3320, 1272, 3321, 1277,  253, 1281,\n",
      "        3329, 5379, 5381, 4362,  267, 3340, 5390, 1298, 1299, 5397,  277, 2328,\n",
      "        2330, 1308, 5405, 4381,  287, 1312, 5411,  293, 2344, 1324, 2352, 5425,\n",
      "        1333, 4406,  311, 2362, 4415, 5439, 3393,  322, 3395, 3400, 4429, 3408,\n",
      "        5457,  341, 5470, 2403, 5481,  362, 3433,  366,  371, 5496,  377, 2426,\n",
      "        4479, 5507, 4488, 2440, 5516, 3469, 5518, 4494, 2448,  403, 3476,  411,\n",
      "        3490, 2467,  423, 1456, 2481,  435, 1460, 1459, 1461, 3508,  444, 3519,\n",
      "        2499, 4548, 5574, 5575, 3528, 1488,  464, 3539, 4564, 3540, 4579, 4580,\n",
      "        5607, 2535, 2541, 1522,  501, 5622, 5625, 5626, 1533, 4605,  509, 5631,\n",
      "         517, 1544, 2572, 1551, 1559, 4638, 2595,  548, 5669, 3619,  553, 3627,\n",
      "        1581, 2606, 2609, 3636, 2618, 4671, 2624,  577,  576, 2627, 3655, 5705,\n",
      "        2633, 1612, 5719, 1623, 2651, 4701, 1629, 4703, 5726, 3684,  612, 1640,\n",
      "        3690, 2668, 5740, 5742, 2672, 1650, 4723, 1651, 2675, 5746, 2678,  632,\n",
      "        2681, 5754, 2680,  636, 5753, 5758, 4731, 1659, 2689,  643, 3716, 2693,\n",
      "        2694, 2696, 2698, 1674, 2703, 2706, 3730, 1682, 2710, 2711, 4759, 3735,\n",
      "        2716, 2717, 1696, 2721, 3746, 2724,  676, 2727, 3755, 4786, 1714, 1716,\n",
      "        2745, 5817, 1722, 3775, 4800, 3777, 3780, 1732, 3781, 3788, 3790, 4817,\n",
      "        3793, 3797, 1754,  731, 4835,  741,  742, 1769, 1770, 2798, 3828,  758,\n",
      "        1787, 3845, 4869, 2831, 4880,  783, 3857, 2837, 4891, 5916, 4893, 3871,\n",
      "        5921,  802, 2851, 2852, 3880, 3882, 4908,  817, 3889, 4915, 1850, 2876,\n",
      "        4926, 1856, 4932,  837, 2893, 1873, 2899, 2901, 1879, 3928,  868, 2918,\n",
      "         870,  872, 2920, 4969, 2924,  877, 2939, 4988, 2942,  896, 1922, 1926,\n",
      "        3975, 1929,  910, 1935, 1936, 1937,  919, 3996, 1948, 3998,  927, 2980,\n",
      "         936, 5032,  940, 5039, 2994, 1971, 3004,  961, 1986,  964,  966,  967,\n",
      "        5064, 4041, 4040, 5069, 2002, 5077, 2017,  993, 4068, 5092, 4074, 1005,\n",
      "        5103, 2033, 1011, 4095]), tensor([4622, 5646, 5650, 4629, 5143, 1048, 4632, 3097, 3101, 1053, 4639, 4640,\n",
      "        4641, 4130, 1057, 3104, 3108,   38,  551, 1056, 1065, 1066, 2091,  564,\n",
      "        4661, 2613, 3641, 5178, 1082, 5180, 5181,  574, 5184, 5185, 5186, 4163,\n",
      "        2628, 3652, 5190, 1604, 2631, 3144, 5192, 1609, 2123, 1101, 5199, 4178,\n",
      "        5203, 3156, 4691, 4702,  608, 4706, 4194, 1636, 4709,  613, 4712, 1129,\n",
      "         619, 1134,  110, 1648, 3185, 3699,  115, 4215, 4216, 2171, 3196, 3708,\n",
      "        5247,  646,  134,  648,  649, 1673,  651, 2190,  655,  657, 4754,  659,\n",
      "         658,  661, 4246,  660, 4249, 2203, 4252, 1180, 4254, 5277, 5790, 2719,\n",
      "        4259, 4260, 4261, 2214, 4263, 1701, 4265, 5286, 2216, 4268, 3756, 3252,\n",
      "        3766,  695, 4281, 3769, 4285, 4287, 3776,  707, 1737, 5834, 2762, 4300,\n",
      "        5842, 5849, 5852, 3295, 5856, 3305,  237, 4334, 4340, 3317, 4343, 1273,\n",
      "         762,  251, 3323, 4348, 4349, 4350,  254, 3328,  256, 4354, 5380, 3333,\n",
      "        2314, 1294, 4367, 3856, 5907, 3859, 5908, 5909, 1301, 3860, 3866, 1819,\n",
      "        2847, 4128, 2854,  807, 4904, 2343, 4905, 1838, 2863, 5424, 1329, 5938,\n",
      "         818, 2356, 5940, 5943, 5944, 5945, 5946, 2877, 1344, 2883, 1860, 2884,\n",
      "        4934, 2890, 2891, 2892, 4430, 2896, 4434,  854, 3426, 2917, 3943, 3944,\n",
      "        3947, 2413, 2414, 2929, 3957, 2933, 5494, 3960, 2424, 1400, 2937, 5499,\n",
      "         381, 1918, 3454, 5504, 1406, 3458, 5506, 3467, 3986,  404, 5533, 5543,\n",
      "        2472, 4009,  426, 4528, 4539, 3009, 5572, 1989, 1478, 1480, 5580, 1997,\n",
      "        5071, 5072, 1491, 4563, 3542, 4567, 1497, 5082, 4570, 2522, 5083, 5085,\n",
      "        5081, 5088, 5089,  991, 5603,  487, 5097, 1003, 1008, 4595, 5108, 3573,\n",
      "        1013, 3578]), tensor([4098, 4101, 4105,  ..., 4090, 4092, 4094])]\n"
     ]
    }
   ],
   "source": [
    "torch1 = []\n",
    "for i in range(p):\n",
    "\ttorch1.append(torch.tensor(list(ind_Z[i])))\n",
    "\n",
    "torch2 = [torch.tensor(list(ind_set)) for ind_set in ind_Z]"
   ]
  },
  {
   "cell_type": "code",
   "execution_count": 113,
   "metadata": {},
   "outputs": [
    {
     "name": "stdout",
     "output_type": "stream",
     "text": [
      "all merges: [[{0}, {1}, {2}, {3}, {4}, {5}, {6}, {7}, {8}], [{0}, {1}, {2}, {3}, {4}, {6}, {8}, {5, 7}], [{1}, {2}, {3}, {4}, {8}, {5, 7}, {0, 6}], [{2}, {4}, {8}, {5, 7}, {0, 6}, {1, 3}], [{8}, {5, 7}, {0, 6}, {1, 3}, {2, 4}], [{0, 6}, {1, 3}, {2, 4}, {8, 5, 7}], [{0, 6}, {8, 5, 7}, {1, 2, 3, 4}], [{1, 2, 3, 4}, {0, 5, 6, 7, 8}], [{0, 1, 2, 3, 4, 5, 6, 7, 8}]]\n",
      "abbreviated merge path: [[{8}, {5, 7}, {0, 6}, {1, 3}, {2, 4}], [{0, 6}, {8, 5, 7}, {1, 2, 3, 4}], [{1, 2, 3, 4}, {0, 5, 6, 7, 8}]]\n"
     ]
    }
   ],
   "source": [
    "# ##### From merges, determine shortest merge path\n",
    "\n",
    "# we want to make as few merges as possible for as shallow a network as possible\n",
    "# for disjoint merges, we can do them simultaneously.\n",
    "\n",
    "# shortened list of merges\n",
    "merge_abbrv = []\n",
    "# tracks which neighborhoods we've merged\n",
    "curr_merges = []\n",
    "\n",
    "for i in range(1, len(merge_path)):\n",
    "\t# 1. find new merge\n",
    "\tfor ind_set in merge_path[i]:\n",
    "\t\tif ind_set not in merge_path[i-1]:\n",
    "\t\t\tmerge_new = ind_set\n",
    "\t# 2. if we just merged something we merged before, keep previous merge\n",
    "\tfor ind in merge_new:\n",
    "\t\tif ind in curr_merges:\n",
    "\t\t\tmerge_abbrv.append(merge_path[i-1])\n",
    "\t\t\tcurr_merges = []\n",
    "\t\t\tbreak\n",
    "\n",
    "\t# 3. update what we've merged\n",
    "\tfor ind in merge_new:\n",
    "\t\tcurr_merges.append(ind)\n",
    "print(f'all merges: {merge_path}')\n",
    "print(f'abbreviated merge path: {merge_abbrv}')"
   ]
  },
  {
   "cell_type": "code",
   "execution_count": 37,
   "metadata": {},
   "outputs": [
    {
     "name": "stdout",
     "output_type": "stream",
     "text": [
      "torch.Size([875])\n"
     ]
    }
   ],
   "source": [
    "hi = torch.tensor(list(Z_ind[0]))\n",
    "print(hi.shape)"
   ]
  },
  {
   "cell_type": "code",
   "execution_count": 114,
   "metadata": {},
   "outputs": [],
   "source": [
    "# create neighborhood sets\n",
    "Z_N = []\n",
    "for i in range(len(ind_Z)):\n",
    "\tZ_N.append(Z[:,torch.tensor(list(ind_Z[i]))])"
   ]
  },
  {
   "cell_type": "code",
   "execution_count": 115,
   "metadata": {},
   "outputs": [],
   "source": [
    "# ####### Find neighboring structure of neighborhoods\n",
    "\n",
    "A_N = []\n",
    "mu_N = []\n",
    "# how much to increase neighborhood to account for noise\n",
    "eps = 1e-2\n",
    "# how much to increase neighborhood size for neighborhood detection\n",
    "eps_N = 0\n",
    "\n",
    "# create neighborhood sets\n",
    "for i in range(p):\n",
    "\tZ_i_mu = Z_N[i].mean(dim=1, keepdim=True)\n",
    "\tmu_N.append(Z_i_mu)\n",
    "\n",
    "\tZ_c = Z_N[i] - Z_i_mu\n",
    "\tU, S, V = torch.svd(Z_c)\n",
    "\t# print((Z_ind0 - Z_ind0_mu - U@torch.diag(S)@V.T).norm(dim=0).mean())\n",
    "\t# account for potential noise in future\n",
    "\tS += 1e-2\n",
    "\tSinv = torch.diag(1/S)\n",
    "\tA_N.append(Sinv@U.T)\n",
    "\n",
    "\t\t\n"
   ]
  },
  {
   "cell_type": "code",
   "execution_count": 94,
   "metadata": {},
   "outputs": [
    {
     "name": "stdout",
     "output_type": "stream",
     "text": [
      "9\n"
     ]
    }
   ],
   "source": [
    "print(p)"
   ]
  },
  {
   "cell_type": "code",
   "execution_count": 116,
   "metadata": {},
   "outputs": [
    {
     "name": "stdout",
     "output_type": "stream",
     "text": [
      "tensor([[0., 0., 1., 1., 0., 1., 1., 1., 1.],\n",
      "        [0., 0., 0., 1., 0., 1., 0., 1., 1.],\n",
      "        [0., 0., 0., 0., 0., 0., 0., 0., 1.],\n",
      "        [0., 0., 0., 0., 0., 0., 0., 0., 1.],\n",
      "        [0., 0., 0., 0., 0., 0., 0., 0., 1.],\n",
      "        [0., 0., 0., 0., 0., 0., 0., 0., 1.],\n",
      "        [0., 0., 0., 0., 0., 0., 0., 0., 0.],\n",
      "        [0., 0., 0., 0., 0., 0., 0., 0., 1.],\n",
      "        [0., 0., 0., 0., 0., 0., 0., 0., 0.]])\n",
      "1\n"
     ]
    }
   ],
   "source": [
    "# neighborhood graph\n",
    "# note it is undirected, but stored in upper triangular form\n",
    "G_N = torch.zeros((p,p))\n",
    "\n",
    "for i in range(p):\n",
    "\tfor j in range(i+1,p):\n",
    "\t\t# calc dist of all points in j neighborhood to i\n",
    "\t\tn_mult = 1/(1+eps_N)\n",
    "\t\tnorms_i_j = (n_mult*A_N[i]@(Z_N[j] - mu_N[i])).norm(dim=0)\n",
    "\t\tnum_intersect = (norms_i_j <= 1).sum()\n",
    "\t\t# if any intersect, neighborhoods are connected\n",
    "\t\tif num_intersect > 0:\n",
    "\t\t\tG_N[i,j] = 1\n",
    "\n",
    "\t\t# do same flipped\n",
    "\t\tnorms_j_i = (n_mult*A_N[j]@(Z_N[i] - mu_N[j])).norm(dim=0)\n",
    "\t\tnum_intersect = (norms_j_i <= 1).sum()\n",
    "\t\t# if any intersect, neighborhoods are connected\n",
    "\t\tif num_intersect > 0:\n",
    "\t\t\tG_N[i,j] = 1\n",
    "\t\t\t\n",
    "\n",
    "print(G_N)\n",
    "n_components, labels = scipy.sparse.csgraph.connected_components(G_N.cpu().numpy(), directed=False)\n",
    "print(n_components)"
   ]
  },
  {
   "cell_type": "code",
   "execution_count": 118,
   "metadata": {},
   "outputs": [
    {
     "name": "stdout",
     "output_type": "stream",
     "text": [
      "[[{8}, {5, 7}, {0, 6}, {1, 3}, {2, 4}], [{0, 6}, {8, 5, 7}, {1, 2, 3, 4}], [{1, 2, 3, 4}, {0, 5, 6, 7, 8}]]\n",
      "tensor([[0., 0., 1., 1., 0., 1., 1., 1., 1.],\n",
      "        [0., 0., 0., 1., 0., 1., 0., 1., 1.],\n",
      "        [0., 0., 0., 0., 0., 0., 0., 0., 1.],\n",
      "        [0., 0., 0., 0., 0., 0., 0., 0., 1.],\n",
      "        [0., 0., 0., 0., 0., 0., 0., 0., 1.],\n",
      "        [0., 0., 0., 0., 0., 0., 0., 0., 1.],\n",
      "        [0., 0., 0., 0., 0., 0., 0., 0., 0.],\n",
      "        [0., 0., 0., 0., 0., 0., 0., 0., 1.],\n",
      "        [0., 0., 0., 0., 0., 0., 0., 0., 0.]])\n",
      "tensor([[0., 1., 1., 1., 1.],\n",
      "        [0., 0., 1., 1., 0.],\n",
      "        [0., 0., 0., 1., 1.],\n",
      "        [0., 0., 0., 0., 0.],\n",
      "        [0., 0., 0., 0., 0.]])\n",
      "tensor([[0., 1., 1.],\n",
      "        [0., 0., 1.],\n",
      "        [0., 0., 0.]])\n",
      "tensor([[0., 1.],\n",
      "        [0., 0.]])\n"
     ]
    }
   ],
   "source": [
    "G_N_all = []\n",
    "G_N_all.append(G_N)\n",
    "for merge_num in range(0,len(merge_abbrv)):\n",
    "\tp_curr = len(merge_abbrv[merge_num])\n",
    "\tG_curr = torch.zeros((p_curr, p_curr))\n",
    "\tfor i in range(p_curr):\n",
    "\t\tfor j in range(i+1,p_curr):\n",
    "\t\t\t# see if any points in cluster i match with any points in cluster j\n",
    "\t\t\tfor ind_i in merge_abbrv[merge_num][i]:\n",
    "\t\t\t\tfor ind_j in merge_abbrv[merge_num][j]:\n",
    "\t\t\t\t\tif G_N[ind_i,ind_j] == 1 or G_N[ind_j,ind_i] == 1:\n",
    "\t\t\t\t\t\tG_curr[i,j] = 1\n",
    "\n",
    "\tG_N_all.append(G_curr)\n",
    "print(merge_abbrv)\n",
    "print(G_N_all[0])\n",
    "print(G_N_all[1])\n",
    "print(G_N_all[2])\n",
    "print(G_N_all[3])\n",
    "\n",
    "\n"
   ]
  },
  {
   "cell_type": "code",
   "execution_count": 112,
   "metadata": {},
   "outputs": [
    {
     "name": "stdout",
     "output_type": "stream",
     "text": [
      "[[{4}, {6}, {2, 5}, {0, 7}, {1, 3}], [{2, 5}, {1, 3, 4}, {0, 6, 7}], [{0, 6, 7}, {1, 2, 3, 4, 5}]]\n"
     ]
    }
   ],
   "source": [
    "print(merge_abbrv)"
   ]
  },
  {
   "cell_type": "markdown",
   "metadata": {},
   "source": [
    "# testing properties of learned neighborhoods"
   ]
  },
  {
   "cell_type": "code",
   "execution_count": 56,
   "metadata": {},
   "outputs": [
    {
     "name": "stdout",
     "output_type": "stream",
     "text": [
      "tensor([[6.6304e-03, 0.0000e+00, 0.0000e+00, 0.0000e+00, 0.0000e+00, 0.0000e+00,\n",
      "         0.0000e+00, 0.0000e+00, 0.0000e+00, 0.0000e+00],\n",
      "        [0.0000e+00, 1.0180e-02, 0.0000e+00, 0.0000e+00, 0.0000e+00, 0.0000e+00,\n",
      "         0.0000e+00, 0.0000e+00, 0.0000e+00, 0.0000e+00],\n",
      "        [0.0000e+00, 0.0000e+00, 2.2515e-02, 0.0000e+00, 0.0000e+00, 0.0000e+00,\n",
      "         0.0000e+00, 0.0000e+00, 0.0000e+00, 0.0000e+00],\n",
      "        [0.0000e+00, 0.0000e+00, 0.0000e+00, 1.2799e+05, 0.0000e+00, 0.0000e+00,\n",
      "         0.0000e+00, 0.0000e+00, 0.0000e+00, 0.0000e+00],\n",
      "        [0.0000e+00, 0.0000e+00, 0.0000e+00, 0.0000e+00, 2.2538e+05, 0.0000e+00,\n",
      "         0.0000e+00, 0.0000e+00, 0.0000e+00, 0.0000e+00],\n",
      "        [0.0000e+00, 0.0000e+00, 0.0000e+00, 0.0000e+00, 0.0000e+00, 2.3202e+05,\n",
      "         0.0000e+00, 0.0000e+00, 0.0000e+00, 0.0000e+00],\n",
      "        [0.0000e+00, 0.0000e+00, 0.0000e+00, 0.0000e+00, 0.0000e+00, 0.0000e+00,\n",
      "         3.8346e+05, 0.0000e+00, 0.0000e+00, 0.0000e+00],\n",
      "        [0.0000e+00, 0.0000e+00, 0.0000e+00, 0.0000e+00, 0.0000e+00, 0.0000e+00,\n",
      "         0.0000e+00, 5.1503e+05, 0.0000e+00, 0.0000e+00],\n",
      "        [0.0000e+00, 0.0000e+00, 0.0000e+00, 0.0000e+00, 0.0000e+00, 0.0000e+00,\n",
      "         0.0000e+00, 0.0000e+00, 7.8517e+05, 0.0000e+00],\n",
      "        [0.0000e+00, 0.0000e+00, 0.0000e+00, 0.0000e+00, 0.0000e+00, 0.0000e+00,\n",
      "         0.0000e+00, 0.0000e+00, 0.0000e+00, 8.1240e+05]])\n",
      "tensor([1.2931, 0.8267, 0.2280, 0.1634, 0.2032, 1.4552, 0.7581, 0.6486, 0.3316,\n",
      "        0.4652, 0.5649, 0.4169, 0.8430, 0.4485, 1.7622, 1.5368, 0.4693, 0.6692,\n",
      "        0.3321, 0.9953, 0.6447, 1.7285, 0.2168, 0.7199, 0.5877, 1.0188, 1.7348,\n",
      "        0.4619, 0.5305, 0.9830, 1.1152, 0.5762, 0.2961, 0.3198, 1.1146, 1.8045,\n",
      "        0.4354, 0.1426, 0.7813, 1.0351, 0.6395, 0.7318, 0.6580, 0.7145, 1.4007,\n",
      "        1.5767, 0.8992, 1.1677, 0.5595, 0.9967, 1.2751, 1.7654, 1.9357, 0.7853,\n",
      "        1.2109, 0.4762, 0.8270, 1.2193, 0.6772, 0.6221, 1.4914, 0.7077, 0.8553,\n",
      "        0.2308, 0.9700, 0.8842, 0.5374, 0.9168, 0.6563, 0.4986, 1.2174, 0.3411,\n",
      "        0.5281, 0.3309, 0.4559, 0.5223, 0.4239, 0.9373, 0.1793, 0.8124, 1.8916,\n",
      "        0.5157, 0.4578, 0.9223, 1.6957, 1.3314, 0.8069, 0.9484, 0.5938, 0.9438,\n",
      "        1.5648, 0.4629, 0.3485, 0.4988, 1.5103, 1.1850, 0.2357, 0.8103, 1.0616,\n",
      "        1.1939])\n"
     ]
    }
   ],
   "source": [
    "A = torch.randn(10,100)\n",
    "u = torch.randn(10,3)\n",
    "A = u@u.T@A\n",
    "u, s, v = torch.linalg.svd(A)\n",
    "Sinv = torch.diag(1 / s)\n",
    "print(Sinv)\n",
    "B = Sinv @ u.T\n",
    "print((B@A).norm(dim=0))"
   ]
  },
  {
   "cell_type": "code",
   "execution_count": 61,
   "metadata": {},
   "outputs": [
    {
     "name": "stdout",
     "output_type": "stream",
     "text": [
      "torch.Size([837])\n",
      "torch.Size([0])\n",
      "torch.Size([688])\n",
      "torch.Size([6])\n"
     ]
    }
   ],
   "source": [
    "\n",
    "\t\n",
    "ind0 = torch.tensor(list(ind_Z[4]))\n",
    "Z_ind0 = Z_cpu[:,ind0]\n",
    "Z_ind0_mu = Z_ind0.mean(dim=1, keepdim=True)\n",
    "Z_c = Z_ind0 - Z_ind0_mu\n",
    "\n",
    "U, S, V = torch.svd(Z_c)\n",
    "# print((Z_ind0 - Z_ind0_mu - U@torch.diag(S)@V.T).norm(dim=0).mean())\n",
    "# account for potential noise in future\n",
    "S += 1e-2\n",
    "Sinv = torch.diag(1/S)\n",
    "A = Sinv@U.T\n",
    "\n",
    "norms_train = (A@Z_c).norm(dim=0)\n",
    "print(norms_train.size())\n",
    "print(norms_train[norms_train > 1].size())\n",
    "\n",
    "Z_c_test = Z_cpu[:,torch.tensor(list(ind_Z[1]))] - Z_ind0_mu\n",
    "norms_test = (A@Z_c_test).norm(dim=0)\n",
    "print(norms_test.size())\n",
    "print(norms_test[norms_test <= 1].size())"
   ]
  },
  {
   "cell_type": "code",
   "execution_count": null,
   "metadata": {},
   "outputs": [],
   "source": []
  },
  {
   "cell_type": "markdown",
   "metadata": {},
   "source": [
    "# Geodesic analysis\n",
    "\n",
    "We first analyze the EDM structure to determine how to discretize manifold"
   ]
  },
  {
   "cell_type": "code",
   "execution_count": 6,
   "metadata": {},
   "outputs": [],
   "source": [
    "# get gram matrix of data\n",
    "gram = Z.T @ Z\n",
    "# gram matrix, but set all non-diagonal entries to 0\n",
    "gram_diag = torch.diag(torch.diag(gram))\n",
    "# get squared euclidean distances of data\n",
    "edm = gram_diag @ torch.ones((n,n)) + torch.ones((n,n)) @ gram_diag \\\n",
    "\t\t- 2*gram"
   ]
  },
  {
   "cell_type": "code",
   "execution_count": 7,
   "metadata": {},
   "outputs": [
    {
     "data": {
      "text/plain": [
       "(array([3.400e+02, 2.095e+03, 2.151e+03, 9.340e+02, 3.170e+02, 9.100e+01,\n",
       "        2.200e+01, 6.000e+00, 1.000e+00, 1.000e+00]),\n",
       " array([ 70.135376, 105.45935 , 140.78333 , 176.1073  , 211.43127 ,\n",
       "        246.75525 , 282.07922 , 317.4032  , 352.72717 , 388.05115 ,\n",
       "        423.37512 ], dtype=float32),\n",
       " <BarContainer object of 10 artists>)"
      ]
     },
     "execution_count": 7,
     "metadata": {},
     "output_type": "execute_result"
    },
    {
     "data": {
      "image/png": "[encoded data removed]",
      "text/plain": [
       "<Figure size 432x288 with 1 Axes>"
      ]
     },
     "metadata": {
      "needs_background": "light"
     },
     "output_type": "display_data"
    }
   ],
   "source": [
    "# sorted so each row is in strictly increasing order\n",
    "edm_sort = edm.sort(axis=1)\n",
    "# print histogram of k^{th} lowest distance for each point\n",
    "k = 12\n",
    "# get kth largest distance from each object\n",
    "edm_kthlargest = edm_sort.values[:,k]\n",
    "plt.hist(edm_kthlargest.cpu().detach().numpy())"
   ]
  },
  {
   "cell_type": "code",
   "execution_count": 8,
   "metadata": {},
   "outputs": [
    {
     "data": {
      "text/plain": [
       "<matplotlib.image.AxesImage at 0x266a60977c0>"
      ]
     },
     "execution_count": 8,
     "metadata": {},
     "output_type": "execute_result"
    },
    {
     "data": {
      "image/png": "[encoded data removed]",
      "text/plain": [
       "<Figure size 432x288 with 1 Axes>"
      ]
     },
     "metadata": {
      "needs_background": "light"
     },
     "output_type": "display_data"
    }
   ],
   "source": [
    "# print datapoints with maximal minimum distance\n",
    "max_kdist_arg = torch.argmax(edm_sort.values[:,k])\n",
    "ind_i = max_kdist_arg\n",
    "ind_j = edm_sort.indices[max_kdist_arg, k]\n",
    "plt.imshow(Z[:,ind_i].detach().cpu().numpy().reshape(32,32))\n"
   ]
  },
  {
   "cell_type": "code",
   "execution_count": 9,
   "metadata": {},
   "outputs": [
    {
     "data": {
      "text/plain": [
       "<matplotlib.image.AxesImage at 0x266a8bc32b0>"
      ]
     },
     "execution_count": 9,
     "metadata": {},
     "output_type": "execute_result"
    },
    {
     "data": {
      "image/png": "[encoded data removed]",
      "text/plain": [
       "<Figure size 432x288 with 1 Axes>"
      ]
     },
     "metadata": {
      "needs_background": "light"
     },
     "output_type": "display_data"
    }
   ],
   "source": [
    "plt.imshow(Z[:,ind_j].detach().cpu().numpy().reshape(32,32))"
   ]
  },
  {
   "cell_type": "markdown",
   "metadata": {},
   "source": [
    "Create $k$-NN graph to search for geodesics between arbitrary data points"
   ]
  },
  {
   "cell_type": "code",
   "execution_count": 28,
   "metadata": {},
   "outputs": [
    {
     "name": "stdout",
     "output_type": "stream",
     "text": [
      "building knn graph...\n",
      "computing min-dist search from source\n",
      "done!\n"
     ]
    }
   ],
   "source": [
    "k = 12\n",
    "source = 0\n",
    "print('building knn graph...')\n",
    "knn_graph = sklearn.neighbors.kneighbors_graph(Z.cpu().detach().numpy().T, k, mode='distance')\n",
    "print('computing min-dist search from source')\n",
    "# compute approximate geodesic distances (g_dist) and predecessors for geodesic\n",
    "# (g_predecessor) from Z[:,source]\n",
    "g_dist, g_predecessor = scipy.sparse.csgraph.shortest_path(knn_graph, directed=False, indices=source, return_predecessors=True)\n",
    "print('done!')\n"
   ]
  },
  {
   "cell_type": "code",
   "execution_count": 33,
   "metadata": {},
   "outputs": [],
   "source": [
    "# build geodesic from source to dest\n",
    "dest = 2\n",
    "g_list = Z[:,[dest]].clone()\n",
    "# track where we currently are in the geodesic\n",
    "curr_pos = dest\n",
    "while curr_pos != source:\n",
    "\tcurr_pos = g_predecessor[curr_pos]\n",
    "\tg_list = torch.hstack((Z[:,[curr_pos]], g_list))"
   ]
  },
  {
   "cell_type": "code",
   "execution_count": 34,
   "metadata": {},
   "outputs": [
    {
     "data": {
      "image/png": "[encoded data removed]",
      "text/plain": [
       "<Figure size 432x288 with 1 Axes>"
      ]
     },
     "metadata": {
      "needs_background": "light"
     },
     "output_type": "display_data"
    },
    {
     "data": {
      "image/png": "[encoded data removed]",
      "text/plain": [
       "<Figure size 432x288 with 1 Axes>"
      ]
     },
     "metadata": {
      "needs_background": "light"
     },
     "output_type": "display_data"
    },
    {
     "data": {
      "image/png": "[encoded data removed]",
      "text/plain": [
       "<Figure size 432x288 with 1 Axes>"
      ]
     },
     "metadata": {
      "needs_background": "light"
     },
     "output_type": "display_data"
    },
    {
     "data": {
      "image/png": "[encoded data removed]",
      "text/plain": [
       "<Figure size 432x288 with 1 Axes>"
      ]
     },
     "metadata": {
      "needs_background": "light"
     },
     "output_type": "display_data"
    },
    {
     "data": {
      "image/png": "[encoded data removed]",
      "text/plain": [
       "<Figure size 432x288 with 1 Axes>"
      ]
     },
     "metadata": {
      "needs_background": "light"
     },
     "output_type": "display_data"
    }
   ],
   "source": [
    "for i in range(g_list.shape[1]):\n",
    "\tplt.imshow(g_list[:,i].detach().cpu().numpy().reshape(32,32))\n",
    "\tplt.show()\n",
    "\t"
   ]
  },
  {
   "cell_type": "markdown",
   "metadata": {},
   "source": [
    "# testing full linearization"
   ]
  },
  {
   "cell_type": "code",
   "execution_count": 8,
   "metadata": {},
   "outputs": [],
   "source": [
    "# PyTorch model to optimize our custom loss\n",
    "class CurvatureElimination(nn.Module):\n",
    "\n",
    "\tdef __init__(self, X, u_0):\n",
    "\t\tsuper(CurvatureElimination, self).__init__();\n",
    "\t\t# data\n",
    "\t\tself.X = X\n",
    "\t\t# construct edm and gamma weight matrix\n",
    "\t\tgram = X.T@X\n",
    "\t\tedm = torch.diag(gram).reshape((n,1))@torch.ones((1,n)) \\\n",
    "\t\t\t\t+ torch.ones((n,1))@torch.diag(gram).reshape((1,n)) \\\n",
    "\t\t\t\t- 2*gram\n",
    "\n",
    "\t\t# diagonal weights don't matter, set to 1 as convention\n",
    "\t\tself.gamma = torch.divide(torch.Tensor([1]),torch.eye(n) + edm)\n",
    "\t\t# projection vec\n",
    "\t\tself.u = nn.Parameter(u_0)\n",
    "\n",
    "\tdef forward(self):\n",
    "\t\tU_stacked = torch.ones(self.X.shape)*self.u\n",
    "\t\tA = (self.X.T @ U_stacked - U_stacked.T @ self.X)*self.gamma\n",
    "\t\treturn 0.5*A.pow(4).sum()"
   ]
  },
  {
   "cell_type": "code",
   "execution_count": null,
   "metadata": {},
   "outputs": [],
   "source": []
  },
  {
   "cell_type": "code",
   "execution_count": 35,
   "metadata": {},
   "outputs": [
    {
     "name": "stdout",
     "output_type": "stream",
     "text": [
      "dist: 3.248880275918964e-08\n",
      "g step 0: 0.008192386478185654\n",
      "g step 10: 0.4594199061393738\n",
      "g step 20: 0.032339584082365036\n"
     ]
    },
    {
     "ename": "KeyboardInterrupt",
     "evalue": "",
     "output_type": "error",
     "traceback": [
      "\u001b[1;31m---------------------------------------------------------------------------\u001b[0m",
      "\u001b[1;31mKeyboardInterrupt\u001b[0m                         Traceback (most recent call last)",
      "\u001b[1;32m~\\AppData\\Local\\Temp/ipykernel_16812/3160801257.py\u001b[0m in \u001b[0;36m<module>\u001b[1;34m\u001b[0m\n\u001b[0;32m     39\u001b[0m         \u001b[1;31m# determine if we have converged\u001b[0m\u001b[1;33m\u001b[0m\u001b[1;33m\u001b[0m\u001b[0m\n\u001b[0;32m     40\u001b[0m         \u001b[0mgradnorm\u001b[0m \u001b[1;33m=\u001b[0m \u001b[0mtorch\u001b[0m\u001b[1;33m.\u001b[0m\u001b[0mlinalg\u001b[0m\u001b[1;33m.\u001b[0m\u001b[0mnorm\u001b[0m\u001b[1;33m(\u001b[0m\u001b[0mrgrad\u001b[0m\u001b[1;33m)\u001b[0m\u001b[1;33m\u001b[0m\u001b[1;33m\u001b[0m\u001b[0m\n\u001b[1;32m---> 41\u001b[1;33m         \u001b[1;32mif\u001b[0m \u001b[0mgradnorm\u001b[0m \u001b[1;33m<\u001b[0m \u001b[1;36m5e-5\u001b[0m\u001b[1;33m:\u001b[0m\u001b[1;33m\u001b[0m\u001b[1;33m\u001b[0m\u001b[0m\n\u001b[0m\u001b[0;32m     42\u001b[0m                 \u001b[1;31m# print(f'converged in {i} steps!')\u001b[0m\u001b[1;33m\u001b[0m\u001b[1;33m\u001b[0m\u001b[0m\n\u001b[0;32m     43\u001b[0m                 \u001b[1;31m# break\u001b[0m\u001b[1;33m\u001b[0m\u001b[1;33m\u001b[0m\u001b[0m\n",
      "\u001b[1;31mKeyboardInterrupt\u001b[0m: "
     ]
    }
   ],
   "source": [
    "# optimize via projected gradient descent\n",
    "\n",
    "u_0 = torch.randn((d,1))\n",
    "u_0 = u_0 / torch.sqrt(u_0.pow(2).sum())\n",
    "\n",
    "U, S, V = torch.svd(Z - Z.mean(axis=1, keepdim=True))\n",
    "\n",
    "# truncate machine-precision principal components\n",
    "S_r = torch.diag(S)\n",
    "r = S_r.shape[0]\n",
    "U_r = U[:,:r]\n",
    "V_r = V[:,:r]\n",
    "Z_r = U_r @ S_r @ V_r.T\n",
    "\n",
    "X = Z.clone()\n",
    "\n",
    "cc = CurvatureElimination(X, u_0)\n",
    "opt = optim.SGD(cc.parameters(), lr=100)\n",
    "\n",
    "for i in range(100):\n",
    "\tcc.zero_grad()\n",
    "\t# forward call of LinFlow\n",
    "\tloss = cc()\n",
    "\n",
    "\tloss.backward()\n",
    "\n",
    "\t# compute Riemannian gradient\n",
    "\tegrad = cc.u.grad.detach()\n",
    "\tbase = cc.u.data.detach()\n",
    "\tbase = base / torch.sqrt(base.pow(2).sum())\n",
    "\trgrad = egrad - base@base.t()@egrad\n",
    "\t# GD step\n",
    "\topt.step()\n",
    "\t# renormalization step\n",
    "\twith torch.no_grad():\n",
    "\t\tcc.u.data = cc.u.data / torch.sqrt((cc.u.data).pow(2).sum());\n",
    "\n",
    "\t# determine if we have converged\n",
    "\tgradnorm = torch.linalg.norm(rgrad)\n",
    "\tif gradnorm < 5e-5:\n",
    "\t\t# print(f'converged in {i} steps!')\n",
    "\t\t# break\n",
    "\t\tpass\n",
    "\tif i%10 == 0:\n",
    "\t\tprint(f'g step {i}: {gradnorm}')\n",
    "\n",
    "print('done!')"
   ]
  },
  {
   "cell_type": "code",
   "execution_count": null,
   "metadata": {},
   "outputs": [],
   "source": []
  }
 ],
 "metadata": {
  "interpreter": {
   "hash": "36ab7f9348c7d0662a1965af503f4376fbff05df74ea3a3ead8d3abcf8650cb8"
  },
  "kernelspec": {
   "display_name": "Python 3.9.7 ('base')",
   "language": "python",
   "name": "python3"
  },
  "language_info": {
   "codemirror_mode": {
    "name": "ipython",
    "version": 3
   },
   "file_extension": ".py",
   "mimetype": "text/x-python",
   "name": "python",
   "nbconvert_exporter": "python",
   "pygments_lexer": "ipython3",
   "version": "3.9.7"
  },
  "orig_nbformat": 4
 },
 "nbformat": 4,
 "nbformat_minor": 2
}
