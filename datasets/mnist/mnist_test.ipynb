{
 "cells": [
  {
   "cell_type": "code",
   "execution_count": 1,
   "metadata": {},
   "outputs": [],
   "source": [
    "import matplotlib.pyplot as plt\n",
    "from mpl_toolkits import mplot3d\n",
    "import torch\n",
    "import torch.nn as nn\n",
    "import torch.optim as optim\n",
    "import torch.nn.functional as F\n",
    "import numpy as np\n",
    "\n",
    "import torchvision.datasets as datasets\n",
    "import torchvision.transforms as transforms\n",
    "\n",
    "import scipy.sparse.csgraph\n",
    "import sklearn.neighbors\n",
    "from scipy.sparse import csr_matrix\n",
    "import networkx as nx\n",
    "\n",
    "import sys\n",
    "# setting path\n",
    "sys.path.append('../../')\n",
    "import modules.find_patches_community_detection as find_patches"
   ]
  },
  {
   "cell_type": "code",
   "execution_count": 14,
   "metadata": {},
   "outputs": [],
   "source": [
    "# set defaults for pytorch\n",
    "torch.set_default_tensor_type('torch.cuda.FloatTensor')\n",
    "torch.manual_seed(42)"
   ]
  },
  {
   "cell_type": "code",
   "execution_count": 2,
   "metadata": {},
   "outputs": [],
   "source": [
    "# download dataset\n",
    "transform = transforms.Compose(\n",
    "    [transforms.Resize(32),\n",
    "     transforms.ToTensor(),\n",
    "     transforms.Normalize(0.5, 0.5)])\n",
    "dataset = datasets.MNIST(root='./torch-dataset', train=True,\n",
    "                         download=True, transform=transform)"
   ]
  },
  {
   "cell_type": "code",
   "execution_count": 3,
   "metadata": {},
   "outputs": [],
   "source": [
    "# load dataset into pytorch\n",
    "data_loader = torch.utils.data.DataLoader(dataset, batch_size=600000)\n",
    "data,labels = next(iter(data_loader))\n",
    "data = data.cuda()"
   ]
  },
  {
   "cell_type": "code",
   "execution_count": 4,
   "metadata": {},
   "outputs": [
    {
     "name": "stdout",
     "output_type": "stream",
     "text": [
      "torch.Size([5958, 1, 32, 32])\n"
     ]
    },
    {
     "data": {
      "text/plain": [
       "<matplotlib.image.AxesImage at 0x28d8ab76b80>"
      ]
     },
     "execution_count": 4,
     "metadata": {},
     "output_type": "execute_result"
    },
    {
     "data": {
      "image/png": "[encoded data removed]",
      "text/plain": [
       "<Figure size 432x288 with 1 Axes>"
      ]
     },
     "metadata": {
      "needs_background": "light"
     },
     "output_type": "display_data"
    }
   ],
   "source": [
    "# select single class of dataset\n",
    "Z = data[labels==2]\n",
    "print(Z.shape)\n",
    "# reshape array to (d x n) data matrix\n",
    "Z = Z.reshape((5958,32**2))\n",
    "Z = Z.T\n",
    "\n",
    "d, n = Z.shape\n",
    "# demonstrate data structure was preserved in reshape\n",
    "plt.imshow(Z[:,6].detach().cpu().numpy().reshape(32,32))"
   ]
  },
  {
   "cell_type": "code",
   "execution_count": 6,
   "metadata": {},
   "outputs": [],
   "source": [
    "Z_cpu = Z.cpu()"
   ]
  },
  {
   "cell_type": "code",
   "execution_count": 7,
   "metadata": {},
   "outputs": [
    {
     "name": "stdout",
     "output_type": "stream",
     "text": [
      "finished building graph\n"
     ]
    }
   ],
   "source": [
    "# test neighborhood computation\n",
    "ind = find_patches.find_patches(Z_cpu)"
   ]
  },
  {
   "cell_type": "code",
   "execution_count": 9,
   "metadata": {},
   "outputs": [
    {
     "name": "stdout",
     "output_type": "stream",
     "text": [
      "4\n"
     ]
    }
   ],
   "source": [
    "print(len(ind))"
   ]
  },
  {
   "cell_type": "markdown",
   "metadata": {},
   "source": [
    "# Geodesic analysis\n",
    "\n",
    "We first analyze the EDM structure to determine how to discretize manifold"
   ]
  },
  {
   "cell_type": "code",
   "execution_count": 6,
   "metadata": {},
   "outputs": [],
   "source": [
    "# get gram matrix of data\n",
    "gram = Z.T @ Z\n",
    "# gram matrix, but set all non-diagonal entries to 0\n",
    "gram_diag = torch.diag(torch.diag(gram))\n",
    "# get squared euclidean distances of data\n",
    "edm = gram_diag @ torch.ones((n,n)) + torch.ones((n,n)) @ gram_diag \\\n",
    "\t\t- 2*gram"
   ]
  },
  {
   "cell_type": "code",
   "execution_count": 7,
   "metadata": {},
   "outputs": [
    {
     "data": {
      "text/plain": [
       "(array([3.400e+02, 2.095e+03, 2.151e+03, 9.340e+02, 3.170e+02, 9.100e+01,\n",
       "        2.200e+01, 6.000e+00, 1.000e+00, 1.000e+00]),\n",
       " array([ 70.135376, 105.45935 , 140.78333 , 176.1073  , 211.43127 ,\n",
       "        246.75525 , 282.07922 , 317.4032  , 352.72717 , 388.05115 ,\n",
       "        423.37512 ], dtype=float32),\n",
       " <BarContainer object of 10 artists>)"
      ]
     },
     "execution_count": 7,
     "metadata": {},
     "output_type": "execute_result"
    },
    {
     "data": {
      "image/png": "[encoded data removed]",
      "text/plain": [
       "<Figure size 432x288 with 1 Axes>"
      ]
     },
     "metadata": {
      "needs_background": "light"
     },
     "output_type": "display_data"
    }
   ],
   "source": [
    "# sorted so each row is in strictly increasing order\n",
    "edm_sort = edm.sort(axis=1)\n",
    "# print histogram of k^{th} lowest distance for each point\n",
    "k = 12\n",
    "# get kth largest distance from each object\n",
    "edm_kthlargest = edm_sort.values[:,k]\n",
    "plt.hist(edm_kthlargest.cpu().detach().numpy())"
   ]
  },
  {
   "cell_type": "code",
   "execution_count": 8,
   "metadata": {},
   "outputs": [
    {
     "data": {
      "text/plain": [
       "<matplotlib.image.AxesImage at 0x266a60977c0>"
      ]
     },
     "execution_count": 8,
     "metadata": {},
     "output_type": "execute_result"
    },
    {
     "data": {
      "image/png": "[encoded data removed]",
      "text/plain": [
       "<Figure size 432x288 with 1 Axes>"
      ]
     },
     "metadata": {
      "needs_background": "light"
     },
     "output_type": "display_data"
    }
   ],
   "source": [
    "# print datapoints with maximal minimum distance\n",
    "max_kdist_arg = torch.argmax(edm_sort.values[:,k])\n",
    "ind_i = max_kdist_arg\n",
    "ind_j = edm_sort.indices[max_kdist_arg, k]\n",
    "plt.imshow(Z[:,ind_i].detach().cpu().numpy().reshape(32,32))\n"
   ]
  },
  {
   "cell_type": "code",
   "execution_count": 9,
   "metadata": {},
   "outputs": [
    {
     "data": {
      "text/plain": [
       "<matplotlib.image.AxesImage at 0x266a8bc32b0>"
      ]
     },
     "execution_count": 9,
     "metadata": {},
     "output_type": "execute_result"
    },
    {
     "data": {
      "image/png": "[encoded data removed]",
      "text/plain": [
       "<Figure size 432x288 with 1 Axes>"
      ]
     },
     "metadata": {
      "needs_background": "light"
     },
     "output_type": "display_data"
    }
   ],
   "source": [
    "plt.imshow(Z[:,ind_j].detach().cpu().numpy().reshape(32,32))"
   ]
  },
  {
   "cell_type": "markdown",
   "metadata": {},
   "source": [
    "Create $k$-NN graph to search for geodesics between arbitrary data points"
   ]
  },
  {
   "cell_type": "code",
   "execution_count": 28,
   "metadata": {},
   "outputs": [
    {
     "name": "stdout",
     "output_type": "stream",
     "text": [
      "building knn graph...\n",
      "computing min-dist search from source\n",
      "done!\n"
     ]
    }
   ],
   "source": [
    "k = 12\n",
    "source = 0\n",
    "print('building knn graph...')\n",
    "knn_graph = sklearn.neighbors.kneighbors_graph(Z.cpu().detach().numpy().T, k, mode='distance')\n",
    "print('computing min-dist search from source')\n",
    "# compute approximate geodesic distances (g_dist) and predecessors for geodesic\n",
    "# (g_predecessor) from Z[:,source]\n",
    "g_dist, g_predecessor = scipy.sparse.csgraph.shortest_path(knn_graph, directed=False, indices=source, return_predecessors=True)\n",
    "print('done!')\n"
   ]
  },
  {
   "cell_type": "code",
   "execution_count": 33,
   "metadata": {},
   "outputs": [],
   "source": [
    "# build geodesic from source to dest\n",
    "dest = 2\n",
    "g_list = Z[:,[dest]].clone()\n",
    "# track where we currently are in the geodesic\n",
    "curr_pos = dest\n",
    "while curr_pos != source:\n",
    "\tcurr_pos = g_predecessor[curr_pos]\n",
    "\tg_list = torch.hstack((Z[:,[curr_pos]], g_list))"
   ]
  },
  {
   "cell_type": "code",
   "execution_count": 34,
   "metadata": {},
   "outputs": [
    {
     "data": {
      "image/png": "[encoded data removed]",
      "text/plain": [
       "<Figure size 432x288 with 1 Axes>"
      ]
     },
     "metadata": {
      "needs_background": "light"
     },
     "output_type": "display_data"
    },
    {
     "data": {
      "image/png": "[encoded data removed]",
      "text/plain": [
       "<Figure size 432x288 with 1 Axes>"
      ]
     },
     "metadata": {
      "needs_background": "light"
     },
     "output_type": "display_data"
    },
    {
     "data": {
      "image/png": "[encoded data removed]",
      "text/plain": [
       "<Figure size 432x288 with 1 Axes>"
      ]
     },
     "metadata": {
      "needs_background": "light"
     },
     "output_type": "display_data"
    },
    {
     "data": {
      "image/png": "[encoded data removed]",
      "text/plain": [
       "<Figure size 432x288 with 1 Axes>"
      ]
     },
     "metadata": {
      "needs_background": "light"
     },
     "output_type": "display_data"
    },
    {
     "data": {
      "image/png": "[encoded data removed]",
      "text/plain": [
       "<Figure size 432x288 with 1 Axes>"
      ]
     },
     "metadata": {
      "needs_background": "light"
     },
     "output_type": "display_data"
    }
   ],
   "source": [
    "for i in range(g_list.shape[1]):\n",
    "\tplt.imshow(g_list[:,i].detach().cpu().numpy().reshape(32,32))\n",
    "\tplt.show()\n",
    "\t"
   ]
  },
  {
   "cell_type": "markdown",
   "metadata": {},
   "source": [
    "# testing full linearization"
   ]
  },
  {
   "cell_type": "code",
   "execution_count": 8,
   "metadata": {},
   "outputs": [],
   "source": [
    "# PyTorch model to optimize our custom loss\n",
    "class CurvatureElimination(nn.Module):\n",
    "\n",
    "\tdef __init__(self, X, u_0):\n",
    "\t\tsuper(CurvatureElimination, self).__init__();\n",
    "\t\t# data\n",
    "\t\tself.X = X\n",
    "\t\t# construct edm and gamma weight matrix\n",
    "\t\tgram = X.T@X\n",
    "\t\tedm = torch.diag(gram).reshape((n,1))@torch.ones((1,n)) \\\n",
    "\t\t\t\t+ torch.ones((n,1))@torch.diag(gram).reshape((1,n)) \\\n",
    "\t\t\t\t- 2*gram\n",
    "\n",
    "\t\t# diagonal weights don't matter, set to 1 as convention\n",
    "\t\tself.gamma = torch.divide(torch.Tensor([1]),torch.eye(n) + edm)\n",
    "\t\t# projection vec\n",
    "\t\tself.u = nn.Parameter(u_0)\n",
    "\n",
    "\tdef forward(self):\n",
    "\t\tU_stacked = torch.ones(self.X.shape)*self.u\n",
    "\t\tA = (self.X.T @ U_stacked - U_stacked.T @ self.X)*self.gamma\n",
    "\t\treturn 0.5*A.pow(4).sum()"
   ]
  },
  {
   "cell_type": "code",
   "execution_count": null,
   "metadata": {},
   "outputs": [],
   "source": []
  },
  {
   "cell_type": "code",
   "execution_count": 35,
   "metadata": {},
   "outputs": [
    {
     "name": "stdout",
     "output_type": "stream",
     "text": [
      "dist: 3.248880275918964e-08\n",
      "g step 0: 0.008192386478185654\n",
      "g step 10: 0.4594199061393738\n",
      "g step 20: 0.032339584082365036\n"
     ]
    },
    {
     "ename": "KeyboardInterrupt",
     "evalue": "",
     "output_type": "error",
     "traceback": [
      "\u001b[1;31m---------------------------------------------------------------------------\u001b[0m",
      "\u001b[1;31mKeyboardInterrupt\u001b[0m                         Traceback (most recent call last)",
      "\u001b[1;32m~\\AppData\\Local\\Temp/ipykernel_16812/3160801257.py\u001b[0m in \u001b[0;36m<module>\u001b[1;34m\u001b[0m\n\u001b[0;32m     39\u001b[0m         \u001b[1;31m# determine if we have converged\u001b[0m\u001b[1;33m\u001b[0m\u001b[1;33m\u001b[0m\u001b[0m\n\u001b[0;32m     40\u001b[0m         \u001b[0mgradnorm\u001b[0m \u001b[1;33m=\u001b[0m \u001b[0mtorch\u001b[0m\u001b[1;33m.\u001b[0m\u001b[0mlinalg\u001b[0m\u001b[1;33m.\u001b[0m\u001b[0mnorm\u001b[0m\u001b[1;33m(\u001b[0m\u001b[0mrgrad\u001b[0m\u001b[1;33m)\u001b[0m\u001b[1;33m\u001b[0m\u001b[1;33m\u001b[0m\u001b[0m\n\u001b[1;32m---> 41\u001b[1;33m         \u001b[1;32mif\u001b[0m \u001b[0mgradnorm\u001b[0m \u001b[1;33m<\u001b[0m \u001b[1;36m5e-5\u001b[0m\u001b[1;33m:\u001b[0m\u001b[1;33m\u001b[0m\u001b[1;33m\u001b[0m\u001b[0m\n\u001b[0m\u001b[0;32m     42\u001b[0m                 \u001b[1;31m# print(f'converged in {i} steps!')\u001b[0m\u001b[1;33m\u001b[0m\u001b[1;33m\u001b[0m\u001b[0m\n\u001b[0;32m     43\u001b[0m                 \u001b[1;31m# break\u001b[0m\u001b[1;33m\u001b[0m\u001b[1;33m\u001b[0m\u001b[0m\n",
      "\u001b[1;31mKeyboardInterrupt\u001b[0m: "
     ]
    }
   ],
   "source": [
    "# optimize via projected gradient descent\n",
    "\n",
    "u_0 = torch.randn((d,1))\n",
    "u_0 = u_0 / torch.sqrt(u_0.pow(2).sum())\n",
    "\n",
    "U, S, V = torch.svd(Z - Z.mean(axis=1, keepdim=True))\n",
    "\n",
    "# truncate machine-precision principal components\n",
    "S_r = torch.diag(S)\n",
    "r = S_r.shape[0]\n",
    "U_r = U[:,:r]\n",
    "V_r = V[:,:r]\n",
    "Z_r = U_r @ S_r @ V_r.T\n",
    "\n",
    "X = Z.clone()\n",
    "\n",
    "cc = CurvatureElimination(X, u_0)\n",
    "opt = optim.SGD(cc.parameters(), lr=100)\n",
    "\n",
    "for i in range(100):\n",
    "\tcc.zero_grad()\n",
    "\t# forward call of LinFlow\n",
    "\tloss = cc()\n",
    "\n",
    "\tloss.backward()\n",
    "\n",
    "\t# compute Riemannian gradient\n",
    "\tegrad = cc.u.grad.detach()\n",
    "\tbase = cc.u.data.detach()\n",
    "\tbase = base / torch.sqrt(base.pow(2).sum())\n",
    "\trgrad = egrad - base@base.t()@egrad\n",
    "\t# GD step\n",
    "\topt.step()\n",
    "\t# renormalization step\n",
    "\twith torch.no_grad():\n",
    "\t\tcc.u.data = cc.u.data / torch.sqrt((cc.u.data).pow(2).sum());\n",
    "\n",
    "\t# determine if we have converged\n",
    "\tgradnorm = torch.linalg.norm(rgrad)\n",
    "\tif gradnorm < 5e-5:\n",
    "\t\t# print(f'converged in {i} steps!')\n",
    "\t\t# break\n",
    "\t\tpass\n",
    "\tif i%10 == 0:\n",
    "\t\tprint(f'g step {i}: {gradnorm}')\n",
    "\n",
    "print('done!')"
   ]
  },
  {
   "cell_type": "code",
   "execution_count": null,
   "metadata": {},
   "outputs": [],
   "source": []
  }
 ],
 "metadata": {
  "interpreter": {
   "hash": "63fd5069d213b44bf678585dea6b12cceca9941eaf7f819626cde1f2670de90d"
  },
  "kernelspec": {
   "display_name": "Python 3.9.10 64-bit",
   "language": "python",
   "name": "python3"
  },
  "language_info": {
   "codemirror_mode": {
    "name": "ipython",
    "version": 3
   },
   "file_extension": ".py",
   "mimetype": "text/x-python",
   "name": "python",
   "nbconvert_exporter": "python",
   "pygments_lexer": "ipython3",
   "version": "3.9.7"
  },
  "orig_nbformat": 4
 },
 "nbformat": 4,
 "nbformat_minor": 2
}
